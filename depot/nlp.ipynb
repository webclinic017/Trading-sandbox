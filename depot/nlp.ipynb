{
 "cells": [
  {
   "cell_type": "markdown",
   "metadata": {},
   "source": [
    "# Import data"
   ]
  },
  {
   "cell_type": "code",
   "execution_count": 1,
   "metadata": {},
   "outputs": [
    {
     "data": {
      "text/html": [
       "<div>\n",
       "<style scoped>\n",
       "    .dataframe tbody tr th:only-of-type {\n",
       "        vertical-align: middle;\n",
       "    }\n",
       "\n",
       "    .dataframe tbody tr th {\n",
       "        vertical-align: top;\n",
       "    }\n",
       "\n",
       "    .dataframe thead th {\n",
       "        text-align: right;\n",
       "    }\n",
       "</style>\n",
       "<table border=\"1\" class=\"dataframe\">\n",
       "  <thead>\n",
       "    <tr style=\"text-align: right;\">\n",
       "      <th></th>\n",
       "      <th>Sentiment</th>\n",
       "      <th>Text</th>\n",
       "    </tr>\n",
       "  </thead>\n",
       "  <tbody>\n",
       "    <tr>\n",
       "      <th>0</th>\n",
       "      <td>0</td>\n",
       "      <td>switchfoot  - awww, that's a bummer.  you shou...</td>\n",
       "    </tr>\n",
       "    <tr>\n",
       "      <th>1</th>\n",
       "      <td>0</td>\n",
       "      <td>what should i get pops 4 fathers day? suggesti...</td>\n",
       "    </tr>\n",
       "    <tr>\n",
       "      <th>2</th>\n",
       "      <td>1</td>\n",
       "      <td>i like socks again</td>\n",
       "    </tr>\n",
       "    <tr>\n",
       "      <th>3</th>\n",
       "      <td>1</td>\n",
       "      <td>angiemac78 had to close it down for a while. u...</td>\n",
       "    </tr>\n",
       "    <tr>\n",
       "      <th>4</th>\n",
       "      <td>0</td>\n",
       "      <td>is upset that he can't update his facebook by ...</td>\n",
       "    </tr>\n",
       "  </tbody>\n",
       "</table>\n",
       "</div>"
      ],
      "text/plain": [
       "   Sentiment                                               Text\n",
       "0          0  switchfoot  - awww, that's a bummer.  you shou...\n",
       "1          0  what should i get pops 4 fathers day? suggesti...\n",
       "2          1                                i like socks again \n",
       "3          1  angiemac78 had to close it down for a while. u...\n",
       "4          0  is upset that he can't update his facebook by ..."
      ]
     },
     "execution_count": 1,
     "metadata": {},
     "output_type": "execute_result"
    }
   ],
   "source": [
    "import pandas as pd\n",
    "\n",
    "df = pd.read_csv('./data/1_600_000_random_tweets.csv')\n",
    "df.Sentiment = df.Sentiment.apply(lambda x: 0 if x==0 else 1)\n",
    "df.head()"
   ]
  },
  {
   "cell_type": "code",
   "execution_count": 2,
   "metadata": {},
   "outputs": [
    {
     "name": "stdout",
     "output_type": "stream",
     "text": [
      "Requirement already up-to-date: tensorflow-hub in ./venv/lib/python3.8/site-packages (0.12.0)\n",
      "Requirement already up-to-date: tensorflow-text in ./venv/lib/python3.8/site-packages (2.8.2)\n",
      "Requirement already satisfied, skipping upgrade: numpy>=1.12.0 in ./venv/lib/python3.8/site-packages (from tensorflow-hub) (1.21.0)\n",
      "Requirement already satisfied, skipping upgrade: protobuf>=3.8.0 in ./venv/lib/python3.8/site-packages (from tensorflow-hub) (3.20.0)\n",
      "Requirement already satisfied, skipping upgrade: tensorflow<2.9,>=2.8.0; platform_machine != \"arm64\" or platform_system != \"Darwin\" in ./venv/lib/python3.8/site-packages (from tensorflow-text) (2.8.0)\n",
      "Requirement already satisfied, skipping upgrade: keras-preprocessing>=1.1.1 in ./venv/lib/python3.8/site-packages (from tensorflow<2.9,>=2.8.0; platform_machine != \"arm64\" or platform_system != \"Darwin\"->tensorflow-text) (1.1.2)\n",
      "Requirement already satisfied, skipping upgrade: wrapt>=1.11.0 in ./venv/lib/python3.8/site-packages (from tensorflow<2.9,>=2.8.0; platform_machine != \"arm64\" or platform_system != \"Darwin\"->tensorflow-text) (1.14.0)\n",
      "Requirement already satisfied, skipping upgrade: gast>=0.2.1 in ./venv/lib/python3.8/site-packages (from tensorflow<2.9,>=2.8.0; platform_machine != \"arm64\" or platform_system != \"Darwin\"->tensorflow-text) (0.5.3)\n",
      "Requirement already satisfied, skipping upgrade: termcolor>=1.1.0 in ./venv/lib/python3.8/site-packages (from tensorflow<2.9,>=2.8.0; platform_machine != \"arm64\" or platform_system != \"Darwin\"->tensorflow-text) (1.1.0)\n",
      "Requirement already satisfied, skipping upgrade: keras<2.9,>=2.8.0rc0 in ./venv/lib/python3.8/site-packages (from tensorflow<2.9,>=2.8.0; platform_machine != \"arm64\" or platform_system != \"Darwin\"->tensorflow-text) (2.8.0)\n",
      "Requirement already satisfied, skipping upgrade: tensorflow-io-gcs-filesystem>=0.23.1 in ./venv/lib/python3.8/site-packages (from tensorflow<2.9,>=2.8.0; platform_machine != \"arm64\" or platform_system != \"Darwin\"->tensorflow-text) (0.25.0)\n",
      "Requirement already satisfied, skipping upgrade: libclang>=9.0.1 in ./venv/lib/python3.8/site-packages (from tensorflow<2.9,>=2.8.0; platform_machine != \"arm64\" or platform_system != \"Darwin\"->tensorflow-text) (14.0.1)\n",
      "Requirement already satisfied, skipping upgrade: tf-estimator-nightly==2.8.0.dev2021122109 in ./venv/lib/python3.8/site-packages (from tensorflow<2.9,>=2.8.0; platform_machine != \"arm64\" or platform_system != \"Darwin\"->tensorflow-text) (2.8.0.dev2021122109)\n",
      "Requirement already satisfied, skipping upgrade: astunparse>=1.6.0 in ./venv/lib/python3.8/site-packages (from tensorflow<2.9,>=2.8.0; platform_machine != \"arm64\" or platform_system != \"Darwin\"->tensorflow-text) (1.6.3)\n",
      "Requirement already satisfied, skipping upgrade: h5py>=2.9.0 in ./venv/lib/python3.8/site-packages (from tensorflow<2.9,>=2.8.0; platform_machine != \"arm64\" or platform_system != \"Darwin\"->tensorflow-text) (3.6.0)\n",
      "Requirement already satisfied, skipping upgrade: six>=1.12.0 in ./venv/lib/python3.8/site-packages (from tensorflow<2.9,>=2.8.0; platform_machine != \"arm64\" or platform_system != \"Darwin\"->tensorflow-text) (1.16.0)\n",
      "Requirement already satisfied, skipping upgrade: opt-einsum>=2.3.2 in ./venv/lib/python3.8/site-packages (from tensorflow<2.9,>=2.8.0; platform_machine != \"arm64\" or platform_system != \"Darwin\"->tensorflow-text) (3.3.0)\n",
      "Requirement already satisfied, skipping upgrade: google-pasta>=0.1.1 in ./venv/lib/python3.8/site-packages (from tensorflow<2.9,>=2.8.0; platform_machine != \"arm64\" or platform_system != \"Darwin\"->tensorflow-text) (0.2.0)\n",
      "Requirement already satisfied, skipping upgrade: flatbuffers>=1.12 in ./venv/lib/python3.8/site-packages (from tensorflow<2.9,>=2.8.0; platform_machine != \"arm64\" or platform_system != \"Darwin\"->tensorflow-text) (2.0)\n",
      "Requirement already satisfied, skipping upgrade: grpcio<2.0,>=1.24.3 in ./venv/lib/python3.8/site-packages (from tensorflow<2.9,>=2.8.0; platform_machine != \"arm64\" or platform_system != \"Darwin\"->tensorflow-text) (1.44.0)\n",
      "Requirement already satisfied, skipping upgrade: tensorboard<2.9,>=2.8 in ./venv/lib/python3.8/site-packages (from tensorflow<2.9,>=2.8.0; platform_machine != \"arm64\" or platform_system != \"Darwin\"->tensorflow-text) (2.8.0)\n",
      "Requirement already satisfied, skipping upgrade: absl-py>=0.4.0 in ./venv/lib/python3.8/site-packages (from tensorflow<2.9,>=2.8.0; platform_machine != \"arm64\" or platform_system != \"Darwin\"->tensorflow-text) (1.0.0)\n",
      "Requirement already satisfied, skipping upgrade: typing-extensions>=3.6.6 in ./venv/lib/python3.8/site-packages (from tensorflow<2.9,>=2.8.0; platform_machine != \"arm64\" or platform_system != \"Darwin\"->tensorflow-text) (4.2.0)\n",
      "Requirement already satisfied, skipping upgrade: setuptools in ./venv/lib/python3.8/site-packages (from tensorflow<2.9,>=2.8.0; platform_machine != \"arm64\" or platform_system != \"Darwin\"->tensorflow-text) (44.0.0)\n",
      "Requirement already satisfied, skipping upgrade: wheel<1.0,>=0.23.0 in ./venv/lib/python3.8/site-packages (from astunparse>=1.6.0->tensorflow<2.9,>=2.8.0; platform_machine != \"arm64\" or platform_system != \"Darwin\"->tensorflow-text) (0.37.1)\n",
      "Requirement already satisfied, skipping upgrade: requests<3,>=2.21.0 in ./venv/lib/python3.8/site-packages (from tensorboard<2.9,>=2.8->tensorflow<2.9,>=2.8.0; platform_machine != \"arm64\" or platform_system != \"Darwin\"->tensorflow-text) (2.27.1)\n",
      "Requirement already satisfied, skipping upgrade: google-auth-oauthlib<0.5,>=0.4.1 in ./venv/lib/python3.8/site-packages (from tensorboard<2.9,>=2.8->tensorflow<2.9,>=2.8.0; platform_machine != \"arm64\" or platform_system != \"Darwin\"->tensorflow-text) (0.4.6)\n",
      "Requirement already satisfied, skipping upgrade: markdown>=2.6.8 in ./venv/lib/python3.8/site-packages (from tensorboard<2.9,>=2.8->tensorflow<2.9,>=2.8.0; platform_machine != \"arm64\" or platform_system != \"Darwin\"->tensorflow-text) (3.3.6)\n",
      "Requirement already satisfied, skipping upgrade: tensorboard-data-server<0.7.0,>=0.6.0 in ./venv/lib/python3.8/site-packages (from tensorboard<2.9,>=2.8->tensorflow<2.9,>=2.8.0; platform_machine != \"arm64\" or platform_system != \"Darwin\"->tensorflow-text) (0.6.1)\n",
      "Requirement already satisfied, skipping upgrade: google-auth<3,>=1.6.3 in ./venv/lib/python3.8/site-packages (from tensorboard<2.9,>=2.8->tensorflow<2.9,>=2.8.0; platform_machine != \"arm64\" or platform_system != \"Darwin\"->tensorflow-text) (2.6.6)\n",
      "Requirement already satisfied, skipping upgrade: tensorboard-plugin-wit>=1.6.0 in ./venv/lib/python3.8/site-packages (from tensorboard<2.9,>=2.8->tensorflow<2.9,>=2.8.0; platform_machine != \"arm64\" or platform_system != \"Darwin\"->tensorflow-text) (1.8.1)\n",
      "Requirement already satisfied, skipping upgrade: werkzeug>=0.11.15 in ./venv/lib/python3.8/site-packages (from tensorboard<2.9,>=2.8->tensorflow<2.9,>=2.8.0; platform_machine != \"arm64\" or platform_system != \"Darwin\"->tensorflow-text) (2.1.1)\n",
      "Requirement already satisfied, skipping upgrade: idna<4,>=2.5; python_version >= \"3\" in ./venv/lib/python3.8/site-packages (from requests<3,>=2.21.0->tensorboard<2.9,>=2.8->tensorflow<2.9,>=2.8.0; platform_machine != \"arm64\" or platform_system != \"Darwin\"->tensorflow-text) (2.10)\n",
      "Requirement already satisfied, skipping upgrade: urllib3<1.27,>=1.21.1 in ./venv/lib/python3.8/site-packages (from requests<3,>=2.21.0->tensorboard<2.9,>=2.8->tensorflow<2.9,>=2.8.0; platform_machine != \"arm64\" or platform_system != \"Darwin\"->tensorflow-text) (1.26.9)\n",
      "Requirement already satisfied, skipping upgrade: charset-normalizer~=2.0.0; python_version >= \"3\" in ./venv/lib/python3.8/site-packages (from requests<3,>=2.21.0->tensorboard<2.9,>=2.8->tensorflow<2.9,>=2.8.0; platform_machine != \"arm64\" or platform_system != \"Darwin\"->tensorflow-text) (2.0.12)\n",
      "Requirement already satisfied, skipping upgrade: certifi>=2017.4.17 in ./venv/lib/python3.8/site-packages (from requests<3,>=2.21.0->tensorboard<2.9,>=2.8->tensorflow<2.9,>=2.8.0; platform_machine != \"arm64\" or platform_system != \"Darwin\"->tensorflow-text) (2021.10.8)\n",
      "Requirement already satisfied, skipping upgrade: requests-oauthlib>=0.7.0 in ./venv/lib/python3.8/site-packages (from google-auth-oauthlib<0.5,>=0.4.1->tensorboard<2.9,>=2.8->tensorflow<2.9,>=2.8.0; platform_machine != \"arm64\" or platform_system != \"Darwin\"->tensorflow-text) (1.3.1)\n",
      "Requirement already satisfied, skipping upgrade: importlib-metadata>=4.4; python_version < \"3.10\" in ./venv/lib/python3.8/site-packages (from markdown>=2.6.8->tensorboard<2.9,>=2.8->tensorflow<2.9,>=2.8.0; platform_machine != \"arm64\" or platform_system != \"Darwin\"->tensorflow-text) (4.11.3)\n",
      "Requirement already satisfied, skipping upgrade: rsa<5,>=3.1.4; python_version >= \"3.6\" in ./venv/lib/python3.8/site-packages (from google-auth<3,>=1.6.3->tensorboard<2.9,>=2.8->tensorflow<2.9,>=2.8.0; platform_machine != \"arm64\" or platform_system != \"Darwin\"->tensorflow-text) (4.8)\n",
      "Requirement already satisfied, skipping upgrade: cachetools<6.0,>=2.0.0 in ./venv/lib/python3.8/site-packages (from google-auth<3,>=1.6.3->tensorboard<2.9,>=2.8->tensorflow<2.9,>=2.8.0; platform_machine != \"arm64\" or platform_system != \"Darwin\"->tensorflow-text) (5.0.0)\n",
      "Requirement already satisfied, skipping upgrade: pyasn1-modules>=0.2.1 in ./venv/lib/python3.8/site-packages (from google-auth<3,>=1.6.3->tensorboard<2.9,>=2.8->tensorflow<2.9,>=2.8.0; platform_machine != \"arm64\" or platform_system != \"Darwin\"->tensorflow-text) (0.2.8)\n",
      "Requirement already satisfied, skipping upgrade: oauthlib>=3.0.0 in ./venv/lib/python3.8/site-packages (from requests-oauthlib>=0.7.0->google-auth-oauthlib<0.5,>=0.4.1->tensorboard<2.9,>=2.8->tensorflow<2.9,>=2.8.0; platform_machine != \"arm64\" or platform_system != \"Darwin\"->tensorflow-text) (3.2.0)\n",
      "Requirement already satisfied, skipping upgrade: zipp>=0.5 in ./venv/lib/python3.8/site-packages (from importlib-metadata>=4.4; python_version < \"3.10\"->markdown>=2.6.8->tensorboard<2.9,>=2.8->tensorflow<2.9,>=2.8.0; platform_machine != \"arm64\" or platform_system != \"Darwin\"->tensorflow-text) (3.8.0)\n",
      "Requirement already satisfied, skipping upgrade: pyasn1>=0.1.3 in ./venv/lib/python3.8/site-packages (from rsa<5,>=3.1.4; python_version >= \"3.6\"->google-auth<3,>=1.6.3->tensorboard<2.9,>=2.8->tensorflow<2.9,>=2.8.0; platform_machine != \"arm64\" or platform_system != \"Darwin\"->tensorflow-text) (0.4.8)\n",
      "Note: you may need to restart the kernel to use updated packages.\n"
     ]
    }
   ],
   "source": [
    "%pip install -U tensorflow-hub tensorflow-text"
   ]
  },
  {
   "cell_type": "code",
   "execution_count": 4,
   "metadata": {},
   "outputs": [
    {
     "name": "stderr",
     "output_type": "stream",
     "text": [
      "2022-05-05 11:05:41.496199: W tensorflow/core/framework/cpu_allocator_impl.cc:82] Allocation of 93763584 exceeds 10% of free system memory.\n"
     ]
    }
   ],
   "source": [
    "import tensorflow as tf\n",
    "import tensorflow_text as text\n",
    "import tensorflow_hub as hub\n",
    "\n",
    "\n",
    "bert_preprocess = hub.KerasLayer(\"https://tfhub.dev/tensorflow/bert_en_uncased_preprocess/3\")\n",
    "bert_encoder = hub.KerasLayer(\"https://tfhub.dev/tensorflow/bert_en_uncased_L-12_H-768_A-12/4\")"
   ]
  },
  {
   "cell_type": "code",
   "execution_count": 9,
   "metadata": {},
   "outputs": [
    {
     "name": "stdout",
     "output_type": "stream",
     "text": [
      "Model: \"model_1\"\n",
      "__________________________________________________________________________________________________\n",
      " Layer (type)                   Output Shape         Param #     Connected to                     \n",
      "==================================================================================================\n",
      " text (InputLayer)              [(None,)]            0           []                               \n",
      "                                                                                                  \n",
      " keras_layer (KerasLayer)       {'input_mask': (Non  0           ['text[0][0]']                   \n",
      "                                e, 128),                                                          \n",
      "                                 'input_type_ids':                                                \n",
      "                                (None, 128),                                                      \n",
      "                                 'input_word_ids':                                                \n",
      "                                (None, 128)}                                                      \n",
      "                                                                                                  \n",
      " keras_layer_1 (KerasLayer)     {'sequence_output':  109482241   ['keras_layer[1][0]',            \n",
      "                                 (None, 128, 768),                'keras_layer[1][1]',            \n",
      "                                 'pooled_output': (               'keras_layer[1][2]']            \n",
      "                                None, 768),                                                       \n",
      "                                 'default': (None,                                                \n",
      "                                768),                                                             \n",
      "                                 'encoder_outputs':                                               \n",
      "                                 [(None, 128, 768),                                               \n",
      "                                 (None, 128, 768),                                                \n",
      "                                 (None, 128, 768),                                                \n",
      "                                 (None, 128, 768),                                                \n",
      "                                 (None, 128, 768),                                                \n",
      "                                 (None, 128, 768),                                                \n",
      "                                 (None, 128, 768),                                                \n",
      "                                 (None, 128, 768),                                                \n",
      "                                 (None, 128, 768),                                                \n",
      "                                 (None, 128, 768),                                                \n",
      "                                 (None, 128, 768),                                                \n",
      "                                 (None, 128, 768)]}                                               \n",
      "                                                                                                  \n",
      " dropout (Dropout)              (None, 768)          0           ['keras_layer_1[1][13]']         \n",
      "                                                                                                  \n",
      " output (Dense)                 (None, 1)            769         ['dropout[0][0]']                \n",
      "                                                                                                  \n",
      "==================================================================================================\n",
      "Total params: 109,483,010\n",
      "Trainable params: 769\n",
      "Non-trainable params: 109,482,241\n",
      "__________________________________________________________________________________________________\n"
     ]
    }
   ],
   "source": [
    "text_input = tf.keras.layers.Input(shape=(), dtype=tf.string, name='text')\n",
    "preprocessed_text = bert_preprocess(text_input)\n",
    "outputs = bert_encoder(preprocessed_text)\n",
    "\n",
    "l = tf.keras.layers.Dropout(0.1, name=\"dropout\")(outputs['pooled_output'])\n",
    "l = tf.keras.layers.Dense(1, activation='sigmoid', name=\"output\")(l)\n",
    "\n",
    "model = tf.keras.Model(inputs=[text_input], outputs = [l])\n",
    "model.summary()"
   ]
  },
  {
   "cell_type": "code",
   "execution_count": 10,
   "metadata": {},
   "outputs": [],
   "source": [
    "METRICS = [\n",
    "      tf.keras.metrics.BinaryAccuracy(name='accuracy'),\n",
    "      tf.keras.metrics.Precision(name='precision'),\n",
    "      tf.keras.metrics.Recall(name='recall')\n",
    "]\n",
    "\n",
    "model.compile(optimizer='adam',\n",
    " loss='binary_crossentropy',\n",
    " metrics=METRICS)"
   ]
  },
  {
   "cell_type": "code",
   "execution_count": 12,
   "metadata": {},
   "outputs": [
    {
     "name": "stdout",
     "output_type": "stream",
     "text": [
      "Epoch 1/5\n",
      "   3/5863 [..............................] - ETA: 80:14:52 - loss: 0.7308 - accuracy: 0.5260 - precision: 0.4757 - recall: 0.5087"
     ]
    }
   ],
   "source": [
    "from sklearn.model_selection import train_test_split\n",
    "import matplotlib.pyplot as plt\n",
    "\n",
    "\n",
    "X_train, X_test, y_train, y_test = train_test_split(df.Text.values, df.Sentiment.values,test_size=0.33,shuffle=True)\n",
    "\n",
    "history = model.fit(X_train,y_train,epochs=5, batch_size=128, shuffle=True,validation_split=0.3)\n"
   ]
  },
  {
   "cell_type": "code",
   "execution_count": null,
   "metadata": {},
   "outputs": [],
   "source": [
    "fig, ax1  = plt.subplots(1, 1,figsize=(15,4))\n",
    "ax1.plot(history.history['root_mean_squared_error'],label='Loss')\n",
    "ax1.plot(history.history['val_root_mean_squared_error'],label=f'Validation Loss')\n",
    "ax1.legend(loc='upper left')"
   ]
  }
 ],
 "metadata": {
  "interpreter": {
   "hash": "d58cacdab5e87910af5fd11a0a6d597df11e0910bae80574c4c81b52a6810385"
  },
  "kernelspec": {
   "display_name": "Python 3.8.10 ('venv': venv)",
   "language": "python",
   "name": "python3"
  },
  "language_info": {
   "codemirror_mode": {
    "name": "ipython",
    "version": 3
   },
   "file_extension": ".py",
   "mimetype": "text/x-python",
   "name": "python",
   "nbconvert_exporter": "python",
   "pygments_lexer": "ipython3",
   "version": "3.8.10"
  },
  "orig_nbformat": 4
 },
 "nbformat": 4,
 "nbformat_minor": 2
}
