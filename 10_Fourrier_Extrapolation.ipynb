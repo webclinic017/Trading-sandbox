{
 "cells": [
  {
   "cell_type": "markdown",
   "metadata": {},
   "source": [
    "# Import packages"
   ]
  },
  {
   "cell_type": "code",
   "execution_count": 1,
   "metadata": {},
   "outputs": [
    {
     "data": {
      "text/html": [
       "<div class=\"bk-root\">\n",
       "        <a href=\"https://bokeh.org\" target=\"_blank\" class=\"bk-logo bk-logo-small bk-logo-notebook\"></a>\n",
       "        <span id=\"1002\">Loading BokehJS ...</span>\n",
       "    </div>\n"
      ]
     },
     "metadata": {},
     "output_type": "display_data"
    },
    {
     "data": {
      "application/javascript": "(function(root) {\n  function now() {\n    return new Date();\n  }\n\n  const force = true;\n\n  if (typeof root._bokeh_onload_callbacks === \"undefined\" || force === true) {\n    root._bokeh_onload_callbacks = [];\n    root._bokeh_is_loading = undefined;\n  }\n\nconst JS_MIME_TYPE = 'application/javascript';\n  const HTML_MIME_TYPE = 'text/html';\n  const EXEC_MIME_TYPE = 'application/vnd.bokehjs_exec.v0+json';\n  const CLASS_NAME = 'output_bokeh rendered_html';\n\n  /**\n   * Render data to the DOM node\n   */\n  function render(props, node) {\n    const script = document.createElement(\"script\");\n    node.appendChild(script);\n  }\n\n  /**\n   * Handle when an output is cleared or removed\n   */\n  function handleClearOutput(event, handle) {\n    const cell = handle.cell;\n\n    const id = cell.output_area._bokeh_element_id;\n    const server_id = cell.output_area._bokeh_server_id;\n    // Clean up Bokeh references\n    if (id != null && id in Bokeh.index) {\n      Bokeh.index[id].model.document.clear();\n      delete Bokeh.index[id];\n    }\n\n    if (server_id !== undefined) {\n      // Clean up Bokeh references\n      const cmd_clean = \"from bokeh.io.state import curstate; print(curstate().uuid_to_server['\" + server_id + \"'].get_sessions()[0].document.roots[0]._id)\";\n      cell.notebook.kernel.execute(cmd_clean, {\n        iopub: {\n          output: function(msg) {\n            const id = msg.content.text.trim();\n            if (id in Bokeh.index) {\n              Bokeh.index[id].model.document.clear();\n              delete Bokeh.index[id];\n            }\n          }\n        }\n      });\n      // Destroy server and session\n      const cmd_destroy = \"import bokeh.io.notebook as ion; ion.destroy_server('\" + server_id + \"')\";\n      cell.notebook.kernel.execute(cmd_destroy);\n    }\n  }\n\n  /**\n   * Handle when a new output is added\n   */\n  function handleAddOutput(event, handle) {\n    const output_area = handle.output_area;\n    const output = handle.output;\n\n    // limit handleAddOutput to display_data with EXEC_MIME_TYPE content only\n    if ((output.output_type != \"display_data\") || (!Object.prototype.hasOwnProperty.call(output.data, EXEC_MIME_TYPE))) {\n      return\n    }\n\n    const toinsert = output_area.element.find(\".\" + CLASS_NAME.split(' ')[0]);\n\n    if (output.metadata[EXEC_MIME_TYPE][\"id\"] !== undefined) {\n      toinsert[toinsert.length - 1].firstChild.textContent = output.data[JS_MIME_TYPE];\n      // store reference to embed id on output_area\n      output_area._bokeh_element_id = output.metadata[EXEC_MIME_TYPE][\"id\"];\n    }\n    if (output.metadata[EXEC_MIME_TYPE][\"server_id\"] !== undefined) {\n      const bk_div = document.createElement(\"div\");\n      bk_div.innerHTML = output.data[HTML_MIME_TYPE];\n      const script_attrs = bk_div.children[0].attributes;\n      for (let i = 0; i < script_attrs.length; i++) {\n        toinsert[toinsert.length - 1].firstChild.setAttribute(script_attrs[i].name, script_attrs[i].value);\n        toinsert[toinsert.length - 1].firstChild.textContent = bk_div.children[0].textContent\n      }\n      // store reference to server id on output_area\n      output_area._bokeh_server_id = output.metadata[EXEC_MIME_TYPE][\"server_id\"];\n    }\n  }\n\n  function register_renderer(events, OutputArea) {\n\n    function append_mime(data, metadata, element) {\n      // create a DOM node to render to\n      const toinsert = this.create_output_subarea(\n        metadata,\n        CLASS_NAME,\n        EXEC_MIME_TYPE\n      );\n      this.keyboard_manager.register_events(toinsert);\n      // Render to node\n      const props = {data: data, metadata: metadata[EXEC_MIME_TYPE]};\n      render(props, toinsert[toinsert.length - 1]);\n      element.append(toinsert);\n      return toinsert\n    }\n\n    /* Handle when an output is cleared or removed */\n    events.on('clear_output.CodeCell', handleClearOutput);\n    events.on('delete.Cell', handleClearOutput);\n\n    /* Handle when a new output is added */\n    events.on('output_added.OutputArea', handleAddOutput);\n\n    /**\n     * Register the mime type and append_mime function with output_area\n     */\n    OutputArea.prototype.register_mime_type(EXEC_MIME_TYPE, append_mime, {\n      /* Is output safe? */\n      safe: true,\n      /* Index of renderer in `output_area.display_order` */\n      index: 0\n    });\n  }\n\n  // register the mime type if in Jupyter Notebook environment and previously unregistered\n  if (root.Jupyter !== undefined) {\n    const events = require('base/js/events');\n    const OutputArea = require('notebook/js/outputarea').OutputArea;\n\n    if (OutputArea.prototype.mime_types().indexOf(EXEC_MIME_TYPE) == -1) {\n      register_renderer(events, OutputArea);\n    }\n  }\n  if (typeof (root._bokeh_timeout) === \"undefined\" || force === true) {\n    root._bokeh_timeout = Date.now() + 5000;\n    root._bokeh_failed_load = false;\n  }\n\n  const NB_LOAD_WARNING = {'data': {'text/html':\n     \"<div style='background-color: #fdd'>\\n\"+\n     \"<p>\\n\"+\n     \"BokehJS does not appear to have successfully loaded. If loading BokehJS from CDN, this \\n\"+\n     \"may be due to a slow or bad network connection. Possible fixes:\\n\"+\n     \"</p>\\n\"+\n     \"<ul>\\n\"+\n     \"<li>re-rerun `output_notebook()` to attempt to load from CDN again, or</li>\\n\"+\n     \"<li>use INLINE resources instead, as so:</li>\\n\"+\n     \"</ul>\\n\"+\n     \"<code>\\n\"+\n     \"from bokeh.resources import INLINE\\n\"+\n     \"output_notebook(resources=INLINE)\\n\"+\n     \"</code>\\n\"+\n     \"</div>\"}};\n\n  function display_loaded() {\n    const el = document.getElementById(\"1002\");\n    if (el != null) {\n      el.textContent = \"BokehJS is loading...\";\n    }\n    if (root.Bokeh !== undefined) {\n      if (el != null) {\n        el.textContent = \"BokehJS \" + root.Bokeh.version + \" successfully loaded.\";\n      }\n    } else if (Date.now() < root._bokeh_timeout) {\n      setTimeout(display_loaded, 100)\n    }\n  }\n\n  function run_callbacks() {\n    try {\n      root._bokeh_onload_callbacks.forEach(function(callback) {\n        if (callback != null)\n          callback();\n      });\n    } finally {\n      delete root._bokeh_onload_callbacks\n    }\n    console.debug(\"Bokeh: all callbacks have finished\");\n  }\n\n  function load_libs(css_urls, js_urls, callback) {\n    if (css_urls == null) css_urls = [];\n    if (js_urls == null) js_urls = [];\n\n    root._bokeh_onload_callbacks.push(callback);\n    if (root._bokeh_is_loading > 0) {\n      console.debug(\"Bokeh: BokehJS is being loaded, scheduling callback at\", now());\n      return null;\n    }\n    if (js_urls == null || js_urls.length === 0) {\n      run_callbacks();\n      return null;\n    }\n    console.debug(\"Bokeh: BokehJS not loaded, scheduling load and callback at\", now());\n    root._bokeh_is_loading = css_urls.length + js_urls.length;\n\n    function on_load() {\n      root._bokeh_is_loading--;\n      if (root._bokeh_is_loading === 0) {\n        console.debug(\"Bokeh: all BokehJS libraries/stylesheets loaded\");\n        run_callbacks()\n      }\n    }\n\n    function on_error(url) {\n      console.error(\"failed to load \" + url);\n    }\n\n    for (let i = 0; i < css_urls.length; i++) {\n      const url = css_urls[i];\n      const element = document.createElement(\"link\");\n      element.onload = on_load;\n      element.onerror = on_error.bind(null, url);\n      element.rel = \"stylesheet\";\n      element.type = \"text/css\";\n      element.href = url;\n      console.debug(\"Bokeh: injecting link tag for BokehJS stylesheet: \", url);\n      document.body.appendChild(element);\n    }\n\n    for (let i = 0; i < js_urls.length; i++) {\n      const url = js_urls[i];\n      const element = document.createElement('script');\n      element.onload = on_load;\n      element.onerror = on_error.bind(null, url);\n      element.async = false;\n      element.src = url;\n      console.debug(\"Bokeh: injecting script tag for BokehJS library: \", url);\n      document.head.appendChild(element);\n    }\n  };\n\n  function inject_raw_css(css) {\n    const element = document.createElement(\"style\");\n    element.appendChild(document.createTextNode(css));\n    document.body.appendChild(element);\n  }\n\n  const js_urls = [\"https://cdn.bokeh.org/bokeh/release/bokeh-2.4.3.min.js\", \"https://cdn.bokeh.org/bokeh/release/bokeh-gl-2.4.3.min.js\", \"https://cdn.bokeh.org/bokeh/release/bokeh-widgets-2.4.3.min.js\", \"https://cdn.bokeh.org/bokeh/release/bokeh-tables-2.4.3.min.js\", \"https://cdn.bokeh.org/bokeh/release/bokeh-mathjax-2.4.3.min.js\"];\n  const css_urls = [];\n\n  const inline_js = [    function(Bokeh) {\n      Bokeh.set_log_level(\"info\");\n    },\nfunction(Bokeh) {\n    }\n  ];\n\n  function run_inline_js() {\n    if (root.Bokeh !== undefined || force === true) {\n          for (let i = 0; i < inline_js.length; i++) {\n      inline_js[i].call(root, root.Bokeh);\n    }\nif (force === true) {\n        display_loaded();\n      }} else if (Date.now() < root._bokeh_timeout) {\n      setTimeout(run_inline_js, 100);\n    } else if (!root._bokeh_failed_load) {\n      console.log(\"Bokeh: BokehJS failed to load within specified timeout.\");\n      root._bokeh_failed_load = true;\n    } else if (force !== true) {\n      const cell = $(document.getElementById(\"1002\")).parents('.cell').data().cell;\n      cell.output_area.append_execute_result(NB_LOAD_WARNING)\n    }\n  }\n\n  if (root._bokeh_is_loading === 0) {\n    console.debug(\"Bokeh: BokehJS loaded, going straight to plotting\");\n    run_inline_js();\n  } else {\n    load_libs(css_urls, js_urls, function() {\n      console.debug(\"Bokeh: BokehJS plotting callback run at\", now());\n      run_inline_js();\n    });\n  }\n}(window));",
      "application/vnd.bokehjs_load.v0+json": ""
     },
     "metadata": {},
     "output_type": "display_data"
    }
   ],
   "source": [
    "import numpy as np\n",
    "\n",
    "# Chart modules\n",
    "import matplotlib.pyplot as plt\n",
    "from bokeh.plotting import figure\n",
    "from bokeh.io import push_notebook,show, output_notebook\n",
    "from bokeh.models import HoverTool\n",
    "output_notebook()\n",
    "\n",
    "from modules.Utils.utils import loadFromDB, strategyTester, fourrierExtrapolation\n",
    "import pandas as pd"
   ]
  },
  {
   "cell_type": "code",
   "execution_count": 2,
   "metadata": {},
   "outputs": [],
   "source": [
    "SYMBOL= 'BTC'\n",
    "index = 35\n",
    "\n",
    "df = loadFromDB(SYMBOL,'15m').iloc[-index*100:-(index-2)*100]"
   ]
  },
  {
   "cell_type": "code",
   "execution_count": 3,
   "metadata": {},
   "outputs": [
    {
     "data": {
      "text/html": [
       "\n",
       "  <div class=\"bk-root\" id=\"017975db-3f74-4ad4-8ce3-83063f5a546e\" data-root-id=\"1003\"></div>\n"
      ]
     },
     "metadata": {},
     "output_type": "display_data"
    },
    {
     "data": {
      "application/javascript": "(function(root) {\n  function embed_document(root) {\n  const docs_json = {\"77469d57-9d27-4af5-b624-f9c2bf2cc333\":{\"defs\":[],\"roots\":{\"references\":[{\"attributes\":{\"below\":[{\"id\":\"1014\"}],\"center\":[{\"id\":\"1017\"},{\"id\":\"1021\"},{\"id\":\"1054\"}],\"left\":[{\"id\":\"1018\"}],\"renderers\":[{\"id\":\"1042\"},{\"id\":\"1060\"},{\"id\":\"1079\"}],\"title\":{\"id\":\"1004\"},\"toolbar\":{\"id\":\"1029\"},\"width\":1500,\"x_range\":{\"id\":\"1006\"},\"x_scale\":{\"id\":\"1010\"},\"y_range\":{\"id\":\"1008\"},\"y_scale\":{\"id\":\"1012\"}},\"id\":\"1003\",\"subtype\":\"Figure\",\"type\":\"Plot\"},{\"attributes\":{\"line_alpha\":0.2,\"line_color\":\"#1f77b4\",\"line_width\":2,\"x\":{\"field\":\"x\"},\"y\":{\"field\":\"y\"}},\"id\":\"1041\",\"type\":\"Line\"},{\"attributes\":{\"line_alpha\":0.1,\"line_color\":\"#1f77b4\",\"line_width\":2,\"x\":{\"field\":\"x\"},\"y\":{\"field\":\"y\"}},\"id\":\"1040\",\"type\":\"Line\"},{\"attributes\":{},\"id\":\"1010\",\"type\":\"LinearScale\"},{\"attributes\":{},\"id\":\"1051\",\"type\":\"UnionRenderers\"},{\"attributes\":{},\"id\":\"1049\",\"type\":\"BasicTickFormatter\"},{\"attributes\":{},\"id\":\"1006\",\"type\":\"DataRange1d\"},{\"attributes\":{},\"id\":\"1046\",\"type\":\"BasicTickFormatter\"},{\"attributes\":{},\"id\":\"1093\",\"type\":\"Selection\"},{\"attributes\":{\"line_color\":\"orange\",\"line_width\":2,\"x\":{\"field\":\"x\"},\"y\":{\"field\":\"y\"}},\"id\":\"1057\",\"type\":\"Line\"},{\"attributes\":{\"overlay\":{\"id\":\"1028\"}},\"id\":\"1024\",\"type\":\"BoxZoomTool\"},{\"attributes\":{},\"id\":\"1072\",\"type\":\"Selection\"},{\"attributes\":{},\"id\":\"1047\",\"type\":\"AllLabels\"},{\"attributes\":{\"data\":{\"x\":[0,1,2,3,4,5,6,7,8,9,10,11,12,13,14,15,16,17,18,19,20,21,22,23,24,25,26,27,28,29,30,31,32,33,34,35,36,37,38,39,40,41,42,43,44,45,46,47,48,49,50,51,52,53,54,55,56,57,58,59,60,61,62,63,64,65,66,67,68,69,70,71,72,73,74,75,76,77,78,79,80,81,82,83,84,85,86,87,88,89,90,91,92,93,94,95,96,97,98,99,100,101,102,103,104,105,106,107,108,109,110,111,112,113,114,115,116,117,118,119,120,121,122,123,124,125,126,127,128,129,130,131,132,133,134,135,136,137,138,139,140,141,142,143,144,145,146,147,148,149,150,151,152,153,154,155,156,157,158,159,160,161,162,163,164,165,166,167,168,169,170,171,172,173,174,175,176,177,178,179,180,181,182,183,184,185,186,187,188,189,190,191,192,193,194,195,196,197,198,199],\"y\":{\"__ndarray__\":\"xylUbML01EA/F85ygQfVQDNVxJC9BdVALh2g3Tr41ECBky4A19/UQNhKj8sizNRAPvhItw7S1EBrpq4bSOLUQMEEbWK639RAI8sJ+fXT1ED5QULOAdfUQNyda9V13tRAcIbVeD/X1EBCYqa7sszUQDEzHTi9zdRA1a7FYD/S1EBzMNnkCNTUQGfK9Rdo2dRAk+JANXfd1EBHWZSm/tXUQBYYvzqQzNRAGitE5hjO1EAQtHkcldHUQITXNKp4zNRA++BTO8HH1EC3iOw1KsrUQLu8lnIBydRAMzJFS9691EC6ci/warLUQNT16xEHsNRAoODPHWu21EDmdrc2A8DUQP8Xfg9+xNRAS7DxXI/A1EA7l/0LHr3UQHdYHU9ewNRA9z2zBvK/1EAgVm+Q6rTUQKSYCoOsrtRAnyX7yVa81EASXYNCrNPUQLXyHo6y4NRAfZpSIT7e1EAvt1Yn0tPUQCFekI36ytRAYlaQfKLL1EBW6KFSJdbUQB7+RAwf4tRAzl7y3Dvq1EA1nJIbg/HUQDkkWj23+tRAq9GtUHgF1UAdYpHp1xDVQPei2UllFtVA+PNfNxoN1UDWsJvOK/rUQHg11Je17tRAKKIcNVPv1EDpvoVFufLUQO01LiRx+NRAL1t08uYH1UCpUuLjBhzVQHSrK1u7KNVA6t+Vj7wu1UBiABBRYDXVQFwO/V7iOtVAgWpLlpQ61UDH+DqqbzbVQBdLwFPnMNVA+aMzb2Mp1UBrdx7hRCHVQIA7HuEAGtVAavvHyJMS1UBmLnuVsQ3VQK3VQ/FjENVA5fI+vcgX1UAvcxF9nhzVQE9O0V51HdVAmxX17nUZ1UDajDO1Rw3VQGybO+kUANVA7pFDysL/1EA0yJLSSwjVQMf730DwCNVAPXDBmmIE1UAXntr1iAvVQJ2oLrhMGtVANzUfiz0d1UDSU9owuhTVQEAlc3heENVA0H3Pj6oR1UBwgjhpjhHVQEmL8p3UE9VA57B3y4wa1UDMGItIMhjVQHe0eRS1BNVA6GwF6qjv1EDYKuXQZ+3UQHaAwCO7/tRACGOn2joT1UBLlFXkXRvVQDnDPhoDF9VALaykZtwU1UA9so753R7VQDtxbY9iK9VA3luqPFos1UAMg9AAbyTVQDhZMK/RHtVArPCdT0Yd1UBB8/hPnxzVQM+/IUNCHtVAhandgXYh1UCVmhqfwCDVQDDW+iBKHdVAwERe5aMe1UAE3Thv0iPVQOrZ5TZVI9VAtZwrsK0b1UDlH88+mRbVQPGloSYMGtVAzfw06Zcf1UC/CDWnrx3VQNxJ35WHFNVAoIAFfCsN1UB4COk3SgzVQDplMTVsDNVAUdEkOQ0I1UAhn44ShQHVQNW74mHD/dRADTEOEGUA1UCsIa1hxAzVQL6qaJs1H9VAQH56w0oq1UAizfY7TyjVQCnKEgeaJNVAvvJ0hdom1UALE0zzJCjVQOfN685dJ9VAjwg+czYt1UBiDigmBjTVQDwhwY8LLdVAVKeVmaof1UD+BJXFHB7VQCUL+1y7IdVAC8935Cwa1UA3ZI1ULhDVQJVR2pRwEtVAXvUbplkY1UDQPVbGuBjVQPpix70HHNVAZvNv0AYh1UBn/jSjIhrVQB3SeN3VEdVAj3TFNN8e1UDPpTEjoTPVQKEExQkIMNVABqUBfZ4a1UAwD8QamhLVQLqsGhz2GtVA2FjQnYEh1UA5Ui2gDSLVQKNTrC8CIdVAD/vPtKsf1UCpGHLoWCbVQF4tvjS1OtVASvEKw1RN1UDQY9j9b07VQAQ91LcFQ9VA4QUf/tMx1UCFTRHeMCHVQGUQmw+iLdVA44NLk0xm1UCFo7Rr95fVQFY+aHIZiNVABPpze3xU1UBILSutz0LVQAYaIs6/T9VAodR/e7tK1UDZKQ5lGTrVQIv0Z4bsRdVAl6CZQgZn1UASjhNJxXnVQAjMCWcBeNVAApTls35q1UBSCnTWGlLVQKfB1KFmPtVAEW+OjVJE1UA9HfTxi1TVQJV7sjj+UdVA9UFPzzlG1UDKuIekRUnVQK4Usau5UNVAQv0aT4NJ1UAS2euR9j7VQAWqYg4BQNVApyULN4NE1UBFpx67TEbVQDdBO+6rS9VAaFmGC7tP1UAa0Nl8QkjVQA==\",\"dtype\":\"float64\",\"order\":\"little\",\"shape\":[200]}},\"selected\":{\"id\":\"1072\"},\"selection_policy\":{\"id\":\"1071\"}},\"id\":\"1056\",\"type\":\"ColumnDataSource\"},{\"attributes\":{\"coordinates\":null,\"group\":null,\"text\":\"Prediction on BTC from BTC\"},\"id\":\"1004\",\"type\":\"Title\"},{\"attributes\":{\"coordinates\":null,\"data_source\":{\"id\":\"1038\"},\"glyph\":{\"id\":\"1039\"},\"group\":null,\"hover_glyph\":null,\"muted_glyph\":{\"id\":\"1041\"},\"nonselection_glyph\":{\"id\":\"1040\"},\"view\":{\"id\":\"1043\"}},\"id\":\"1042\",\"type\":\"GlyphRenderer\"},{\"attributes\":{\"axis\":{\"id\":\"1014\"},\"coordinates\":null,\"group\":null,\"ticker\":null},\"id\":\"1017\",\"type\":\"Grid\"},{\"attributes\":{\"bottom_units\":\"screen\",\"coordinates\":null,\"fill_alpha\":0.5,\"fill_color\":\"lightgrey\",\"group\":null,\"left_units\":\"screen\",\"level\":\"overlay\",\"line_alpha\":1.0,\"line_color\":\"black\",\"line_dash\":[4,4],\"line_width\":2,\"right_units\":\"screen\",\"syncable\":false,\"top_units\":\"screen\"},\"id\":\"1028\",\"type\":\"BoxAnnotation\"},{\"attributes\":{\"source\":{\"id\":\"1056\"}},\"id\":\"1061\",\"type\":\"CDSView\"},{\"attributes\":{\"coordinates\":null,\"data_source\":{\"id\":\"1075\"},\"glyph\":{\"id\":\"1076\"},\"group\":null,\"hover_glyph\":null,\"muted_glyph\":{\"id\":\"1078\"},\"nonselection_glyph\":{\"id\":\"1077\"},\"view\":{\"id\":\"1080\"}},\"id\":\"1079\",\"type\":\"GlyphRenderer\"},{\"attributes\":{\"callback\":null,\"formatters\":{\"$x\":\"printf\",\"$y\":\"printf\"},\"mode\":\"vline\",\"tooltips\":[[\"Price\",\"@y{0.00} $\"]]},\"id\":\"1036\",\"type\":\"HoverTool\"},{\"attributes\":{\"coordinates\":null,\"data_source\":{\"id\":\"1056\"},\"glyph\":{\"id\":\"1057\"},\"group\":null,\"hover_glyph\":null,\"muted_glyph\":{\"id\":\"1059\"},\"nonselection_glyph\":{\"id\":\"1058\"},\"view\":{\"id\":\"1061\"}},\"id\":\"1060\",\"type\":\"GlyphRenderer\"},{\"attributes\":{},\"id\":\"1025\",\"type\":\"SaveTool\"},{\"attributes\":{\"line_width\":2,\"x\":{\"field\":\"x\"},\"y\":{\"field\":\"y\"}},\"id\":\"1076\",\"type\":\"Line\"},{\"attributes\":{\"line_color\":\"#1f77b4\",\"line_width\":2,\"x\":{\"field\":\"x\"},\"y\":{\"field\":\"y\"}},\"id\":\"1039\",\"type\":\"Line\"},{\"attributes\":{},\"id\":\"1008\",\"type\":\"DataRange1d\"},{\"attributes\":{},\"id\":\"1092\",\"type\":\"UnionRenderers\"},{\"attributes\":{\"label\":{\"value\":\"Train data\"},\"renderers\":[{\"id\":\"1042\"}]},\"id\":\"1055\",\"type\":\"LegendItem\"},{\"attributes\":{\"tools\":[{\"id\":\"1022\"},{\"id\":\"1023\"},{\"id\":\"1024\"},{\"id\":\"1025\"},{\"id\":\"1026\"},{\"id\":\"1027\"},{\"id\":\"1036\"}]},\"id\":\"1029\",\"type\":\"Toolbar\"},{\"attributes\":{},\"id\":\"1026\",\"type\":\"ResetTool\"},{\"attributes\":{\"data\":{\"x\":[180,181,182,183,184,185,186,187,188,189,190,191,192,193,194,195,196,197,198,199],\"y\":{\"__ndarray__\":\"MzMzM9Me1UDhehSuNybVQOF6FK5HKNVAAAAAAIA21UBmZmZmpjHVQI/C9SjMNNVAXI/C9agx1UBI4XoUbj3VQI/C9SicRdVAKVyPwmVG1UCkcD0KNzjVQD0K16NQO9VAFK5H4apO1UBcj8L1uE7VQM3MzMzMZtVArkfheoR81UAUrkfhiprVQFyPwvVorNVAexSuR8Gz1UAK16NwHafVQA==\",\"dtype\":\"float64\",\"order\":\"little\",\"shape\":[20]}},\"selected\":{\"id\":\"1093\"},\"selection_policy\":{\"id\":\"1092\"}},\"id\":\"1075\",\"type\":\"ColumnDataSource\"},{\"attributes\":{\"source\":{\"id\":\"1075\"}},\"id\":\"1080\",\"type\":\"CDSView\"},{\"attributes\":{},\"id\":\"1015\",\"type\":\"BasicTicker\"},{\"attributes\":{},\"id\":\"1012\",\"type\":\"LinearScale\"},{\"attributes\":{\"label\":{\"value\":\"Extrapolation\"},\"renderers\":[{\"id\":\"1060\"}]},\"id\":\"1074\",\"type\":\"LegendItem\"},{\"attributes\":{\"line_alpha\":0.2,\"line_color\":\"orange\",\"line_width\":2,\"x\":{\"field\":\"x\"},\"y\":{\"field\":\"y\"}},\"id\":\"1059\",\"type\":\"Line\"},{\"attributes\":{\"data\":{\"x\":[0,1,2,3,4,5,6,7,8,9,10,11,12,13,14,15,16,17,18,19,20,21,22,23,24,25,26,27,28,29,30,31,32,33,34,35,36,37,38,39,40,41,42,43,44,45,46,47,48,49,50,51,52,53,54,55,56,57,58,59,60,61,62,63,64,65,66,67,68,69,70,71,72,73,74,75,76,77,78,79,80,81,82,83,84,85,86,87,88,89,90,91,92,93,94,95,96,97,98,99,100,101,102,103,104,105,106,107,108,109,110,111,112,113,114,115,116,117,118,119,120,121,122,123,124,125,126,127,128,129,130,131,132,133,134,135,136,137,138,139,140,141,142,143,144,145,146,147,148,149,150,151,152,153,154,155,156,157,158,159,160,161,162,163,164,165,166,167,168,169,170,171,172,173,174,175,176,177,178,179],\"y\":{\"__ndarray__\":\"H4XrUegA1UA9CtejUAXVQK5H4XoEAtVAcT0K13P81EDhehSuB9/UQOF6FK73yNRAFK5H4QrW1EAfhetRSOHUQBSuR+H63dRArkfhevTT1EBmZmZmptvUQKRwPQqn2NRArkfheuTX1EBI4XoUftLUQD0K16Mgx9RA4XoUrvfT1ECuR+F6pNbUQAAAAAAw19RA16NwPSrd1ECkcD0KV9bUQDMzMzMDz9RApHA9CkfJ1ECuR+F6RNbUQDMzMzPzydRAhetRuM7G1ECF61G4Ts/UQM3MzMxMwdRAXI/C9ZjD1ECPwvUo/LHUQB+F61GYrdRAexSuRwG21EB7FK5HkcTUQLgehesRwdRAhetRuJ6+1ECPwvUonMDUQGZmZmaGwtRAMzMzM2O41ECkcD0K17jUQClcj8K1tNRArkfheuSx1EDNzMzMLNfUQOxRuB7F59RAj8L1KPzT1EBmZmZm5tjUQDMzMzOTy9RA4XoUrsfJ1EDhehSuh9fUQOxRuB7V39RAH4XrUbjs1EDhehSu5/HUQGZmZma299RASOF6FB4G1UDD9Shc/xTVQGZmZmbGEtVASOF6FF4J1UB7FK5HYQPVQFyPwvV46dRAuB6F6+Hr1EAzMzMzY/jUQNejcD3q+NRAFK5H4YoD1UCuR+F6hBnVQOxRuB7FNtVAzczMzAwe1UBSuB6FOzzVQAAAAACAP9VAXI/C9Xg01UBcj8L1CDXVQLgehetRONVAKVyPwhUk1UBmZmZm1h/VQM3MzMxMH9VA7FG4HmUP1UDXo3A9OgvVQB+F61EYGNVArkfheuQN1UBmZmZmliTVQGZmZma2GtVA7FG4HqUW1UAfhetRqBLVQAAAAAAA/NRAZmZmZsYA1UAK16NwnQnVQB+F61HIBtVAAAAAAIAG1UAUrkfhmgnVQB+F61F4HNVASOF6FB4a1UBI4XoUvhjVQBSuR+EaDdVAw/UoXG8S1UDXo3A9WhLVQNejcD36FNVAMzMzM5MV1UDXo3A9Ch7VQFyPwvXoAtVAH4XrUajs1EBI4XoUjvDUQK5H4Xq0/9RAMzMzM6MP1UC4HoXrYRzVQMP1KFzfGtVA4XoUricP1UD2KFyPIiLVQHsUrkfBK9VAUrgehasp1UB7FK5HcSjVQB+F61HIGdVASOF6FD4i1UAAAAAAABnVQFyPwvVoIdVAPQrXozAc1UBmZmZmlijVQEjhehR+FtVAmpmZmWkg1UDNzMzMnCbVQMP1KFxvINVAuB6F60Eb1UAzMzMz0xnVQJqZmZlZFtVAH4XrUYgi1UBI4XoU3hvVQHE9CtdzFNVA7FG4HiUP1UDD9Shc/wrVQFK4HoW7CdVAexSuR3EO1UAfhetR2PvUQMP1KFwf/9RAj8L1KOwB1UDD9ShcrwzVQB+F61HYG9VAMzMzM5Mv1UDXo3A9yiLVQK5H4XpUKtVAAAAAALAh1UDD9ShcnynVQK5H4XrEK9VAhetRuJ4l1UDD9ShcPznVQM3MzMxcLNVAZmZmZhYf1UDNzMzMXBzVQHE9CteDJNVAKVyPwqUa1UDsUbgeNQvVQPYoXI9iGNVApHA9CkcV1UCamZmZ2RjVQMP1KFx/HNVAj8L1KOwg1UBmZmZmBhvVQDMzMzODD9VASOF6FO4g1UDhehSu9zTVQOxRuB7FKNVAmpmZmRko1UA9Ctej4AHVQPYoXI9SKdVAZmZmZhYa1UDNzMzMLCPVQB+F61H4INVACtejcE0i1UAK16NwPSPVQDMzMzMjOtVA4XoUrrdQ1UBSuB6FG07VQBSuR+F6PdVAH4XrUQg41UDD9ShcfyHVQAAAAAAwJ9VAMzMzM2Nr1UAUrkfhepjVQPYoXI8Sh9VAZmZmZrZO1UAUrkfhyk3VQNejcD1KStVAuB6F6yFC1UD2KFyPEk7VQAAAAABgMdVA\",\"dtype\":\"float64\",\"order\":\"little\",\"shape\":[180]}},\"selected\":{\"id\":\"1052\"},\"selection_policy\":{\"id\":\"1051\"}},\"id\":\"1038\",\"type\":\"ColumnDataSource\"},{\"attributes\":{},\"id\":\"1052\",\"type\":\"Selection\"},{\"attributes\":{\"axis_label\":\"Time\",\"coordinates\":null,\"formatter\":{\"id\":\"1049\"},\"group\":null,\"major_label_policy\":{\"id\":\"1050\"},\"ticker\":{\"id\":\"1015\"}},\"id\":\"1014\",\"type\":\"LinearAxis\"},{\"attributes\":{\"line_alpha\":0.1,\"line_color\":\"orange\",\"line_width\":2,\"x\":{\"field\":\"x\"},\"y\":{\"field\":\"y\"}},\"id\":\"1058\",\"type\":\"Line\"},{\"attributes\":{},\"id\":\"1050\",\"type\":\"AllLabels\"},{\"attributes\":{},\"id\":\"1023\",\"type\":\"WheelZoomTool\"},{\"attributes\":{\"coordinates\":null,\"group\":null,\"items\":[{\"id\":\"1055\"},{\"id\":\"1074\"},{\"id\":\"1095\"}],\"location\":\"top_left\"},\"id\":\"1054\",\"type\":\"Legend\"},{\"attributes\":{\"line_alpha\":0.2,\"line_width\":2,\"x\":{\"field\":\"x\"},\"y\":{\"field\":\"y\"}},\"id\":\"1078\",\"type\":\"Line\"},{\"attributes\":{\"line_alpha\":0.1,\"line_width\":2,\"x\":{\"field\":\"x\"},\"y\":{\"field\":\"y\"}},\"id\":\"1077\",\"type\":\"Line\"},{\"attributes\":{\"axis_label\":\"value ($)\",\"coordinates\":null,\"formatter\":{\"id\":\"1046\"},\"group\":null,\"major_label_policy\":{\"id\":\"1047\"},\"ticker\":{\"id\":\"1019\"}},\"id\":\"1018\",\"type\":\"LinearAxis\"},{\"attributes\":{\"axis\":{\"id\":\"1018\"},\"coordinates\":null,\"dimension\":1,\"group\":null,\"ticker\":null},\"id\":\"1021\",\"type\":\"Grid\"},{\"attributes\":{},\"id\":\"1019\",\"type\":\"BasicTicker\"},{\"attributes\":{\"label\":{\"value\":\"Test data\"},\"renderers\":[{\"id\":\"1079\"}]},\"id\":\"1095\",\"type\":\"LegendItem\"},{\"attributes\":{},\"id\":\"1071\",\"type\":\"UnionRenderers\"},{\"attributes\":{\"source\":{\"id\":\"1038\"}},\"id\":\"1043\",\"type\":\"CDSView\"},{\"attributes\":{},\"id\":\"1027\",\"type\":\"HelpTool\"},{\"attributes\":{},\"id\":\"1022\",\"type\":\"PanTool\"}],\"root_ids\":[\"1003\"]},\"title\":\"Bokeh Application\",\"version\":\"2.4.3\"}};\n  const render_items = [{\"docid\":\"77469d57-9d27-4af5-b624-f9c2bf2cc333\",\"root_ids\":[\"1003\"],\"roots\":{\"1003\":\"017975db-3f74-4ad4-8ce3-83063f5a546e\"}}];\n  root.Bokeh.embed.embed_items_notebook(docs_json, render_items);\n  }\n  if (root.Bokeh !== undefined) {\n    embed_document(root);\n  } else {\n    let attempts = 0;\n    const timer = setInterval(function(root) {\n      if (root.Bokeh !== undefined) {\n        clearInterval(timer);\n        embed_document(root);\n      } else {\n        attempts++;\n        if (attempts > 100) {\n          clearInterval(timer);\n          console.log(\"Bokeh: ERROR: Unable to run BokehJS code because BokehJS library is missing\");\n        }\n      }\n    }, 10, root)\n  }\n})(window);",
      "application/vnd.bokehjs_exec.v0+json": ""
     },
     "metadata": {
      "application/vnd.bokehjs_exec.v0+json": {
       "id": "1003"
      }
     },
     "output_type": "display_data"
    }
   ],
   "source": [
    "\n",
    "pred_count = 20\n",
    "train_data = df.Close[:-pred_count]\n",
    "test_data = df.Close[-pred_count:]\n",
    "\n",
    "x = np.array(train_data)\n",
    "\n",
    "n_predict = pred_count\n",
    "extrapolation = fourrierExtrapolation(x, n_predict)\n",
    "\n",
    "p = figure(title=f\"Prediction on {SYMBOL} from BTC\", x_axis_label='Time', y_axis_label='value ($)',width=1500, height=600,)\n",
    "# Add the HoverTool to the figure\n",
    "p.add_tools(HoverTool(\n",
    "    tooltips=[\n",
    "    (\"Price\", \"@y{0.00} $\"),\n",
    "    #(\"Date\", \"$x{%F}\"),\n",
    "], formatters={\n",
    "        '$x': 'printf',\n",
    "        '$y' : 'printf',\n",
    "    },\n",
    "    mode='vline'\n",
    "))\n",
    "p.line(np.arange(0, x.size), x, legend_label=\"Train data\", line_width=2,)\n",
    "p.line(np.arange(0, extrapolation.size), extrapolation,legend_label=\"Extrapolation\", line_width=2, color='orange')\n",
    "p.line(np.arange(x.size, extrapolation.size), test_data,legend_label=\"Test data\", line_width=2, color='black')\n",
    "p.legend.location = \"top_left\"\n",
    "\n",
    "show(p)"
   ]
  },
  {
   "cell_type": "code",
   "execution_count": null,
   "metadata": {},
   "outputs": [],
   "source": []
  }
 ],
 "metadata": {
  "kernelspec": {
   "display_name": "Python 3.8.10 ('venv': venv)",
   "language": "python",
   "name": "python3"
  },
  "language_info": {
   "codemirror_mode": {
    "name": "ipython",
    "version": 3
   },
   "file_extension": ".py",
   "mimetype": "text/x-python",
   "name": "python",
   "nbconvert_exporter": "python",
   "pygments_lexer": "ipython3",
   "version": "3.10.6"
  },
  "orig_nbformat": 4,
  "vscode": {
   "interpreter": {
    "hash": "d58cacdab5e87910af5fd11a0a6d597df11e0910bae80574c4c81b52a6810385"
   }
  }
 },
 "nbformat": 4,
 "nbformat_minor": 2
}
