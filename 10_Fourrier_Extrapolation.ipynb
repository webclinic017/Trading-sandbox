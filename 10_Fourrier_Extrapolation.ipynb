{
 "cells": [
  {
   "cell_type": "markdown",
   "metadata": {},
   "source": [
    "# Import packages"
   ]
  },
  {
   "cell_type": "code",
   "execution_count": 3,
   "metadata": {},
   "outputs": [
    {
     "data": {
      "text/html": [
       "<div class=\"bk-root\">\n",
       "        <a href=\"https://bokeh.org\" target=\"_blank\" class=\"bk-logo bk-logo-small bk-logo-notebook\"></a>\n",
       "        <span id=\"1003\">Loading BokehJS ...</span>\n",
       "    </div>\n"
      ]
     },
     "metadata": {},
     "output_type": "display_data"
    },
    {
     "data": {
      "application/javascript": "(function(root) {\n  function now() {\n    return new Date();\n  }\n\n  const force = true;\n\n  if (typeof root._bokeh_onload_callbacks === \"undefined\" || force === true) {\n    root._bokeh_onload_callbacks = [];\n    root._bokeh_is_loading = undefined;\n  }\n\nconst JS_MIME_TYPE = 'application/javascript';\n  const HTML_MIME_TYPE = 'text/html';\n  const EXEC_MIME_TYPE = 'application/vnd.bokehjs_exec.v0+json';\n  const CLASS_NAME = 'output_bokeh rendered_html';\n\n  /**\n   * Render data to the DOM node\n   */\n  function render(props, node) {\n    const script = document.createElement(\"script\");\n    node.appendChild(script);\n  }\n\n  /**\n   * Handle when an output is cleared or removed\n   */\n  function handleClearOutput(event, handle) {\n    const cell = handle.cell;\n\n    const id = cell.output_area._bokeh_element_id;\n    const server_id = cell.output_area._bokeh_server_id;\n    // Clean up Bokeh references\n    if (id != null && id in Bokeh.index) {\n      Bokeh.index[id].model.document.clear();\n      delete Bokeh.index[id];\n    }\n\n    if (server_id !== undefined) {\n      // Clean up Bokeh references\n      const cmd_clean = \"from bokeh.io.state import curstate; print(curstate().uuid_to_server['\" + server_id + \"'].get_sessions()[0].document.roots[0]._id)\";\n      cell.notebook.kernel.execute(cmd_clean, {\n        iopub: {\n          output: function(msg) {\n            const id = msg.content.text.trim();\n            if (id in Bokeh.index) {\n              Bokeh.index[id].model.document.clear();\n              delete Bokeh.index[id];\n            }\n          }\n        }\n      });\n      // Destroy server and session\n      const cmd_destroy = \"import bokeh.io.notebook as ion; ion.destroy_server('\" + server_id + \"')\";\n      cell.notebook.kernel.execute(cmd_destroy);\n    }\n  }\n\n  /**\n   * Handle when a new output is added\n   */\n  function handleAddOutput(event, handle) {\n    const output_area = handle.output_area;\n    const output = handle.output;\n\n    // limit handleAddOutput to display_data with EXEC_MIME_TYPE content only\n    if ((output.output_type != \"display_data\") || (!Object.prototype.hasOwnProperty.call(output.data, EXEC_MIME_TYPE))) {\n      return\n    }\n\n    const toinsert = output_area.element.find(\".\" + CLASS_NAME.split(' ')[0]);\n\n    if (output.metadata[EXEC_MIME_TYPE][\"id\"] !== undefined) {\n      toinsert[toinsert.length - 1].firstChild.textContent = output.data[JS_MIME_TYPE];\n      // store reference to embed id on output_area\n      output_area._bokeh_element_id = output.metadata[EXEC_MIME_TYPE][\"id\"];\n    }\n    if (output.metadata[EXEC_MIME_TYPE][\"server_id\"] !== undefined) {\n      const bk_div = document.createElement(\"div\");\n      bk_div.innerHTML = output.data[HTML_MIME_TYPE];\n      const script_attrs = bk_div.children[0].attributes;\n      for (let i = 0; i < script_attrs.length; i++) {\n        toinsert[toinsert.length - 1].firstChild.setAttribute(script_attrs[i].name, script_attrs[i].value);\n        toinsert[toinsert.length - 1].firstChild.textContent = bk_div.children[0].textContent\n      }\n      // store reference to server id on output_area\n      output_area._bokeh_server_id = output.metadata[EXEC_MIME_TYPE][\"server_id\"];\n    }\n  }\n\n  function register_renderer(events, OutputArea) {\n\n    function append_mime(data, metadata, element) {\n      // create a DOM node to render to\n      const toinsert = this.create_output_subarea(\n        metadata,\n        CLASS_NAME,\n        EXEC_MIME_TYPE\n      );\n      this.keyboard_manager.register_events(toinsert);\n      // Render to node\n      const props = {data: data, metadata: metadata[EXEC_MIME_TYPE]};\n      render(props, toinsert[toinsert.length - 1]);\n      element.append(toinsert);\n      return toinsert\n    }\n\n    /* Handle when an output is cleared or removed */\n    events.on('clear_output.CodeCell', handleClearOutput);\n    events.on('delete.Cell', handleClearOutput);\n\n    /* Handle when a new output is added */\n    events.on('output_added.OutputArea', handleAddOutput);\n\n    /**\n     * Register the mime type and append_mime function with output_area\n     */\n    OutputArea.prototype.register_mime_type(EXEC_MIME_TYPE, append_mime, {\n      /* Is output safe? */\n      safe: true,\n      /* Index of renderer in `output_area.display_order` */\n      index: 0\n    });\n  }\n\n  // register the mime type if in Jupyter Notebook environment and previously unregistered\n  if (root.Jupyter !== undefined) {\n    const events = require('base/js/events');\n    const OutputArea = require('notebook/js/outputarea').OutputArea;\n\n    if (OutputArea.prototype.mime_types().indexOf(EXEC_MIME_TYPE) == -1) {\n      register_renderer(events, OutputArea);\n    }\n  }\n  if (typeof (root._bokeh_timeout) === \"undefined\" || force === true) {\n    root._bokeh_timeout = Date.now() + 5000;\n    root._bokeh_failed_load = false;\n  }\n\n  const NB_LOAD_WARNING = {'data': {'text/html':\n     \"<div style='background-color: #fdd'>\\n\"+\n     \"<p>\\n\"+\n     \"BokehJS does not appear to have successfully loaded. If loading BokehJS from CDN, this \\n\"+\n     \"may be due to a slow or bad network connection. Possible fixes:\\n\"+\n     \"</p>\\n\"+\n     \"<ul>\\n\"+\n     \"<li>re-rerun `output_notebook()` to attempt to load from CDN again, or</li>\\n\"+\n     \"<li>use INLINE resources instead, as so:</li>\\n\"+\n     \"</ul>\\n\"+\n     \"<code>\\n\"+\n     \"from bokeh.resources import INLINE\\n\"+\n     \"output_notebook(resources=INLINE)\\n\"+\n     \"</code>\\n\"+\n     \"</div>\"}};\n\n  function display_loaded() {\n    const el = document.getElementById(\"1003\");\n    if (el != null) {\n      el.textContent = \"BokehJS is loading...\";\n    }\n    if (root.Bokeh !== undefined) {\n      if (el != null) {\n        el.textContent = \"BokehJS \" + root.Bokeh.version + \" successfully loaded.\";\n      }\n    } else if (Date.now() < root._bokeh_timeout) {\n      setTimeout(display_loaded, 100)\n    }\n  }\n\n  function run_callbacks() {\n    try {\n      root._bokeh_onload_callbacks.forEach(function(callback) {\n        if (callback != null)\n          callback();\n      });\n    } finally {\n      delete root._bokeh_onload_callbacks\n    }\n    console.debug(\"Bokeh: all callbacks have finished\");\n  }\n\n  function load_libs(css_urls, js_urls, callback) {\n    if (css_urls == null) css_urls = [];\n    if (js_urls == null) js_urls = [];\n\n    root._bokeh_onload_callbacks.push(callback);\n    if (root._bokeh_is_loading > 0) {\n      console.debug(\"Bokeh: BokehJS is being loaded, scheduling callback at\", now());\n      return null;\n    }\n    if (js_urls == null || js_urls.length === 0) {\n      run_callbacks();\n      return null;\n    }\n    console.debug(\"Bokeh: BokehJS not loaded, scheduling load and callback at\", now());\n    root._bokeh_is_loading = css_urls.length + js_urls.length;\n\n    function on_load() {\n      root._bokeh_is_loading--;\n      if (root._bokeh_is_loading === 0) {\n        console.debug(\"Bokeh: all BokehJS libraries/stylesheets loaded\");\n        run_callbacks()\n      }\n    }\n\n    function on_error(url) {\n      console.error(\"failed to load \" + url);\n    }\n\n    for (let i = 0; i < css_urls.length; i++) {\n      const url = css_urls[i];\n      const element = document.createElement(\"link\");\n      element.onload = on_load;\n      element.onerror = on_error.bind(null, url);\n      element.rel = \"stylesheet\";\n      element.type = \"text/css\";\n      element.href = url;\n      console.debug(\"Bokeh: injecting link tag for BokehJS stylesheet: \", url);\n      document.body.appendChild(element);\n    }\n\n    for (let i = 0; i < js_urls.length; i++) {\n      const url = js_urls[i];\n      const element = document.createElement('script');\n      element.onload = on_load;\n      element.onerror = on_error.bind(null, url);\n      element.async = false;\n      element.src = url;\n      console.debug(\"Bokeh: injecting script tag for BokehJS library: \", url);\n      document.head.appendChild(element);\n    }\n  };\n\n  function inject_raw_css(css) {\n    const element = document.createElement(\"style\");\n    element.appendChild(document.createTextNode(css));\n    document.body.appendChild(element);\n  }\n\n  const js_urls = [\"https://cdn.bokeh.org/bokeh/release/bokeh-2.4.3.min.js\", \"https://cdn.bokeh.org/bokeh/release/bokeh-gl-2.4.3.min.js\", \"https://cdn.bokeh.org/bokeh/release/bokeh-widgets-2.4.3.min.js\", \"https://cdn.bokeh.org/bokeh/release/bokeh-tables-2.4.3.min.js\", \"https://cdn.bokeh.org/bokeh/release/bokeh-mathjax-2.4.3.min.js\"];\n  const css_urls = [];\n\n  const inline_js = [    function(Bokeh) {\n      Bokeh.set_log_level(\"info\");\n    },\nfunction(Bokeh) {\n    }\n  ];\n\n  function run_inline_js() {\n    if (root.Bokeh !== undefined || force === true) {\n          for (let i = 0; i < inline_js.length; i++) {\n      inline_js[i].call(root, root.Bokeh);\n    }\nif (force === true) {\n        display_loaded();\n      }} else if (Date.now() < root._bokeh_timeout) {\n      setTimeout(run_inline_js, 100);\n    } else if (!root._bokeh_failed_load) {\n      console.log(\"Bokeh: BokehJS failed to load within specified timeout.\");\n      root._bokeh_failed_load = true;\n    } else if (force !== true) {\n      const cell = $(document.getElementById(\"1003\")).parents('.cell').data().cell;\n      cell.output_area.append_execute_result(NB_LOAD_WARNING)\n    }\n  }\n\n  if (root._bokeh_is_loading === 0) {\n    console.debug(\"Bokeh: BokehJS loaded, going straight to plotting\");\n    run_inline_js();\n  } else {\n    load_libs(css_urls, js_urls, function() {\n      console.debug(\"Bokeh: BokehJS plotting callback run at\", now());\n      run_inline_js();\n    });\n  }\n}(window));",
      "application/vnd.bokehjs_load.v0+json": ""
     },
     "metadata": {},
     "output_type": "display_data"
    }
   ],
   "source": [
    "import numpy as np\n",
    "\n",
    "# Chart modules\n",
    "import matplotlib.pyplot as plt\n",
    "from bokeh.plotting import figure\n",
    "from bokeh.io import push_notebook,show, output_notebook\n",
    "from bokeh.models import HoverTool\n",
    "output_notebook()\n",
    "\n",
    "from modules.Utils.utils import loadFromDB, strategyTester, fourrierExtrapolation\n",
    "import pandas as pd"
   ]
  },
  {
   "cell_type": "code",
   "execution_count": 31,
   "metadata": {},
   "outputs": [],
   "source": [
    "SYMBOL= 'BTC'\n",
    "index = 35\n",
    "\n",
    "df = loadFromDB(f'./Data/15m/{SYMBOL}-USDT.csv').iloc[-index*100:-(index-2)*100]"
   ]
  },
  {
   "cell_type": "code",
   "execution_count": 32,
   "metadata": {},
   "outputs": [
    {
     "data": {
      "text/html": [
       "\n",
       "  <div class=\"bk-root\" id=\"4f679fbe-9d36-42a5-b64b-59f7c0cb9f9c\" data-root-id=\"4756\"></div>\n"
      ]
     },
     "metadata": {},
     "output_type": "display_data"
    },
    {
     "data": {
      "application/javascript": "(function(root) {\n  function embed_document(root) {\n  const docs_json = {\"40028af7-7fdb-4513-aa39-14f38ec798f3\":{\"defs\":[],\"roots\":{\"references\":[{\"attributes\":{\"below\":[{\"id\":\"4767\"}],\"center\":[{\"id\":\"4770\"},{\"id\":\"4774\"},{\"id\":\"4807\"}],\"left\":[{\"id\":\"4771\"}],\"renderers\":[{\"id\":\"4795\"},{\"id\":\"4813\"},{\"id\":\"4832\"}],\"title\":{\"id\":\"4757\"},\"toolbar\":{\"id\":\"4782\"},\"width\":1500,\"x_range\":{\"id\":\"4759\"},\"x_scale\":{\"id\":\"4763\"},\"y_range\":{\"id\":\"4761\"},\"y_scale\":{\"id\":\"4765\"}},\"id\":\"4756\",\"subtype\":\"Figure\",\"type\":\"Plot\"},{\"attributes\":{},\"id\":\"4763\",\"type\":\"LinearScale\"},{\"attributes\":{\"label\":{\"value\":\"Train data\"},\"renderers\":[{\"id\":\"4795\"}]},\"id\":\"4808\",\"type\":\"LegendItem\"},{\"attributes\":{},\"id\":\"4805\",\"type\":\"Selection\"},{\"attributes\":{\"bottom_units\":\"screen\",\"coordinates\":null,\"fill_alpha\":0.5,\"fill_color\":\"lightgrey\",\"group\":null,\"left_units\":\"screen\",\"level\":\"overlay\",\"line_alpha\":1.0,\"line_color\":\"black\",\"line_dash\":[4,4],\"line_width\":2,\"right_units\":\"screen\",\"syncable\":false,\"top_units\":\"screen\"},\"id\":\"4781\",\"type\":\"BoxAnnotation\"},{\"attributes\":{\"source\":{\"id\":\"4809\"}},\"id\":\"4814\",\"type\":\"CDSView\"},{\"attributes\":{},\"id\":\"4800\",\"type\":\"AllLabels\"},{\"attributes\":{\"data\":{\"x\":{\"__ndarray__\":\"AAAAAAEAAAACAAAAAwAAAAQAAAAFAAAABgAAAAcAAAAIAAAACQAAAAoAAAALAAAADAAAAA0AAAAOAAAADwAAABAAAAARAAAAEgAAABMAAAAUAAAAFQAAABYAAAAXAAAAGAAAABkAAAAaAAAAGwAAABwAAAAdAAAAHgAAAB8AAAAgAAAAIQAAACIAAAAjAAAAJAAAACUAAAAmAAAAJwAAACgAAAApAAAAKgAAACsAAAAsAAAALQAAAC4AAAAvAAAAMAAAADEAAAAyAAAAMwAAADQAAAA1AAAANgAAADcAAAA4AAAAOQAAADoAAAA7AAAAPAAAAD0AAAA+AAAAPwAAAEAAAABBAAAAQgAAAEMAAABEAAAARQAAAEYAAABHAAAASAAAAEkAAABKAAAASwAAAEwAAABNAAAATgAAAE8AAABQAAAAUQAAAFIAAABTAAAAVAAAAFUAAABWAAAAVwAAAFgAAABZAAAAWgAAAFsAAABcAAAAXQAAAF4AAABfAAAAYAAAAGEAAABiAAAAYwAAAGQAAABlAAAAZgAAAGcAAABoAAAAaQAAAGoAAABrAAAAbAAAAG0AAABuAAAAbwAAAHAAAABxAAAAcgAAAHMAAAB0AAAAdQAAAHYAAAB3AAAAeAAAAHkAAAB6AAAAewAAAHwAAAB9AAAAfgAAAH8AAACAAAAAgQAAAIIAAACDAAAAhAAAAIUAAACGAAAAhwAAAIgAAACJAAAAigAAAIsAAACMAAAAjQAAAI4AAACPAAAAkAAAAJEAAACSAAAAkwAAAJQAAACVAAAAlgAAAJcAAACYAAAAmQAAAJoAAACbAAAAnAAAAJ0AAACeAAAAnwAAAKAAAAChAAAAogAAAKMAAACkAAAApQAAAKYAAACnAAAAqAAAAKkAAACqAAAAqwAAAKwAAACtAAAArgAAAK8AAACwAAAAsQAAALIAAACzAAAAtAAAALUAAAC2AAAAtwAAALgAAAC5AAAAugAAALsAAAC8AAAAvQAAAL4AAAC/AAAAwAAAAMEAAADCAAAAwwAAAMQAAADFAAAAxgAAAMcAAAA=\",\"dtype\":\"int32\",\"order\":\"little\",\"shape\":[200]},\"y\":{\"__ndarray__\":\"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\",\"dtype\":\"float64\",\"order\":\"little\",\"shape\":[200]}},\"selected\":{\"id\":\"4825\"},\"selection_policy\":{\"id\":\"4824\"}},\"id\":\"4809\",\"type\":\"ColumnDataSource\"},{\"attributes\":{\"line_width\":2,\"x\":{\"field\":\"x\"},\"y\":{\"field\":\"y\"}},\"id\":\"4829\",\"type\":\"Line\"},{\"attributes\":{\"line_alpha\":0.1,\"line_color\":\"#1f77b4\",\"line_width\":2,\"x\":{\"field\":\"x\"},\"y\":{\"field\":\"y\"}},\"id\":\"4793\",\"type\":\"Line\"},{\"attributes\":{\"coordinates\":null,\"data_source\":{\"id\":\"4809\"},\"glyph\":{\"id\":\"4810\"},\"group\":null,\"hover_glyph\":null,\"muted_glyph\":{\"id\":\"4812\"},\"nonselection_glyph\":{\"id\":\"4811\"},\"view\":{\"id\":\"4814\"}},\"id\":\"4813\",\"type\":\"GlyphRenderer\"},{\"attributes\":{},\"id\":\"4802\",\"type\":\"BasicTickFormatter\"},{\"attributes\":{\"source\":{\"id\":\"4828\"}},\"id\":\"4833\",\"type\":\"CDSView\"},{\"attributes\":{\"tools\":[{\"id\":\"4775\"},{\"id\":\"4776\"},{\"id\":\"4777\"},{\"id\":\"4778\"},{\"id\":\"4779\"},{\"id\":\"4780\"},{\"id\":\"4789\"}]},\"id\":\"4782\",\"type\":\"Toolbar\"},{\"attributes\":{\"data\":{\"x\":{\"__ndarray__\":\"tAAAALUAAAC2AAAAtwAAALgAAAC5AAAAugAAALsAAAC8AAAAvQAAAL4AAAC/AAAAwAAAAMEAAADCAAAAwwAAAMQAAADFAAAAxgAAAMcAAAA=\",\"dtype\":\"int32\",\"order\":\"little\",\"shape\":[20]},\"y\":{\"__ndarray__\":\"zczMzAx61kAfhetReHrWQB+F61G4k9ZAAAAAALCM1kDD9Shcf4PWQHsUrkcxedZAKVyPwsV61kDNzMzM7G7WQOF6FK5Hc9ZAhetRuO6J1kD2KFyPMp/WQOF6FK4309ZAPQrXo3DO1kCPwvUoLMnWQD0K16MAudZA16NwPcrV1kAUrkfhWsLWQAAAAABwq9ZAmpmZmemk1kC4HoXrca/WQA==\",\"dtype\":\"float64\",\"order\":\"little\",\"shape\":[20]}},\"selected\":{\"id\":\"4846\"},\"selection_policy\":{\"id\":\"4845\"}},\"id\":\"4828\",\"type\":\"ColumnDataSource\"},{\"attributes\":{},\"id\":\"4768\",\"type\":\"BasicTicker\"},{\"attributes\":{},\"id\":\"4804\",\"type\":\"UnionRenderers\"},{\"attributes\":{\"label\":{\"value\":\"Extrapolation\"},\"renderers\":[{\"id\":\"4813\"}]},\"id\":\"4827\",\"type\":\"LegendItem\"},{\"attributes\":{\"coordinates\":null,\"data_source\":{\"id\":\"4828\"},\"glyph\":{\"id\":\"4829\"},\"group\":null,\"hover_glyph\":null,\"muted_glyph\":{\"id\":\"4831\"},\"nonselection_glyph\":{\"id\":\"4830\"},\"view\":{\"id\":\"4833\"}},\"id\":\"4832\",\"type\":\"GlyphRenderer\"},{\"attributes\":{\"line_alpha\":0.2,\"line_color\":\"orange\",\"line_width\":2,\"x\":{\"field\":\"x\"},\"y\":{\"field\":\"y\"}},\"id\":\"4812\",\"type\":\"Line\"},{\"attributes\":{\"line_alpha\":0.2,\"line_color\":\"#1f77b4\",\"line_width\":2,\"x\":{\"field\":\"x\"},\"y\":{\"field\":\"y\"}},\"id\":\"4794\",\"type\":\"Line\"},{\"attributes\":{\"line_alpha\":0.2,\"line_width\":2,\"x\":{\"field\":\"x\"},\"y\":{\"field\":\"y\"}},\"id\":\"4831\",\"type\":\"Line\"},{\"attributes\":{\"line_alpha\":0.1,\"line_color\":\"orange\",\"line_width\":2,\"x\":{\"field\":\"x\"},\"y\":{\"field\":\"y\"}},\"id\":\"4811\",\"type\":\"Line\"},{\"attributes\":{\"coordinates\":null,\"group\":null,\"items\":[{\"id\":\"4808\"},{\"id\":\"4827\"},{\"id\":\"4848\"}],\"location\":\"top_left\"},\"id\":\"4807\",\"type\":\"Legend\"},{\"attributes\":{\"line_alpha\":0.1,\"line_width\":2,\"x\":{\"field\":\"x\"},\"y\":{\"field\":\"y\"}},\"id\":\"4830\",\"type\":\"Line\"},{\"attributes\":{\"axis\":{\"id\":\"4767\"},\"coordinates\":null,\"group\":null,\"ticker\":null},\"id\":\"4770\",\"type\":\"Grid\"},{\"attributes\":{},\"id\":\"4845\",\"type\":\"UnionRenderers\"},{\"attributes\":{},\"id\":\"4761\",\"type\":\"DataRange1d\"},{\"attributes\":{},\"id\":\"4765\",\"type\":\"LinearScale\"},{\"attributes\":{\"label\":{\"value\":\"Test data\"},\"renderers\":[{\"id\":\"4832\"}]},\"id\":\"4848\",\"type\":\"LegendItem\"},{\"attributes\":{\"axis_label\":\"Time\",\"coordinates\":null,\"formatter\":{\"id\":\"4802\"},\"group\":null,\"major_label_policy\":{\"id\":\"4803\"},\"ticker\":{\"id\":\"4768\"}},\"id\":\"4767\",\"type\":\"LinearAxis\"},{\"attributes\":{},\"id\":\"4824\",\"type\":\"UnionRenderers\"},{\"attributes\":{},\"id\":\"4846\",\"type\":\"Selection\"},{\"attributes\":{},\"id\":\"4776\",\"type\":\"WheelZoomTool\"},{\"attributes\":{},\"id\":\"4825\",\"type\":\"Selection\"},{\"attributes\":{\"axis_label\":\"value ($)\",\"coordinates\":null,\"formatter\":{\"id\":\"4799\"},\"group\":null,\"major_label_policy\":{\"id\":\"4800\"},\"ticker\":{\"id\":\"4772\"}},\"id\":\"4771\",\"type\":\"LinearAxis\"},{\"attributes\":{\"source\":{\"id\":\"4791\"}},\"id\":\"4796\",\"type\":\"CDSView\"},{\"attributes\":{\"axis\":{\"id\":\"4771\"},\"coordinates\":null,\"dimension\":1,\"group\":null,\"ticker\":null},\"id\":\"4774\",\"type\":\"Grid\"},{\"attributes\":{},\"id\":\"4772\",\"type\":\"BasicTicker\"},{\"attributes\":{},\"id\":\"4799\",\"type\":\"BasicTickFormatter\"},{\"attributes\":{},\"id\":\"4780\",\"type\":\"HelpTool\"},{\"attributes\":{},\"id\":\"4803\",\"type\":\"AllLabels\"},{\"attributes\":{},\"id\":\"4775\",\"type\":\"PanTool\"},{\"attributes\":{\"coordinates\":null,\"data_source\":{\"id\":\"4791\"},\"glyph\":{\"id\":\"4792\"},\"group\":null,\"hover_glyph\":null,\"muted_glyph\":{\"id\":\"4794\"},\"nonselection_glyph\":{\"id\":\"4793\"},\"view\":{\"id\":\"4796\"}},\"id\":\"4795\",\"type\":\"GlyphRenderer\"},{\"attributes\":{\"overlay\":{\"id\":\"4781\"}},\"id\":\"4777\",\"type\":\"BoxZoomTool\"},{\"attributes\":{},\"id\":\"4759\",\"type\":\"DataRange1d\"},{\"attributes\":{\"line_color\":\"orange\",\"line_width\":2,\"x\":{\"field\":\"x\"},\"y\":{\"field\":\"y\"}},\"id\":\"4810\",\"type\":\"Line\"},{\"attributes\":{\"line_color\":\"#1f77b4\",\"line_width\":2,\"x\":{\"field\":\"x\"},\"y\":{\"field\":\"y\"}},\"id\":\"4792\",\"type\":\"Line\"},{\"attributes\":{},\"id\":\"4778\",\"type\":\"SaveTool\"},{\"attributes\":{},\"id\":\"4779\",\"type\":\"ResetTool\"},{\"attributes\":{\"callback\":null,\"formatters\":{\"$x\":\"printf\",\"$y\":\"printf\"},\"mode\":\"vline\",\"tooltips\":[[\"Price\",\"@y{0.00} $\"]]},\"id\":\"4789\",\"type\":\"HoverTool\"},{\"attributes\":{\"data\":{\"x\":{\"__ndarray__\":\"AAAAAAEAAAACAAAAAwAAAAQAAAAFAAAABgAAAAcAAAAIAAAACQAAAAoAAAALAAAADAAAAA0AAAAOAAAADwAAABAAAAARAAAAEgAAABMAAAAUAAAAFQAAABYAAAAXAAAAGAAAABkAAAAaAAAAGwAAABwAAAAdAAAAHgAAAB8AAAAgAAAAIQAAACIAAAAjAAAAJAAAACUAAAAmAAAAJwAAACgAAAApAAAAKgAAACsAAAAsAAAALQAAAC4AAAAvAAAAMAAAADEAAAAyAAAAMwAAADQAAAA1AAAANgAAADcAAAA4AAAAOQAAADoAAAA7AAAAPAAAAD0AAAA+AAAAPwAAAEAAAABBAAAAQgAAAEMAAABEAAAARQAAAEYAAABHAAAASAAAAEkAAABKAAAASwAAAEwAAABNAAAATgAAAE8AAABQAAAAUQAAAFIAAABTAAAAVAAAAFUAAABWAAAAVwAAAFgAAABZAAAAWgAAAFsAAABcAAAAXQAAAF4AAABfAAAAYAAAAGEAAABiAAAAYwAAAGQAAABlAAAAZgAAAGcAAABoAAAAaQAAAGoAAABrAAAAbAAAAG0AAABuAAAAbwAAAHAAAABxAAAAcgAAAHMAAAB0AAAAdQAAAHYAAAB3AAAAeAAAAHkAAAB6AAAAewAAAHwAAAB9AAAAfgAAAH8AAACAAAAAgQAAAIIAAACDAAAAhAAAAIUAAACGAAAAhwAAAIgAAACJAAAAigAAAIsAAACMAAAAjQAAAI4AAACPAAAAkAAAAJEAAACSAAAAkwAAAJQAAACVAAAAlgAAAJcAAACYAAAAmQAAAJoAAACbAAAAnAAAAJ0AAACeAAAAnwAAAKAAAAChAAAAogAAAKMAAACkAAAApQAAAKYAAACnAAAAqAAAAKkAAACqAAAAqwAAAKwAAACtAAAArgAAAK8AAACwAAAAsQAAALIAAACzAAAA\",\"dtype\":\"int32\",\"order\":\"little\",\"shape\":[180]},\"y\":{\"__ndarray__\":\"16NwPSoC10AfhetRKAzXQD0K16PgFtdA16NwPRoX10ApXI/CdRvXQClcj8IFLNdAuB6F68Ew10CF61G43ijXQMP1KFwvM9dASOF6FD4u10CF61G47ivXQHsUrkdRQ9dA9ihcjwI310AfhetRSDfXQHE9CtezPNdAXI/C9Tg610CuR+F6dDDXQD0K16OAK9dAmpmZmVku10DhehSu9y7XQEjhehSuQNdAcT0K1zM610CkcD0Ktz7XQFK4HoV7PNdArkfhemQs10AAAAAAwDjXQNejcD2qJ9dAMzMzM3Mq10DXo3A9ejDXQI/C9SisL9dArkfhevQ310CamZmZyT/XQNejcD3qNtdAPQrXo+Ap10BmZmZmRijXQOF6FK5XGddA4XoUrjcl10AAAAAAABzXQFK4HoULC9dAFK5H4ZoR10BxPQrXgyDXQHE9CtfDKddAexSuRxEy10Bcj8L1mDPXQAAAAAAwOtdAMzMzM3M310AfhetRaETXQDMzMzOzPtdAhetRuG4110AzMzMz8zzXQK5H4XpEPtdAuB6F6xE/10Bcj8L1KDjXQPYoXI8CNNdAKVyPwpVA10ApXI/C9TLXQMP1KFwfKddAhetRuH4x10DD9ShczyfXQGZmZmZmItdA7FG4HoU610AfhetROBfXQKRwPQo3KtdAuB6F66Ed10DhehSutyvXQJqZmZnpNNdASOF6FL4310C4HoXrwTnXQOxRuB4VNddAFK5H4TpA10AzMzMzEzbXQK5H4XqUMtdAKVyPwhUt10C4HoXrMS7XQArXo3ANLtdAexSuR8GO10CkcD0KNx7XQPYoXI9SItdAexSuR7Ew10DD9Shcv1bXQIXrUbieTNdAAAAAAIBU10AfhetReEnXQFK4HoVLUddAPQrXo/A/10BmZmZm1j7XQJqZmZlJPddAw/UoXE8910CkcD0K1zTXQHsUrkfxGNdA7FG4HmUJ10DXo3A96uTWQKRwPQrnxtZAPQrXo6C+1kCF61G4XtTWQD0K16NQw9ZA7FG4HoXK1kDD9Shc79nWQK5H4XpUv9ZA16NwPVq81kCkcD0KN87WQIXrUbg+z9ZACtejcL3T1kBI4XoUntTWQOF6FK7X4NZACtejcD3g1kAzMzMzs97WQEjhehTu4dZASOF6FM7g1kD2KFyPktnWQOxRuB4F39ZAZmZmZibY1kBI4XoUXsfWQHE9CtdzydZA4XoUrufT1kDhehSuJ9PWQJqZmZnZ1tZAexSuRwHa1kCamZmZGdjWQLgehevxzNZAZmZmZvbQ1kD2KFyPssHWQEjhehTex9ZAMzMzMxPC1kC4HoXrAaHWQI/C9ShsptZAexSuR/Gt1kAAAAAAUKnWQJqZmZlZmNZAAAAAAAC51kAzMzMzg8bWQFK4HoU7x9ZAhetRuK7I1kAAAAAAgL7WQD0K16PwvdZApHA9CtfJ1kAK16NwPcjWQDMzMzPzzNZAPQrXo/DD1kCkcD0KB7rWQAAAAADQttZAKVyPwvWC1kBmZmZmVn/WQLgehevRdtZAj8L1KPyV1kAzMzMzo6jWQPYoXI/yrtZA16NwPVqm1kAUrkfhCqnWQMP1KFwPotZAKVyPwgWZ1kAzMzMzc4HWQK5H4Xoki9ZA7FG4HpWf1kDsUbgeNbPWQClcj8JF4tZAzczMzLzG1kDsUbgeJdbWQNejcD1a49ZAj8L1KBzh1kCkcD0KJ9LWQHE9CtejwtZAhetRuK7H1kDsUbgexarWQMP1KFwvstZAXI/C9Yip1kCPwvUovKfWQHsUrkeBotZACtejcL1u1kDsUbgeRWLWQI/C9SjsbNZAPQrXozB01kDD9Shcj17WQKRwPQp3VtZApHA9Cldq1kDXo3A9+nLWQOF6FK7XZ9ZAw/UoXJ9h1kApXI/CZWrWQOxRuB4lddZA\",\"dtype\":\"float64\",\"order\":\"little\",\"shape\":[180]}},\"selected\":{\"id\":\"4805\"},\"selection_policy\":{\"id\":\"4804\"}},\"id\":\"4791\",\"type\":\"ColumnDataSource\"},{\"attributes\":{\"coordinates\":null,\"group\":null,\"text\":\"Prediction on BTC from BTC\"},\"id\":\"4757\",\"type\":\"Title\"}],\"root_ids\":[\"4756\"]},\"title\":\"Bokeh Application\",\"version\":\"2.4.3\"}};\n  const render_items = [{\"docid\":\"40028af7-7fdb-4513-aa39-14f38ec798f3\",\"root_ids\":[\"4756\"],\"roots\":{\"4756\":\"4f679fbe-9d36-42a5-b64b-59f7c0cb9f9c\"}}];\n  root.Bokeh.embed.embed_items_notebook(docs_json, render_items);\n  }\n  if (root.Bokeh !== undefined) {\n    embed_document(root);\n  } else {\n    let attempts = 0;\n    const timer = setInterval(function(root) {\n      if (root.Bokeh !== undefined) {\n        clearInterval(timer);\n        embed_document(root);\n      } else {\n        attempts++;\n        if (attempts > 100) {\n          clearInterval(timer);\n          console.log(\"Bokeh: ERROR: Unable to run BokehJS code because BokehJS library is missing\");\n        }\n      }\n    }, 10, root)\n  }\n})(window);",
      "application/vnd.bokehjs_exec.v0+json": ""
     },
     "metadata": {
      "application/vnd.bokehjs_exec.v0+json": {
       "id": "4756"
      }
     },
     "output_type": "display_data"
    }
   ],
   "source": [
    "\n",
    "pred_count = 20\n",
    "train_data = df.Close[:-pred_count]\n",
    "test_data = df.Close[-pred_count:]\n",
    "\n",
    "x = np.array(train_data)\n",
    "\n",
    "n_predict = pred_count\n",
    "extrapolation = fourrierExtrapolation(x, n_predict)\n",
    "\n",
    "p = figure(title=f\"Prediction on {SYMBOL} from BTC\", x_axis_label='Time', y_axis_label='value ($)',width=1500, height=600,)\n",
    "# Add the HoverTool to the figure\n",
    "p.add_tools(HoverTool(\n",
    "    tooltips=[\n",
    "    (\"Price\", \"@y{0.00} $\"),\n",
    "    #(\"Date\", \"$x{%F}\"),\n",
    "], formatters={\n",
    "        '$x': 'printf',\n",
    "        '$y' : 'printf',\n",
    "    },\n",
    "    mode='vline'\n",
    "))\n",
    "p.line(np.arange(0, x.size), x, legend_label=\"Train data\", line_width=2,)\n",
    "p.line(np.arange(0, extrapolation.size), extrapolation,legend_label=\"Extrapolation\", line_width=2, color='orange')\n",
    "p.line(np.arange(x.size, extrapolation.size), test_data,legend_label=\"Test data\", line_width=2, color='black')\n",
    "p.legend.location = \"top_left\"\n",
    "\n",
    "show(p)"
   ]
  },
  {
   "cell_type": "code",
   "execution_count": null,
   "metadata": {},
   "outputs": [],
   "source": []
  }
 ],
 "metadata": {
  "kernelspec": {
   "display_name": "Python 3.10.5 64-bit",
   "language": "python",
   "name": "python3"
  },
  "language_info": {
   "codemirror_mode": {
    "name": "ipython",
    "version": 3
   },
   "file_extension": ".py",
   "mimetype": "text/x-python",
   "name": "python",
   "nbconvert_exporter": "python",
   "pygments_lexer": "ipython3",
   "version": "3.10.5"
  },
  "orig_nbformat": 4,
  "vscode": {
   "interpreter": {
    "hash": "beedbe2faf2f7048d727558d0bc3221e7eba2a0b921cac4d4771b2feb8f74b30"
   }
  }
 },
 "nbformat": 4,
 "nbformat_minor": 2
}
