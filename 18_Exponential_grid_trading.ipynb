{
 "cells": [
  {
   "cell_type": "code",
   "execution_count": 29,
   "metadata": {},
   "outputs": [],
   "source": [
    "import warnings \n",
    "warnings.filterwarnings('ignore')\n",
    "from modules.Utils.utils import loadFromDB"
   ]
  },
  {
   "cell_type": "code",
   "execution_count": 39,
   "metadata": {},
   "outputs": [
    {
     "data": {
      "text/html": [
       "<div>\n",
       "<style scoped>\n",
       "    .dataframe tbody tr th:only-of-type {\n",
       "        vertical-align: middle;\n",
       "    }\n",
       "\n",
       "    .dataframe tbody tr th {\n",
       "        vertical-align: top;\n",
       "    }\n",
       "\n",
       "    .dataframe thead th {\n",
       "        text-align: right;\n",
       "    }\n",
       "</style>\n",
       "<table border=\"1\" class=\"dataframe\">\n",
       "  <thead>\n",
       "    <tr style=\"text-align: right;\">\n",
       "      <th></th>\n",
       "      <th>Open</th>\n",
       "      <th>High</th>\n",
       "      <th>Low</th>\n",
       "      <th>Close</th>\n",
       "      <th>Volume</th>\n",
       "      <th>Timestamp</th>\n",
       "    </tr>\n",
       "    <tr>\n",
       "      <th>Date</th>\n",
       "      <th></th>\n",
       "      <th></th>\n",
       "      <th></th>\n",
       "      <th></th>\n",
       "      <th></th>\n",
       "      <th></th>\n",
       "    </tr>\n",
       "  </thead>\n",
       "  <tbody>\n",
       "    <tr>\n",
       "      <th>2021-02-24</th>\n",
       "      <td>48891.00</td>\n",
       "      <td>51374.99</td>\n",
       "      <td>46988.69</td>\n",
       "      <td>49676.20</td>\n",
       "      <td>91881.209252</td>\n",
       "      <td>1614124800</td>\n",
       "    </tr>\n",
       "    <tr>\n",
       "      <th>2021-02-25</th>\n",
       "      <td>49676.21</td>\n",
       "      <td>52041.73</td>\n",
       "      <td>46674.34</td>\n",
       "      <td>47073.73</td>\n",
       "      <td>83310.673121</td>\n",
       "      <td>1614211200</td>\n",
       "    </tr>\n",
       "    <tr>\n",
       "      <th>2021-02-26</th>\n",
       "      <td>47073.73</td>\n",
       "      <td>48424.11</td>\n",
       "      <td>44106.78</td>\n",
       "      <td>46276.87</td>\n",
       "      <td>109423.200663</td>\n",
       "      <td>1614297600</td>\n",
       "    </tr>\n",
       "    <tr>\n",
       "      <th>2021-02-27</th>\n",
       "      <td>46276.88</td>\n",
       "      <td>48394.00</td>\n",
       "      <td>45000.00</td>\n",
       "      <td>46106.43</td>\n",
       "      <td>66060.834292</td>\n",
       "      <td>1614384000</td>\n",
       "    </tr>\n",
       "    <tr>\n",
       "      <th>2021-02-28</th>\n",
       "      <td>46103.67</td>\n",
       "      <td>46638.46</td>\n",
       "      <td>43000.00</td>\n",
       "      <td>45135.66</td>\n",
       "      <td>83055.369042</td>\n",
       "      <td>1614470400</td>\n",
       "    </tr>\n",
       "  </tbody>\n",
       "</table>\n",
       "</div>"
      ],
      "text/plain": [
       "                Open      High       Low     Close         Volume   Timestamp\n",
       "Date                                                                         \n",
       "2021-02-24  48891.00  51374.99  46988.69  49676.20   91881.209252  1614124800\n",
       "2021-02-25  49676.21  52041.73  46674.34  47073.73   83310.673121  1614211200\n",
       "2021-02-26  47073.73  48424.11  44106.78  46276.87  109423.200663  1614297600\n",
       "2021-02-27  46276.88  48394.00  45000.00  46106.43   66060.834292  1614384000\n",
       "2021-02-28  46103.67  46638.46  43000.00  45135.66   83055.369042  1614470400"
      ]
     },
     "execution_count": 39,
     "metadata": {},
     "output_type": "execute_result"
    }
   ],
   "source": [
    "SYMBOL= 'BTC'\n",
    "df =loadFromDB(SYMBOL,'1d').iloc[-600:]\n",
    "df.head()"
   ]
  },
  {
   "cell_type": "code",
   "execution_count": 40,
   "metadata": {},
   "outputs": [
    {
     "data": {
      "text/html": [
       "<div>\n",
       "<style scoped>\n",
       "    .dataframe tbody tr th:only-of-type {\n",
       "        vertical-align: middle;\n",
       "    }\n",
       "\n",
       "    .dataframe tbody tr th {\n",
       "        vertical-align: top;\n",
       "    }\n",
       "\n",
       "    .dataframe thead th {\n",
       "        text-align: right;\n",
       "    }\n",
       "</style>\n",
       "<table border=\"1\" class=\"dataframe\">\n",
       "  <thead>\n",
       "    <tr style=\"text-align: right;\">\n",
       "      <th></th>\n",
       "      <th>Open</th>\n",
       "      <th>High</th>\n",
       "      <th>Low</th>\n",
       "      <th>Close</th>\n",
       "      <th>Volume</th>\n",
       "      <th>Timestamp</th>\n",
       "      <th>Open_low</th>\n",
       "      <th>Open_high</th>\n",
       "      <th>High_low</th>\n",
       "    </tr>\n",
       "    <tr>\n",
       "      <th>Date</th>\n",
       "      <th></th>\n",
       "      <th></th>\n",
       "      <th></th>\n",
       "      <th></th>\n",
       "      <th></th>\n",
       "      <th></th>\n",
       "      <th></th>\n",
       "      <th></th>\n",
       "      <th></th>\n",
       "    </tr>\n",
       "  </thead>\n",
       "  <tbody>\n",
       "    <tr>\n",
       "      <th>2021-02-24</th>\n",
       "      <td>48891.00</td>\n",
       "      <td>51374.99</td>\n",
       "      <td>46988.69</td>\n",
       "      <td>49676.20</td>\n",
       "      <td>91881.209252</td>\n",
       "      <td>1614124800</td>\n",
       "      <td>-0.038909</td>\n",
       "      <td>0.050807</td>\n",
       "      <td>4386.30</td>\n",
       "    </tr>\n",
       "    <tr>\n",
       "      <th>2021-02-25</th>\n",
       "      <td>49676.21</td>\n",
       "      <td>52041.73</td>\n",
       "      <td>46674.34</td>\n",
       "      <td>47073.73</td>\n",
       "      <td>83310.673121</td>\n",
       "      <td>1614211200</td>\n",
       "      <td>-0.060429</td>\n",
       "      <td>0.047619</td>\n",
       "      <td>5367.39</td>\n",
       "    </tr>\n",
       "    <tr>\n",
       "      <th>2021-02-26</th>\n",
       "      <td>47073.73</td>\n",
       "      <td>48424.11</td>\n",
       "      <td>44106.78</td>\n",
       "      <td>46276.87</td>\n",
       "      <td>109423.200663</td>\n",
       "      <td>1614297600</td>\n",
       "      <td>-0.063028</td>\n",
       "      <td>0.028686</td>\n",
       "      <td>4317.33</td>\n",
       "    </tr>\n",
       "    <tr>\n",
       "      <th>2021-02-27</th>\n",
       "      <td>46276.88</td>\n",
       "      <td>48394.00</td>\n",
       "      <td>45000.00</td>\n",
       "      <td>46106.43</td>\n",
       "      <td>66060.834292</td>\n",
       "      <td>1614384000</td>\n",
       "      <td>-0.027592</td>\n",
       "      <td>0.045749</td>\n",
       "      <td>3394.00</td>\n",
       "    </tr>\n",
       "    <tr>\n",
       "      <th>2021-02-28</th>\n",
       "      <td>46103.67</td>\n",
       "      <td>46638.46</td>\n",
       "      <td>43000.00</td>\n",
       "      <td>45135.66</td>\n",
       "      <td>83055.369042</td>\n",
       "      <td>1614470400</td>\n",
       "      <td>-0.067319</td>\n",
       "      <td>0.011600</td>\n",
       "      <td>3638.46</td>\n",
       "    </tr>\n",
       "  </tbody>\n",
       "</table>\n",
       "</div>"
      ],
      "text/plain": [
       "                Open      High       Low     Close         Volume   Timestamp  \\\n",
       "Date                                                                            \n",
       "2021-02-24  48891.00  51374.99  46988.69  49676.20   91881.209252  1614124800   \n",
       "2021-02-25  49676.21  52041.73  46674.34  47073.73   83310.673121  1614211200   \n",
       "2021-02-26  47073.73  48424.11  44106.78  46276.87  109423.200663  1614297600   \n",
       "2021-02-27  46276.88  48394.00  45000.00  46106.43   66060.834292  1614384000   \n",
       "2021-02-28  46103.67  46638.46  43000.00  45135.66   83055.369042  1614470400   \n",
       "\n",
       "            Open_low  Open_high  High_low  \n",
       "Date                                       \n",
       "2021-02-24 -0.038909   0.050807   4386.30  \n",
       "2021-02-25 -0.060429   0.047619   5367.39  \n",
       "2021-02-26 -0.063028   0.028686   4317.33  \n",
       "2021-02-27 -0.027592   0.045749   3394.00  \n",
       "2021-02-28 -0.067319   0.011600   3638.46  "
      ]
     },
     "execution_count": 40,
     "metadata": {},
     "output_type": "execute_result"
    }
   ],
   "source": [
    "df['Open_low'] = df.apply(lambda row: (row['Low'] - row['Open'])/row['Open'], axis=1)\n",
    "df['Open_high'] = df.apply(lambda row: (row['High'] - row['Open'])/row['Open'], axis=1)\n",
    "df['High_low'] = df.apply(lambda row: (row['High'] - row['Low']), axis=1)\n",
    "df.head()"
   ]
  },
  {
   "cell_type": "code",
   "execution_count": 43,
   "metadata": {},
   "outputs": [
    {
     "data": {
      "text/plain": [
       "-0.02249221667663512"
      ]
     },
     "execution_count": 43,
     "metadata": {},
     "output_type": "execute_result"
    }
   ],
   "source": [
    "df['Open_high'].median()"
   ]
  },
  {
   "cell_type": "code",
   "execution_count": 44,
   "metadata": {},
   "outputs": [
    {
     "data": {
      "text/plain": [
       "<AxesSubplot: >"
      ]
     },
     "execution_count": 44,
     "metadata": {},
     "output_type": "execute_result"
    },
    {
     "data": {
      "image/png": "[encoded data removed]",
      "text/plain": [
       "<Figure size 640x480 with 1 Axes>"
      ]
     },
     "metadata": {},
     "output_type": "display_data"
    }
   ],
   "source": [
    "df.Open_high.hist(bins=100)"
   ]
  },
  {
   "cell_type": "code",
   "execution_count": null,
   "metadata": {},
   "outputs": [],
   "source": []
  }
 ],
 "metadata": {
  "kernelspec": {
   "display_name": "Python 3.10.6 ('venv': venv)",
   "language": "python",
   "name": "python3"
  },
  "language_info": {
   "codemirror_mode": {
    "name": "ipython",
    "version": 3
   },
   "file_extension": ".py",
   "mimetype": "text/x-python",
   "name": "python",
   "nbconvert_exporter": "python",
   "pygments_lexer": "ipython3",
   "version": "3.10.6"
  },
  "orig_nbformat": 4,
  "vscode": {
   "interpreter": {
    "hash": "d58cacdab5e87910af5fd11a0a6d597df11e0910bae80574c4c81b52a6810385"
   }
  }
 },
 "nbformat": 4,
 "nbformat_minor": 2
}
