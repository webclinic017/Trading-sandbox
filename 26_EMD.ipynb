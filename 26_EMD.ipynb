{
 "cells": [
  {
   "cell_type": "code",
   "execution_count": null,
   "metadata": {},
   "outputs": [],
   "source": [
    "import numpy as np\n",
    "from scipy.fft import fft\n",
    "import matplotlib.pyplot as plt\n",
    "from PyEMD import EMD,CEEMDAN, EEMD\n",
    "from sklearn.feature_selection import mutual_info_regression\n",
    "import warnings\n",
    "warnings.filterwarnings('ignore')\n",
    "\n",
    "from ta.trend import ema_indicator\n",
    "\n",
    "from modules.Utils.utils import loadFromDB, strategyTester\n",
    "import pandas as pd\n"
   ]
  },
  {
   "cell_type": "code",
   "execution_count": null,
   "metadata": {},
   "outputs": [],
   "source": [
    "def emd(signal):\n",
    "    emd = EMD(DTYPE=np.float16, spline_kind='cubic')#CEEMDAN() \n",
    "    imfs = emd(signal.values)\n",
    "    \n",
    "    t = [i for i in range(len(signal))]\n",
    "    N = imfs.shape[0]\n",
    "    fig, axs = plt.subplots(N + 1, 1, figsize=(25,11))\n",
    "    axs[0].plot(t, signal)\n",
    "    axs[0].set_title('Original Signal')\n",
    "    for n, imf in enumerate(imfs):\n",
    "        axs[n+1].plot(t, imf)\n",
    "        axs[n+1].set_title(f'IMF {n}')\n",
    "    \n",
    "    return imfs"
   ]
  },
  {
   "cell_type": "code",
   "execution_count": null,
   "metadata": {},
   "outputs": [],
   "source": [
    "\n",
    "SYMBOL= 'MATIC'\n",
    "df = loadFromDB(f'../backtest_tools/database/database/Binance/1h/{SYMBOL}-USDT.csv').iloc[-2500:]\n",
    "#df[\"EMA20\"] = ema_indicator(df[\"Close\"], 20)\n",
    "df.dropna(inplace=True)\n",
    "print(df.shape)\n",
    "df.head()"
   ]
  },
  {
   "cell_type": "code",
   "execution_count": null,
   "metadata": {},
   "outputs": [],
   "source": [
    "imfs = emd(df[\"Close\"])"
   ]
  },
  {
   "cell_type": "code",
   "execution_count": null,
   "metadata": {},
   "outputs": [],
   "source": [
    "def phase_spectrum(imfs):\n",
    "    imfs_p = []\n",
    "    fig, axs = plt.subplots(len(imfs), 1, figsize=(25,11))\n",
    "    for i, imf in enumerate(imfs):\n",
    "        trans = fft(imf)\n",
    "        imf_p = np.arctan(trans.imag / trans.real)\n",
    "        \n",
    "        imfs_p.append(imf_p)\n",
    "        \n",
    "        axs[i].plot(imf_p, 'o')\n",
    "        axs[i].set_title(f'IMF {i}')\n",
    "        \n",
    "    return imfs_p"
   ]
  },
  {
   "cell_type": "code",
   "execution_count": null,
   "metadata": {},
   "outputs": [],
   "source": [
    "imfs_p = phase_spectrum(imfs)"
   ]
  },
  {
   "cell_type": "code",
   "execution_count": null,
   "metadata": {},
   "outputs": [],
   "source": [
    "def phase_mi(phases):\n",
    "    mis = []\n",
    "    for i in range(len(phases)-1):\n",
    "        mis.append(mutual_info_regression(phases[i].reshape(-1, 1), phases[i+1])[0])\n",
    "        \n",
    "    return np.array(mis)\n",
    "mis = phase_mi(imfs_p)"
   ]
  },
  {
   "cell_type": "code",
   "execution_count": null,
   "metadata": {},
   "outputs": [],
   "source": [
    "def divide_signal(signal, imfs, mis, cutoff=0.75):\n",
    "    cut_point = np.where(mis > cutoff)[0][0]\n",
    "    stochastic_component = np.sum(imfs[:cut_point], axis=0)\n",
    "    deterministic_component = np.sum(imfs[cut_point:], axis=0)\n",
    "    \n",
    "    t = [i for i in range(len(signal))]\n",
    "    \n",
    "    fig, axs = plt.subplots(3, 1, figsize=(25,11))\n",
    "    axs[0].plot(t, signal.values)\n",
    "    axs[0].set_title('Original Signal')\n",
    "    \n",
    "    axs[1].plot(t, stochastic_component)\n",
    "    axs[1].set_title('Stochastic Component')\n",
    "    \n",
    "    axs[2].plot(t, deterministic_component)\n",
    "    axs[2].set_title('Deterministic Component')\n",
    "    \n",
    "    return stochastic_component, deterministic_component"
   ]
  },
  {
   "cell_type": "code",
   "execution_count": null,
   "metadata": {},
   "outputs": [],
   "source": [
    "stochastic_component, deterministic_component = divide_signal(df[\"Close\"], imfs, mis,cutoff=0.96)"
   ]
  },
  {
   "cell_type": "code",
   "execution_count": null,
   "metadata": {},
   "outputs": [],
   "source": [
    "df['deterministic_component'] = deterministic_component\n",
    "df['stochastic_component'] = stochastic_component\n",
    "df['deterministic_component_diff'] = df['deterministic_component'].diff()\n",
    "df.dropna(inplace=True)"
   ]
  },
  {
   "cell_type": "code",
   "execution_count": null,
   "metadata": {},
   "outputs": [],
   "source": [
    "def buyCondition(row:pd.Series, previous_row:pd.Series=None)->bool:\n",
    "    return True if row.deterministic_component_diff>0 else False\n",
    "\n",
    "def sellCondition(row:pd.Series, previous_row:pd.Series=None)->bool:\n",
    "    return True if row.deterministic_component_diff<0 else False\n",
    "\n",
    "strategyTester(df.iloc[:len(df)-1500],buyCondition,sellCondition,equity=1000)"
   ]
  },
  {
   "cell_type": "code",
   "execution_count": null,
   "metadata": {},
   "outputs": [],
   "source": [
    "from bokeh.plotting import figure\n",
    "from bokeh.io import push_notebook,show, output_notebook\n",
    "from bokeh.models import HoverTool, Band, ColumnDataSource\n",
    "from bokeh.layouts import row, column\n",
    "output_notebook()"
   ]
  },
  {
   "cell_type": "code",
   "execution_count": null,
   "metadata": {},
   "outputs": [],
   "source": [
    "\n",
    "import matplotlib.pyplot as plt\n",
    "\n",
    "p = figure(title=f\"Comparaison\", x_axis_label='time', y_axis_label='value ($)',width=1500, height=600,)\n",
    "# Add the HoverTool to the figure\n",
    "p.add_tools(HoverTool(\n",
    "    tooltips=[\n",
    "    (\"Price\", \"@y{0.00} $\"),\n",
    "], formatters={\n",
    "        '$x': 'datetime',\n",
    "        '$y' : 'printf',\n",
    "    },\n",
    "    mode='vline'\n",
    "))\n",
    "p.line(list(range(len(df))), df.Close.values, legend_label=\"Close\", line_width=2, )\n",
    "p.line(list(range(len(df))), df.deterministic_component.values, legend_label=\"Deterministic\", line_width=2, color='orange')\n",
    "\n",
    "p.legend.location = \"top_left\"\n",
    "\n",
    "q = figure(title=f\"Comparaison\", x_axis_label='time', y_axis_label='value',width=1500, height=600,)\n",
    "# Add the HoverTool to the figure\n",
    "q.add_tools(HoverTool(\n",
    "    tooltips=[\n",
    "    (\"Price\", \"@y{0.00}\"),\n",
    "], formatters={\n",
    "        '$x': 'datetime',\n",
    "        '$y' : 'printf',\n",
    "    },\n",
    "    mode='vline'\n",
    "))\n",
    "q.line(list(range(len(df))), df.deterministic_component_diff.values, legend_label=\"Deterministic\", line_width=2, color='orange')\n",
    "q.legend.location = \"top_left\"\n",
    "\n",
    "show(column(p, q))"
   ]
  },
  {
   "cell_type": "markdown",
   "metadata": {},
   "source": [
    "# Wrap it up"
   ]
  },
  {
   "cell_type": "code",
   "execution_count": null,
   "metadata": {},
   "outputs": [],
   "source": [
    "df_final = pd.DataFrame()\n",
    "for col in df.columns:\n",
    "    df_final[col]=np.nan\n",
    "df_final"
   ]
  },
  {
   "cell_type": "code",
   "execution_count": null,
   "metadata": {},
   "outputs": [],
   "source": [
    "kucoin_range = 1500\n",
    "\n",
    "print(f'Before inloop :')\n",
    "\n",
    "for i in range(len(df)-kucoin_range):\n",
    "    df_i = df.iloc[i:i+kucoin_range]\n",
    "    imfs = emd(df_i[\"Close\"])\n",
    "    mis = phase_mi(imfs_p)\n",
    "    imfs_p = phase_spectrum(imfs)\n",
    "    stochastic_component, deterministic_component = divide_signal(df_i[\"Close\"], imfs, mis,cutoff=0.96)\n",
    "    df_i['deterministic_component'] = deterministic_component\n",
    "    df_i['stochastic_component'] = stochastic_component\n",
    "    df_i['deterministic_component_diff'] = df_i['deterministic_component'].diff()\n",
    "    df_final = df_final.append(df_i.iloc[-1],ignore_index=True)\n",
    "    print(f'{len(df_final)} records')"
   ]
  },
  {
   "cell_type": "code",
   "execution_count": null,
   "metadata": {},
   "outputs": [],
   "source": []
  }
 ],
 "metadata": {
  "kernelspec": {
   "display_name": "Python 3.8.10 ('venv': venv)",
   "language": "python",
   "name": "python3"
  },
  "language_info": {
   "codemirror_mode": {
    "name": "ipython",
    "version": 3
   },
   "file_extension": ".py",
   "mimetype": "text/x-python",
   "name": "python",
   "nbconvert_exporter": "python",
   "pygments_lexer": "ipython3",
   "version": "3.8.10"
  },
  "orig_nbformat": 4,
  "vscode": {
   "interpreter": {
    "hash": "d58cacdab5e87910af5fd11a0a6d597df11e0910bae80574c4c81b52a6810385"
   }
  }
 },
 "nbformat": 4,
 "nbformat_minor": 2
}
