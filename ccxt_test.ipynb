{
 "cells": [
  {
   "cell_type": "code",
   "execution_count": 1,
   "metadata": {},
   "outputs": [],
   "source": [
    "from datetime import datetime\n",
    "import ccxt"
   ]
  },
  {
   "cell_type": "code",
   "execution_count": null,
   "metadata": {},
   "outputs": [],
   "source": [
    "\n",
    "#Connexion à l'API\n",
    "kucoin = ccxt.kucoin({\n",
    "    \"apiKey\":\"62a05a9ccf9fd60001e2ff9e\",\n",
    "    \"secret\":\"578687f6-5420-46d7-9b7a-26a737713cfb\",\n",
    "    \"password\":\"3FiF$4sR6p5Y9fPnSNijL?HaGcd@A7\"\n",
    "})\n",
    "def getSolde():\n",
    "    global kucoin\n",
    "    try:\n",
    "        for coin in kucoin.fetchBalance()['info']['data'] :\n",
    "            if coin['currency']=='USDT' :\n",
    "                return float(coin['balance'])\n",
    "    except Exception as err:\n",
    "        raise err\n",
    "    \n",
    "def getCurrentPrice(perpSymbol) :\n",
    "    global kucoin\n",
    "    try:\n",
    "        ticker = kucoin.fetchTicker(perpSymbol)\n",
    "    except BaseException as err:\n",
    "        print(\"An error occured\", err)\n",
    "    return float(ticker[\"ask\"])\n",
    "\n",
    "\n",
    "#Dans le cas où vos clés API seraient mauvaises, cette fonction renverrait une erreur\n",
    "try :\n",
    "    test=getSolde();del test\n",
    "except Exception as err:\n",
    "    print(f\"Problème de connexion à l'API : {err}\")\n",
    "    exit()\n",
    "print(f\"{str(datetime.now()).split('.')[0]} | Connexion à l'API Kucoin réussie.\")\n",
    "date=str(datetime.now()).split('.')[0]\n",
    "print(f\"{date} | Bot de sniping lancé avec {getSolde()} USDT, en attente de nouvelles paires...\")"
   ]
  },
  {
   "cell_type": "code",
   "execution_count": 50,
   "metadata": {},
   "outputs": [],
   "source": [
    "class KucoinAPI:\n",
    "    def __init__(self) -> None:\n",
    "        #self._credentials = {\n",
    "        #    \"apiKey\":\"62fa6d4f37a609000198c9ca\",\n",
    "        #    \"secret\":\"7ab549c3-5fb9-46f6-8f5a-4ba63556102d\",\n",
    "        #    \"password\":\"oHCsD5dDK&HrskYC8a9cYp9N@hgRRg9\"\n",
    "        #}#sandbox\n",
    "        self._credentials = {\n",
    "            \"apiKey\":\"62a05a9ccf9fd60001e2ff9e\",\n",
    "            \"secret\":\"578687f6-5420-46d7-9b7a-26a737713cfb\",\n",
    "            \"password\":\"3FiF$4sR6p5Y9fPnSNijL?HaGcd@A7\"\n",
    "        }\n",
    "        self._session = ccxt.kucoin(self._credentials)\n",
    "        #self._session.set_sandbox_mode(True)\n",
    "\n",
    "        \n",
    "    def authentication_required(fn):\n",
    "        \"\"\"Annotation for methods that require auth.\"\"\"\n",
    "        def wrapped(self, *args, **kwargs):\n",
    "            if not self._credentials or \"apiKey\" not in self._credentials or \"secret\" not in self._credentials or \"password\" not in self._credentials: \n",
    "                #exit()\n",
    "                raise Exception(f\"You must be authenticated to use this method {fn}\") \n",
    "            else:\n",
    "                return fn(self, *args, **kwargs)\n",
    "        return wrapped\n",
    "        \n",
    "    @authentication_required    \n",
    "    def placeMarketOrder(self,symbol:str,side:str,pct_wallet:float=0.99):\n",
    "        assert side in [\"buy\",\"sell\"]\n",
    "        amount = self.getAmountForTrade(symbol,pct_wallet)\n",
    "        return self._session.create_market_order(f'{symbol}/USDT', side, amount)\n",
    "    \n",
    "    @authentication_required     \n",
    "    def placeLimitOrder(self):\n",
    "        pass  \n",
    "    \n",
    "    @authentication_required\n",
    "    def getUSDTBalance(self)->float:\n",
    "        try:\n",
    "            print(self._session.fetchBalance({\"currency\": \"usdt\"}))\n",
    "            for coin in self._session.fetchBalance({\"currency\": \"usdt\"})['info']['data']:\n",
    "                print(coin)\n",
    "                if coin['currency']=='USDT' :\n",
    "                    return float(coin['balance'])\n",
    "        except Exception as err:\n",
    "            raise err\n",
    "        \n",
    "    def getCurrentPrice(self,symbol:str)->float:\n",
    "        try:\n",
    "            return self._session.fetch_ticker(f'{symbol}/USDT')[\"ask\"]\n",
    "        except Exception as err:\n",
    "            raise err\n",
    "                \n",
    "    def getAmountForTrade(self, symbol:str,pct_wallet:int=1)->str:\n",
    "        if self._session.load_markets()[f'{symbol}/USDT']['limits']['amount']['min']<self.getUSDTBalance()*pct_wallet/self.getCurrentPrice(f'{symbol}'):\n",
    "            amount = self._session.amount_to_precision(f'{symbol}/USDT', self.getUSDTBalance()*pct_wallet/self.getCurrentPrice(f'{symbol}'))\n",
    "            return amount, float(amount)\n",
    "        else:\n",
    "            raise Exception(f\"Not enough USDT to trade {symbol}\") \n",
    "        \n"
   ]
  },
  {
   "cell_type": "code",
   "execution_count": 51,
   "metadata": {},
   "outputs": [],
   "source": [
    "kucoin_client = KucoinAPI()"
   ]
  },
  {
   "cell_type": "code",
   "execution_count": 55,
   "metadata": {},
   "outputs": [
    {
     "data": {
      "text/plain": [
       "0.002491"
      ]
     },
     "execution_count": 55,
     "metadata": {},
     "output_type": "execute_result"
    }
   ],
   "source": [
    "kucoin_client.getCurrentPrice('AVAX3L')"
   ]
  },
  {
   "cell_type": "code",
   "execution_count": 53,
   "metadata": {},
   "outputs": [
    {
     "name": "stdout",
     "output_type": "stream",
     "text": [
      "{'info': {'code': '200000', 'data': [{'id': '61cb714016bee40001cdf96e', 'currency': 'USDT', 'type': 'trade', 'balance': '120.1446638', 'available': '120.1446638', 'holds': '0'}]}, 'timestamp': None, 'datetime': None, 'USDT': {'free': 120.1446638, 'used': 0.0, 'total': 120.1446638}, 'free': {'USDT': 120.1446638}, 'used': {'USDT': 0.0}, 'total': {'USDT': 120.1446638}}\n",
      "{'id': '61cb714016bee40001cdf96e', 'currency': 'USDT', 'type': 'trade', 'balance': '120.1446638', 'available': '120.1446638', 'holds': '0'}\n"
     ]
    },
    {
     "data": {
      "text/plain": [
       "120.1446638"
      ]
     },
     "execution_count": 53,
     "metadata": {},
     "output_type": "execute_result"
    }
   ],
   "source": [
    "kucoin_client.getUSDTBalance()"
   ]
  },
  {
   "cell_type": "code",
   "execution_count": 54,
   "metadata": {},
   "outputs": [
    {
     "name": "stdout",
     "output_type": "stream",
     "text": [
      "{'info': {'code': '200000', 'data': [{'id': '61cb714016bee40001cdf96e', 'currency': 'USDT', 'type': 'trade', 'balance': '120.1446638', 'available': '120.1446638', 'holds': '0'}]}, 'timestamp': None, 'datetime': None, 'USDT': {'free': 120.1446638, 'used': 0.0, 'total': 120.1446638}, 'free': {'USDT': 120.1446638}, 'used': {'USDT': 0.0}, 'total': {'USDT': 120.1446638}}\n",
      "{'id': '61cb714016bee40001cdf96e', 'currency': 'USDT', 'type': 'trade', 'balance': '120.1446638', 'available': '120.1446638', 'holds': '0'}\n",
      "{'info': {'code': '200000', 'data': [{'id': '61cb714016bee40001cdf96e', 'currency': 'USDT', 'type': 'trade', 'balance': '120.1446638', 'available': '120.1446638', 'holds': '0'}]}, 'timestamp': None, 'datetime': None, 'USDT': {'free': 120.1446638, 'used': 0.0, 'total': 120.1446638}, 'free': {'USDT': 120.1446638}, 'used': {'USDT': 0.0}, 'total': {'USDT': 120.1446638}}\n",
      "{'id': '61cb714016bee40001cdf96e', 'currency': 'USDT', 'type': 'trade', 'balance': '120.1446638', 'available': '120.1446638', 'holds': '0'}\n"
     ]
    },
    {
     "data": {
      "text/plain": [
       "('0.00024769', 0.00024769)"
      ]
     },
     "execution_count": 54,
     "metadata": {},
     "output_type": "execute_result"
    }
   ],
   "source": [
    "kucoin_client.getAmountForTrade('BTC',0.05)"
   ]
  },
  {
   "cell_type": "code",
   "execution_count": 58,
   "metadata": {},
   "outputs": [],
   "source": [
    "#kucoin_client.placeMarketOrder('BTC','buy',0.05)"
   ]
  },
  {
   "cell_type": "code",
   "execution_count": null,
   "metadata": {},
   "outputs": [],
   "source": []
  }
 ],
 "metadata": {
  "kernelspec": {
   "display_name": "Python 3.8.10 ('venv': venv)",
   "language": "python",
   "name": "python3"
  },
  "language_info": {
   "codemirror_mode": {
    "name": "ipython",
    "version": 3
   },
   "file_extension": ".py",
   "mimetype": "text/x-python",
   "name": "python",
   "nbconvert_exporter": "python",
   "pygments_lexer": "ipython3",
   "version": "3.8.10"
  },
  "orig_nbformat": 4,
  "vscode": {
   "interpreter": {
    "hash": "d58cacdab5e87910af5fd11a0a6d597df11e0910bae80574c4c81b52a6810385"
   }
  }
 },
 "nbformat": 4,
 "nbformat_minor": 2
}
