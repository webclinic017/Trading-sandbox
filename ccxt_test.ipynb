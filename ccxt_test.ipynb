{
 "cells": [
  {
   "cell_type": "code",
   "execution_count": 1,
   "metadata": {},
   "outputs": [],
   "source": [
    "from datetime import datetime\n",
    "import ccxt\n",
    "import json\n",
    "\n",
    "class KucoinAPI:\n",
    "    def __init__(self) -> None:\n",
    "        #self._credentials = {\n",
    "        #    \"apiKey\":\"62fa6d4f37a609000198c9ca\",\n",
    "        #    \"secret\":\"7ab549c3-5fb9-46f6-8f5a-4ba63556102d\",\n",
    "        #    \"password\":\"oHCsD5dDK&HrskYC8a9cYp9N@hgRRg9\"\n",
    "        #}#sandbox\n",
    "        self._credentials = {\n",
    "    \"apiKey\":\"630e0d3eaa5daa0001fc715c\",\n",
    "    \"secret\":\"17af4d09-29d2-4215-b902-84c59cebfd65\",\n",
    "    \"password\":\"ndaQkccdmkHYANQ6j6@8yKMDP37cSF\"\n",
    "}\n",
    "        self._session = ccxt.kucoin(self._credentials)\n",
    "        #self._session.set_sandbox_mode(True)\n",
    "\n",
    "    \n",
    "    def authentication_required(fn):\n",
    "        \"\"\"Annotation for methods that require auth.\"\"\"\n",
    "        def wrapped(self, *args, **kwargs):\n",
    "            if not self._credentials or \"apiKey\" not in self._credentials or \"secret\" not in self._credentials or \"password\" not in self._credentials: \n",
    "                raise Exception(f\"You must be authenticated to use this method {fn}\") \n",
    "                #sys.exit()\n",
    "            else:\n",
    "                return fn(self, *args, **kwargs)\n",
    "        return wrapped\n",
    "        \n",
    "    @authentication_required    \n",
    "    def placeMarketOrder(self,symbol:str,side:str,amount:str)->dict:\n",
    "        assert side.lower() in [\"buy\",\"sell\"]\n",
    "        trade_result = self._session.create_market_order(f'{symbol}/USDT', side.lower(), amount)\n",
    "        self.last_order_id = trade_result['info']['orderId']\n",
    "        self.last_order_timestamp = trade_result['timestamp']\n",
    "        self.qty_in_position = trade_result['amount']\n",
    "        self.last_trade_type = trade_result['side']\n",
    "        return trade_result\n",
    "    \n",
    "    @authentication_required     \n",
    "    def placeLimitOrder(self):\n",
    "        pass  \n",
    "    \n",
    "    @authentication_required   \n",
    "    def cancelOrder(self, orderId:str)->dict:\n",
    "        return self._session.cancel_order(orderId)\n",
    "    \n",
    "    @authentication_required\n",
    "    def getUSDTBalance(self)->float:\n",
    "        try:\n",
    "            for coin in self._session.fetchBalance()['info']['data']:\n",
    "                if coin['currency']=='USDT' :\n",
    "                    return float(coin['balance'])\n",
    "        except Exception as err:\n",
    "            raise err\n",
    "        \n",
    "    def getCurrentPrice(self,symbol:str)->float:\n",
    "        try:\n",
    "            return self._session.fetch_ticker(f'{symbol}/USDT')[\"ask\"]\n",
    "        except Exception as err:\n",
    "            raise err\n",
    "        \n",
    "    def getAmountForSellingAll(self,symbol:str)->str:\n",
    "        return self._session.amount_to_precision(f'{symbol}/USDT', self.qty_in_position)\n",
    "    \n",
    "    def getAmountForTrade(self, symbol:str,pct_wallet:int=1)->str:\n",
    "        if self._session.load_markets()[f'{symbol}/USDT']['limits']['amount']['min']<self.getUSDTBalance()*pct_wallet/self.getCurrentPrice(f'{symbol}'):\n",
    "            return self._session.amount_to_precision(f'{symbol}/USDT', self.getUSDTBalance()*pct_wallet/self.getCurrentPrice(f'{symbol}'))\n",
    "        else:\n",
    "            raise Exception(f\"Not enough USDT to trade {symbol}\") \n",
    "        \n"
   ]
  },
  {
   "cell_type": "code",
   "execution_count": 2,
   "metadata": {},
   "outputs": [],
   "source": [
    "kucoin_client = KucoinAPI()"
   ]
  },
  {
   "cell_type": "code",
   "execution_count": 3,
   "metadata": {},
   "outputs": [
    {
     "data": {
      "text/plain": [
       "{'free': None, 'used': None, 'total': None}"
      ]
     },
     "execution_count": 3,
     "metadata": {},
     "output_type": "execute_result"
    }
   ],
   "source": [
    "kucoin_client._session.account()"
   ]
  },
  {
   "cell_type": "code",
   "execution_count": 4,
   "metadata": {},
   "outputs": [
    {
     "data": {
      "text/plain": [
       "0.04432"
      ]
     },
     "execution_count": 4,
     "metadata": {},
     "output_type": "execute_result"
    }
   ],
   "source": [
    "kucoin_client.getCurrentPrice('RVN')"
   ]
  },
  {
   "cell_type": "code",
   "execution_count": 5,
   "metadata": {},
   "outputs": [
    {
     "data": {
      "text/plain": [
       "30.0"
      ]
     },
     "execution_count": 5,
     "metadata": {},
     "output_type": "execute_result"
    }
   ],
   "source": [
    "kucoin_client.getUSDTBalance()"
   ]
  },
  {
   "cell_type": "code",
   "execution_count": 16,
   "metadata": {},
   "outputs": [
    {
     "data": {
      "text/plain": [
       "'2.4283'"
      ]
     },
     "execution_count": 16,
     "metadata": {},
     "output_type": "execute_result"
    }
   ],
   "source": [
    "kucoin_client.getAmountForTrade('NEER',0.05)"
   ]
  },
  {
   "cell_type": "code",
   "execution_count": 19,
   "metadata": {},
   "outputs": [
    {
     "name": "stdout",
     "output_type": "stream",
     "text": [
      "Starting scheduler\n",
      "Blocking : [<Job (id=0257e77333c943a7a08f4d0d4ba5d761 name=executeSniping)>]\n",
      "BUYING...\n",
      "SELLING...\n",
      "Blocking : []\n",
      "Background : [<Job (id=eaaa17951e9a4fccb10a4309e16c7c49 name=task2)>]\n",
      "in the background execution : test\n"
     ]
    },
    {
     "ename": "KeyboardInterrupt",
     "evalue": "",
     "output_type": "error",
     "traceback": [
      "\u001b[0;31m---------------------------------------------------------------------------\u001b[0m",
      "\u001b[0;31mKeyboardInterrupt\u001b[0m                         Traceback (most recent call last)",
      "\u001b[1;32m/home/baptiste/windowsdisk/_sharedFS/Python/python-trading-bot/ccxt_test.ipynb Cell 7\u001b[0m in \u001b[0;36m<cell line: 23>\u001b[0;34m()\u001b[0m\n\u001b[1;32m     <a href='vscode-notebook-cell:/home/baptiste/windowsdisk/_sharedFS/Python/python-trading-bot/ccxt_test.ipynb#X20sZmlsZQ%3D%3D?line=20'>21</a>\u001b[0m \u001b[39mprint\u001b[39m(\u001b[39mf\u001b[39m\u001b[39m'\u001b[39m\u001b[39mBlocking : \u001b[39m\u001b[39m{\u001b[39;00mscheduler\u001b[39m.\u001b[39mget_jobs()\u001b[39m}\u001b[39;00m\u001b[39m'\u001b[39m)\n\u001b[1;32m     <a href='vscode-notebook-cell:/home/baptiste/windowsdisk/_sharedFS/Python/python-trading-bot/ccxt_test.ipynb#X20sZmlsZQ%3D%3D?line=21'>22</a>\u001b[0m bgscheduler\u001b[39m.\u001b[39mstart()\n\u001b[0;32m---> <a href='vscode-notebook-cell:/home/baptiste/windowsdisk/_sharedFS/Python/python-trading-bot/ccxt_test.ipynb#X20sZmlsZQ%3D%3D?line=22'>23</a>\u001b[0m scheduler\u001b[39m.\u001b[39;49mstart()\n\u001b[1;32m     <a href='vscode-notebook-cell:/home/baptiste/windowsdisk/_sharedFS/Python/python-trading-bot/ccxt_test.ipynb#X20sZmlsZQ%3D%3D?line=23'>24</a>\u001b[0m \u001b[39mprint\u001b[39m(\u001b[39m'\u001b[39m\u001b[39mfinished\u001b[39m\u001b[39m'\u001b[39m)\n",
      "File \u001b[0;32m~/windowsdisk/_sharedFS/Python/python-trading-bot/venv/lib/python3.8/site-packages/apscheduler/schedulers/blocking.py:21\u001b[0m, in \u001b[0;36mBlockingScheduler.start\u001b[0;34m(self, *args, **kwargs)\u001b[0m\n\u001b[1;32m     18\u001b[0m     \u001b[39mself\u001b[39m\u001b[39m.\u001b[39m_event \u001b[39m=\u001b[39m Event()\n\u001b[1;32m     20\u001b[0m \u001b[39msuper\u001b[39m(BlockingScheduler, \u001b[39mself\u001b[39m)\u001b[39m.\u001b[39mstart(\u001b[39m*\u001b[39margs, \u001b[39m*\u001b[39m\u001b[39m*\u001b[39mkwargs)\n\u001b[0;32m---> 21\u001b[0m \u001b[39mself\u001b[39;49m\u001b[39m.\u001b[39;49m_main_loop()\n",
      "File \u001b[0;32m~/windowsdisk/_sharedFS/Python/python-trading-bot/venv/lib/python3.8/site-packages/apscheduler/schedulers/blocking.py:30\u001b[0m, in \u001b[0;36mBlockingScheduler._main_loop\u001b[0;34m(self)\u001b[0m\n\u001b[1;32m     28\u001b[0m wait_seconds \u001b[39m=\u001b[39m TIMEOUT_MAX\n\u001b[1;32m     29\u001b[0m \u001b[39mwhile\u001b[39;00m \u001b[39mself\u001b[39m\u001b[39m.\u001b[39mstate \u001b[39m!=\u001b[39m STATE_STOPPED:\n\u001b[0;32m---> 30\u001b[0m     \u001b[39mself\u001b[39;49m\u001b[39m.\u001b[39;49m_event\u001b[39m.\u001b[39;49mwait(wait_seconds)\n\u001b[1;32m     31\u001b[0m     \u001b[39mself\u001b[39m\u001b[39m.\u001b[39m_event\u001b[39m.\u001b[39mclear()\n\u001b[1;32m     32\u001b[0m     wait_seconds \u001b[39m=\u001b[39m \u001b[39mself\u001b[39m\u001b[39m.\u001b[39m_process_jobs()\n",
      "File \u001b[0;32m/usr/lib/python3.8/threading.py:558\u001b[0m, in \u001b[0;36mEvent.wait\u001b[0;34m(self, timeout)\u001b[0m\n\u001b[1;32m    556\u001b[0m signaled \u001b[39m=\u001b[39m \u001b[39mself\u001b[39m\u001b[39m.\u001b[39m_flag\n\u001b[1;32m    557\u001b[0m \u001b[39mif\u001b[39;00m \u001b[39mnot\u001b[39;00m signaled:\n\u001b[0;32m--> 558\u001b[0m     signaled \u001b[39m=\u001b[39m \u001b[39mself\u001b[39;49m\u001b[39m.\u001b[39;49m_cond\u001b[39m.\u001b[39;49mwait(timeout)\n\u001b[1;32m    559\u001b[0m \u001b[39mreturn\u001b[39;00m signaled\n",
      "File \u001b[0;32m/usr/lib/python3.8/threading.py:302\u001b[0m, in \u001b[0;36mCondition.wait\u001b[0;34m(self, timeout)\u001b[0m\n\u001b[1;32m    300\u001b[0m \u001b[39mtry\u001b[39;00m:    \u001b[39m# restore state no matter what (e.g., KeyboardInterrupt)\u001b[39;00m\n\u001b[1;32m    301\u001b[0m     \u001b[39mif\u001b[39;00m timeout \u001b[39mis\u001b[39;00m \u001b[39mNone\u001b[39;00m:\n\u001b[0;32m--> 302\u001b[0m         waiter\u001b[39m.\u001b[39;49macquire()\n\u001b[1;32m    303\u001b[0m         gotit \u001b[39m=\u001b[39m \u001b[39mTrue\u001b[39;00m\n\u001b[1;32m    304\u001b[0m     \u001b[39melse\u001b[39;00m:\n",
      "\u001b[0;31mKeyboardInterrupt\u001b[0m: "
     ]
    }
   ],
   "source": [
    "from apscheduler.schedulers.background import BackgroundScheduler\n",
    "from apscheduler.schedulers.blocking import BlockingScheduler\n",
    "import time \n",
    "\n",
    "def task2(arg):\n",
    "    print(f'in the background execution : {arg}')\n",
    "\n",
    "def executeSniping():\n",
    "    print('BUYING...')\n",
    "    bgscheduler.add_job(task2,'date',run_date='2022-09-05 16:51:30',args=['test'],misfire_grace_time=None)\n",
    "    #bgscheduler.start()\n",
    "    print('SELLING...')\n",
    "    print(f'Blocking : {scheduler.get_jobs()}')\n",
    "    print(f'Background : {bgscheduler.get_jobs()}')\n",
    "    \n",
    "\n",
    "bgscheduler = BackgroundScheduler()\n",
    "scheduler = BlockingScheduler()\n",
    "print(\"Starting scheduler\")\n",
    "scheduler.add_job(executeSniping,'date',run_date='2022-09-05 16:51:00')\n",
    "print(f'Blocking : {scheduler.get_jobs()}')\n",
    "bgscheduler.start()\n",
    "scheduler.start()\n",
    "print('finished')"
   ]
  },
  {
   "cell_type": "code",
   "execution_count": null,
   "metadata": {},
   "outputs": [],
   "source": [
    "from apscheduler.schedulers.background import BackgroundScheduler\n",
    "from apscheduler.schedulers.blocking import BlockingScheduler\n",
    "import time \n",
    "\n",
    "def task2(arg):\n",
    "    print('in the background execution')\n",
    "\n",
    "def executeSniping():\n",
    "    print('BUYING...')\n",
    "    print(scheduler.get_jobs())\n",
    "    bgscheduler.add_job(executeSniping,'date',run_date='2022-09-05 16:33:00')\n",
    "    bgscheduler.start()\n",
    "    print(scheduler.get_jobs())\n",
    "    print(bgscheduler.get_jobs())\n",
    "    #result_buy = kucoin_client.placeMarketOrder('NEER','buy',kucoin_client.getAmountForTrade('NEER',0.05))\n",
    "    #print(result_buy)\n",
    "    time.sleep(1)\n",
    "    print('SELLING...')\n",
    "    #result_sell = kucoin_client.placeMarketOrder('NEER','sell',kucoin_client.getAmountForSellingAll('NEER'))\n",
    "    #print(result_sell)\n",
    "\n",
    "bgscheduler = BackgroundScheduler()\n",
    "scheduler = BlockingScheduler()\n",
    "print(\"Starting scheduler\")\n",
    "#scheduler.add_job(executeSniping,'cron',minute='*')\n",
    "scheduler.add_job(executeSniping,'date',run_date='2022-09-05 16:32:00')\n",
    "scheduler.start()\n",
    "print('finished')"
   ]
  },
  {
   "cell_type": "code",
   "execution_count": null,
   "metadata": {},
   "outputs": [],
   "source": [
    "result = kucoin_client.placeMarketOrder('BTC','buy',kucoin_client.getAmountForTrade('BTC',0.01))"
   ]
  },
  {
   "cell_type": "code",
   "execution_count": null,
   "metadata": {},
   "outputs": [],
   "source": [
    "float(str(kucoin_client.qty_in_position))"
   ]
  },
  {
   "cell_type": "code",
   "execution_count": null,
   "metadata": {},
   "outputs": [],
   "source": [
    "kucoin_client._session.amount_to_precision(f'BTC/USDT', kucoin_client.qty_in_position)"
   ]
  },
  {
   "cell_type": "code",
   "execution_count": null,
   "metadata": {},
   "outputs": [],
   "source": [
    "result = kucoin_client.placeMarketOrder('BTC','sell',kucoin_client._session.amount_to_precision(f'BTC/USDT', kucoin_client.qty_in_position))"
   ]
  },
  {
   "cell_type": "code",
   "execution_count": null,
   "metadata": {},
   "outputs": [],
   "source": [
    "print(result)"
   ]
  },
  {
   "cell_type": "code",
   "execution_count": null,
   "metadata": {},
   "outputs": [],
   "source": [
    "result"
   ]
  },
  {
   "cell_type": "code",
   "execution_count": null,
   "metadata": {},
   "outputs": [],
   "source": []
  }
 ],
 "metadata": {
  "kernelspec": {
   "display_name": "Python 3.8.10 ('venv': venv)",
   "language": "python",
   "name": "python3"
  },
  "language_info": {
   "codemirror_mode": {
    "name": "ipython",
    "version": 3
   },
   "file_extension": ".py",
   "mimetype": "text/x-python",
   "name": "python",
   "nbconvert_exporter": "python",
   "pygments_lexer": "ipython3",
   "version": "3.8.10"
  },
  "orig_nbformat": 4,
  "vscode": {
   "interpreter": {
    "hash": "d58cacdab5e87910af5fd11a0a6d597df11e0910bae80574c4c81b52a6810385"
   }
  }
 },
 "nbformat": 4,
 "nbformat_minor": 2
}
