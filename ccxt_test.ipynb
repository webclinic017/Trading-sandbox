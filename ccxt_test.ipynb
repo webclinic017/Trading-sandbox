{
 "cells": [
  {
   "cell_type": "code",
   "execution_count": 2,
   "metadata": {},
   "outputs": [],
   "source": [
    "from datetime import datetime\n",
    "import ccxt\n",
    "import json"
   ]
  },
  {
   "cell_type": "code",
   "execution_count": null,
   "metadata": {},
   "outputs": [],
   "source": [
    "\n",
    "#Connexion à l'API\n",
    "kucoin = ccxt.kucoin({\n",
    "    \"apiKey\":\"62a05a9ccf9fd60001e2ff9e\",\n",
    "    \"secret\":\"578687f6-5420-46d7-9b7a-26a737713cfb\",\n",
    "    \"password\":\"3FiF$4sR6p5Y9fPnSNijL?HaGcd@A7\"\n",
    "})\n",
    "def getSolde():\n",
    "    global kucoin\n",
    "    try:\n",
    "        for coin in kucoin.fetchBalance()['info']['data'] :\n",
    "            if coin['currency']=='USDT' :\n",
    "                return float(coin['balance'])\n",
    "    except Exception as err:\n",
    "        raise err\n",
    "    \n",
    "def getCurrentPrice(perpSymbol) :\n",
    "    global kucoin\n",
    "    try:\n",
    "        ticker = kucoin.fetchTicker(perpSymbol)\n",
    "    except BaseException as err:\n",
    "        print(\"An error occured\", err)\n",
    "    return float(ticker[\"ask\"])\n",
    "\n",
    "\n",
    "#Dans le cas où vos clés API seraient mauvaises, cette fonction renverrait une erreur\n",
    "try :\n",
    "    test=getSolde();del test\n",
    "except Exception as err:\n",
    "    print(f\"Problème de connexion à l'API : {err}\")\n",
    "    exit()\n",
    "print(f\"{str(datetime.now()).split('.')[0]} | Connexion à l'API Kucoin réussie.\")\n",
    "date=str(datetime.now()).split('.')[0]\n",
    "print(f\"{date} | Bot de sniping lancé avec {getSolde()} USDT, en attente de nouvelles paires...\")"
   ]
  },
  {
   "cell_type": "code",
   "execution_count": 20,
   "metadata": {},
   "outputs": [],
   "source": [
    "class KucoinAPI:\n",
    "    def __init__(self) -> None:\n",
    "        #self._credentials = {\n",
    "        #    \"apiKey\":\"62fa6d4f37a609000198c9ca\",\n",
    "        #    \"secret\":\"7ab549c3-5fb9-46f6-8f5a-4ba63556102d\",\n",
    "        #    \"password\":\"oHCsD5dDK&HrskYC8a9cYp9N@hgRRg9\"\n",
    "        #}#sandbox\n",
    "        self._credentials = {\n",
    "            \"apiKey\":\"62a05a9ccf9fd60001e2ff9e\",\n",
    "            \"secret\":\"578687f6-5420-46d7-9b7a-26a737713cfb\",\n",
    "            \"password\":\"3FiF$4sR6p5Y9fPnSNijL?HaGcd@A7\"\n",
    "        }\n",
    "        self._session = ccxt.kucoin(self._credentials)\n",
    "        #self._session.set_sandbox_mode(True)\n",
    "\n",
    "    \n",
    "    def authentication_required(fn):\n",
    "        \"\"\"Annotation for methods that require auth.\"\"\"\n",
    "        def wrapped(self, *args, **kwargs):\n",
    "            if not self._credentials or \"apiKey\" not in self._credentials or \"secret\" not in self._credentials or \"password\" not in self._credentials: \n",
    "                raise Exception(f\"You must be authenticated to use this method {fn}\") \n",
    "                #sys.exit()\n",
    "            else:\n",
    "                return fn(self, *args, **kwargs)\n",
    "        return wrapped\n",
    "        \n",
    "    @authentication_required    \n",
    "    def placeMarketOrder(self,symbol:str,side:str,amount:str)->dict:\n",
    "        assert side.lower() in [\"buy\",\"sell\"]\n",
    "        trade_result = self._session.create_market_order(f'{symbol}/USDT', side.lower(), amount)\n",
    "        self.last_order_id = trade_result['info']['orderId']\n",
    "        self.last_order_timestamp = trade_result['timestamp']\n",
    "        self.qty_in_position = trade_result['amount']\n",
    "        self.last_trade_type = trade_result['side']\n",
    "        return trade_result\n",
    "    \n",
    "    @authentication_required     \n",
    "    def placeLimitOrder(self):\n",
    "        pass  \n",
    "    \n",
    "    @authentication_required   \n",
    "    def cancelOrder(self, orderId:str)->dict:\n",
    "        return self._session.cancel_order(orderId)\n",
    "    \n",
    "    @authentication_required\n",
    "    def getUSDTBalance(self)->float:\n",
    "        try:\n",
    "            for coin in self._session.fetchBalance()['info']['data']:\n",
    "                if coin['currency']=='USDT' :\n",
    "                    return float(coin['balance'])\n",
    "        except Exception as err:\n",
    "            raise err\n",
    "        \n",
    "    def getCurrentPrice(self,symbol:str)->float:\n",
    "        try:\n",
    "            return self._session.fetch_ticker(f'{symbol}/USDT')[\"ask\"]\n",
    "        except Exception as err:\n",
    "            raise err\n",
    "        \n",
    "    def getAmountForSellingAll(self,symbol:str)->str:\n",
    "        return self._session.amount_to_precision(f'{symbol}/USDT', self.qty_in_position)\n",
    "    \n",
    "    def getAmountForTrade(self, symbol:str,pct_wallet:int=1)->str:\n",
    "        if self._session.load_markets()[f'{symbol}/USDT']['limits']['amount']['min']<self.getUSDTBalance()*pct_wallet/self.getCurrentPrice(f'{symbol}'):\n",
    "            return self._session.amount_to_precision(f'{symbol}/USDT', self.getUSDTBalance()*pct_wallet/self.getCurrentPrice(f'{symbol}'))\n",
    "        else:\n",
    "            raise Exception(f\"Not enough USDT to trade {symbol}\") \n",
    "        \n"
   ]
  },
  {
   "cell_type": "code",
   "execution_count": 21,
   "metadata": {},
   "outputs": [],
   "source": [
    "kucoin_client = KucoinAPI()"
   ]
  },
  {
   "cell_type": "code",
   "execution_count": 22,
   "metadata": {},
   "outputs": [
    {
     "data": {
      "text/plain": [
       "20260.6"
      ]
     },
     "execution_count": 22,
     "metadata": {},
     "output_type": "execute_result"
    }
   ],
   "source": [
    "kucoin_client.getCurrentPrice('BTC')"
   ]
  },
  {
   "cell_type": "code",
   "execution_count": 23,
   "metadata": {},
   "outputs": [
    {
     "data": {
      "text/plain": [
       "120.14347388"
      ]
     },
     "execution_count": 23,
     "metadata": {},
     "output_type": "execute_result"
    }
   ],
   "source": [
    "kucoin_client.getUSDTBalance()"
   ]
  },
  {
   "cell_type": "code",
   "execution_count": 24,
   "metadata": {},
   "outputs": [
    {
     "data": {
      "text/plain": [
       "'0.00005932'"
      ]
     },
     "execution_count": 24,
     "metadata": {},
     "output_type": "execute_result"
    }
   ],
   "source": [
    "kucoin_client.getAmountForTrade('BTC',0.01)"
   ]
  },
  {
   "cell_type": "code",
   "execution_count": 25,
   "metadata": {},
   "outputs": [],
   "source": [
    "result = kucoin_client.placeMarketOrder('BTC','buy',kucoin_client.getAmountForTrade('BTC',0.01))"
   ]
  },
  {
   "cell_type": "code",
   "execution_count": 32,
   "metadata": {},
   "outputs": [
    {
     "data": {
      "text/plain": [
       "5.931e-05"
      ]
     },
     "execution_count": 32,
     "metadata": {},
     "output_type": "execute_result"
    }
   ],
   "source": [
    "float(str(kucoin_client.qty_in_position))"
   ]
  },
  {
   "cell_type": "code",
   "execution_count": 33,
   "metadata": {},
   "outputs": [
    {
     "data": {
      "text/plain": [
       "'0.00005931'"
      ]
     },
     "execution_count": 33,
     "metadata": {},
     "output_type": "execute_result"
    }
   ],
   "source": [
    "kucoin_client._session.amount_to_precision(f'BTC/USDT', kucoin_client.qty_in_position)"
   ]
  },
  {
   "cell_type": "code",
   "execution_count": 34,
   "metadata": {},
   "outputs": [],
   "source": [
    "result = kucoin_client.placeMarketOrder('BTC','sell',kucoin_client._session.amount_to_precision(f'BTC/USDT', kucoin_client.qty_in_position))"
   ]
  },
  {
   "cell_type": "code",
   "execution_count": 35,
   "metadata": {},
   "outputs": [
    {
     "name": "stdout",
     "output_type": "stream",
     "text": [
      "{'id': '630cecd492c7500001f44e96', 'clientOrderId': '490bd80d-53ad-4f68-a7e0-306075450c7a', 'info': {'orderId': '630cecd492c7500001f44e96'}, 'timestamp': 1661791444771, 'datetime': '2022-08-29T16:44:04.771Z', 'lastTradeTimestamp': None, 'symbol': 'BTC/USDT', 'type': 'market', 'side': 'sell', 'price': None, 'amount': 5.931e-05, 'cost': None, 'average': None, 'filled': None, 'remaining': None, 'status': None, 'fee': None, 'trades': None}\n"
     ]
    }
   ],
   "source": [
    "print(result)"
   ]
  },
  {
   "cell_type": "code",
   "execution_count": 36,
   "metadata": {},
   "outputs": [
    {
     "data": {
      "text/plain": [
       "{'id': '630cecd492c7500001f44e96',\n",
       " 'clientOrderId': '490bd80d-53ad-4f68-a7e0-306075450c7a',\n",
       " 'info': {'orderId': '630cecd492c7500001f44e96'},\n",
       " 'timestamp': 1661791444771,\n",
       " 'datetime': '2022-08-29T16:44:04.771Z',\n",
       " 'lastTradeTimestamp': None,\n",
       " 'symbol': 'BTC/USDT',\n",
       " 'type': 'market',\n",
       " 'side': 'sell',\n",
       " 'price': None,\n",
       " 'amount': 5.931e-05,\n",
       " 'cost': None,\n",
       " 'average': None,\n",
       " 'filled': None,\n",
       " 'remaining': None,\n",
       " 'status': None,\n",
       " 'fee': None,\n",
       " 'trades': None}"
      ]
     },
     "execution_count": 36,
     "metadata": {},
     "output_type": "execute_result"
    }
   ],
   "source": [
    "result"
   ]
  },
  {
   "cell_type": "code",
   "execution_count": null,
   "metadata": {},
   "outputs": [],
   "source": []
  }
 ],
 "metadata": {
  "kernelspec": {
   "display_name": "Python 3.8.10 ('venv': venv)",
   "language": "python",
   "name": "python3"
  },
  "language_info": {
   "codemirror_mode": {
    "name": "ipython",
    "version": 3
   },
   "file_extension": ".py",
   "mimetype": "text/x-python",
   "name": "python",
   "nbconvert_exporter": "python",
   "pygments_lexer": "ipython3",
   "version": "3.8.10"
  },
  "orig_nbformat": 4,
  "vscode": {
   "interpreter": {
    "hash": "d58cacdab5e87910af5fd11a0a6d597df11e0910bae80574c4c81b52a6810385"
   }
  }
 },
 "nbformat": 4,
 "nbformat_minor": 2
}
