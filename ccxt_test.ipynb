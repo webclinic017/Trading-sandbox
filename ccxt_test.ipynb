{
 "cells": [
  {
   "cell_type": "code",
   "execution_count": 20,
   "metadata": {},
   "outputs": [],
   "source": [
    "from datetime import datetime\n",
    "import ccxt\n",
    "import json\n",
    "\n",
    "class KucoinAPI:\n",
    "    def __init__(self) -> None:\n",
    "        #self._credentials = {\n",
    "        #    \"apiKey\":\"62fa6d4f37a609000198c9ca\",\n",
    "        #    \"secret\":\"7ab549c3-5fb9-46f6-8f5a-4ba63556102d\",\n",
    "        #    \"password\":\"oHCsD5dDK&HrskYC8a9cYp9N@hgRRg9\"\n",
    "        #}#sandbox\n",
    "        self._credentials = {\n",
    "    \"apiKey\":\"630e0d3eaa5daa0001fc715c\",\n",
    "    \"secret\":\"17af4d09-29d2-4215-b902-84c59cebfd65\",\n",
    "    \"password\":\"ndaQkccdmkHYANQ6j6@8yKMDP37cSF\"\n",
    "}\n",
    "        self._session = ccxt.kucoin(self._credentials)\n",
    "        #self._session.set_sandbox_mode(True)\n",
    "\n",
    "    \n",
    "    def authentication_required(fn):\n",
    "        \"\"\"Annotation for methods that require auth.\"\"\"\n",
    "        def wrapped(self, *args, **kwargs):\n",
    "            if not self._credentials or \"apiKey\" not in self._credentials or \"secret\" not in self._credentials or \"password\" not in self._credentials: \n",
    "                raise Exception(f\"You must be authenticated to use this method {fn}\") \n",
    "                #sys.exit()\n",
    "            else:\n",
    "                return fn(self, *args, **kwargs)\n",
    "        return wrapped\n",
    "        \n",
    "    @authentication_required    \n",
    "    def placeMarketOrder(self,symbol:str,side:str,amount:str)->dict:\n",
    "        assert side.lower() in [\"buy\",\"sell\"]\n",
    "        trade_result = self._session.create_market_order(f'{symbol}/USDT', side.lower(), amount)\n",
    "        self.last_order_id = trade_result['info']['orderId']\n",
    "        self.last_order_timestamp = trade_result['timestamp']\n",
    "        self.qty_in_position = trade_result['amount']\n",
    "        self.last_trade_type = trade_result['side']\n",
    "        return trade_result\n",
    "    \n",
    "    @authentication_required     \n",
    "    def placeLimitOrder(self):\n",
    "        pass  \n",
    "    \n",
    "    @authentication_required   \n",
    "    def cancelOrder(self, orderId:str)->dict:\n",
    "        return self._session.cancel_order(orderId)\n",
    "    \n",
    "    @authentication_required\n",
    "    def getUSDTBalance(self)->float:\n",
    "        try:\n",
    "            for coin in self._session.fetchBalance()['info']['data']:\n",
    "                if coin['currency']=='USDT' :\n",
    "                    return float(coin['balance'])\n",
    "        except Exception as err:\n",
    "            raise err\n",
    "        \n",
    "    def getCurrentPrice(self,symbol:str)->float:\n",
    "        try:\n",
    "            return self._session.fetch_ticker(f'{symbol}/USDT')[\"ask\"]\n",
    "        except Exception as err:\n",
    "            raise err\n",
    "        \n",
    "    def getAmountForSellingAll(self,symbol:str)->str:\n",
    "        return self._session.amount_to_precision(f'{symbol}/USDT', self.qty_in_position)\n",
    "    \n",
    "    def getAmountForTrade(self, symbol:str,pct_wallet:int=1)->str:\n",
    "        if self._session.load_markets()[f'{symbol}/USDT']['limits']['amount']['min']<self.getUSDTBalance()*pct_wallet/self.getCurrentPrice(f'{symbol}'):\n",
    "            return self._session.amount_to_precision(f'{symbol}/USDT', self.getUSDTBalance()*pct_wallet/self.getCurrentPrice(f'{symbol}'))\n",
    "        else:\n",
    "            raise Exception(f\"Not enough USDT to trade {symbol}\") \n",
    "        \n"
   ]
  },
  {
   "cell_type": "code",
   "execution_count": 22,
   "metadata": {},
   "outputs": [],
   "source": [
    "kucoin_client = KucoinAPI()"
   ]
  },
  {
   "cell_type": "code",
   "execution_count": 19,
   "metadata": {},
   "outputs": [
    {
     "data": {
      "text/plain": [
       "{'free': None, 'used': None, 'total': None}"
      ]
     },
     "execution_count": 19,
     "metadata": {},
     "output_type": "execute_result"
    }
   ],
   "source": [
    "kucoin_client._session.account()"
   ]
  },
  {
   "cell_type": "code",
   "execution_count": 23,
   "metadata": {},
   "outputs": [
    {
     "data": {
      "text/plain": [
       "0.02908"
      ]
     },
     "execution_count": 23,
     "metadata": {},
     "output_type": "execute_result"
    }
   ],
   "source": [
    "kucoin_client.getCurrentPrice('RVN')"
   ]
  },
  {
   "cell_type": "code",
   "execution_count": 24,
   "metadata": {},
   "outputs": [
    {
     "data": {
      "text/plain": [
       "30.0"
      ]
     },
     "execution_count": 24,
     "metadata": {},
     "output_type": "execute_result"
    }
   ],
   "source": [
    "kucoin_client.getUSDTBalance()"
   ]
  },
  {
   "cell_type": "code",
   "execution_count": 16,
   "metadata": {},
   "outputs": [
    {
     "data": {
      "text/plain": [
       "'2.4283'"
      ]
     },
     "execution_count": 16,
     "metadata": {},
     "output_type": "execute_result"
    }
   ],
   "source": [
    "kucoin_client.getAmountForTrade('NEER',0.05)"
   ]
  },
  {
   "cell_type": "code",
   "execution_count": null,
   "metadata": {},
   "outputs": [],
   "source": [
    "from apscheduler.schedulers.blocking import BlockingScheduler\n",
    "import time \n",
    "\n",
    "def executeSniping():\n",
    "    print('BUYING...')\n",
    "    result_buy = kucoin_client.placeMarketOrder('NEER','buy',kucoin_client.getAmountForTrade('NEER',0.05))\n",
    "    print(result_buy)\n",
    "    time.sleep(120)\n",
    "    print('SELLING...')\n",
    "    result_sell = kucoin_client.placeMarketOrder('NEER','sell',kucoin_client.getAmountForSellingAll('NEER'))\n",
    "    print(result_sell)\n",
    "\n",
    "scheduler = BlockingScheduler()\n",
    "print(\"Starting scheduler\")\n",
    "scheduler.add_job(executeSniping,'date',run_date='2022-08-30 14:00:02')\n",
    "print('finished')"
   ]
  },
  {
   "cell_type": "code",
   "execution_count": null,
   "metadata": {},
   "outputs": [],
   "source": [
    "result = kucoin_client.placeMarketOrder('BTC','buy',kucoin_client.getAmountForTrade('BTC',0.01))"
   ]
  },
  {
   "cell_type": "code",
   "execution_count": null,
   "metadata": {},
   "outputs": [],
   "source": [
    "float(str(kucoin_client.qty_in_position))"
   ]
  },
  {
   "cell_type": "code",
   "execution_count": null,
   "metadata": {},
   "outputs": [],
   "source": [
    "kucoin_client._session.amount_to_precision(f'BTC/USDT', kucoin_client.qty_in_position)"
   ]
  },
  {
   "cell_type": "code",
   "execution_count": null,
   "metadata": {},
   "outputs": [],
   "source": [
    "result = kucoin_client.placeMarketOrder('BTC','sell',kucoin_client._session.amount_to_precision(f'BTC/USDT', kucoin_client.qty_in_position))"
   ]
  },
  {
   "cell_type": "code",
   "execution_count": null,
   "metadata": {},
   "outputs": [],
   "source": [
    "print(result)"
   ]
  },
  {
   "cell_type": "code",
   "execution_count": null,
   "metadata": {},
   "outputs": [],
   "source": [
    "result"
   ]
  },
  {
   "cell_type": "code",
   "execution_count": null,
   "metadata": {},
   "outputs": [],
   "source": []
  }
 ],
 "metadata": {
  "kernelspec": {
   "display_name": "Python 3.8.10 ('venv': venv)",
   "language": "python",
   "name": "python3"
  },
  "language_info": {
   "codemirror_mode": {
    "name": "ipython",
    "version": 3
   },
   "file_extension": ".py",
   "mimetype": "text/x-python",
   "name": "python",
   "nbconvert_exporter": "python",
   "pygments_lexer": "ipython3",
   "version": "3.8.10"
  },
  "orig_nbformat": 4,
  "vscode": {
   "interpreter": {
    "hash": "d58cacdab5e87910af5fd11a0a6d597df11e0910bae80574c4c81b52a6810385"
   }
  }
 },
 "nbformat": 4,
 "nbformat_minor": 2
}
