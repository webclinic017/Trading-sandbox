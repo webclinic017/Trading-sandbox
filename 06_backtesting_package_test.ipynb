{
 "cells": [
  {
   "cell_type": "code",
   "execution_count": 1,
   "metadata": {},
   "outputs": [],
   "source": [
    "import numpy as np\n",
    "import pandas as pd\n",
    "from sklearn.linear_model import LinearRegression\n",
    "import math\n",
    "from multiprocessing import cpu_count\n",
    "import warnings\n",
    "warnings.filterwarnings('ignore')\n",
    "    "
   ]
  },
  {
   "cell_type": "code",
   "execution_count": 2,
   "metadata": {},
   "outputs": [
    {
     "data": {
      "text/html": [
       "<div>\n",
       "<style scoped>\n",
       "    .dataframe tbody tr th:only-of-type {\n",
       "        vertical-align: middle;\n",
       "    }\n",
       "\n",
       "    .dataframe tbody tr th {\n",
       "        vertical-align: top;\n",
       "    }\n",
       "\n",
       "    .dataframe thead th {\n",
       "        text-align: right;\n",
       "    }\n",
       "</style>\n",
       "<table border=\"1\" class=\"dataframe\">\n",
       "  <thead>\n",
       "    <tr style=\"text-align: right;\">\n",
       "      <th></th>\n",
       "      <th>Open</th>\n",
       "      <th>High</th>\n",
       "      <th>Low</th>\n",
       "      <th>Close</th>\n",
       "      <th>Volume</th>\n",
       "      <th>Timestamp</th>\n",
       "    </tr>\n",
       "    <tr>\n",
       "      <th>Date</th>\n",
       "      <th></th>\n",
       "      <th></th>\n",
       "      <th></th>\n",
       "      <th></th>\n",
       "      <th></th>\n",
       "      <th></th>\n",
       "    </tr>\n",
       "  </thead>\n",
       "  <tbody>\n",
       "    <tr>\n",
       "      <th>2020-06-01 02:00:00</th>\n",
       "      <td>9448.27</td>\n",
       "      <td>9508.57</td>\n",
       "      <td>9421.67</td>\n",
       "      <td>9498.31</td>\n",
       "      <td>1742.125917</td>\n",
       "      <td>1590969600</td>\n",
       "    </tr>\n",
       "    <tr>\n",
       "      <th>2020-06-01 03:00:00</th>\n",
       "      <td>9498.78</td>\n",
       "      <td>9570.00</td>\n",
       "      <td>9465.30</td>\n",
       "      <td>9551.58</td>\n",
       "      <td>2064.378210</td>\n",
       "      <td>1590973200</td>\n",
       "    </tr>\n",
       "    <tr>\n",
       "      <th>2020-06-01 04:00:00</th>\n",
       "      <td>9551.17</td>\n",
       "      <td>9568.61</td>\n",
       "      <td>9526.87</td>\n",
       "      <td>9530.67</td>\n",
       "      <td>1984.956728</td>\n",
       "      <td>1590976800</td>\n",
       "    </tr>\n",
       "    <tr>\n",
       "      <th>2020-06-01 05:00:00</th>\n",
       "      <td>9531.70</td>\n",
       "      <td>9571.66</td>\n",
       "      <td>9514.65</td>\n",
       "      <td>9555.79</td>\n",
       "      <td>1620.638978</td>\n",
       "      <td>1590980400</td>\n",
       "    </tr>\n",
       "    <tr>\n",
       "      <th>2020-06-01 06:00:00</th>\n",
       "      <td>9556.14</td>\n",
       "      <td>9619.00</td>\n",
       "      <td>9541.96</td>\n",
       "      <td>9549.02</td>\n",
       "      <td>2787.512219</td>\n",
       "      <td>1590984000</td>\n",
       "    </tr>\n",
       "  </tbody>\n",
       "</table>\n",
       "</div>"
      ],
      "text/plain": [
       "                        Open     High      Low    Close       Volume  \\\n",
       "Date                                                                   \n",
       "2020-06-01 02:00:00  9448.27  9508.57  9421.67  9498.31  1742.125917   \n",
       "2020-06-01 03:00:00  9498.78  9570.00  9465.30  9551.58  2064.378210   \n",
       "2020-06-01 04:00:00  9551.17  9568.61  9526.87  9530.67  1984.956728   \n",
       "2020-06-01 05:00:00  9531.70  9571.66  9514.65  9555.79  1620.638978   \n",
       "2020-06-01 06:00:00  9556.14  9619.00  9541.96  9549.02  2787.512219   \n",
       "\n",
       "                      Timestamp  \n",
       "Date                             \n",
       "2020-06-01 02:00:00  1590969600  \n",
       "2020-06-01 03:00:00  1590973200  \n",
       "2020-06-01 04:00:00  1590976800  \n",
       "2020-06-01 05:00:00  1590980400  \n",
       "2020-06-01 06:00:00  1590984000  "
      ]
     },
     "execution_count": 2,
     "metadata": {},
     "output_type": "execute_result"
    }
   ],
   "source": [
    "from modules.Utils.utils import loadFromDB\n",
    "\n",
    "SYMBOL= 'BTC'\n",
    "df = loadFromDB(f'../backtest_tools/database/database/Binance/1h/{SYMBOL}-USDT.csv')\n",
    "df.head()"
   ]
  },
  {
   "cell_type": "code",
   "execution_count": 17,
   "metadata": {},
   "outputs": [
    {
     "name": "stdout",
     "output_type": "stream",
     "text": [
      "Start                     2020-06-01 02:00:00\n",
      "End                       2022-09-23 14:00:00\n",
      "Duration                    844 days 12:00:00\n",
      "Exposure Time [%]                   75.285227\n",
      "Equity Final [$]                  26615.20009\n",
      "Equity Peak [$]                    68941.3813\n",
      "Return [%]                         166.152001\n",
      "Buy & Hold Return [%]               98.375922\n",
      "Return (Ann.) [%]                     52.6286\n",
      "Volatility (Ann.) [%]               82.714741\n",
      "Sharpe Ratio                         0.636266\n",
      "Sortino Ratio                        1.571151\n",
      "Calmar Ratio                         0.845452\n",
      "Max. Drawdown [%]                  -62.249074\n",
      "Avg. Drawdown [%]                   -2.911804\n",
      "Max. Drawdown Duration      319 days 10:00:00\n",
      "Avg. Drawdown Duration        5 days 17:00:00\n",
      "# Trades                                  203\n",
      "Win Rate [%]                        45.320197\n",
      "Best Trade [%]                      26.483503\n",
      "Worst Trade [%]                    -15.494866\n",
      "Avg. Trade [%]                       0.416503\n",
      "Max. Trade Duration          60 days 15:00:00\n",
      "Avg. Trade Duration           3 days 04:00:00\n",
      "Profit Factor                        1.326993\n",
      "Expectancy [%]                       0.616117\n",
      "SQN                                   0.55263\n",
      "_strategy                          MLR_w_o_ML\n",
      "_equity_curve                             ...\n",
      "_trades                        Size  Entry...\n",
      "dtype: object\n"
     ]
    },
    {
     "data": {
      "text/html": [
       "<div style=\"display: table;\"><div style=\"display: table-row;\"><div style=\"display: table-cell;\"><b title=\"bokeh.models.layouts.Row\">Row</b>(</div><div style=\"display: table-cell;\">id&nbsp;=&nbsp;'3186', <span id=\"4151\" style=\"cursor: pointer;\">&hellip;)</span></div></div><div class=\"4150\" style=\"display: none;\"><div style=\"display: table-cell;\"></div><div style=\"display: table-cell;\">align&nbsp;=&nbsp;'start',</div></div><div class=\"4150\" style=\"display: none;\"><div style=\"display: table-cell;\"></div><div style=\"display: table-cell;\">aspect_ratio&nbsp;=&nbsp;None,</div></div><div class=\"4150\" style=\"display: none;\"><div style=\"display: table-cell;\"></div><div style=\"display: table-cell;\">background&nbsp;=&nbsp;None,</div></div><div class=\"4150\" style=\"display: none;\"><div style=\"display: table-cell;\"></div><div style=\"display: table-cell;\">children&nbsp;=&nbsp;[GridBox(id='3183', ...), ToolbarBox(id='3185', ...)],</div></div><div class=\"4150\" style=\"display: none;\"><div style=\"display: table-cell;\"></div><div style=\"display: table-cell;\">cols&nbsp;=&nbsp;'auto',</div></div><div class=\"4150\" style=\"display: none;\"><div style=\"display: table-cell;\"></div><div style=\"display: table-cell;\">css_classes&nbsp;=&nbsp;[],</div></div><div class=\"4150\" style=\"display: none;\"><div style=\"display: table-cell;\"></div><div style=\"display: table-cell;\">disabled&nbsp;=&nbsp;False,</div></div><div class=\"4150\" style=\"display: none;\"><div style=\"display: table-cell;\"></div><div style=\"display: table-cell;\">height&nbsp;=&nbsp;None,</div></div><div class=\"4150\" style=\"display: none;\"><div style=\"display: table-cell;\"></div><div style=\"display: table-cell;\">height_policy&nbsp;=&nbsp;'auto',</div></div><div class=\"4150\" style=\"display: none;\"><div style=\"display: table-cell;\"></div><div style=\"display: table-cell;\">js_event_callbacks&nbsp;=&nbsp;{},</div></div><div class=\"4150\" style=\"display: none;\"><div style=\"display: table-cell;\"></div><div style=\"display: table-cell;\">js_property_callbacks&nbsp;=&nbsp;{},</div></div><div class=\"4150\" style=\"display: none;\"><div style=\"display: table-cell;\"></div><div style=\"display: table-cell;\">margin&nbsp;=&nbsp;(0, 0, 0, 0),</div></div><div class=\"4150\" style=\"display: none;\"><div style=\"display: table-cell;\"></div><div style=\"display: table-cell;\">max_height&nbsp;=&nbsp;None,</div></div><div class=\"4150\" style=\"display: none;\"><div style=\"display: table-cell;\"></div><div style=\"display: table-cell;\">max_width&nbsp;=&nbsp;None,</div></div><div class=\"4150\" style=\"display: none;\"><div style=\"display: table-cell;\"></div><div style=\"display: table-cell;\">min_height&nbsp;=&nbsp;None,</div></div><div class=\"4150\" style=\"display: none;\"><div style=\"display: table-cell;\"></div><div style=\"display: table-cell;\">min_width&nbsp;=&nbsp;None,</div></div><div class=\"4150\" style=\"display: none;\"><div style=\"display: table-cell;\"></div><div style=\"display: table-cell;\">name&nbsp;=&nbsp;None,</div></div><div class=\"4150\" style=\"display: none;\"><div style=\"display: table-cell;\"></div><div style=\"display: table-cell;\">sizing_mode&nbsp;=&nbsp;'stretch_width',</div></div><div class=\"4150\" style=\"display: none;\"><div style=\"display: table-cell;\"></div><div style=\"display: table-cell;\">spacing&nbsp;=&nbsp;0,</div></div><div class=\"4150\" style=\"display: none;\"><div style=\"display: table-cell;\"></div><div style=\"display: table-cell;\">subscribed_events&nbsp;=&nbsp;[],</div></div><div class=\"4150\" style=\"display: none;\"><div style=\"display: table-cell;\"></div><div style=\"display: table-cell;\">syncable&nbsp;=&nbsp;True,</div></div><div class=\"4150\" style=\"display: none;\"><div style=\"display: table-cell;\"></div><div style=\"display: table-cell;\">tags&nbsp;=&nbsp;[],</div></div><div class=\"4150\" style=\"display: none;\"><div style=\"display: table-cell;\"></div><div style=\"display: table-cell;\">visible&nbsp;=&nbsp;True,</div></div><div class=\"4150\" style=\"display: none;\"><div style=\"display: table-cell;\"></div><div style=\"display: table-cell;\">width&nbsp;=&nbsp;None,</div></div><div class=\"4150\" style=\"display: none;\"><div style=\"display: table-cell;\"></div><div style=\"display: table-cell;\">width_policy&nbsp;=&nbsp;'auto')</div></div></div>\n",
       "<script>\n",
       "(function() {\n",
       "  let expanded = false;\n",
       "  const ellipsis = document.getElementById(\"4151\");\n",
       "  ellipsis.addEventListener(\"click\", function() {\n",
       "    const rows = document.getElementsByClassName(\"4150\");\n",
       "    for (let i = 0; i < rows.length; i++) {\n",
       "      const el = rows[i];\n",
       "      el.style.display = expanded ? \"none\" : \"table-row\";\n",
       "    }\n",
       "    ellipsis.innerHTML = expanded ? \"&hellip;)\" : \"&lsaquo;&lsaquo;&lsaquo;\";\n",
       "    expanded = !expanded;\n",
       "  });\n",
       "})();\n",
       "</script>\n"
      ],
      "text/plain": [
       "Row(id='3186', ...)"
      ]
     },
     "execution_count": 17,
     "metadata": {},
     "output_type": "execute_result"
    }
   ],
   "source": [
    "from backtesting import Backtest, Strategy\n",
    "from backtesting.lib import crossover, cross\n",
    "\n",
    "\n",
    "class MLR_w_o_ML(Strategy):\n",
    "    mlr_window = 21\n",
    "    sell_t =0.041\n",
    "    buy_t=-0.011\n",
    "    \n",
    "    def computeLaggingLinearRegression(self, df,window=15,)->pd.DataFrame:\n",
    "        \"\"\"Compute a lagging moving regression on a column with a window.\n",
    "\n",
    "        Args:\n",
    "            df (pd.DataFrame): The dataframe containing features.\n",
    "            col (str, optional): The column we apply Linear regression on. Defaults to \"Close.\n",
    "            window (int, optional): The window we apply linear regression on. Defaults to 15.\n",
    "\n",
    "        Returns:\n",
    "            pd.DataFrame: The entry DataFrame we another column called B_MLR_coefs\n",
    "        \"\"\"  \n",
    "        def computeLinearRegression(x,y)->float:\n",
    "            \"\"\"Compute simple linear regression between 2 vectors x and y\n",
    "\n",
    "            Args:\n",
    "                x (np.array): x vector\n",
    "                y (np.array): y vector\n",
    "\n",
    "            Returns:\n",
    "                float: The coefficient a corresponding to the linear regression y=ax+b.\n",
    "            \"\"\"\n",
    "            model = LinearRegression(n_jobs=cpu_count()).fit(x,y,)\n",
    "            return model.coef_[0]\n",
    "        col=\"Close\"\n",
    "        df['B_MLR_coefs']= [np.nan]*window+[computeLinearRegression(df.Timestamp.values[i-window:i].reshape(-1, 1), df[col].values[i-window:i]) for i in range(window,len(df))] \n",
    "        return df.B_MLR_coefs\n",
    "    \n",
    "    def add_threshold(self, arr, threshold):\n",
    "        return [threshold for _ in range(len(arr))]\n",
    "      \n",
    "    def init(self):\n",
    "        self.mlr = self.I(self.computeLaggingLinearRegression, pd.DataFrame({'Close':self.data.Close,'Timestamp':self.data.Timestamp}), self.mlr_window)\n",
    "        self.sell_threshold = self.I(self.add_threshold, pd.Series(self.data.Close),self.sell_t)\n",
    "        self.buy_threshold = self.I(self.add_threshold, pd.Series(self.data.Close),self.buy_t)\n",
    "        \n",
    "    def next(self):\n",
    "        if crossover(self.buy_threshold,self.mlr):\n",
    "            self.buy()\n",
    "        elif crossover(self.mlr,self.sell_threshold ):\n",
    "            self.sell()\n",
    "\n",
    "bt = Backtest(df, MLR_w_o_ML, cash=10000, commission=.001,exclusive_orders=True)\n",
    "print(bt.run())\n",
    "bt.plot()"
   ]
  },
  {
   "cell_type": "code",
   "execution_count": 11,
   "metadata": {},
   "outputs": [
    {
     "data": {
      "application/vnd.jupyter.widget-view+json": {
       "model_id": "9cfd10d246eb4785ba7ff75e062f912c",
       "version_major": 2,
       "version_minor": 0
      },
      "text/plain": [
       "Backtest.optimize:   0%|          | 0/5 [00:00<?, ?it/s]"
      ]
     },
     "metadata": {},
     "output_type": "display_data"
    },
    {
     "data": {
      "text/plain": [
       "<Strategy MLR_w_o_ML(mlr_window=21)>"
      ]
     },
     "execution_count": 11,
     "metadata": {},
     "output_type": "execute_result"
    }
   ],
   "source": [
    "optim = bt.optimize(mlr_window = range(5,30,2),\n",
    "            #sell_t=[i/1000 for i in range(1,100,10)],\n",
    "            #buy_t=[-i/1000 for i in range(1,100,10)],\n",
    "            maximize='Return [%]',)\n",
    "optim._strategy"
   ]
  },
  {
   "cell_type": "code",
   "execution_count": 12,
   "metadata": {},
   "outputs": [
    {
     "data": {
      "text/plain": [
       "Start                     2020-06-01 02:00:00\n",
       "End                       2022-09-23 14:00:00\n",
       "Duration                    844 days 12:00:00\n",
       "Exposure Time [%]                   75.285227\n",
       "Equity Final [$]                  26615.20009\n",
       "Equity Peak [$]                    68941.3813\n",
       "Return [%]                         166.152001\n",
       "Buy & Hold Return [%]               98.375922\n",
       "Return (Ann.) [%]                     52.6286\n",
       "Volatility (Ann.) [%]               82.714741\n",
       "Sharpe Ratio                         0.636266\n",
       "Sortino Ratio                        1.571151\n",
       "Calmar Ratio                         0.845452\n",
       "Max. Drawdown [%]                  -62.249074\n",
       "Avg. Drawdown [%]                   -2.911804\n",
       "Max. Drawdown Duration      319 days 10:00:00\n",
       "Avg. Drawdown Duration        5 days 17:00:00\n",
       "# Trades                                  203\n",
       "Win Rate [%]                        45.320197\n",
       "Best Trade [%]                      26.483503\n",
       "Worst Trade [%]                    -15.494866\n",
       "Avg. Trade [%]                       0.416503\n",
       "Max. Trade Duration          60 days 15:00:00\n",
       "Avg. Trade Duration           3 days 04:00:00\n",
       "Profit Factor                        1.326993\n",
       "Expectancy [%]                       0.616117\n",
       "SQN                                   0.55263\n",
       "_strategy                 MLR_w_o_ML(mlr_w...\n",
       "_equity_curve                             ...\n",
       "_trades                        Size  Entry...\n",
       "dtype: object"
      ]
     },
     "execution_count": 12,
     "metadata": {},
     "output_type": "execute_result"
    }
   ],
   "source": [
    "optim"
   ]
  },
  {
   "cell_type": "code",
   "execution_count": 68,
   "metadata": {},
   "outputs": [
    {
     "name": "stdout",
     "output_type": "stream",
     "text": [
      "Start                     2020-06-01 02:00:00\n",
      "End                       2022-09-23 14:00:00\n",
      "Duration                    844 days 12:00:00\n",
      "Exposure Time [%]                    1.723712\n",
      "Equity Final [$]                   8981.76978\n",
      "Equity Peak [$]                   10077.22354\n",
      "Return [%]                         -10.182302\n",
      "Buy & Hold Return [%]               98.375922\n",
      "Return (Ann.) [%]                   -4.532718\n",
      "Volatility (Ann.) [%]                3.250087\n",
      "Sharpe Ratio                              0.0\n",
      "Sortino Ratio                             0.0\n",
      "Calmar Ratio                              0.0\n",
      "Max. Drawdown [%]                  -11.117683\n",
      "Avg. Drawdown [%]                   -5.889819\n",
      "Max. Drawdown Duration      840 days 04:00:00\n",
      "Avg. Drawdown Duration      420 days 11:00:00\n",
      "# Trades                                    5\n",
      "Win Rate [%]                              0.0\n",
      "Best Trade [%]                       -1.33913\n",
      "Worst Trade [%]                     -4.800089\n",
      "Avg. Trade [%]                      -2.205483\n",
      "Max. Trade Duration           4 days 12:00:00\n",
      "Avg. Trade Duration           2 days 22:00:00\n",
      "Profit Factor                             0.0\n",
      "Expectancy [%]                      -2.196642\n",
      "SQN                                 -3.475932\n",
      "_strategy                           EMA_cross\n",
      "_equity_curve                             ...\n",
      "_trades                      Size  EntryBa...\n",
      "dtype: object\n"
     ]
    },
    {
     "data": {
      "application/vnd.jupyter.widget-view+json": {
       "model_id": "670eee3fb25a4d1889b2bfff4f849fff",
       "version_major": 2,
       "version_minor": 0
      },
      "text/plain": [
       "Backtest.optimize:   0%|          | 0/5 [00:00<?, ?it/s]"
      ]
     },
     "metadata": {},
     "output_type": "display_data"
    },
    {
     "name": "stdout",
     "output_type": "stream",
     "text": [
      "EMA_cross(window_fast=15,window_slow=100)\n",
      "Start                     2020-06-01 02:00:00\n",
      "End                       2022-09-23 14:00:00\n",
      "Duration                    844 days 12:00:00\n",
      "Exposure Time [%]                    7.996246\n",
      "Equity Final [$]                  10399.83213\n",
      "Equity Peak [$]                   12003.53755\n",
      "Return [%]                           3.998321\n",
      "Buy & Hold Return [%]               98.375922\n",
      "Return (Ann.) [%]                    1.707872\n",
      "Volatility (Ann.) [%]               12.096836\n",
      "Sharpe Ratio                         0.141183\n",
      "Sortino Ratio                        0.258563\n",
      "Calmar Ratio                         0.125501\n",
      "Max. Drawdown [%]                   -13.60845\n",
      "Avg. Drawdown [%]                   -2.582699\n",
      "Max. Drawdown Duration      782 days 09:00:00\n",
      "Avg. Drawdown Duration       52 days 11:00:00\n",
      "# Trades                                   20\n",
      "Win Rate [%]                             20.0\n",
      "Best Trade [%]                      20.558896\n",
      "Worst Trade [%]                     -2.757795\n",
      "Avg. Trade [%]                       0.183392\n",
      "Max. Trade Duration          13 days 20:00:00\n",
      "Avg. Trade Duration           3 days 09:00:00\n",
      "Profit Factor                        1.279786\n",
      "Expectancy [%]                       0.291109\n",
      "SQN                                  0.190426\n",
      "_strategy                 EMA_cross(window...\n",
      "_equity_curve                             ...\n",
      "_trades                       Size  EntryB...\n",
      "dtype: object\n"
     ]
    }
   ],
   "source": [
    "from backtesting import Backtest, Strategy\n",
    "from backtesting.lib import crossover, cross\n",
    "from ta.volatility import bollinger_hband, bollinger_lband\n",
    "from ta.trend import ema_indicator\n",
    "\n",
    "class EMA_cross(Strategy):\n",
    "    #std_window_l = 1.75\n",
    "    #std_window_h = 1.75\n",
    "    window_fast =28\n",
    "    window_slow=54\n",
    "\n",
    "    def init(self):        \n",
    "        self.ema_fast = self.I(ema_indicator, pd.Series(self.data.Close), self.window_fast,)\n",
    "        self.ema_slow = self.I(ema_indicator, pd.Series(self.data.Close), self.window_slow,)\n",
    "\n",
    "    def next(self):\n",
    "        if crossover(self.ema_fast,self.ema_slow):\n",
    "            self.buy()\n",
    "        elif crossover(self.ema_slow,self.ema_fast):\n",
    "            self.sell()\n",
    "\n",
    "bt = Backtest(df, EMA_cross, cash=10000, commission=.001,exclusive_orders=True)\n",
    "print(bt.run())\n",
    "optim = bt.optimize(window_fast = range(5,110,5),\n",
    "                    window_slow = range(5,110,5),\n",
    "                    constraint=lambda p: p.window_fast < p.window_slow,\n",
    "                    maximize='Return [%]',)\n",
    "print(optim._strategy)\n",
    "print(optim)"
   ]
  },
  {
   "cell_type": "code",
   "execution_count": 3,
   "metadata": {},
   "outputs": [
    {
     "name": "stdout",
     "output_type": "stream",
     "text": [
      "Start                     2020-06-01 02:00:00\n",
      "End                       2022-09-23 14:00:00\n",
      "Duration                    844 days 12:00:00\n",
      "Exposure Time [%]                    6.479972\n",
      "Equity Final [$]                   9756.23359\n",
      "Equity Peak [$]                   10895.91283\n",
      "Return [%]                          -2.437664\n",
      "Buy & Hold Return [%]               98.375922\n",
      "Return (Ann.) [%]                    -1.09165\n",
      "Volatility (Ann.) [%]                5.899886\n",
      "Sharpe Ratio                              0.0\n",
      "Sortino Ratio                             0.0\n",
      "Calmar Ratio                              0.0\n",
      "Max. Drawdown [%]                   -10.94685\n",
      "Avg. Drawdown [%]                   -1.786787\n",
      "Max. Drawdown Duration      836 days 03:00:00\n",
      "Avg. Drawdown Duration       60 days 06:00:00\n",
      "# Trades                                  118\n",
      "Win Rate [%]                        45.762712\n",
      "Best Trade [%]                       2.147126\n",
      "Worst Trade [%]                     -4.433817\n",
      "Avg. Trade [%]                      -0.026426\n",
      "Max. Trade Duration           1 days 12:00:00\n",
      "Avg. Trade Duration           0 days 12:00:00\n",
      "Profit Factor                         0.94416\n",
      "Expectancy [%]                      -0.021427\n",
      "SQN                                 -0.237251\n",
      "_strategy                     Bollinger_start\n",
      "_equity_curve                             ...\n",
      "_trades                        Size  Entry...\n",
      "dtype: object\n"
     ]
    },
    {
     "data": {
      "application/vnd.jupyter.widget-view+json": {
       "model_id": "32be6c2c422d473c96233437a221d48d",
       "version_major": 2,
       "version_minor": 0
      },
      "text/plain": [
       "Backtest.optimize:   0%|          | 0/4 [00:00<?, ?it/s]"
      ]
     },
     "metadata": {},
     "output_type": "display_data"
    },
    {
     "name": "stdout",
     "output_type": "stream",
     "text": [
      "Bollinger_start(window_h=40,window_l=35,std_window_l=1.0,std_window_h=1.5)\n",
      "Start                     2020-06-01 02:00:00\n",
      "End                       2022-09-23 14:00:00\n",
      "Duration                    844 days 12:00:00\n",
      "Exposure Time [%]                    6.420704\n",
      "Equity Final [$]                   9935.38717\n",
      "Equity Peak [$]                   10963.18245\n",
      "Return [%]                          -0.646128\n",
      "Buy & Hold Return [%]               98.375922\n",
      "Return (Ann.) [%]                   -0.279611\n",
      "Volatility (Ann.) [%]                5.024508\n",
      "Sharpe Ratio                              0.0\n",
      "Sortino Ratio                             0.0\n",
      "Calmar Ratio                              0.0\n",
      "Max. Drawdown [%]                   -9.659105\n",
      "Avg. Drawdown [%]                   -1.197147\n",
      "Max. Drawdown Duration      800 days 16:00:00\n",
      "Avg. Drawdown Duration       29 days 01:00:00\n",
      "# Trades                                   89\n",
      "Win Rate [%]                        41.573034\n",
      "Best Trade [%]                       2.613682\n",
      "Worst Trade [%]                     -3.534038\n",
      "Avg. Trade [%]                       -0.01013\n",
      "Max. Trade Duration           2 days 23:00:00\n",
      "Avg. Trade Duration           0 days 15:00:00\n",
      "Profit Factor                        0.986067\n",
      "Expectancy [%]                      -0.004918\n",
      "SQN                                  -0.07059\n",
      "_strategy                 Bollinger_start(...\n",
      "_equity_curve                             ...\n",
      "_trades                       Size  EntryB...\n",
      "dtype: object\n"
     ]
    }
   ],
   "source": [
    "from backtesting import Backtest, Strategy\n",
    "from backtesting.lib import crossover, cross\n",
    "from ta.volatility import bollinger_hband, bollinger_lband\n",
    "\n",
    "class Bollinger_start(Strategy):\n",
    "    std_window_l = 1.5\n",
    "    std_window_h = 1.5\n",
    "    window_h =20\n",
    "    window_l=20\n",
    "\n",
    "    def init(self):\n",
    "        \n",
    "        self.lband = self.I(bollinger_lband, pd.Series(self.data.Close), self.window_l,self.std_window_l )\n",
    "        self.hband = self.I(bollinger_hband, pd.Series(self.data.Close), self.window_h,self.std_window_h )\n",
    "        \n",
    "    def next(self):\n",
    "        if crossover(self.lband,self.data.Close):\n",
    "            self.buy()\n",
    "        elif crossover(self.data.Close,self.hband):\n",
    "            self.sell()\n",
    "\n",
    "bt = Backtest(df, Bollinger_start, cash=10000, commission=.001,exclusive_orders=True)\n",
    "print(bt.run())\n",
    "optim = bt.optimize(window_h = range(5,50,5),\n",
    "                    window_l = range(5,50,5),\n",
    "                    std_window_l=[i/10 for i in range(10,20,5)],\n",
    "                    std_window_h=[i/10 for i in range(10,20,5)],\n",
    "                    maximize='Return [%]',)\n",
    "print(optim._strategy)\n",
    "print(optim)"
   ]
  },
  {
   "cell_type": "code",
   "execution_count": null,
   "metadata": {},
   "outputs": [],
   "source": []
  }
 ],
 "metadata": {
  "kernelspec": {
   "display_name": "Python 3.8.10 ('venv': venv)",
   "language": "python",
   "name": "python3"
  },
  "language_info": {
   "codemirror_mode": {
    "name": "ipython",
    "version": 3
   },
   "file_extension": ".py",
   "mimetype": "text/x-python",
   "name": "python",
   "nbconvert_exporter": "python",
   "pygments_lexer": "ipython3",
   "version": "3.8.10"
  },
  "orig_nbformat": 4,
  "vscode": {
   "interpreter": {
    "hash": "d58cacdab5e87910af5fd11a0a6d597df11e0910bae80574c4c81b52a6810385"
   }
  }
 },
 "nbformat": 4,
 "nbformat_minor": 2
}
