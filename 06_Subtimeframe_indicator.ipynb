{
 "cells": [
  {
   "cell_type": "code",
   "execution_count": null,
   "metadata": {},
   "outputs": [],
   "source": [
    "from modules.Utils.utils import loadFromDB"
   ]
  },
  {
   "cell_type": "code",
   "execution_count": null,
   "metadata": {},
   "outputs": [],
   "source": [
    "df_base = loadFromDB('BTC','1d')\n",
    "df_base['Return'] = df_base.Close.pct_change()\n",
    "df_base['Bullish_candlestick'] = df_base['Return'].apply(lambda row: 1 if row>=0 else 0)\n",
    "df_base.dropna(inplace=True)\n",
    "\n",
    "df_m = loadFromDB('BTC','5m')"
   ]
  },
  {
   "cell_type": "code",
   "execution_count": null,
   "metadata": {},
   "outputs": [],
   "source": [
    "df_m['Bullish_candle_ind'] = df_m.apply(lambda row: 1 if row['Close']>row['Open'] else 0, axis=1)\n",
    "df_m.head()"
   ]
  },
  {
   "cell_type": "code",
   "execution_count": null,
   "metadata": {},
   "outputs": [],
   "source": [
    "Bullish_hourly = df_m['Bullish_candle_ind'].resample('D').agg('sum')[:-1]\n",
    "df_base = df_base.merge(Bullish_hourly,left_index=True, right_index=True)\n",
    "df_base"
   ]
  },
  {
   "cell_type": "code",
   "execution_count": null,
   "metadata": {},
   "outputs": [],
   "source": [
    "df_base[df_base['Bullish_candlestick']==0]['Bullish_candle_ind'].hist(bins=50, alpha=0.5)\n",
    "df_base[df_base['Bullish_candlestick']==1].Bullish_candle_ind.hist(bins=50,alpha=0.5)"
   ]
  }
 ],
 "metadata": {
  "kernelspec": {
   "display_name": "venv",
   "language": "python",
   "name": "python3"
  },
  "language_info": {
   "codemirror_mode": {
    "name": "ipython",
    "version": 3
   },
   "file_extension": ".py",
   "mimetype": "text/x-python",
   "name": "python",
   "nbconvert_exporter": "python",
   "pygments_lexer": "ipython3",
   "version": "3.10.6 (main, Nov 14 2022, 16:10:14) [GCC 11.3.0]"
  },
  "orig_nbformat": 4,
  "vscode": {
   "interpreter": {
    "hash": "d58cacdab5e87910af5fd11a0a6d597df11e0910bae80574c4c81b52a6810385"
   }
  }
 },
 "nbformat": 4,
 "nbformat_minor": 2
}
