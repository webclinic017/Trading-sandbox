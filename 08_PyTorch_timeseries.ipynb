{
 "cells": [
  {
   "cell_type": "code",
   "execution_count": 1,
   "metadata": {},
   "outputs": [],
   "source": [
    "from sklearn.datasets import make_classification\n",
    "X, Y = make_classification(\n",
    "    n_features=4, n_redundant=0, n_informative=3, n_clusters_per_class=2, n_classes=3\n",
    ")"
   ]
  },
  {
   "cell_type": "code",
   "execution_count": 2,
   "metadata": {},
   "outputs": [
    {
     "data": {
      "image/png": "[encoded data removed]",
      "text/plain": [
       "<Figure size 432x288 with 1 Axes>"
      ]
     },
     "metadata": {
      "needs_background": "light"
     },
     "output_type": "display_data"
    }
   ],
   "source": [
    "import matplotlib.pyplot as plt\n",
    "plt.title(\"Multi-class data, 4 informative features, 3 classes\", fontsize=\"large\")\n",
    "plt.scatter(X[:, 0], X[:, 1], marker=\"o\", c=Y, s=25, edgecolor=\"k\")\n",
    "\n",
    "from sklearn.model_selection import train_test_split\n",
    "X_train, X_test, Y_train, Y_test = train_test_split(X, Y, test_size=0.33, random_state=42)"
   ]
  },
  {
   "cell_type": "code",
   "execution_count": 3,
   "metadata": {},
   "outputs": [
    {
     "data": {
      "text/plain": [
       "((67, 4), (33, 4), (67,), (33,))"
      ]
     },
     "execution_count": 3,
     "metadata": {},
     "output_type": "execute_result"
    }
   ],
   "source": [
    "X_train.shape, X_test.shape, Y_train.shape, Y_test.shape"
   ]
  },
  {
   "cell_type": "code",
   "execution_count": 4,
   "metadata": {},
   "outputs": [
    {
     "name": "stderr",
     "output_type": "stream",
     "text": [
      "c:\\Users\\admin\\AppData\\Local\\Programs\\Python\\Python310\\lib\\site-packages\\tqdm\\auto.py:22: TqdmWarning: IProgress not found. Please update jupyter and ipywidgets. See https://ipywidgets.readthedocs.io/en/stable/user_install.html\n",
      "  from .autonotebook import tqdm as notebook_tqdm\n"
     ]
    }
   ],
   "source": [
    "import numpy as np\n",
    "import torch\n",
    "\n",
    "Y_test = torch.from_numpy(X_test)\n",
    "Y_test = torch.from_numpy(np.asarray(Y_test))"
   ]
  },
  {
   "cell_type": "code",
   "execution_count": 5,
   "metadata": {},
   "outputs": [],
   "source": [
    "from torch.utils.data import Dataset, DataLoader\n",
    "class Data(Dataset):\n",
    "    def __init__(self):\n",
    "        self.X=torch.from_numpy(X_train)\n",
    "        self.Y=torch.from_numpy(Y_train)\n",
    "        self.len=self.X.shape[0]\n",
    "    def __getitem__(self,index):      \n",
    "        return self.X[index], self.Y[index]\n",
    "    def __len__(self):\n",
    "        return self.len\n",
    "data=Data()\n",
    "loader=DataLoader(dataset=data,batch_size=64)"
   ]
  },
  {
   "cell_type": "code",
   "execution_count": 6,
   "metadata": {},
   "outputs": [
    {
     "name": "stdout",
     "output_type": "stream",
     "text": [
      "tensor([[-1.4070, -1.1132, -1.0593, -0.9450],\n",
      "        [ 1.0849, -1.2304, -0.2584,  2.0537],\n",
      "        [-0.1138,  1.5578,  1.8131, -2.8091],\n",
      "        [-0.2337, -1.0830, -1.6858, -0.3594],\n",
      "        [ 1.3632,  0.3618,  1.6503, -1.6425]], dtype=torch.float64)\n",
      "torch.Size([67, 4])\n",
      "tensor([2, 1, 2, 1, 2], dtype=torch.int32)\n",
      "torch.Size([67])\n"
     ]
    }
   ],
   "source": [
    "print(data.X[0:5])\n",
    "print(data.X.shape)\n",
    "print(data.Y[0:5])\n",
    "print(data.Y.shape)"
   ]
  },
  {
   "cell_type": "code",
   "execution_count": 7,
   "metadata": {},
   "outputs": [],
   "source": [
    "input_dim=4     # how many Variables are in the dataset\n",
    "hidden_dim = 25 # hidden layers\n",
    "output_dim=3    # number of classes\n",
    "import torch.nn as nn\n",
    "class Net(nn.Module):\n",
    "    def __init__(self,input,H,output):\n",
    "        super(Net,self).__init__()\n",
    "        self.linear1=nn.Linear(input,H)\n",
    "        self.linear2=nn.Linear(H,output)\n",
    " \n",
    "        \n",
    "    def forward(self,x):\n",
    "        x=torch.sigmoid(self.linear1(x))  \n",
    "        x=self.linear2(x)\n",
    "        return x"
   ]
  },
  {
   "cell_type": "code",
   "execution_count": 8,
   "metadata": {},
   "outputs": [
    {
     "name": "stdout",
     "output_type": "stream",
     "text": [
      "<bound method Module.parameters of Net(\n",
      "  (linear1): Linear(in_features=4, out_features=25, bias=True)\n",
      "  (linear2): Linear(in_features=25, out_features=3, bias=True)\n",
      ")>\n"
     ]
    }
   ],
   "source": [
    "clf=Net(input_dim,hidden_dim,output_dim)\n",
    "print(clf.parameters)"
   ]
  },
  {
   "cell_type": "code",
   "execution_count": null,
   "metadata": {},
   "outputs": [],
   "source": [
    "criterion=nn.CrossEntropyLoss()\n",
    "optimizer=torch.optim.SGD(clf.parameters(), lr=0.1)\n",
    "\n",
    "learning_rate = 1e-1\n",
    "loss_list = []\n",
    "for t in range(1000):\n",
    "    y_pred = clf(x)\n",
    "    loss = criterion(y_pred, y)\n",
    "    loss_list.append(loss.item())\n",
    "    clf.zero_grad()\n",
    "    loss.backward()\n",
    "    with torch.no_grad():\n",
    "        for param in clf.parameters():\n",
    "            param -= learning_rate * param.grad\n",
    "\n",
    "step = np.linspace(0,1000,1000)\n",
    "plt.plot(step,np.array(loss_list))\n"
   ]
  },
  {
   "cell_type": "code",
   "execution_count": null,
   "metadata": {},
   "outputs": [],
   "source": [
    "x_val = torch.from_numpy(X_test)\n",
    "z=clf(x_val)\n",
    "yhat=torch.max(z.data,1)\n",
    "yhat[1]"
   ]
  }
 ],
 "metadata": {
  "kernelspec": {
   "display_name": "Python 3.10.5 64-bit",
   "language": "python",
   "name": "python3"
  },
  "language_info": {
   "codemirror_mode": {
    "name": "ipython",
    "version": 3
   },
   "file_extension": ".py",
   "mimetype": "text/x-python",
   "name": "python",
   "nbconvert_exporter": "python",
   "pygments_lexer": "ipython3",
   "version": "3.10.5"
  },
  "orig_nbformat": 4,
  "vscode": {
   "interpreter": {
    "hash": "beedbe2faf2f7048d727558d0bc3221e7eba2a0b921cac4d4771b2feb8f74b30"
   }
  }
 },
 "nbformat": 4,
 "nbformat_minor": 2
}
