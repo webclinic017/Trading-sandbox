{
 "cells": [
  {
   "cell_type": "code",
   "execution_count": 2,
   "metadata": {},
   "outputs": [
    {
     "name": "stderr",
     "output_type": "stream",
     "text": [
      "2022-10-04 15:25:44.524753: I tensorflow/core/platform/cpu_feature_guard.cc:193] This TensorFlow binary is optimized with oneAPI Deep Neural Network Library (oneDNN) to use the following CPU instructions in performance-critical operations:  AVX2 FMA\n",
      "To enable them in other operations, rebuild TensorFlow with the appropriate compiler flags.\n",
      "2022-10-04 15:25:45.065201: W tensorflow/stream_executor/platform/default/dso_loader.cc:64] Could not load dynamic library 'libcudart.so.11.0'; dlerror: libcudart.so.11.0: cannot open shared object file: No such file or directory\n",
      "2022-10-04 15:25:45.065330: I tensorflow/stream_executor/cuda/cudart_stub.cc:29] Ignore above cudart dlerror if you do not have a GPU set up on your machine.\n",
      "2022-10-04 15:25:45.136201: E tensorflow/stream_executor/cuda/cuda_blas.cc:2981] Unable to register cuBLAS factory: Attempting to register factory for plugin cuBLAS when one has already been registered\n",
      "2022-10-04 15:25:47.516624: W tensorflow/stream_executor/platform/default/dso_loader.cc:64] Could not load dynamic library 'libnvinfer.so.7'; dlerror: libnvinfer.so.7: cannot open shared object file: No such file or directory\n",
      "2022-10-04 15:25:47.516934: W tensorflow/stream_executor/platform/default/dso_loader.cc:64] Could not load dynamic library 'libnvinfer_plugin.so.7'; dlerror: libnvinfer_plugin.so.7: cannot open shared object file: No such file or directory\n",
      "2022-10-04 15:25:47.516948: W tensorflow/compiler/tf2tensorrt/utils/py_utils.cc:38] TF-TRT Warning: Cannot dlopen some TensorRT libraries. If you would like to use Nvidia GPU with TensorRT, please make sure the missing libraries mentioned above are installed properly.\n"
     ]
    },
    {
     "data": {
      "text/html": [
       "<div class=\"bk-root\">\n",
       "        <a href=\"https://bokeh.org\" target=\"_blank\" class=\"bk-logo bk-logo-small bk-logo-notebook\"></a>\n",
       "        <span id=\"1002\">Loading BokehJS ...</span>\n",
       "    </div>\n"
      ]
     },
     "metadata": {},
     "output_type": "display_data"
    },
    {
     "data": {
      "application/javascript": "(function(root) {\n  function now() {\n    return new Date();\n  }\n\n  const force = true;\n\n  if (typeof root._bokeh_onload_callbacks === \"undefined\" || force === true) {\n    root._bokeh_onload_callbacks = [];\n    root._bokeh_is_loading = undefined;\n  }\n\nconst JS_MIME_TYPE = 'application/javascript';\n  const HTML_MIME_TYPE = 'text/html';\n  const EXEC_MIME_TYPE = 'application/vnd.bokehjs_exec.v0+json';\n  const CLASS_NAME = 'output_bokeh rendered_html';\n\n  /**\n   * Render data to the DOM node\n   */\n  function render(props, node) {\n    const script = document.createElement(\"script\");\n    node.appendChild(script);\n  }\n\n  /**\n   * Handle when an output is cleared or removed\n   */\n  function handleClearOutput(event, handle) {\n    const cell = handle.cell;\n\n    const id = cell.output_area._bokeh_element_id;\n    const server_id = cell.output_area._bokeh_server_id;\n    // Clean up Bokeh references\n    if (id != null && id in Bokeh.index) {\n      Bokeh.index[id].model.document.clear();\n      delete Bokeh.index[id];\n    }\n\n    if (server_id !== undefined) {\n      // Clean up Bokeh references\n      const cmd_clean = \"from bokeh.io.state import curstate; print(curstate().uuid_to_server['\" + server_id + \"'].get_sessions()[0].document.roots[0]._id)\";\n      cell.notebook.kernel.execute(cmd_clean, {\n        iopub: {\n          output: function(msg) {\n            const id = msg.content.text.trim();\n            if (id in Bokeh.index) {\n              Bokeh.index[id].model.document.clear();\n              delete Bokeh.index[id];\n            }\n          }\n        }\n      });\n      // Destroy server and session\n      const cmd_destroy = \"import bokeh.io.notebook as ion; ion.destroy_server('\" + server_id + \"')\";\n      cell.notebook.kernel.execute(cmd_destroy);\n    }\n  }\n\n  /**\n   * Handle when a new output is added\n   */\n  function handleAddOutput(event, handle) {\n    const output_area = handle.output_area;\n    const output = handle.output;\n\n    // limit handleAddOutput to display_data with EXEC_MIME_TYPE content only\n    if ((output.output_type != \"display_data\") || (!Object.prototype.hasOwnProperty.call(output.data, EXEC_MIME_TYPE))) {\n      return\n    }\n\n    const toinsert = output_area.element.find(\".\" + CLASS_NAME.split(' ')[0]);\n\n    if (output.metadata[EXEC_MIME_TYPE][\"id\"] !== undefined) {\n      toinsert[toinsert.length - 1].firstChild.textContent = output.data[JS_MIME_TYPE];\n      // store reference to embed id on output_area\n      output_area._bokeh_element_id = output.metadata[EXEC_MIME_TYPE][\"id\"];\n    }\n    if (output.metadata[EXEC_MIME_TYPE][\"server_id\"] !== undefined) {\n      const bk_div = document.createElement(\"div\");\n      bk_div.innerHTML = output.data[HTML_MIME_TYPE];\n      const script_attrs = bk_div.children[0].attributes;\n      for (let i = 0; i < script_attrs.length; i++) {\n        toinsert[toinsert.length - 1].firstChild.setAttribute(script_attrs[i].name, script_attrs[i].value);\n        toinsert[toinsert.length - 1].firstChild.textContent = bk_div.children[0].textContent\n      }\n      // store reference to server id on output_area\n      output_area._bokeh_server_id = output.metadata[EXEC_MIME_TYPE][\"server_id\"];\n    }\n  }\n\n  function register_renderer(events, OutputArea) {\n\n    function append_mime(data, metadata, element) {\n      // create a DOM node to render to\n      const toinsert = this.create_output_subarea(\n        metadata,\n        CLASS_NAME,\n        EXEC_MIME_TYPE\n      );\n      this.keyboard_manager.register_events(toinsert);\n      // Render to node\n      const props = {data: data, metadata: metadata[EXEC_MIME_TYPE]};\n      render(props, toinsert[toinsert.length - 1]);\n      element.append(toinsert);\n      return toinsert\n    }\n\n    /* Handle when an output is cleared or removed */\n    events.on('clear_output.CodeCell', handleClearOutput);\n    events.on('delete.Cell', handleClearOutput);\n\n    /* Handle when a new output is added */\n    events.on('output_added.OutputArea', handleAddOutput);\n\n    /**\n     * Register the mime type and append_mime function with output_area\n     */\n    OutputArea.prototype.register_mime_type(EXEC_MIME_TYPE, append_mime, {\n      /* Is output safe? */\n      safe: true,\n      /* Index of renderer in `output_area.display_order` */\n      index: 0\n    });\n  }\n\n  // register the mime type if in Jupyter Notebook environment and previously unregistered\n  if (root.Jupyter !== undefined) {\n    const events = require('base/js/events');\n    const OutputArea = require('notebook/js/outputarea').OutputArea;\n\n    if (OutputArea.prototype.mime_types().indexOf(EXEC_MIME_TYPE) == -1) {\n      register_renderer(events, OutputArea);\n    }\n  }\n  if (typeof (root._bokeh_timeout) === \"undefined\" || force === true) {\n    root._bokeh_timeout = Date.now() + 5000;\n    root._bokeh_failed_load = false;\n  }\n\n  const NB_LOAD_WARNING = {'data': {'text/html':\n     \"<div style='background-color: #fdd'>\\n\"+\n     \"<p>\\n\"+\n     \"BokehJS does not appear to have successfully loaded. If loading BokehJS from CDN, this \\n\"+\n     \"may be due to a slow or bad network connection. Possible fixes:\\n\"+\n     \"</p>\\n\"+\n     \"<ul>\\n\"+\n     \"<li>re-rerun `output_notebook()` to attempt to load from CDN again, or</li>\\n\"+\n     \"<li>use INLINE resources instead, as so:</li>\\n\"+\n     \"</ul>\\n\"+\n     \"<code>\\n\"+\n     \"from bokeh.resources import INLINE\\n\"+\n     \"output_notebook(resources=INLINE)\\n\"+\n     \"</code>\\n\"+\n     \"</div>\"}};\n\n  function display_loaded() {\n    const el = document.getElementById(\"1002\");\n    if (el != null) {\n      el.textContent = \"BokehJS is loading...\";\n    }\n    if (root.Bokeh !== undefined) {\n      if (el != null) {\n        el.textContent = \"BokehJS \" + root.Bokeh.version + \" successfully loaded.\";\n      }\n    } else if (Date.now() < root._bokeh_timeout) {\n      setTimeout(display_loaded, 100)\n    }\n  }\n\n  function run_callbacks() {\n    try {\n      root._bokeh_onload_callbacks.forEach(function(callback) {\n        if (callback != null)\n          callback();\n      });\n    } finally {\n      delete root._bokeh_onload_callbacks\n    }\n    console.debug(\"Bokeh: all callbacks have finished\");\n  }\n\n  function load_libs(css_urls, js_urls, callback) {\n    if (css_urls == null) css_urls = [];\n    if (js_urls == null) js_urls = [];\n\n    root._bokeh_onload_callbacks.push(callback);\n    if (root._bokeh_is_loading > 0) {\n      console.debug(\"Bokeh: BokehJS is being loaded, scheduling callback at\", now());\n      return null;\n    }\n    if (js_urls == null || js_urls.length === 0) {\n      run_callbacks();\n      return null;\n    }\n    console.debug(\"Bokeh: BokehJS not loaded, scheduling load and callback at\", now());\n    root._bokeh_is_loading = css_urls.length + js_urls.length;\n\n    function on_load() {\n      root._bokeh_is_loading--;\n      if (root._bokeh_is_loading === 0) {\n        console.debug(\"Bokeh: all BokehJS libraries/stylesheets loaded\");\n        run_callbacks()\n      }\n    }\n\n    function on_error(url) {\n      console.error(\"failed to load \" + url);\n    }\n\n    for (let i = 0; i < css_urls.length; i++) {\n      const url = css_urls[i];\n      const element = document.createElement(\"link\");\n      element.onload = on_load;\n      element.onerror = on_error.bind(null, url);\n      element.rel = \"stylesheet\";\n      element.type = \"text/css\";\n      element.href = url;\n      console.debug(\"Bokeh: injecting link tag for BokehJS stylesheet: \", url);\n      document.body.appendChild(element);\n    }\n\n    for (let i = 0; i < js_urls.length; i++) {\n      const url = js_urls[i];\n      const element = document.createElement('script');\n      element.onload = on_load;\n      element.onerror = on_error.bind(null, url);\n      element.async = false;\n      element.src = url;\n      console.debug(\"Bokeh: injecting script tag for BokehJS library: \", url);\n      document.head.appendChild(element);\n    }\n  };\n\n  function inject_raw_css(css) {\n    const element = document.createElement(\"style\");\n    element.appendChild(document.createTextNode(css));\n    document.body.appendChild(element);\n  }\n\n  const js_urls = [\"https://cdn.bokeh.org/bokeh/release/bokeh-2.4.3.min.js\", \"https://cdn.bokeh.org/bokeh/release/bokeh-gl-2.4.3.min.js\", \"https://cdn.bokeh.org/bokeh/release/bokeh-widgets-2.4.3.min.js\", \"https://cdn.bokeh.org/bokeh/release/bokeh-tables-2.4.3.min.js\", \"https://cdn.bokeh.org/bokeh/release/bokeh-mathjax-2.4.3.min.js\"];\n  const css_urls = [];\n\n  const inline_js = [    function(Bokeh) {\n      Bokeh.set_log_level(\"info\");\n    },\nfunction(Bokeh) {\n    }\n  ];\n\n  function run_inline_js() {\n    if (root.Bokeh !== undefined || force === true) {\n          for (let i = 0; i < inline_js.length; i++) {\n      inline_js[i].call(root, root.Bokeh);\n    }\nif (force === true) {\n        display_loaded();\n      }} else if (Date.now() < root._bokeh_timeout) {\n      setTimeout(run_inline_js, 100);\n    } else if (!root._bokeh_failed_load) {\n      console.log(\"Bokeh: BokehJS failed to load within specified timeout.\");\n      root._bokeh_failed_load = true;\n    } else if (force !== true) {\n      const cell = $(document.getElementById(\"1002\")).parents('.cell').data().cell;\n      cell.output_area.append_execute_result(NB_LOAD_WARNING)\n    }\n  }\n\n  if (root._bokeh_is_loading === 0) {\n    console.debug(\"Bokeh: BokehJS loaded, going straight to plotting\");\n    run_inline_js();\n  } else {\n    load_libs(css_urls, js_urls, function() {\n      console.debug(\"Bokeh: BokehJS plotting callback run at\", now());\n      run_inline_js();\n    });\n  }\n}(window));",
      "application/vnd.bokehjs_load.v0+json": ""
     },
     "metadata": {},
     "output_type": "display_data"
    }
   ],
   "source": [
    "import datetime\n",
    "import warnings\n",
    "warnings.filterwarnings(\"ignore\")\n",
    "\n",
    "import matplotlib.pyplot as plt\n",
    "import numpy as np\n",
    "import pandas as pd\n",
    "import tensorflow as tf\n",
    "from modules.Utils.utils import loadFromDB, strategyTester, getFearAndGreedIndicator,computeStochasticLinearRegression,computeEMD\n",
    "from modules.Utils.indicators import computeSuperTrend, addIndicators, computeLaggingLinearRegression, computeTrixIndicator, generateDatesFeatures\n",
    "from modules.Utils.normalizer import MedianNormalizer, StandardNormalizer\n",
    "\n",
    "from random import randint\n",
    "from bokeh.plotting import figure\n",
    "from bokeh.io import push_notebook,show, output_notebook\n",
    "from bokeh.models import HoverTool, Band, ColumnDataSource,Span\n",
    "from bokeh.layouts import row, column\n",
    "output_notebook()\n",
    "\n",
    "from concurrent.futures import ThreadPoolExecutor, as_completed\n",
    "from multiprocess import cpu_count\n",
    "\n",
    "from modules.Utils.utils import computeFutureLinearRegression\n"
   ]
  },
  {
   "cell_type": "code",
   "execution_count": 158,
   "metadata": {},
   "outputs": [
    {
     "name": "stdout",
     "output_type": "stream",
     "text": [
      "(23184, 37)\n",
      "Index(['Open', 'High', 'Low', 'Close', 'Volume', 'Timestamp', 'High_Low_diff',\n",
      "       'EMA20', 'EMA50', 'EMA100', 'EMA200', 'MACD', 'Stoch_RSI', 'Vortex',\n",
      "       'Bollinger_low', 'Bollinger_high', 'ADX', 'ATR', 'CCI', 'OVB',\n",
      "       'OVB_EMA200', 'EVM', 'Bullish_engulfing', 'Bearish_engulfing', 'Slope',\n",
      "       'B_MLR_coefs', 'Stochastic_prediction', 'Trix', 'Trix_histo', 'Month',\n",
      "       'Year', 'Week', 'Hour', 'Year_sin', 'Year_cos', 'EMD_S', 'EMD_D'],\n",
      "      dtype='object')\n"
     ]
    },
    {
     "data": {
      "text/html": [
       "<div>\n",
       "<style scoped>\n",
       "    .dataframe tbody tr th:only-of-type {\n",
       "        vertical-align: middle;\n",
       "    }\n",
       "\n",
       "    .dataframe tbody tr th {\n",
       "        vertical-align: top;\n",
       "    }\n",
       "\n",
       "    .dataframe thead th {\n",
       "        text-align: right;\n",
       "    }\n",
       "</style>\n",
       "<table border=\"1\" class=\"dataframe\">\n",
       "  <thead>\n",
       "    <tr style=\"text-align: right;\">\n",
       "      <th></th>\n",
       "      <th>Open</th>\n",
       "      <th>High</th>\n",
       "      <th>Low</th>\n",
       "      <th>Close</th>\n",
       "      <th>Volume</th>\n",
       "      <th>Timestamp</th>\n",
       "      <th>High_Low_diff</th>\n",
       "      <th>EMA20</th>\n",
       "      <th>EMA50</th>\n",
       "      <th>EMA100</th>\n",
       "      <th>...</th>\n",
       "      <th>Trix</th>\n",
       "      <th>Trix_histo</th>\n",
       "      <th>Month</th>\n",
       "      <th>Year</th>\n",
       "      <th>Week</th>\n",
       "      <th>Hour</th>\n",
       "      <th>Year_sin</th>\n",
       "      <th>Year_cos</th>\n",
       "      <th>EMD_S</th>\n",
       "      <th>EMD_D</th>\n",
       "    </tr>\n",
       "    <tr>\n",
       "      <th>Date</th>\n",
       "      <th></th>\n",
       "      <th></th>\n",
       "      <th></th>\n",
       "      <th></th>\n",
       "      <th></th>\n",
       "      <th></th>\n",
       "      <th></th>\n",
       "      <th></th>\n",
       "      <th></th>\n",
       "      <th></th>\n",
       "      <th></th>\n",
       "      <th></th>\n",
       "      <th></th>\n",
       "      <th></th>\n",
       "      <th></th>\n",
       "      <th></th>\n",
       "      <th></th>\n",
       "      <th></th>\n",
       "      <th></th>\n",
       "      <th></th>\n",
       "      <th></th>\n",
       "    </tr>\n",
       "  </thead>\n",
       "  <tbody>\n",
       "    <tr>\n",
       "      <th>2020-01-12 04:00:00</th>\n",
       "      <td>8095.00</td>\n",
       "      <td>8110.92</td>\n",
       "      <td>8065.62</td>\n",
       "      <td>8091.33</td>\n",
       "      <td>963.637569</td>\n",
       "      <td>1578798000</td>\n",
       "      <td>45.30</td>\n",
       "      <td>8089.782443</td>\n",
       "      <td>8048.379011</td>\n",
       "      <td>7976.638385</td>\n",
       "      <td>...</td>\n",
       "      <td>8102.613890</td>\n",
       "      <td>-0.052148</td>\n",
       "      <td>1</td>\n",
       "      <td>2020</td>\n",
       "      <td>2</td>\n",
       "      <td>4</td>\n",
       "      <td>0.188807</td>\n",
       "      <td>0.982014</td>\n",
       "      <td>-43.614483</td>\n",
       "      <td>8134.944483</td>\n",
       "    </tr>\n",
       "    <tr>\n",
       "      <th>2020-01-12 05:00:00</th>\n",
       "      <td>8090.70</td>\n",
       "      <td>8105.00</td>\n",
       "      <td>8071.20</td>\n",
       "      <td>8073.79</td>\n",
       "      <td>711.211749</td>\n",
       "      <td>1578801600</td>\n",
       "      <td>33.80</td>\n",
       "      <td>8088.259353</td>\n",
       "      <td>8049.375521</td>\n",
       "      <td>7978.562179</td>\n",
       "      <td>...</td>\n",
       "      <td>8101.261583</td>\n",
       "      <td>-0.048403</td>\n",
       "      <td>1</td>\n",
       "      <td>2020</td>\n",
       "      <td>2</td>\n",
       "      <td>5</td>\n",
       "      <td>0.189511</td>\n",
       "      <td>0.981879</td>\n",
       "      <td>-57.932028</td>\n",
       "      <td>8131.722028</td>\n",
       "    </tr>\n",
       "    <tr>\n",
       "      <th>2020-01-12 06:00:00</th>\n",
       "      <td>8073.03</td>\n",
       "      <td>8110.92</td>\n",
       "      <td>8070.98</td>\n",
       "      <td>8106.05</td>\n",
       "      <td>997.127263</td>\n",
       "      <td>1578805200</td>\n",
       "      <td>39.94</td>\n",
       "      <td>8089.953701</td>\n",
       "      <td>8051.598049</td>\n",
       "      <td>7981.086690</td>\n",
       "      <td>...</td>\n",
       "      <td>8099.943496</td>\n",
       "      <td>-0.041874</td>\n",
       "      <td>1</td>\n",
       "      <td>2020</td>\n",
       "      <td>2</td>\n",
       "      <td>6</td>\n",
       "      <td>0.190215</td>\n",
       "      <td>0.981743</td>\n",
       "      <td>-22.176112</td>\n",
       "      <td>8128.226112</td>\n",
       "    </tr>\n",
       "    <tr>\n",
       "      <th>2020-01-12 07:00:00</th>\n",
       "      <td>8105.96</td>\n",
       "      <td>8153.84</td>\n",
       "      <td>8080.01</td>\n",
       "      <td>8083.84</td>\n",
       "      <td>2509.947391</td>\n",
       "      <td>1578808800</td>\n",
       "      <td>73.83</td>\n",
       "      <td>8089.371444</td>\n",
       "      <td>8052.862440</td>\n",
       "      <td>7983.121409</td>\n",
       "      <td>...</td>\n",
       "      <td>8098.651182</td>\n",
       "      <td>-0.036312</td>\n",
       "      <td>1</td>\n",
       "      <td>2020</td>\n",
       "      <td>2</td>\n",
       "      <td>7</td>\n",
       "      <td>0.190918</td>\n",
       "      <td>0.981606</td>\n",
       "      <td>-40.603638</td>\n",
       "      <td>8124.443638</td>\n",
       "    </tr>\n",
       "    <tr>\n",
       "      <th>2020-01-12 08:00:00</th>\n",
       "      <td>8083.43</td>\n",
       "      <td>8110.00</td>\n",
       "      <td>8080.45</td>\n",
       "      <td>8097.51</td>\n",
       "      <td>867.095068</td>\n",
       "      <td>1578812400</td>\n",
       "      <td>29.55</td>\n",
       "      <td>8090.146544</td>\n",
       "      <td>8054.613324</td>\n",
       "      <td>7985.386530</td>\n",
       "      <td>...</td>\n",
       "      <td>8097.497336</td>\n",
       "      <td>-0.030390</td>\n",
       "      <td>1</td>\n",
       "      <td>2020</td>\n",
       "      <td>2</td>\n",
       "      <td>8</td>\n",
       "      <td>0.191622</td>\n",
       "      <td>0.981469</td>\n",
       "      <td>-22.858759</td>\n",
       "      <td>8120.368759</td>\n",
       "    </tr>\n",
       "  </tbody>\n",
       "</table>\n",
       "<p>5 rows × 37 columns</p>\n",
       "</div>"
      ],
      "text/plain": [
       "                        Open     High      Low    Close       Volume  \\\n",
       "Date                                                                   \n",
       "2020-01-12 04:00:00  8095.00  8110.92  8065.62  8091.33   963.637569   \n",
       "2020-01-12 05:00:00  8090.70  8105.00  8071.20  8073.79   711.211749   \n",
       "2020-01-12 06:00:00  8073.03  8110.92  8070.98  8106.05   997.127263   \n",
       "2020-01-12 07:00:00  8105.96  8153.84  8080.01  8083.84  2509.947391   \n",
       "2020-01-12 08:00:00  8083.43  8110.00  8080.45  8097.51   867.095068   \n",
       "\n",
       "                      Timestamp  High_Low_diff        EMA20        EMA50  \\\n",
       "Date                                                                       \n",
       "2020-01-12 04:00:00  1578798000          45.30  8089.782443  8048.379011   \n",
       "2020-01-12 05:00:00  1578801600          33.80  8088.259353  8049.375521   \n",
       "2020-01-12 06:00:00  1578805200          39.94  8089.953701  8051.598049   \n",
       "2020-01-12 07:00:00  1578808800          73.83  8089.371444  8052.862440   \n",
       "2020-01-12 08:00:00  1578812400          29.55  8090.146544  8054.613324   \n",
       "\n",
       "                          EMA100  ...         Trix  Trix_histo  Month  Year  \\\n",
       "Date                              ...                                         \n",
       "2020-01-12 04:00:00  7976.638385  ...  8102.613890   -0.052148      1  2020   \n",
       "2020-01-12 05:00:00  7978.562179  ...  8101.261583   -0.048403      1  2020   \n",
       "2020-01-12 06:00:00  7981.086690  ...  8099.943496   -0.041874      1  2020   \n",
       "2020-01-12 07:00:00  7983.121409  ...  8098.651182   -0.036312      1  2020   \n",
       "2020-01-12 08:00:00  7985.386530  ...  8097.497336   -0.030390      1  2020   \n",
       "\n",
       "                     Week  Hour  Year_sin  Year_cos      EMD_S        EMD_D  \n",
       "Date                                                                         \n",
       "2020-01-12 04:00:00     2     4  0.188807  0.982014 -43.614483  8134.944483  \n",
       "2020-01-12 05:00:00     2     5  0.189511  0.981879 -57.932028  8131.722028  \n",
       "2020-01-12 06:00:00     2     6  0.190215  0.981743 -22.176112  8128.226112  \n",
       "2020-01-12 07:00:00     2     7  0.190918  0.981606 -40.603638  8124.443638  \n",
       "2020-01-12 08:00:00     2     8  0.191622  0.981469 -22.858759  8120.368759  \n",
       "\n",
       "[5 rows x 37 columns]"
      ]
     },
     "execution_count": 158,
     "metadata": {},
     "output_type": "execute_result"
    }
   ],
   "source": [
    "SYMBOL= 'BTC'\n",
    "df = loadFromDB(SYMBOL,'1h')\n",
    "df = addIndicators(df,derivative=True, b_engulfings=True)\n",
    "df = computeLaggingLinearRegression(df, 'Close',20, False,derivative=False)\n",
    "df = computeStochasticLinearRegression(df,\"Close\")\n",
    "df = computeTrixIndicator(df, col='Close')\n",
    "df = generateDatesFeatures(df)\n",
    "df = computeEMD(df)\n",
    "#df = getFearAndGreedIndicator(df)\n",
    "df.dropna(inplace=True)\n",
    "print(df.shape)\n",
    "print(df.columns)\n",
    "df.head()"
   ]
  },
  {
   "cell_type": "code",
   "execution_count": 4,
   "metadata": {},
   "outputs": [
    {
     "name": "stdout",
     "output_type": "stream",
     "text": [
      "Total currencies : 2\n",
      "BTC : (1423, 40)\n",
      "ETH : (1423, 40)\n",
      "Splitting done !\n"
     ]
    },
    {
     "ename": "FileNotFoundError",
     "evalue": "[Errno 2] No such file or directory: './data/X.npy'",
     "output_type": "error",
     "traceback": [
      "\u001b[0;31m---------------------------------------------------------------------------\u001b[0m",
      "\u001b[0;31mFileNotFoundError\u001b[0m                         Traceback (most recent call last)",
      "\u001b[1;32m/home/baptiste/windowsdisk/_sharedFS/Python/python-trading-bot/multi_step_lstm.ipynb Cell 4\u001b[0m in \u001b[0;36m<cell line: 80>\u001b[0;34m()\u001b[0m\n\u001b[1;32m     <a href='vscode-notebook-cell:/home/baptiste/windowsdisk/_sharedFS/Python/python-trading-bot/multi_step_lstm.ipynb#W2sZmlsZQ%3D%3D?line=77'>78</a>\u001b[0m X \u001b[39m=\u001b[39m np\u001b[39m.\u001b[39mvstack(\u001b[39mtuple\u001b[39m([x[\u001b[39m'\u001b[39m\u001b[39mX\u001b[39m\u001b[39m'\u001b[39m] \u001b[39mfor\u001b[39;00m x \u001b[39min\u001b[39;00m x_n_y]))\n\u001b[1;32m     <a href='vscode-notebook-cell:/home/baptiste/windowsdisk/_sharedFS/Python/python-trading-bot/multi_step_lstm.ipynb#W2sZmlsZQ%3D%3D?line=78'>79</a>\u001b[0m y \u001b[39m=\u001b[39m np\u001b[39m.\u001b[39mvstack(\u001b[39mtuple\u001b[39m([x[\u001b[39m'\u001b[39m\u001b[39my\u001b[39m\u001b[39m'\u001b[39m] \u001b[39mfor\u001b[39;00m x \u001b[39min\u001b[39;00m x_n_y]))\n\u001b[0;32m---> <a href='vscode-notebook-cell:/home/baptiste/windowsdisk/_sharedFS/Python/python-trading-bot/multi_step_lstm.ipynb#W2sZmlsZQ%3D%3D?line=79'>80</a>\u001b[0m np\u001b[39m.\u001b[39;49msave(\u001b[39m'\u001b[39;49m\u001b[39m./data/X.npy\u001b[39;49m\u001b[39m'\u001b[39;49m,X)\n\u001b[1;32m     <a href='vscode-notebook-cell:/home/baptiste/windowsdisk/_sharedFS/Python/python-trading-bot/multi_step_lstm.ipynb#W2sZmlsZQ%3D%3D?line=80'>81</a>\u001b[0m np\u001b[39m.\u001b[39msave(\u001b[39m'\u001b[39m\u001b[39m./data/y.npy\u001b[39m\u001b[39m'\u001b[39m,y)\n\u001b[1;32m     <a href='vscode-notebook-cell:/home/baptiste/windowsdisk/_sharedFS/Python/python-trading-bot/multi_step_lstm.ipynb#W2sZmlsZQ%3D%3D?line=81'>82</a>\u001b[0m \u001b[39mprint\u001b[39m(\u001b[39m'\u001b[39m\u001b[39mSaving done !\u001b[39m\u001b[39m'\u001b[39m)\n",
      "File \u001b[0;32m<__array_function__ internals>:180\u001b[0m, in \u001b[0;36msave\u001b[0;34m(*args, **kwargs)\u001b[0m\n",
      "File \u001b[0;32m~/windowsdisk/_sharedFS/Python/python-trading-bot/venv/lib/python3.8/site-packages/numpy/lib/npyio.py:498\u001b[0m, in \u001b[0;36msave\u001b[0;34m(file, arr, allow_pickle, fix_imports)\u001b[0m\n\u001b[1;32m    496\u001b[0m     \u001b[39mif\u001b[39;00m \u001b[39mnot\u001b[39;00m file\u001b[39m.\u001b[39mendswith(\u001b[39m'\u001b[39m\u001b[39m.npy\u001b[39m\u001b[39m'\u001b[39m):\n\u001b[1;32m    497\u001b[0m         file \u001b[39m=\u001b[39m file \u001b[39m+\u001b[39m \u001b[39m'\u001b[39m\u001b[39m.npy\u001b[39m\u001b[39m'\u001b[39m\n\u001b[0;32m--> 498\u001b[0m     file_ctx \u001b[39m=\u001b[39m \u001b[39mopen\u001b[39;49m(file, \u001b[39m\"\u001b[39;49m\u001b[39mwb\u001b[39;49m\u001b[39m\"\u001b[39;49m)\n\u001b[1;32m    500\u001b[0m \u001b[39mwith\u001b[39;00m file_ctx \u001b[39mas\u001b[39;00m fid:\n\u001b[1;32m    501\u001b[0m     arr \u001b[39m=\u001b[39m np\u001b[39m.\u001b[39masanyarray(arr)\n",
      "\u001b[0;31mFileNotFoundError\u001b[0m: [Errno 2] No such file or directory: './data/X.npy'"
     ]
    }
   ],
   "source": [
    "from scipy.signal import savgol_filter\n",
    "INPUT_STEPS = 30\n",
    "COVERAGE_STEPS = 7\n",
    "OUTPUT_STEPS = 14\n",
    "OUTPUT_SIZE = COVERAGE_STEPS+OUTPUT_STEPS\n",
    "BATCH_SIZE = 64\n",
    "LABEL_COL = 'Close_denoised'\n",
    "\n",
    "currencies = ['BTC','ETH',]#'ADA','AAVE','ALGO','EGLD','ETH','LINK','DOT','SOL','UNI','XRP','AVAX','AXS','NEAR','MATIC']\n",
    "print(f'Total currencies : {len(currencies)}')\n",
    "def getCurrencies(symbol:str):\n",
    "    df = loadFromDB(symbol,'12h')\n",
    "    df = addIndicators(df,derivative=True, b_engulfings=True)\n",
    "    df = computeLaggingLinearRegression(df, 'Close',20, False,derivative=False)\n",
    "    df = computeStochasticLinearRegression(df,\"Close\")\n",
    "    df = computeTrixIndicator(df, col='Close')\n",
    "    df = generateDatesFeatures(df)\n",
    "    df = getFearAndGreedIndicator(df)\n",
    "    df = computeEMD(df)\n",
    "    df.dropna(inplace=True)\n",
    "    df.drop(columns=['Timestamp',],inplace=True)#'Close','Open','High','Low'\n",
    "    df['Close_denoised'] = savgol_filter(df.Close.values, 30,2, mode='nearest')\n",
    "    print(f'{symbol} : {df.shape}')\n",
    "    return df.dropna()\n",
    "\n",
    "def scaleDfs(df:pd.DataFrame,)->pd.DataFrame:\n",
    "    return StandardNormalizer().fit_transform(df)\n",
    "\n",
    "\n",
    "def split_sequence(sequence,\n",
    "                    look_back=60,\n",
    "                    forecast_horizon=20,\n",
    "                    coverage=20,\n",
    "                    column_labels='Close'):\n",
    "    X, y = [], []\n",
    "    for i in range(len(sequence)): \n",
    "        lag_end = i + look_back\n",
    "        forecast_end = lag_end + forecast_horizon\n",
    "        if forecast_end > len(sequence):\n",
    "            break\n",
    "        X.append(sequence.iloc[i:lag_end])\n",
    "        y.append(sequence.iloc[lag_end-coverage:forecast_end][column_labels])\n",
    "    return {'X':np.array(X),\n",
    "            'y':np.array(y)}\n",
    "\n",
    "def main(symbol:str):\n",
    "    return split_sequence(scaleDfs(getCurrencies(symbol)),INPUT_STEPS,OUTPUT_STEPS,COVERAGE_STEPS, column_labels=LABEL_COL)\n",
    "\n",
    "# dfs = []\n",
    "# with ThreadPoolExecutor(max_workers=cpu_count()) as executor:\n",
    "#     processes = [executor.submit(main, cur) for cur in currencies]\n",
    "\n",
    "# for task in as_completed(processes):\n",
    "#     dfs.append(task.result())\n",
    "\n",
    "# print('df loaded !')\n",
    "\n",
    "\n",
    "# dfs_scaled=[]\n",
    "# with ThreadPoolExecutor(max_workers=cpu_count()) as executor:\n",
    "#     processes = [executor.submit(scaleDfs, df_i) for df_i in dfs]\n",
    "\n",
    "# for task in as_completed(processes):\n",
    "#     dfs_scaled.append(task.result())\n",
    "\n",
    "# print('Scaling done !')\n",
    "\n",
    "\n",
    "x_n_y = []\n",
    "with ThreadPoolExecutor(max_workers=cpu_count()) as executor:\n",
    "    processes = [executor.submit(main, cur) for cur in currencies]\n",
    "\n",
    "for task in as_completed(processes):\n",
    "    x_n_y.append(task.result())\n",
    "\n",
    "print('Splitting done !')\n",
    "\n",
    "X = np.vstack(tuple([x['X'] for x in x_n_y]))\n",
    "y = np.vstack(tuple([x['y'] for x in x_n_y]))\n",
    "#np.save('./data/X.npy',X)\n",
    "#np.save('./data/y.npy',y)\n",
    "print('Saving done !')\n",
    "X.shape, y.shape"
   ]
  },
  {
   "cell_type": "code",
   "execution_count": 34,
   "metadata": {},
   "outputs": [],
   "source": [
    "#INPUT_STEPS = 60\n",
    "#OUTPUT_STEPS = 20\n",
    "#COVERAGE_STEPS = 20\n",
    "#OUTPUT_SIZE = COVERAGE_STEPS+OUTPUT_STEPS\n",
    "#scaler = StandardNormalizer()\n",
    "#train_df_test = scaler.fit_transform(df)\n",
    "#scaler.inverse_transform(train_df_test)\n",
    "#dump(scaler,f'./models/standard_normalizer_{SYMBOL}.save')\n",
    "#train_df =scaler.fit_transform(df)\n",
    "\n",
    "#def split_sequence(sequence,\n",
    "#                    look_back,\n",
    "#                    forecast_horizon,\n",
    "#                    coverage,\n",
    "#                    column_labels=['EMA20']):\n",
    "#    X, y = [], []\n",
    "#    for i in range(len(sequence)): \n",
    "#        lag_end = i + look_back\n",
    "#        forecast_end = lag_end + forecast_horizon\n",
    "#        if forecast_end > len(sequence):\n",
    "#            break\n",
    "#        X.append(sequence.iloc[i:lag_end])\n",
    "#        y.append(sequence.iloc[lag_end-coverage:forecast_end][column_labels])\n",
    "#    return np.array(X), np.array(y)\n",
    "\n",
    "\n",
    "#\n",
    "#X,y = split_sequence(train_df,INPUT_STEPS,OUTPUT_STEPS,COVERAGE_STEPS,column_labels=['B_MLR_coefs'])"
   ]
  },
  {
   "cell_type": "code",
   "execution_count": 35,
   "metadata": {},
   "outputs": [],
   "source": [
    "from sklearn.model_selection import train_test_split\n",
    "\n",
    "X_train, X_test, y_train, y_test = train_test_split(X, y, test_size=0.2, shuffle=True)"
   ]
  },
  {
   "cell_type": "markdown",
   "metadata": {},
   "source": [
    "# LSTM"
   ]
  },
  {
   "cell_type": "code",
   "execution_count": 36,
   "metadata": {},
   "outputs": [
    {
     "name": "stdout",
     "output_type": "stream",
     "text": [
      "Epoch 1/50\n",
      "34/34 [==============================] - 3s 26ms/step - loss: 0.5416 - mean_absolute_error: 0.5912 - val_loss: 0.1108 - val_mean_absolute_error: 0.2671\n",
      "Epoch 2/50\n",
      "34/34 [==============================] - 0s 15ms/step - loss: 0.0672 - mean_absolute_error: 0.2058 - val_loss: 0.0424 - val_mean_absolute_error: 0.1535\n",
      "Epoch 3/50\n",
      "34/34 [==============================] - 1s 16ms/step - loss: 0.0332 - mean_absolute_error: 0.1309 - val_loss: 0.0274 - val_mean_absolute_error: 0.1145\n",
      "Epoch 4/50\n",
      "34/34 [==============================] - 1s 15ms/step - loss: 0.0239 - mean_absolute_error: 0.1083 - val_loss: 0.0227 - val_mean_absolute_error: 0.1023\n",
      "Epoch 5/50\n",
      "34/34 [==============================] - 0s 15ms/step - loss: 0.0196 - mean_absolute_error: 0.0977 - val_loss: 0.0194 - val_mean_absolute_error: 0.0952\n",
      "Epoch 6/50\n",
      "34/34 [==============================] - 0s 15ms/step - loss: 0.0166 - mean_absolute_error: 0.0899 - val_loss: 0.0170 - val_mean_absolute_error: 0.0890\n",
      "Epoch 7/50\n",
      "34/34 [==============================] - 1s 15ms/step - loss: 0.0146 - mean_absolute_error: 0.0840 - val_loss: 0.0153 - val_mean_absolute_error: 0.0849\n",
      "Epoch 8/50\n",
      "34/34 [==============================] - 0s 14ms/step - loss: 0.0130 - mean_absolute_error: 0.0792 - val_loss: 0.0141 - val_mean_absolute_error: 0.0809\n",
      "Epoch 9/50\n",
      "34/34 [==============================] - 0s 14ms/step - loss: 0.0118 - mean_absolute_error: 0.0755 - val_loss: 0.0130 - val_mean_absolute_error: 0.0773\n",
      "Epoch 10/50\n",
      "34/34 [==============================] - 1s 15ms/step - loss: 0.0109 - mean_absolute_error: 0.0717 - val_loss: 0.0121 - val_mean_absolute_error: 0.0748\n",
      "Epoch 11/50\n",
      "34/34 [==============================] - 0s 15ms/step - loss: 0.0101 - mean_absolute_error: 0.0692 - val_loss: 0.0114 - val_mean_absolute_error: 0.0726\n",
      "Epoch 12/50\n",
      "34/34 [==============================] - 0s 15ms/step - loss: 0.0094 - mean_absolute_error: 0.0666 - val_loss: 0.0107 - val_mean_absolute_error: 0.0703\n",
      "Epoch 13/50\n",
      "34/34 [==============================] - 1s 15ms/step - loss: 0.0089 - mean_absolute_error: 0.0644 - val_loss: 0.0102 - val_mean_absolute_error: 0.0687\n",
      "Epoch 14/50\n",
      "34/34 [==============================] - 1s 15ms/step - loss: 0.0084 - mean_absolute_error: 0.0630 - val_loss: 0.0096 - val_mean_absolute_error: 0.0668\n",
      "Epoch 15/50\n",
      "34/34 [==============================] - 1s 15ms/step - loss: 0.0080 - mean_absolute_error: 0.0610 - val_loss: 0.0093 - val_mean_absolute_error: 0.0663\n",
      "Epoch 16/50\n",
      "34/34 [==============================] - 1s 15ms/step - loss: 0.0077 - mean_absolute_error: 0.0603 - val_loss: 0.0088 - val_mean_absolute_error: 0.0638\n",
      "Epoch 17/50\n",
      "34/34 [==============================] - 0s 15ms/step - loss: 0.0073 - mean_absolute_error: 0.0582 - val_loss: 0.0084 - val_mean_absolute_error: 0.0625\n",
      "Epoch 18/50\n",
      "34/34 [==============================] - 0s 15ms/step - loss: 0.0070 - mean_absolute_error: 0.0570 - val_loss: 0.0080 - val_mean_absolute_error: 0.0607\n",
      "Epoch 19/50\n",
      "34/34 [==============================] - 0s 14ms/step - loss: 0.0067 - mean_absolute_error: 0.0559 - val_loss: 0.0079 - val_mean_absolute_error: 0.0605\n",
      "Epoch 20/50\n",
      "34/34 [==============================] - 0s 14ms/step - loss: 0.0065 - mean_absolute_error: 0.0547 - val_loss: 0.0075 - val_mean_absolute_error: 0.0589\n",
      "Epoch 21/50\n",
      "34/34 [==============================] - 1s 15ms/step - loss: 0.0062 - mean_absolute_error: 0.0538 - val_loss: 0.0073 - val_mean_absolute_error: 0.0581\n",
      "Epoch 22/50\n",
      "34/34 [==============================] - 0s 15ms/step - loss: 0.0060 - mean_absolute_error: 0.0531 - val_loss: 0.0069 - val_mean_absolute_error: 0.0564\n",
      "Epoch 23/50\n",
      "34/34 [==============================] - 1s 15ms/step - loss: 0.0058 - mean_absolute_error: 0.0519 - val_loss: 0.0067 - val_mean_absolute_error: 0.0556\n",
      "Epoch 24/50\n",
      "34/34 [==============================] - 1s 15ms/step - loss: 0.0056 - mean_absolute_error: 0.0509 - val_loss: 0.0066 - val_mean_absolute_error: 0.0557\n",
      "Epoch 25/50\n",
      "34/34 [==============================] - 1s 16ms/step - loss: 0.0054 - mean_absolute_error: 0.0505 - val_loss: 0.0063 - val_mean_absolute_error: 0.0539\n",
      "Epoch 26/50\n",
      "34/34 [==============================] - 1s 15ms/step - loss: 0.0052 - mean_absolute_error: 0.0491 - val_loss: 0.0061 - val_mean_absolute_error: 0.0533\n",
      "Epoch 27/50\n",
      "34/34 [==============================] - 1s 15ms/step - loss: 0.0050 - mean_absolute_error: 0.0485 - val_loss: 0.0059 - val_mean_absolute_error: 0.0527\n",
      "Epoch 28/50\n",
      "34/34 [==============================] - 1s 15ms/step - loss: 0.0049 - mean_absolute_error: 0.0477 - val_loss: 0.0059 - val_mean_absolute_error: 0.0525\n",
      "Epoch 29/50\n",
      "34/34 [==============================] - 1s 15ms/step - loss: 0.0047 - mean_absolute_error: 0.0467 - val_loss: 0.0057 - val_mean_absolute_error: 0.0519\n",
      "Epoch 30/50\n",
      "34/34 [==============================] - 0s 15ms/step - loss: 0.0046 - mean_absolute_error: 0.0461 - val_loss: 0.0056 - val_mean_absolute_error: 0.0511\n",
      "Epoch 31/50\n",
      "34/34 [==============================] - 0s 15ms/step - loss: 0.0044 - mean_absolute_error: 0.0452 - val_loss: 0.0055 - val_mean_absolute_error: 0.0505\n",
      "Epoch 32/50\n",
      "34/34 [==============================] - 0s 15ms/step - loss: 0.0042 - mean_absolute_error: 0.0445 - val_loss: 0.0053 - val_mean_absolute_error: 0.0502\n",
      "Epoch 33/50\n",
      "34/34 [==============================] - 1s 15ms/step - loss: 0.0041 - mean_absolute_error: 0.0439 - val_loss: 0.0051 - val_mean_absolute_error: 0.0488\n",
      "Epoch 34/50\n",
      "34/34 [==============================] - 1s 15ms/step - loss: 0.0039 - mean_absolute_error: 0.0430 - val_loss: 0.0051 - val_mean_absolute_error: 0.0489\n",
      "Epoch 35/50\n",
      "34/34 [==============================] - 1s 15ms/step - loss: 0.0037 - mean_absolute_error: 0.0420 - val_loss: 0.0048 - val_mean_absolute_error: 0.0475\n",
      "Epoch 36/50\n",
      "34/34 [==============================] - 0s 14ms/step - loss: 0.0035 - mean_absolute_error: 0.0412 - val_loss: 0.0046 - val_mean_absolute_error: 0.0468\n",
      "Epoch 37/50\n",
      "34/34 [==============================] - 0s 15ms/step - loss: 0.0034 - mean_absolute_error: 0.0405 - val_loss: 0.0044 - val_mean_absolute_error: 0.0460\n",
      "Epoch 38/50\n",
      "34/34 [==============================] - 1s 15ms/step - loss: 0.0033 - mean_absolute_error: 0.0396 - val_loss: 0.0044 - val_mean_absolute_error: 0.0457\n",
      "Epoch 39/50\n",
      "34/34 [==============================] - 0s 15ms/step - loss: 0.0031 - mean_absolute_error: 0.0387 - val_loss: 0.0042 - val_mean_absolute_error: 0.0441\n",
      "Epoch 40/50\n",
      "34/34 [==============================] - 0s 15ms/step - loss: 0.0030 - mean_absolute_error: 0.0380 - val_loss: 0.0041 - val_mean_absolute_error: 0.0443\n",
      "Epoch 41/50\n",
      "34/34 [==============================] - 0s 15ms/step - loss: 0.0029 - mean_absolute_error: 0.0376 - val_loss: 0.0039 - val_mean_absolute_error: 0.0432\n",
      "Epoch 42/50\n",
      "34/34 [==============================] - 0s 14ms/step - loss: 0.0026 - mean_absolute_error: 0.0360 - val_loss: 0.0037 - val_mean_absolute_error: 0.0421\n",
      "Epoch 43/50\n",
      "34/34 [==============================] - 1s 15ms/step - loss: 0.0025 - mean_absolute_error: 0.0353 - val_loss: 0.0036 - val_mean_absolute_error: 0.0412\n",
      "Epoch 44/50\n",
      "34/34 [==============================] - 1s 15ms/step - loss: 0.0024 - mean_absolute_error: 0.0348 - val_loss: 0.0034 - val_mean_absolute_error: 0.0400\n",
      "Epoch 45/50\n",
      "34/34 [==============================] - 0s 15ms/step - loss: 0.0023 - mean_absolute_error: 0.0340 - val_loss: 0.0034 - val_mean_absolute_error: 0.0398\n",
      "Epoch 46/50\n",
      "34/34 [==============================] - 0s 14ms/step - loss: 0.0022 - mean_absolute_error: 0.0333 - val_loss: 0.0034 - val_mean_absolute_error: 0.0399\n",
      "Epoch 47/50\n",
      "34/34 [==============================] - 0s 15ms/step - loss: 0.0022 - mean_absolute_error: 0.0329 - val_loss: 0.0032 - val_mean_absolute_error: 0.0386\n",
      "Epoch 48/50\n",
      "34/34 [==============================] - 0s 14ms/step - loss: 0.0020 - mean_absolute_error: 0.0319 - val_loss: 0.0031 - val_mean_absolute_error: 0.0379\n",
      "Epoch 49/50\n",
      "34/34 [==============================] - 0s 14ms/step - loss: 0.0020 - mean_absolute_error: 0.0320 - val_loss: 0.0030 - val_mean_absolute_error: 0.0373\n",
      "Epoch 50/50\n",
      "34/34 [==============================] - 1s 15ms/step - loss: 0.0019 - mean_absolute_error: 0.0311 - val_loss: 0.0031 - val_mean_absolute_error: 0.0376\n"
     ]
    }
   ],
   "source": [
    "\n",
    "lstm_model = tf.keras.Sequential([\n",
    "    tf.keras.layers.GRU(32, return_sequences=False,),\n",
    "    tf.keras.layers.Dense(OUTPUT_SIZE*1,kernel_initializer=tf.initializers.zeros()),\n",
    "    tf.keras.layers.Reshape([OUTPUT_SIZE, 1])\n",
    "])\n",
    "\n",
    "lstm_model.compile(loss=tf.keras.losses.MeanSquaredError(),\n",
    "            optimizer=tf.keras.optimizers.Adam(),\n",
    "            metrics=[tf.keras.metrics.MeanAbsoluteError()])\n",
    "\n",
    "history = lstm_model.fit(X_train,y_train,\n",
    "                    epochs=50,\n",
    "                    validation_split=0.2,\n",
    "                    batch_size=BATCH_SIZE,\n",
    "                    shuffle=True,\n",
    "                    callbacks=[tf.keras.callbacks.EarlyStopping(monitor='val_loss',\n",
    "                                                        verbose=1,\n",
    "                                                       patience=8,\n",
    "                                                       mode='min',\n",
    "                                                       restore_best_weights=True)],\n",
    "                    use_multiprocessing=True)\n"
   ]
  },
  {
   "cell_type": "markdown",
   "metadata": {},
   "source": [
    "# CONV"
   ]
  },
  {
   "cell_type": "code",
   "execution_count": 37,
   "metadata": {},
   "outputs": [
    {
     "name": "stdout",
     "output_type": "stream",
     "text": [
      "Epoch 1/50\n",
      "34/34 [==============================] - 1s 6ms/step - loss: 0.2147 - mean_absolute_error: 0.3265 - val_loss: 0.0187 - val_mean_absolute_error: 0.1020\n",
      "Epoch 2/50\n",
      "34/34 [==============================] - 0s 3ms/step - loss: 0.0154 - mean_absolute_error: 0.0907 - val_loss: 0.0124 - val_mean_absolute_error: 0.0756\n",
      "Epoch 3/50\n",
      "34/34 [==============================] - 0s 3ms/step - loss: 0.0101 - mean_absolute_error: 0.0674 - val_loss: 0.0103 - val_mean_absolute_error: 0.0674\n",
      "Epoch 4/50\n",
      "34/34 [==============================] - 0s 3ms/step - loss: 0.0087 - mean_absolute_error: 0.0609 - val_loss: 0.0091 - val_mean_absolute_error: 0.0632\n",
      "Epoch 5/50\n",
      "34/34 [==============================] - 0s 3ms/step - loss: 0.0076 - mean_absolute_error: 0.0564 - val_loss: 0.0080 - val_mean_absolute_error: 0.0589\n",
      "Epoch 6/50\n",
      "34/34 [==============================] - 0s 3ms/step - loss: 0.0070 - mean_absolute_error: 0.0544 - val_loss: 0.0076 - val_mean_absolute_error: 0.0569\n",
      "Epoch 7/50\n",
      "34/34 [==============================] - 0s 3ms/step - loss: 0.0064 - mean_absolute_error: 0.0519 - val_loss: 0.0070 - val_mean_absolute_error: 0.0555\n",
      "Epoch 8/50\n",
      "34/34 [==============================] - 0s 3ms/step - loss: 0.0061 - mean_absolute_error: 0.0501 - val_loss: 0.0070 - val_mean_absolute_error: 0.0551\n",
      "Epoch 9/50\n",
      "34/34 [==============================] - 0s 3ms/step - loss: 0.0054 - mean_absolute_error: 0.0473 - val_loss: 0.0062 - val_mean_absolute_error: 0.0519\n",
      "Epoch 10/50\n",
      "34/34 [==============================] - 0s 3ms/step - loss: 0.0049 - mean_absolute_error: 0.0451 - val_loss: 0.0058 - val_mean_absolute_error: 0.0499\n",
      "Epoch 11/50\n",
      "34/34 [==============================] - 0s 3ms/step - loss: 0.0046 - mean_absolute_error: 0.0440 - val_loss: 0.0056 - val_mean_absolute_error: 0.0499\n",
      "Epoch 12/50\n",
      "34/34 [==============================] - 0s 3ms/step - loss: 0.0041 - mean_absolute_error: 0.0414 - val_loss: 0.0054 - val_mean_absolute_error: 0.0476\n",
      "Epoch 13/50\n",
      "34/34 [==============================] - 0s 3ms/step - loss: 0.0039 - mean_absolute_error: 0.0407 - val_loss: 0.0055 - val_mean_absolute_error: 0.0476\n",
      "Epoch 14/50\n",
      "34/34 [==============================] - 0s 3ms/step - loss: 0.0036 - mean_absolute_error: 0.0391 - val_loss: 0.0046 - val_mean_absolute_error: 0.0445\n",
      "Epoch 15/50\n",
      "34/34 [==============================] - 0s 3ms/step - loss: 0.0034 - mean_absolute_error: 0.0380 - val_loss: 0.0051 - val_mean_absolute_error: 0.0474\n",
      "Epoch 16/50\n",
      "34/34 [==============================] - 0s 3ms/step - loss: 0.0032 - mean_absolute_error: 0.0374 - val_loss: 0.0039 - val_mean_absolute_error: 0.0411\n",
      "Epoch 17/50\n",
      "34/34 [==============================] - 0s 3ms/step - loss: 0.0029 - mean_absolute_error: 0.0354 - val_loss: 0.0039 - val_mean_absolute_error: 0.0409\n",
      "Epoch 18/50\n",
      "34/34 [==============================] - 0s 3ms/step - loss: 0.0029 - mean_absolute_error: 0.0357 - val_loss: 0.0040 - val_mean_absolute_error: 0.0426\n",
      "Epoch 19/50\n",
      "34/34 [==============================] - 0s 3ms/step - loss: 0.0027 - mean_absolute_error: 0.0345 - val_loss: 0.0034 - val_mean_absolute_error: 0.0385\n",
      "Epoch 20/50\n",
      "34/34 [==============================] - 0s 3ms/step - loss: 0.0024 - mean_absolute_error: 0.0325 - val_loss: 0.0034 - val_mean_absolute_error: 0.0384\n",
      "Epoch 21/50\n",
      "34/34 [==============================] - 0s 3ms/step - loss: 0.0023 - mean_absolute_error: 0.0316 - val_loss: 0.0033 - val_mean_absolute_error: 0.0381\n",
      "Epoch 22/50\n",
      "34/34 [==============================] - 0s 3ms/step - loss: 0.0022 - mean_absolute_error: 0.0306 - val_loss: 0.0033 - val_mean_absolute_error: 0.0385\n",
      "Epoch 23/50\n",
      "34/34 [==============================] - 0s 3ms/step - loss: 0.0023 - mean_absolute_error: 0.0320 - val_loss: 0.0032 - val_mean_absolute_error: 0.0386\n",
      "Epoch 24/50\n",
      "34/34 [==============================] - 0s 3ms/step - loss: 0.0021 - mean_absolute_error: 0.0309 - val_loss: 0.0031 - val_mean_absolute_error: 0.0380\n",
      "Epoch 25/50\n",
      "34/34 [==============================] - 0s 3ms/step - loss: 0.0020 - mean_absolute_error: 0.0294 - val_loss: 0.0030 - val_mean_absolute_error: 0.0366\n",
      "Epoch 26/50\n",
      "34/34 [==============================] - 0s 3ms/step - loss: 0.0020 - mean_absolute_error: 0.0301 - val_loss: 0.0030 - val_mean_absolute_error: 0.0385\n",
      "Epoch 27/50\n",
      "34/34 [==============================] - 0s 3ms/step - loss: 0.0021 - mean_absolute_error: 0.0313 - val_loss: 0.0033 - val_mean_absolute_error: 0.0393\n",
      "Epoch 28/50\n",
      "34/34 [==============================] - 0s 3ms/step - loss: 0.0018 - mean_absolute_error: 0.0282 - val_loss: 0.0027 - val_mean_absolute_error: 0.0342\n",
      "Epoch 29/50\n",
      "34/34 [==============================] - 0s 3ms/step - loss: 0.0017 - mean_absolute_error: 0.0269 - val_loss: 0.0025 - val_mean_absolute_error: 0.0332\n",
      "Epoch 30/50\n",
      "34/34 [==============================] - 0s 3ms/step - loss: 0.0015 - mean_absolute_error: 0.0263 - val_loss: 0.0026 - val_mean_absolute_error: 0.0335\n",
      "Epoch 31/50\n",
      "34/34 [==============================] - 0s 3ms/step - loss: 0.0017 - mean_absolute_error: 0.0282 - val_loss: 0.0026 - val_mean_absolute_error: 0.0344\n",
      "Epoch 32/50\n",
      "34/34 [==============================] - 0s 3ms/step - loss: 0.0015 - mean_absolute_error: 0.0268 - val_loss: 0.0027 - val_mean_absolute_error: 0.0348\n",
      "Epoch 33/50\n",
      "34/34 [==============================] - 0s 3ms/step - loss: 0.0016 - mean_absolute_error: 0.0272 - val_loss: 0.0029 - val_mean_absolute_error: 0.0362\n",
      "Epoch 34/50\n",
      "34/34 [==============================] - 0s 3ms/step - loss: 0.0015 - mean_absolute_error: 0.0261 - val_loss: 0.0024 - val_mean_absolute_error: 0.0320\n",
      "Epoch 35/50\n",
      "34/34 [==============================] - 0s 3ms/step - loss: 0.0014 - mean_absolute_error: 0.0252 - val_loss: 0.0025 - val_mean_absolute_error: 0.0325\n",
      "Epoch 36/50\n",
      "34/34 [==============================] - 0s 3ms/step - loss: 0.0013 - mean_absolute_error: 0.0249 - val_loss: 0.0023 - val_mean_absolute_error: 0.0323\n",
      "Epoch 37/50\n",
      "34/34 [==============================] - 0s 3ms/step - loss: 0.0014 - mean_absolute_error: 0.0251 - val_loss: 0.0025 - val_mean_absolute_error: 0.0334\n",
      "Epoch 38/50\n",
      "34/34 [==============================] - 0s 3ms/step - loss: 0.0013 - mean_absolute_error: 0.0253 - val_loss: 0.0028 - val_mean_absolute_error: 0.0344\n",
      "Epoch 39/50\n",
      "34/34 [==============================] - 0s 3ms/step - loss: 0.0014 - mean_absolute_error: 0.0255 - val_loss: 0.0025 - val_mean_absolute_error: 0.0338\n",
      "Epoch 40/50\n",
      "34/34 [==============================] - 0s 3ms/step - loss: 0.0013 - mean_absolute_error: 0.0251 - val_loss: 0.0025 - val_mean_absolute_error: 0.0340\n",
      "Epoch 41/50\n",
      "34/34 [==============================] - 0s 3ms/step - loss: 0.0013 - mean_absolute_error: 0.0258 - val_loss: 0.0026 - val_mean_absolute_error: 0.0365\n",
      "Epoch 42/50\n",
      "34/34 [==============================] - 0s 3ms/step - loss: 0.0012 - mean_absolute_error: 0.0244 - val_loss: 0.0023 - val_mean_absolute_error: 0.0314\n",
      "Epoch 43/50\n",
      "34/34 [==============================] - 0s 3ms/step - loss: 0.0011 - mean_absolute_error: 0.0236 - val_loss: 0.0025 - val_mean_absolute_error: 0.0327\n",
      "Epoch 44/50\n",
      "34/34 [==============================] - 0s 3ms/step - loss: 0.0012 - mean_absolute_error: 0.0241 - val_loss: 0.0022 - val_mean_absolute_error: 0.0314\n",
      "Epoch 45/50\n",
      "34/34 [==============================] - 0s 3ms/step - loss: 0.0011 - mean_absolute_error: 0.0230 - val_loss: 0.0022 - val_mean_absolute_error: 0.0307\n",
      "Epoch 46/50\n",
      "34/34 [==============================] - 0s 3ms/step - loss: 0.0011 - mean_absolute_error: 0.0233 - val_loss: 0.0025 - val_mean_absolute_error: 0.0362\n",
      "Epoch 47/50\n",
      "34/34 [==============================] - 0s 3ms/step - loss: 0.0013 - mean_absolute_error: 0.0259 - val_loss: 0.0022 - val_mean_absolute_error: 0.0309\n",
      "Epoch 48/50\n",
      "34/34 [==============================] - 0s 3ms/step - loss: 0.0012 - mean_absolute_error: 0.0241 - val_loss: 0.0021 - val_mean_absolute_error: 0.0308\n",
      "Epoch 49/50\n",
      "34/34 [==============================] - 0s 3ms/step - loss: 9.8704e-04 - mean_absolute_error: 0.0219 - val_loss: 0.0020 - val_mean_absolute_error: 0.0298\n",
      "Epoch 50/50\n",
      "34/34 [==============================] - 0s 3ms/step - loss: 9.1079e-04 - mean_absolute_error: 0.0207 - val_loss: 0.0021 - val_mean_absolute_error: 0.0301\n"
     ]
    }
   ],
   "source": [
    "conv_model = tf.keras.Sequential([\n",
    "    tf.keras.layers.AveragePooling1D(pool_size=2, strides=1, padding='valid', data_format='channels_last'),\n",
    "    tf.keras.layers.Lambda(lambda x: x[:, -3:, :]),\n",
    "    tf.keras.layers.Conv1D(256, activation='relu', kernel_size=(3)),\n",
    "    tf.keras.layers.Dense(OUTPUT_SIZE*1,kernel_initializer=tf.initializers.zeros(),),\n",
    "    tf.keras.layers.Reshape([OUTPUT_SIZE, 1])\n",
    "])\n",
    "\n",
    "\n",
    "conv_model.compile(loss=tf.keras.losses.MeanSquaredError(),\n",
    "            optimizer=tf.keras.optimizers.Adam(),\n",
    "            metrics=[tf.keras.metrics.MeanAbsoluteError()])\n",
    "\n",
    "            \n",
    "history = conv_model.fit(X_train,y_train,\n",
    "                    epochs=50,\n",
    "                    validation_split=0.2,\n",
    "                    batch_size=BATCH_SIZE,\n",
    "                    shuffle=True,\n",
    "                    callbacks=[tf.keras.callbacks.EarlyStopping(monitor='val_loss',\n",
    "                                                        verbose=1,\n",
    "                                                       patience=8,\n",
    "                                                       mode='min',\n",
    "                                                       restore_best_weights=True)],\n",
    "                    use_multiprocessing=True)\n"
   ]
  },
  {
   "cell_type": "markdown",
   "metadata": {},
   "source": [
    "# Test"
   ]
  },
  {
   "cell_type": "code",
   "execution_count": 38,
   "metadata": {},
   "outputs": [
    {
     "name": "stdout",
     "output_type": "stream",
     "text": [
      "21/21 [==============================] - 0s 3ms/step\n",
      "21/21 [==============================] - 0s 951us/step\n"
     ]
    }
   ],
   "source": [
    "pred_lstm = lstm_model.predict(X_test)\n",
    "pred_conv = conv_model.predict(X_test)"
   ]
  },
  {
   "cell_type": "code",
   "execution_count": 28,
   "metadata": {},
   "outputs": [],
   "source": [
    "lstm_model.save(f'./models/lstm_model_all_1h_EMA20.h5')\n",
    "conv_model.save(f'./models/conv_model_all_1h_EMA20.h5')"
   ]
  },
  {
   "cell_type": "code",
   "execution_count": 40,
   "metadata": {},
   "outputs": [
    {
     "name": "stdout",
     "output_type": "stream",
     "text": [
      "212\n"
     ]
    },
    {
     "data": {
      "text/html": [
       "\n",
       "  <div class=\"bk-root\" id=\"44f592c0-4fe6-4b15-b364-cb18d5bd6318\" data-root-id=\"7285\"></div>\n"
      ]
     },
     "metadata": {},
     "output_type": "display_data"
    },
    {
     "data": {
      "application/javascript": "(function(root) {\n  function embed_document(root) {\n  const docs_json = {\"be6ade33-d034-4432-9de4-22bee82965b5\":{\"defs\":[],\"roots\":{\"references\":[{\"attributes\":{\"below\":[{\"id\":\"7296\"}],\"center\":[{\"id\":\"7299\"},{\"id\":\"7303\"},{\"id\":\"7336\"}],\"left\":[{\"id\":\"7300\"}],\"renderers\":[{\"id\":\"7324\"},{\"id\":\"7342\"},{\"id\":\"7361\"},{\"id\":\"7382\"},{\"id\":\"7401\"}],\"title\":{\"id\":\"7286\"},\"toolbar\":{\"id\":\"7311\"},\"width\":1500,\"x_range\":{\"id\":\"7288\"},\"x_scale\":{\"id\":\"7292\"},\"y_range\":{\"id\":\"7290\"},\"y_scale\":{\"id\":\"7294\"}},\"id\":\"7285\",\"subtype\":\"Figure\",\"type\":\"Plot\"},{\"attributes\":{\"coordinates\":null,\"data_source\":{\"id\":\"7320\"},\"glyph\":{\"id\":\"7321\"},\"group\":null,\"hover_glyph\":null,\"muted_glyph\":{\"id\":\"7323\"},\"nonselection_glyph\":{\"id\":\"7322\"},\"view\":{\"id\":\"7325\"}},\"id\":\"7324\",\"type\":\"GlyphRenderer\"},{\"attributes\":{\"coordinates\":null,\"data_source\":{\"id\":\"7338\"},\"glyph\":{\"id\":\"7339\"},\"group\":null,\"hover_glyph\":null,\"muted_glyph\":{\"id\":\"7341\"},\"nonselection_glyph\":{\"id\":\"7340\"},\"view\":{\"id\":\"7343\"}},\"id\":\"7342\",\"type\":\"GlyphRenderer\"},{\"attributes\":{\"line_color\":\"#1f77b4\",\"line_width\":2,\"x\":{\"field\":\"x\"},\"y\":{\"field\":\"y\"}},\"id\":\"7379\",\"type\":\"Line\"},{\"attributes\":{\"line_alpha\":0.1,\"line_color\":\"#1f77b4\",\"line_width\":2,\"x\":{\"field\":\"x\"},\"y\":{\"field\":\"y\"}},\"id\":\"7380\",\"type\":\"Line\"},{\"attributes\":{\"line_alpha\":0.1,\"line_color\":\"orange\",\"line_dash\":[6],\"line_width\":2,\"x\":{\"field\":\"x\"},\"y\":{\"field\":\"y\"}},\"id\":\"7340\",\"type\":\"Line\"},{\"attributes\":{\"overlay\":{\"id\":\"7310\"}},\"id\":\"7306\",\"type\":\"BoxZoomTool\"},{\"attributes\":{},\"id\":\"7374\",\"type\":\"UnionRenderers\"},{\"attributes\":{},\"id\":\"7329\",\"type\":\"AllLabels\"},{\"attributes\":{},\"id\":\"7397\",\"type\":\"UnionRenderers\"},{\"attributes\":{\"tools\":[{\"id\":\"7304\"},{\"id\":\"7305\"},{\"id\":\"7306\"},{\"id\":\"7307\"},{\"id\":\"7308\"},{\"id\":\"7309\"},{\"id\":\"7318\"}]},\"id\":\"7311\",\"type\":\"Toolbar\"},{\"attributes\":{\"line_alpha\":0.2,\"line_color\":\"green\",\"line_width\":2,\"x\":{\"field\":\"x\"},\"y\":{\"field\":\"y\"}},\"id\":\"7323\",\"type\":\"Line\"},{\"attributes\":{\"coordinates\":null,\"group\":null,\"items\":[{\"id\":\"7337\"},{\"id\":\"7356\"},{\"id\":\"7377\"},{\"id\":\"7400\"}],\"location\":\"top_left\"},\"id\":\"7336\",\"type\":\"Legend\"},{\"attributes\":{\"line_alpha\":0.3,\"line_color\":\"orange\",\"line_dash\":[6],\"line_width\":2,\"x\":{\"field\":\"x\"},\"y\":{\"field\":\"y\"}},\"id\":\"7339\",\"type\":\"Line\"},{\"attributes\":{\"data\":{\"x\":[0,1,2,3,4,5,6,7,8,9,10,11,12,13,14,15,16,17,18,19,20],\"y\":{\"__ndarray__\":\"vVWNv1nGjL+FNYy/NLyLv4lvi786PIu/mj+Lv4iai79r84u/1VaMv/7JjL/uUI2/RRuOv97njr+CzI+/BH2Qvzcakb8pnJG/aSeSvxJ+kr8enJK/\",\"dtype\":\"float32\",\"order\":\"little\",\"shape\":[21]}},\"selected\":{\"id\":\"7375\"},\"selection_policy\":{\"id\":\"7374\"}},\"id\":\"7357\",\"type\":\"ColumnDataSource\"},{\"attributes\":{},\"id\":\"7332\",\"type\":\"AllLabels\"},{\"attributes\":{\"data\":{\"x\":[0,1,2,3,4,5,6,7,8,9,10,11,12,13,14,15,16,17,18,19,20],\"y\":{\"__ndarray__\":\"si2Uv7w1k78QOZK/fFCRv093kL+hrI+/1fOOvwJOjr+wuI2/YEGNv0PZjL+beYy/JxyMv6XGi78tcou/lBaLv7Ouir+wQoq/ncuJv+BDib+MvIi/\",\"dtype\":\"float32\",\"order\":\"little\",\"shape\":[21]}},\"selected\":{\"id\":\"7354\"},\"selection_policy\":{\"id\":\"7353\"}},\"id\":\"7338\",\"type\":\"ColumnDataSource\"},{\"attributes\":{\"line_alpha\":0.2,\"line_color\":\"orange\",\"line_dash\":[6],\"line_width\":2,\"x\":{\"field\":\"x\"},\"y\":{\"field\":\"y\"}},\"id\":\"7341\",\"type\":\"Line\"},{\"attributes\":{\"coordinates\":null,\"data_source\":{\"id\":\"7357\"},\"glyph\":{\"id\":\"7358\"},\"group\":null,\"hover_glyph\":null,\"muted_glyph\":{\"id\":\"7360\"},\"nonselection_glyph\":{\"id\":\"7359\"},\"view\":{\"id\":\"7362\"}},\"id\":\"7361\",\"type\":\"GlyphRenderer\"},{\"attributes\":{\"source\":{\"id\":\"7357\"}},\"id\":\"7362\",\"type\":\"CDSView\"},{\"attributes\":{\"callback\":null,\"formatters\":{\"$x\":\"datetime\",\"$y\":\"printf\"},\"mode\":\"vline\",\"tooltips\":[[\"Price\",\"@y{0.00} $\"]]},\"id\":\"7318\",\"type\":\"HoverTool\"},{\"attributes\":{\"line_alpha\":0.1,\"line_color\":\"green\",\"line_width\":2,\"x\":{\"field\":\"x\"},\"y\":{\"field\":\"y\"}},\"id\":\"7322\",\"type\":\"Line\"},{\"attributes\":{},\"id\":\"7308\",\"type\":\"ResetTool\"},{\"attributes\":{\"label\":{\"value\":\"LSTM Prediction\"},\"renderers\":[{\"id\":\"7342\"}]},\"id\":\"7356\",\"type\":\"LegendItem\"},{\"attributes\":{},\"id\":\"7304\",\"type\":\"PanTool\"},{\"attributes\":{},\"id\":\"7309\",\"type\":\"HelpTool\"},{\"attributes\":{\"line_alpha\":0.3,\"line_color\":\"red\",\"line_dash\":[6],\"line_width\":2,\"x\":{\"field\":\"x\"},\"y\":{\"field\":\"y\"}},\"id\":\"7358\",\"type\":\"Line\"},{\"attributes\":{},\"id\":\"7290\",\"type\":\"DataRange1d\"},{\"attributes\":{},\"id\":\"7328\",\"type\":\"BasicTickFormatter\"},{\"attributes\":{},\"id\":\"7288\",\"type\":\"DataRange1d\"},{\"attributes\":{\"source\":{\"id\":\"7378\"}},\"id\":\"7383\",\"type\":\"CDSView\"},{\"attributes\":{\"axis_label\":\"time\",\"coordinates\":null,\"formatter\":{\"id\":\"7331\"},\"group\":null,\"major_label_policy\":{\"id\":\"7332\"},\"ticker\":{\"id\":\"7297\"}},\"id\":\"7296\",\"type\":\"LinearAxis\"},{\"attributes\":{\"axis\":{\"id\":\"7300\"},\"coordinates\":null,\"dimension\":1,\"group\":null,\"ticker\":null},\"id\":\"7303\",\"type\":\"Grid\"},{\"attributes\":{\"label\":{\"value\":\"Close_denoised\"},\"renderers\":[{\"id\":\"7382\"}]},\"id\":\"7400\",\"type\":\"LegendItem\"},{\"attributes\":{\"coordinates\":null,\"group\":null,\"text\":\"Comparaison\"},\"id\":\"7286\",\"type\":\"Title\"},{\"attributes\":{\"source\":{\"id\":\"7338\"}},\"id\":\"7343\",\"type\":\"CDSView\"},{\"attributes\":{},\"id\":\"7334\",\"type\":\"Selection\"},{\"attributes\":{\"line_alpha\":0.2,\"line_color\":\"red\",\"line_dash\":[6],\"line_width\":2,\"x\":{\"field\":\"x\"},\"y\":{\"field\":\"y\"}},\"id\":\"7360\",\"type\":\"Line\"},{\"attributes\":{},\"id\":\"7331\",\"type\":\"BasicTickFormatter\"},{\"attributes\":{\"data\":{\"x\":[0,1,2,3,4,5,6,7,8,9,10,11,12,13,14,15,16,17,18,19,20],\"y\":{\"__ndarray__\":\"uMGQvwr+j79KN4+/WIaOv2zzjb9udI2/uBmNv0X0jL8O1oy/GsyMv6DRjL9E5Yy/thuNv0JXjb9Yn42/zMmNv3Xkjb9s742/g/mNv/ngjb9VrI2/\",\"dtype\":\"float32\",\"order\":\"little\",\"shape\":[21]}},\"selected\":{\"id\":\"7334\"},\"selection_policy\":{\"id\":\"7333\"}},\"id\":\"7320\",\"type\":\"ColumnDataSource\"},{\"attributes\":{},\"id\":\"7375\",\"type\":\"Selection\"},{\"attributes\":{},\"id\":\"7294\",\"type\":\"LinearScale\"},{\"attributes\":{\"axis_label\":\"value ($)\",\"coordinates\":null,\"formatter\":{\"id\":\"7328\"},\"group\":null,\"major_label_policy\":{\"id\":\"7329\"},\"ticker\":{\"id\":\"7301\"}},\"id\":\"7300\",\"type\":\"LinearAxis\"},{\"attributes\":{\"line_alpha\":0.1,\"line_color\":\"red\",\"line_dash\":[6],\"line_width\":2,\"x\":{\"field\":\"x\"},\"y\":{\"field\":\"y\"}},\"id\":\"7359\",\"type\":\"Line\"},{\"attributes\":{},\"id\":\"7398\",\"type\":\"Selection\"},{\"attributes\":{\"label\":{\"value\":\"LSTM x Conv Prediction\"},\"renderers\":[{\"id\":\"7324\"}]},\"id\":\"7337\",\"type\":\"LegendItem\"},{\"attributes\":{\"coordinates\":null,\"data_source\":{\"id\":\"7378\"},\"glyph\":{\"id\":\"7379\"},\"group\":null,\"hover_glyph\":null,\"muted_glyph\":{\"id\":\"7381\"},\"nonselection_glyph\":{\"id\":\"7380\"},\"view\":{\"id\":\"7383\"}},\"id\":\"7382\",\"type\":\"GlyphRenderer\"},{\"attributes\":{\"axis\":{\"id\":\"7296\"},\"coordinates\":null,\"group\":null,\"ticker\":null},\"id\":\"7299\",\"type\":\"Grid\"},{\"attributes\":{},\"id\":\"7297\",\"type\":\"BasicTicker\"},{\"attributes\":{\"line_alpha\":0.2,\"line_color\":\"#1f77b4\",\"line_width\":2,\"x\":{\"field\":\"x\"},\"y\":{\"field\":\"y\"}},\"id\":\"7381\",\"type\":\"Line\"},{\"attributes\":{},\"id\":\"7333\",\"type\":\"UnionRenderers\"},{\"attributes\":{},\"id\":\"7307\",\"type\":\"SaveTool\"},{\"attributes\":{},\"id\":\"7353\",\"type\":\"UnionRenderers\"},{\"attributes\":{\"line_color\":\"green\",\"line_width\":2,\"x\":{\"field\":\"x\"},\"y\":{\"field\":\"y\"}},\"id\":\"7321\",\"type\":\"Line\"},{\"attributes\":{},\"id\":\"7305\",\"type\":\"WheelZoomTool\"},{\"attributes\":{\"coordinates\":null,\"dimension\":\"height\",\"group\":null,\"line_dash\":[6],\"line_width\":2,\"location\":7},\"id\":\"7401\",\"type\":\"Span\"},{\"attributes\":{\"label\":{\"value\":\"Conv Prediction\"},\"renderers\":[{\"id\":\"7361\"}]},\"id\":\"7377\",\"type\":\"LegendItem\"},{\"attributes\":{\"bottom_units\":\"screen\",\"coordinates\":null,\"fill_alpha\":0.5,\"fill_color\":\"lightgrey\",\"group\":null,\"left_units\":\"screen\",\"level\":\"overlay\",\"line_alpha\":1.0,\"line_color\":\"black\",\"line_dash\":[4,4],\"line_width\":2,\"right_units\":\"screen\",\"syncable\":false,\"top_units\":\"screen\"},\"id\":\"7310\",\"type\":\"BoxAnnotation\"},{\"attributes\":{\"data\":{\"x\":[0,1,2,3,4,5,6,7,8,9,10,11,12,13,14,15,16,17,18,19,20],\"y\":{\"__ndarray__\":\"qQmGsG4M8r/cVB80sP/xv/A+22v/9fG/kjhYbQTy8b8IplkiHu3xv9hem0fH4vG/fVbHlCLb8b9xgITQtdHxv/8RGhPuy/G/ZOH4r6XH8b/2cKW5bcHxv9z2VsuwvPG/S0244oi58b9vpbLeuLjxv3EYaAuCufG/DWl1NrO18b9ChI3v3rXxv1GaKXlcsfG/NIixP/Wk8b8GxZyRM5Lxv3B4BP8xgPG/\",\"dtype\":\"float64\",\"order\":\"little\",\"shape\":[21]}},\"selected\":{\"id\":\"7398\"},\"selection_policy\":{\"id\":\"7397\"}},\"id\":\"7378\",\"type\":\"ColumnDataSource\"},{\"attributes\":{},\"id\":\"7301\",\"type\":\"BasicTicker\"},{\"attributes\":{\"source\":{\"id\":\"7320\"}},\"id\":\"7325\",\"type\":\"CDSView\"},{\"attributes\":{},\"id\":\"7292\",\"type\":\"LinearScale\"},{\"attributes\":{},\"id\":\"7354\",\"type\":\"Selection\"}],\"root_ids\":[\"7285\"]},\"title\":\"Bokeh Application\",\"version\":\"2.4.3\"}};\n  const render_items = [{\"docid\":\"be6ade33-d034-4432-9de4-22bee82965b5\",\"root_ids\":[\"7285\"],\"roots\":{\"7285\":\"44f592c0-4fe6-4b15-b364-cb18d5bd6318\"}}];\n  root.Bokeh.embed.embed_items_notebook(docs_json, render_items);\n  }\n  if (root.Bokeh !== undefined) {\n    embed_document(root);\n  } else {\n    let attempts = 0;\n    const timer = setInterval(function(root) {\n      if (root.Bokeh !== undefined) {\n        clearInterval(timer);\n        embed_document(root);\n      } else {\n        attempts++;\n        if (attempts > 100) {\n          clearInterval(timer);\n          console.log(\"Bokeh: ERROR: Unable to run BokehJS code because BokehJS library is missing\");\n        }\n      }\n    }, 10, root)\n  }\n})(window);",
      "application/vnd.bokehjs_exec.v0+json": ""
     },
     "metadata": {
      "application/vnd.bokehjs_exec.v0+json": {
       "id": "7285"
      }
     },
     "output_type": "display_data"
    }
   ],
   "source": [
    "ind = randint(0,len(y_test)-1)\n",
    "print(ind)\n",
    "\n",
    "p = figure(title=f\"Comparaison\", x_axis_label='time', y_axis_label='value ($)',width=1500, height=600,)\n",
    "# Add the HoverTool to the figure\n",
    "p.add_tools(HoverTool(\n",
    "    tooltips=[\n",
    "    (\"Price\", \"@y{0.00} $\"),\n",
    "], formatters={\n",
    "        '$x': 'datetime',\n",
    "        '$y' : 'printf',\n",
    "    },\n",
    "    mode='vline'\n",
    "))\n",
    "p.line(list(range(len(y_test[ind]))), (pred_conv[ind].reshape(OUTPUT_SIZE)+ pred_lstm[ind].reshape(OUTPUT_SIZE))/2, legend_label=\"LSTM x Conv Prediction\", line_width=2, color='green')\n",
    "p.line(list(range(len(y_test[ind]))), pred_lstm[ind].reshape(OUTPUT_SIZE), legend_label=\"LSTM Prediction\", line_width=2, color='orange',line_dash='dashed',alpha=.3)\n",
    "p.line(list(range(len(y_test[ind]))), pred_conv[ind].reshape(OUTPUT_SIZE), legend_label=\"Conv Prediction\", line_width=2, color='red',line_dash='dashed',alpha=.3)\n",
    "p.line(list(range(len(y_test[ind]))), y_test[ind].reshape(OUTPUT_SIZE), legend_label=LABEL_COL, line_width=2, )\n",
    "vline = Span(location=COVERAGE_STEPS, dimension='height', line_color='black', line_width=2,line_dash='dashed')\n",
    "p.renderers.extend([vline])\n",
    "p.legend.location = \"top_left\"\n",
    "\n",
    "show(p)"
   ]
  },
  {
   "cell_type": "markdown",
   "metadata": {},
   "source": [
    "# Prediction price movement"
   ]
  },
  {
   "cell_type": "code",
   "execution_count": 9,
   "metadata": {},
   "outputs": [
    {
     "data": {
      "text/plain": [
       "Date\n",
       "2020-10-01 00:00:00    10619.13\n",
       "2020-10-01 12:00:00    10436.63\n",
       "2020-10-02 00:00:00    10570.40\n",
       "2020-10-02 12:00:00    10536.65\n",
       "2020-10-03 00:00:00    10542.06\n",
       "                         ...   \n",
       "2022-09-25 12:00:00    18876.62\n",
       "2022-09-26 00:00:00    19227.82\n",
       "2022-09-26 12:00:00    20229.26\n",
       "2022-09-27 00:00:00    20313.58\n",
       "2022-09-27 12:00:00         NaN\n",
       "Freq: 12H, Name: Close, Length: 1454, dtype: float64"
      ]
     },
     "execution_count": 9,
     "metadata": {},
     "output_type": "execute_result"
    }
   ],
   "source": [
    "df['Close'].shift(-1)"
   ]
  },
  {
   "cell_type": "code",
   "execution_count": 30,
   "metadata": {},
   "outputs": [
    {
     "data": {
      "text/plain": [
       "Date\n",
       "2022-09-23 00:00:00    0.0\n",
       "2022-09-23 12:00:00    1.0\n",
       "2022-09-24 00:00:00    0.0\n",
       "2022-09-24 12:00:00    0.0\n",
       "2022-09-25 00:00:00    1.0\n",
       "2022-09-25 12:00:00    0.0\n",
       "2022-09-26 00:00:00    1.0\n",
       "2022-09-26 12:00:00    1.0\n",
       "2022-09-27 00:00:00    1.0\n",
       "2022-09-27 12:00:00    1.0\n",
       "Freq: 12H, Name: Close, dtype: float64"
      ]
     },
     "execution_count": 30,
     "metadata": {},
     "output_type": "execute_result"
    }
   ],
   "source": [
    "df['Close'].rolling(2).apply(lambda x: x.iloc[1] > x.iloc[0]).tail(10)"
   ]
  },
  {
   "cell_type": "code",
   "execution_count": 31,
   "metadata": {},
   "outputs": [
    {
     "data": {
      "text/plain": [
       "Date\n",
       "2022-09-23 00:00:00    18862.72\n",
       "2022-09-23 12:00:00    19289.91\n",
       "2022-09-24 00:00:00    19051.63\n",
       "2022-09-24 12:00:00    18920.50\n",
       "2022-09-25 00:00:00    19117.94\n",
       "2022-09-25 12:00:00    18807.38\n",
       "2022-09-26 00:00:00    18876.62\n",
       "2022-09-26 12:00:00    19227.82\n",
       "2022-09-27 00:00:00    20229.26\n",
       "2022-09-27 12:00:00    20313.58\n",
       "Freq: 12H, Name: Close, dtype: float64"
      ]
     },
     "execution_count": 31,
     "metadata": {},
     "output_type": "execute_result"
    }
   ],
   "source": [
    "df['Close'].tail(10)"
   ]
  },
  {
   "cell_type": "code",
   "execution_count": 61,
   "metadata": {},
   "outputs": [
    {
     "name": "stdout",
     "output_type": "stream",
     "text": [
      "BTC : (1454, 37)\n",
      "Threshold :  0.3 Result :  0.5909090909090909\n",
      "Threshold :  0.32 Result :  0.5977961432506887\n",
      "Threshold :  0.34 Result :  0.6129476584022039\n",
      "Threshold :  0.36 Result :  0.6129476584022039\n",
      "Threshold :  0.38 Result :  0.6033057851239669\n",
      "Threshold :  0.4 Result :  0.5977961432506887\n",
      "Threshold :  0.42 Result :  0.6046831955922864\n",
      "Threshold :  0.44 Result :  0.6046831955922864\n",
      "Threshold :  0.46 Result :  0.6046831955922864\n",
      "Threshold :  0.48 Result :  0.6115702479338843\n",
      "Threshold :  0.5 Result :  0.6033057851239669\n",
      "Threshold :  0.52 Result :  0.6005509641873278\n",
      "Threshold :  0.54 Result :  0.5950413223140496\n",
      "Threshold :  0.56 Result :  0.5909090909090909\n",
      "Threshold :  0.58 Result :  0.5785123966942148\n",
      "Threshold :  0.6 Result :  0.5661157024793388\n",
      "Threshold :  0.62 Result :  0.5495867768595041\n",
      "Threshold :  0.64 Result :  0.5440771349862259\n",
      "Threshold :  0.66 Result :  0.5440771349862259\n",
      "Threshold :  0.68 Result :  0.5247933884297521\n"
     ]
    }
   ],
   "source": [
    "def getCurrencies(symbol:str):\n",
    "    df = loadFromDB(symbol,'12h')\n",
    "    df = addIndicators(df,derivative=True, b_engulfings=True)\n",
    "    #df = computeLaggingLinearRegression(df, 'Close',20, False,derivative=False)\n",
    "    #df = computeStochasticLinearRegression(df,\"Close\")\n",
    "    df = computeTrixIndicator(df, col='Close')\n",
    "    df = generateDatesFeatures(df)\n",
    "    df = getFearAndGreedIndicator(df)\n",
    "    df = computeEMD(df)\n",
    "    df.dropna(inplace=True)\n",
    "    df.drop(columns=['Timestamp',],inplace=True)#'Close','Open','High','Low'\n",
    "    print(f'{symbol} : {df.shape}')\n",
    "    df['Direction'] = df['Close'].rolling(2).apply(lambda x: x.iloc[1] > x.iloc[0])\n",
    "    return df.dropna()\n",
    "\n",
    "df = getCurrencies('BTC')\n",
    "SHIFT=1\n",
    "\n",
    "from sklearn.preprocessing import MinMaxScaler, StandardScaler\n",
    "from sklearn.model_selection import train_test_split\n",
    "X = StandardScaler().fit_transform(df.iloc[:-SHIFT].values)\n",
    "y = df['Direction'].iloc[SHIFT:].values\n",
    "X_train, X_test, y_train, y_test =  train_test_split(X,y,shuffle=True,test_size=0.5,)\n",
    "\n",
    "from sklearn.ensemble import RandomForestClassifier\n",
    "from sklearn.ensemble import GradientBoostingClassifier\n",
    "\n",
    "\n",
    "clf = GradientBoostingClassifier()#RandomForestClassifier(n_estimators=70, max_depth=5,)\n",
    "\n",
    "clf.fit(X_train, y_train)\n",
    "clf.score(X_test, y_test)\n",
    "\n",
    "\n",
    "for threshold in range(30,70,2):\n",
    "    df_res = pd.DataFrame(clf.predict_proba(X_test),columns=['Down','Up'])\n",
    "    df_res['True_y'] = y_test\n",
    "    df_res['Pred_y'] = df_res.apply(lambda x:1.0 if x['Up'] > threshold/100 else 0.0,axis=1)\n",
    "    df_res['Validation'] = df_res.apply(lambda x:1.0 if x['True_y'] == x['Pred_y'] else 0.0,axis=1)\n",
    "    print('Threshold : ',threshold/100, 'Result : ',df_res['Validation'].sum()/len(df_res))\n"
   ]
  },
  {
   "cell_type": "markdown",
   "metadata": {},
   "source": [
    "# Tuning"
   ]
  },
  {
   "cell_type": "code",
   "execution_count": null,
   "metadata": {},
   "outputs": [],
   "source": [
    "#import keras_tuner\n",
    "#\n",
    "#def build_model(hp):\n",
    "#    CONV_WIDTH = hp.Int(\"CONV_WIDTH\", min_value=2, max_value=6, step=2)\n",
    "#    model = tf.keras.Sequential([\n",
    "#        # Shape [batch, time, features] => [batch, CONV_WIDTH, features]\n",
    "#        tf.keras.layers.Lambda(lambda x: x[:, -CONV_WIDTH:, :]),\n",
    "#        # Shape => [batch, 1, conv_units]\n",
    "#        tf.keras.layers.Conv1D(256, activation=hp.Choice(\"activation\", [\"relu\", \"tanh\"]), kernel_size=(CONV_WIDTH)),\n",
    "#        # Shape => [batch, 1,  out_steps*features]\n",
    "#        tf.keras.layers.Dense(OUTPUT_SIZE*1,\n",
    "#                            kernel_initializer=tf.initializers.zeros()),\n",
    "#        # Shape => [batch, out_steps, features]\n",
    "#        tf.keras.layers.Reshape([OUTPUT_SIZE, 1])\n",
    "#    ])\n",
    "#\n",
    "#    early_stopping = tf.keras.callbacks.EarlyStopping(monitor='val_loss',\n",
    "#                                                        patience=8,\n",
    "#                                                        mode='min')\n",
    "#\n",
    "#    lr = hp.Float(\"lr\", min_value=1e-4, max_value=1e-2, sampling=\"log\")\n",
    "#    model.compile(loss=tf.keras.losses.MeanSquaredError(),\n",
    "#                optimizer=tf.keras.optimizers.Adam(learning_rate=lr),\n",
    "#                metrics=[tf.keras.metrics.MeanAbsoluteError()])\n",
    "#    return model\n",
    "#\n",
    "#\n",
    "##build_model(keras_tuner.HyperParameters())\n",
    "#\n",
    "#tuner = keras_tuner.RandomSearch(\n",
    "#    hypermodel=build_model,\n",
    "#    objective=\"val_mean_absolute_error\",\n",
    "#    max_trials=10,\n",
    "#    executions_per_trial=1,\n",
    "#    overwrite=True,\n",
    "#    #directory=\"my_dir\",\n",
    "#    #project_name=\"helloworld\",\n",
    "#)\n",
    "#tuner.search_space_summary()\n",
    "#\n",
    "#\n",
    "#tuner.search(X,\n",
    "#            y,\n",
    "#            epochs=30,\n",
    "#            validation_split=0.2,\n",
    "#            #callbacks=[early_stopping],\n",
    "#            use_multiprocessing=True)\n",
    "#            \n",
    "#models = tuner.get_best_models(num_models=2)\n",
    "#model = models[0]"
   ]
  },
  {
   "cell_type": "code",
   "execution_count": 59,
   "metadata": {},
   "outputs": [],
   "source": [
    "class TFLiteModel:\n",
    "    \"\"\"Wrapper class for loading and using a tflite model.\"\"\"\n",
    "    def __init__(self, model_path: str)-> None:\n",
    "        \"\"\"Constructor : load tflite model.\n",
    "\n",
    "        Args:\n",
    "            model_path (str): The path to the model.\n",
    "        \"\"\"\n",
    "        self._interpreter = tf.lite.Interpreter(model_path=model_path)\n",
    "        self._interpreter.allocate_tensors()\n",
    "        \n",
    "    def predict(self, input_data:np.ndarray,unscale_data:bool=False) -> np.ndarray:   \n",
    "             \n",
    "        input_details = self._interpreter.get_input_details()\n",
    "        output_details = self._interpreter.get_output_details()\n",
    "        assert input_data.shape == tuple(input_details[0]['shape'])\n",
    "        \n",
    "        self._interpreter.set_tensor(input_details[0]['index'], np.float32(input_data))\n",
    "        self._interpreter.invoke()\n",
    "        output_data = self._interpreter.get_tensor(output_details[0]['index'])\n",
    "        return output_data"
   ]
  },
  {
   "cell_type": "code",
   "execution_count": 72,
   "metadata": {},
   "outputs": [
    {
     "name": "stdout",
     "output_type": "stream",
     "text": [
      "1/1 [==============================] - 0s 312ms/step\n"
     ]
    },
    {
     "data": {
      "text/plain": [
       "array([[[ 1.6916391e-02],\n",
       "        [ 5.9132818e-03],\n",
       "        [-4.5452788e-03],\n",
       "        [-1.1907976e-02],\n",
       "        [-1.1918915e-02],\n",
       "        [ 7.2451495e-04],\n",
       "        [ 2.7115535e-02],\n",
       "        [ 7.0385814e-02],\n",
       "        [ 1.3892455e-01],\n",
       "        [ 2.2964500e-01],\n",
       "        [ 3.4193736e-01],\n",
       "        [ 4.7728604e-01],\n",
       "        [ 6.2671155e-01],\n",
       "        [ 7.7918184e-01],\n",
       "        [ 9.2151755e-01],\n",
       "        [ 1.0459557e+00],\n",
       "        [ 1.1578847e+00],\n",
       "        [ 1.2516888e+00],\n",
       "        [ 1.3165712e+00],\n",
       "        [ 1.3439410e+00],\n",
       "        [ 1.3241885e+00],\n",
       "        [ 1.2188883e+00],\n",
       "        [ 1.0429329e+00],\n",
       "        [ 8.1587952e-01],\n",
       "        [ 5.3970832e-01],\n",
       "        [ 2.2437508e-01],\n",
       "        [-1.2387420e-01],\n",
       "        [-4.9179712e-01],\n",
       "        [-8.6253297e-01],\n",
       "        [-1.2226083e+00],\n",
       "        [-1.5615782e+00],\n",
       "        [-1.8622689e+00],\n",
       "        [-2.1124802e+00],\n",
       "        [-2.2995503e+00],\n",
       "        [-2.4196582e+00],\n",
       "        [-2.4709282e+00],\n",
       "        [-2.4529319e+00],\n",
       "        [-2.3751953e+00],\n",
       "        [-2.2397428e+00],\n",
       "        [-2.0508084e+00]]], dtype=float32)"
      ]
     },
     "execution_count": 72,
     "metadata": {},
     "output_type": "execute_result"
    }
   ],
   "source": [
    "class TFModel:\n",
    "    \"\"\"Wrapper class for loading and using a tflite model.\"\"\"\n",
    "    def __init__(self, model_path: str)-> None:\n",
    "        \"\"\"Constructor : load tflite model.\n",
    "\n",
    "        Args:\n",
    "            model_path (str): The path to the model.\n",
    "        \"\"\"\n",
    "        #self._interpreter = Interpreter(model_path=model_path)\n",
    "        self._model = tf.keras.models.load_model(model_path)\n",
    "\n",
    "        \n",
    "    def predict(self, input_data:np.ndarray,unscale_data:bool=False) -> np.ndarray:   \n",
    "        assert input_data.shape[1] == self._model.input_shape[1]\n",
    "        assert input_data.shape[2] == self._model.input_shape[2]\n",
    "        output_data = self._model.predict(input_data)\n",
    "        return output_data\n",
    "\n",
    "lstm_model_loaded = TFModel(f'./Models/BTC_lstm_model.h5')\n",
    "lstm_model_loaded.predict(np.float32(X[9683].reshape(1,60,38)))"
   ]
  },
  {
   "cell_type": "code",
   "execution_count": 60,
   "metadata": {},
   "outputs": [
    {
     "name": "stderr",
     "output_type": "stream",
     "text": [
      "WARNING:absl:Found untraced functions such as _jit_compiled_convolution_op while saving (showing 1 of 1). These functions will not be directly callable after loading.\n"
     ]
    },
    {
     "name": "stdout",
     "output_type": "stream",
     "text": [
      "INFO:tensorflow:Assets written to: C:\\Users\\admin\\AppData\\Local\\Temp\\tmpfrkj20xo\\assets\n"
     ]
    },
    {
     "name": "stderr",
     "output_type": "stream",
     "text": [
      "INFO:tensorflow:Assets written to: C:\\Users\\admin\\AppData\\Local\\Temp\\tmpfrkj20xo\\assets\n",
      "WARNING:absl:Found untraced functions such as lstm_cell_10_layer_call_fn, lstm_cell_10_layer_call_and_return_conditional_losses while saving (showing 2 of 2). These functions will not be directly callable after loading.\n"
     ]
    },
    {
     "name": "stdout",
     "output_type": "stream",
     "text": [
      "INFO:tensorflow:Assets written to: C:\\Users\\admin\\AppData\\Local\\Temp\\tmpm8wjg3ll\\assets\n"
     ]
    },
    {
     "name": "stderr",
     "output_type": "stream",
     "text": [
      "INFO:tensorflow:Assets written to: C:\\Users\\admin\\AppData\\Local\\Temp\\tmpm8wjg3ll\\assets\n"
     ]
    }
   ],
   "source": [
    "conv_model=tf.keras.models.load_model(f'./models/{SYMBOL}_conv_model.h5')\n",
    "lstm_model=tf.keras.models.load_model(f'./models/{SYMBOL}_lstm_model.h5')\n",
    "predictions = []\n",
    "# Convert the model\n",
    "for model,name in zip([conv_model,lstm_model],['conv','lstm']):\n",
    "    converter = tf.lite.TFLiteConverter.from_keras_model(model)\n",
    "    converter.allow_custom_ops = True\n",
    "    converter.target_spec.supported_ops = [\n",
    "      tf.lite.OpsSet.TFLITE_BUILTINS, # enable TensorFlow Lite ops.\n",
    "      tf.lite.OpsSet.SELECT_TF_OPS # enable TensorFlow ops.\n",
    "    ]\n",
    "    tflite_model = converter.convert()\n",
    "    # Save the model.\n",
    "    with open(f'./models/{SYMBOL}_{name}.tflite', 'wb') as f:\n",
    "      f.write(tflite_model)\n",
    "\n",
    "    current_model = TFLiteModel(f'./models/{SYMBOL}_{name}.tflite')\n",
    "    predictions.append(current_model.predict(np.float32(X[9683].reshape(1,60,38))).reshape(40))\n"
   ]
  },
  {
   "cell_type": "code",
   "execution_count": 62,
   "metadata": {},
   "outputs": [
    {
     "data": {
      "text/html": [
       "\n",
       "  <div class=\"bk-root\" id=\"9076990a-2195-42df-91d2-954598019764\" data-root-id=\"6118\"></div>\n"
      ]
     },
     "metadata": {},
     "output_type": "display_data"
    },
    {
     "data": {
      "application/javascript": "(function(root) {\n  function embed_document(root) {\n  const docs_json = {\"84a54612-2be3-45db-ae8a-ac166fe32859\":{\"defs\":[],\"roots\":{\"references\":[{\"attributes\":{\"below\":[{\"id\":\"6129\"}],\"center\":[{\"id\":\"6132\"},{\"id\":\"6136\"},{\"id\":\"6169\"}],\"left\":[{\"id\":\"6133\"}],\"renderers\":[{\"id\":\"6157\"},{\"id\":\"6175\"},{\"id\":\"6190\"}],\"title\":{\"id\":\"6119\"},\"toolbar\":{\"id\":\"6144\"},\"width\":1500,\"x_range\":{\"id\":\"6121\"},\"x_scale\":{\"id\":\"6125\"},\"y_range\":{\"id\":\"6123\"},\"y_scale\":{\"id\":\"6127\"}},\"id\":\"6118\",\"subtype\":\"Figure\",\"type\":\"Plot\"},{\"attributes\":{},\"id\":\"6138\",\"type\":\"WheelZoomTool\"},{\"attributes\":{\"line_alpha\":0.1,\"line_color\":\"#1f77b4\",\"line_width\":2,\"x\":{\"field\":\"x\"},\"y\":{\"field\":\"y\"}},\"id\":\"6173\",\"type\":\"Line\"},{\"attributes\":{\"line_alpha\":0.2,\"line_color\":\"orange\",\"line_width\":2,\"x\":{\"field\":\"x\"},\"y\":{\"field\":\"y\"}},\"id\":\"6156\",\"type\":\"Line\"},{\"attributes\":{},\"id\":\"6167\",\"type\":\"Selection\"},{\"attributes\":{\"coordinates\":null,\"group\":null,\"text\":\"Comparaison\"},\"id\":\"6119\",\"type\":\"Title\"},{\"attributes\":{\"coordinates\":null,\"group\":null,\"items\":[{\"id\":\"6170\"},{\"id\":\"6189\"}],\"location\":\"top_left\"},\"id\":\"6169\",\"type\":\"Legend\"},{\"attributes\":{},\"id\":\"6140\",\"type\":\"SaveTool\"},{\"attributes\":{},\"id\":\"6161\",\"type\":\"BasicTickFormatter\"},{\"attributes\":{},\"id\":\"6162\",\"type\":\"AllLabels\"},{\"attributes\":{},\"id\":\"6164\",\"type\":\"BasicTickFormatter\"},{\"attributes\":{\"line_alpha\":0.1,\"line_color\":\"orange\",\"line_width\":2,\"x\":{\"field\":\"x\"},\"y\":{\"field\":\"y\"}},\"id\":\"6155\",\"type\":\"Line\"},{\"attributes\":{\"label\":{\"value\":\"LSTM x Conv Prediction\"},\"renderers\":[{\"id\":\"6157\"}]},\"id\":\"6170\",\"type\":\"LegendItem\"},{\"attributes\":{\"source\":{\"id\":\"6153\"}},\"id\":\"6158\",\"type\":\"CDSView\"},{\"attributes\":{\"tools\":[{\"id\":\"6137\"},{\"id\":\"6138\"},{\"id\":\"6139\"},{\"id\":\"6140\"},{\"id\":\"6141\"},{\"id\":\"6142\"},{\"id\":\"6151\"}]},\"id\":\"6144\",\"type\":\"Toolbar\"},{\"attributes\":{\"line_alpha\":0.2,\"line_color\":\"#1f77b4\",\"line_width\":2,\"x\":{\"field\":\"x\"},\"y\":{\"field\":\"y\"}},\"id\":\"6174\",\"type\":\"Line\"},{\"attributes\":{\"line_color\":\"#1f77b4\",\"line_width\":2,\"x\":{\"field\":\"x\"},\"y\":{\"field\":\"y\"}},\"id\":\"6172\",\"type\":\"Line\"},{\"attributes\":{},\"id\":\"6137\",\"type\":\"PanTool\"},{\"attributes\":{\"callback\":null,\"formatters\":{\"$x\":\"datetime\",\"$y\":\"printf\"},\"mode\":\"vline\",\"tooltips\":[[\"Price\",\"@y{0.00} $\"]]},\"id\":\"6151\",\"type\":\"HoverTool\"},{\"attributes\":{\"axis_label\":\"value ($)\",\"coordinates\":null,\"formatter\":{\"id\":\"6161\"},\"group\":null,\"major_label_policy\":{\"id\":\"6162\"},\"ticker\":{\"id\":\"6134\"}},\"id\":\"6133\",\"type\":\"LinearAxis\"},{\"attributes\":{},\"id\":\"6187\",\"type\":\"Selection\"},{\"attributes\":{\"overlay\":{\"id\":\"6143\"}},\"id\":\"6139\",\"type\":\"BoxZoomTool\"},{\"attributes\":{},\"id\":\"6134\",\"type\":\"BasicTicker\"},{\"attributes\":{\"source\":{\"id\":\"6171\"}},\"id\":\"6176\",\"type\":\"CDSView\"},{\"attributes\":{\"coordinates\":null,\"data_source\":{\"id\":\"6171\"},\"glyph\":{\"id\":\"6172\"},\"group\":null,\"hover_glyph\":null,\"muted_glyph\":{\"id\":\"6174\"},\"nonselection_glyph\":{\"id\":\"6173\"},\"view\":{\"id\":\"6176\"}},\"id\":\"6175\",\"type\":\"GlyphRenderer\"},{\"attributes\":{\"bottom_units\":\"screen\",\"coordinates\":null,\"fill_alpha\":0.5,\"fill_color\":\"lightgrey\",\"group\":null,\"left_units\":\"screen\",\"level\":\"overlay\",\"line_alpha\":1.0,\"line_color\":\"black\",\"line_dash\":[4,4],\"line_width\":2,\"right_units\":\"screen\",\"syncable\":false,\"top_units\":\"screen\"},\"id\":\"6143\",\"type\":\"BoxAnnotation\"},{\"attributes\":{\"data\":{\"x\":[0,1,2,3,4,5,6,7,8,9,10,11,12,13,14,15,16,17,18,19,20,21,22,23,24,25,26,27,28,29,30,31,32,33,34,35,36,37,38,39],\"y\":{\"__ndarray__\":\"zXiePn19lz7oXJE+MW+KPhyqhz7D/4g+cqWPPkajnz7+rrc+gZLaPrzSAz9UVRw/Oug1PxYTTz8XQGc/nNF+P+oyiT8QkZQ/YPqdP3Rbnz9EUJg/2niGP6lBVj92ghE/FLSBPvOwyb0+TPm+ZQdkv/k+pr+Wldi/iIcDwA/BGMCk7irAgHY5wKfLQ8DsZEnAskNJwAhYQsAzyjXA9pUnwA==\",\"dtype\":\"float32\",\"order\":\"little\",\"shape\":[40]}},\"selected\":{\"id\":\"6167\"},\"selection_policy\":{\"id\":\"6166\"}},\"id\":\"6153\",\"type\":\"ColumnDataSource\"},{\"attributes\":{},\"id\":\"6186\",\"type\":\"UnionRenderers\"},{\"attributes\":{},\"id\":\"6127\",\"type\":\"LinearScale\"},{\"attributes\":{\"axis\":{\"id\":\"6129\"},\"coordinates\":null,\"group\":null,\"ticker\":null},\"id\":\"6132\",\"type\":\"Grid\"},{\"attributes\":{},\"id\":\"6166\",\"type\":\"UnionRenderers\"},{\"attributes\":{},\"id\":\"6123\",\"type\":\"DataRange1d\"},{\"attributes\":{},\"id\":\"6125\",\"type\":\"LinearScale\"},{\"attributes\":{\"coordinates\":null,\"dimension\":\"height\",\"group\":null,\"line_dash\":[6],\"line_width\":2,\"location\":20},\"id\":\"6190\",\"type\":\"Span\"},{\"attributes\":{\"axis_label\":\"time\",\"coordinates\":null,\"formatter\":{\"id\":\"6164\"},\"group\":null,\"major_label_policy\":{\"id\":\"6165\"},\"ticker\":{\"id\":\"6130\"}},\"id\":\"6129\",\"type\":\"LinearAxis\"},{\"attributes\":{\"data\":{\"x\":[0,1,2,3,4,5,6,7,8,9,10,11,12,13,14,15,16,17,18,19,20,21,22,23,24,25,26,27,28,29,30,31,32,33,34,35,36,37,38,39],\"y\":{\"__ndarray__\":\"1v7aTFQ/2z9hDUx4Ef3WP1scJWSHxsM/GKUvlB7jn787mT7wtczRv06ngsfxl9q/SxmXotpk4b8bLnYNQhLXv4vRDevY5Lq/WYvTWmNHtz/9M1WKzLnFP5azTFTwf9E/3uNqRuEp4D/74Eepb4XpP1Y4zLHLmfA/RoesikvI9D9r555bfOb2P3EJkCfzEPc/ImHRjo5u9z8bAQuRsJX1P2cXngy+yPM/Nabg3DCo8T+msd+VuSLwP3J1bP6GK+Y/tj6VMjje3j8CKHXnjR3QP25X06pZdNK/rTEqaNS3578UEh72sYXxv/RyXw8Xn/O/HuMgaWK79L+124J2vir6v0TGO5o5QgDAZB18l4R0AsCg/qSIxN4EwBOHZekHQwfAXAcvfLFCDMDZjLQsRqsMwAKTlSbi2wzAzxa2+4YQDcA=\",\"dtype\":\"float64\",\"order\":\"little\",\"shape\":[40]}},\"selected\":{\"id\":\"6187\"},\"selection_policy\":{\"id\":\"6186\"}},\"id\":\"6171\",\"type\":\"ColumnDataSource\"},{\"attributes\":{\"axis\":{\"id\":\"6133\"},\"coordinates\":null,\"dimension\":1,\"group\":null,\"ticker\":null},\"id\":\"6136\",\"type\":\"Grid\"},{\"attributes\":{},\"id\":\"6141\",\"type\":\"ResetTool\"},{\"attributes\":{\"label\":{\"value\":\"B_MLR_coefs\"},\"renderers\":[{\"id\":\"6175\"}]},\"id\":\"6189\",\"type\":\"LegendItem\"},{\"attributes\":{},\"id\":\"6142\",\"type\":\"HelpTool\"},{\"attributes\":{},\"id\":\"6165\",\"type\":\"AllLabels\"},{\"attributes\":{\"line_color\":\"orange\",\"line_width\":2,\"x\":{\"field\":\"x\"},\"y\":{\"field\":\"y\"}},\"id\":\"6154\",\"type\":\"Line\"},{\"attributes\":{},\"id\":\"6121\",\"type\":\"DataRange1d\"},{\"attributes\":{\"coordinates\":null,\"data_source\":{\"id\":\"6153\"},\"glyph\":{\"id\":\"6154\"},\"group\":null,\"hover_glyph\":null,\"muted_glyph\":{\"id\":\"6156\"},\"nonselection_glyph\":{\"id\":\"6155\"},\"view\":{\"id\":\"6158\"}},\"id\":\"6157\",\"type\":\"GlyphRenderer\"},{\"attributes\":{},\"id\":\"6130\",\"type\":\"BasicTicker\"}],\"root_ids\":[\"6118\"]},\"title\":\"Bokeh Application\",\"version\":\"2.4.3\"}};\n  const render_items = [{\"docid\":\"84a54612-2be3-45db-ae8a-ac166fe32859\",\"root_ids\":[\"6118\"],\"roots\":{\"6118\":\"9076990a-2195-42df-91d2-954598019764\"}}];\n  root.Bokeh.embed.embed_items_notebook(docs_json, render_items);\n  }\n  if (root.Bokeh !== undefined) {\n    embed_document(root);\n  } else {\n    let attempts = 0;\n    const timer = setInterval(function(root) {\n      if (root.Bokeh !== undefined) {\n        clearInterval(timer);\n        embed_document(root);\n      } else {\n        attempts++;\n        if (attempts > 100) {\n          clearInterval(timer);\n          console.log(\"Bokeh: ERROR: Unable to run BokehJS code because BokehJS library is missing\");\n        }\n      }\n    }, 10, root)\n  }\n})(window);",
      "application/vnd.bokehjs_exec.v0+json": ""
     },
     "metadata": {
      "application/vnd.bokehjs_exec.v0+json": {
       "id": "6118"
      }
     },
     "output_type": "display_data"
    }
   ],
   "source": [
    "p = figure(title=f\"Comparaison\", x_axis_label='time', y_axis_label='value ($)',width=1500, height=600,)\n",
    "# Add the HoverTool to the figure\n",
    "p.add_tools(HoverTool(\n",
    "    tooltips=[\n",
    "    (\"Price\", \"@y{0.00} $\"),\n",
    "], formatters={\n",
    "        '$x': 'datetime',\n",
    "        '$y' : 'printf',\n",
    "    },\n",
    "    mode='vline'\n",
    "))\n",
    "p.line(list(range(len(predictions[1]))), (predictions[1].reshape(OUTPUT_SIZE)+ predictions[0].reshape(OUTPUT_SIZE))/2, legend_label=\"LSTM x Conv Prediction\", line_width=2, color='orange')\n",
    "p.line(list(range(len(predictions[1]))), y[9683].reshape(OUTPUT_SIZE), legend_label=\"B_MLR_coefs\", line_width=2, )\n",
    "vline = Span(location=COVERAGE_STEPS, dimension='height', line_color='black', line_width=2,line_dash='dashed')\n",
    "p.renderers.extend([vline])\n",
    "p.legend.location = \"top_left\"\n",
    "show(p)"
   ]
  },
  {
   "cell_type": "code",
   "execution_count": null,
   "metadata": {},
   "outputs": [],
   "source": [
    "import numpy as np\n",
    "import tensorflow as tf\n",
    "\n",
    "# Load TFLite model and allocate tensors.\n",
    "interpreter = tf.lite.Interpreter(model_path=\"./model.tflite\")\n",
    "interpreter.allocate_tensors()\n",
    "\n",
    "# Get input and output tensors.\n",
    "input_details = interpreter.get_input_details()\n",
    "output_details = interpreter.get_output_details()\n",
    "\n",
    "# Test model on random input data.\n",
    "input_shape = input_details[0]['shape']\n",
    "input_data = np.float32(X)#np.array(np.float32(X[-1].reshape(1,60,38)), dtype=np.float32)\n",
    "interpreter.set_tensor(input_details[0]['index'],np.float32(X[-1].reshape(1,60,38)))\n",
    "interpreter.invoke()\n",
    "\n",
    "# The function `get_tensor()` returns a copy of the tensor data.\n",
    "# Use `tensor()` in order to get a pointer to the tensor.\n",
    "output_data = interpreter.get_tensor(output_details[0]['index'])\n",
    "print(output_data)"
   ]
  },
  {
   "cell_type": "code",
   "execution_count": 139,
   "metadata": {},
   "outputs": [
    {
     "data": {
      "text/plain": [
       "array([ 2.81817043e-04,  1.80724728e-04, -9.02046784e-05, ...,\n",
       "        6.11131997e-05, -2.60066834e-05, -8.37984545e-04])"
      ]
     },
     "execution_count": 139,
     "metadata": {},
     "output_type": "execute_result"
    }
   ],
   "source": [
    "df.B_MLR_coefs.values\n"
   ]
  },
  {
   "cell_type": "code",
   "execution_count": 140,
   "metadata": {},
   "outputs": [
    {
     "data": {
      "text/plain": [
       "array([-0.00382623, -0.00524257, -0.00597959, -0.00604487, -0.00516733,\n",
       "       -0.00501163, -0.00449779, -0.00386011, -0.00400485, -0.00375702,\n",
       "       -0.00344385, -0.00304197, -0.00313159, -0.00264799, -0.00356175,\n",
       "       -0.00303906, -0.00250716,  0.00064374,  0.00176276,  0.00520646,\n",
       "        0.00802915,  0.01000458,  0.00997781,  0.01054154,  0.01024669,\n",
       "        0.00866046,  0.00766866,  0.0082461 ,  0.00879483,  0.0097452 ,\n",
       "        0.01036937,  0.00972864,  0.00815944,  0.00612878,  0.00232412,\n",
       "       -0.00146018, -0.00498969, -0.00818477, -0.01031332, -0.01007655],\n",
       "      dtype=float32)"
      ]
     },
     "execution_count": 140,
     "metadata": {},
     "output_type": "execute_result"
    }
   ],
   "source": [
    "output_data[0].reshape(40)*df.B_MLR_coefs.std()+df.B_MLR_coefs.mean()"
   ]
  },
  {
   "cell_type": "code",
   "execution_count": 144,
   "metadata": {},
   "outputs": [
    {
     "ename": "ValueError",
     "evalue": "all the input array dimensions for the concatenation axis must match exactly, but along dimension 1, the array at index 0 has size 23184 and the array at index 1 has size 40",
     "output_type": "error",
     "traceback": [
      "\u001b[1;31m---------------------------------------------------------------------------\u001b[0m",
      "\u001b[1;31mValueError\u001b[0m                                Traceback (most recent call last)",
      "\u001b[1;32mc:\\ZZ_Bapt_SSH\\trading-sandbox\\multi_step_lstm.ipynb Cell 25\u001b[0m in \u001b[0;36m<cell line: 1>\u001b[1;34m()\u001b[0m\n\u001b[1;32m----> <a href='vscode-notebook-cell://ssh-remote%2B7b22686f73744e616d65223a2241444d494e2d5043227d/c%3A/ZZ_Bapt_SSH/trading-sandbox/multi_step_lstm.ipynb#Y126sdnNjb2RlLXJlbW90ZQ%3D%3D?line=0'>1</a>\u001b[0m np\u001b[39m.\u001b[39;49mvstack([df\u001b[39m.\u001b[39;49mB_MLR_coefs\u001b[39m.\u001b[39;49mvalues\n\u001b[0;32m      <a href='vscode-notebook-cell://ssh-remote%2B7b22686f73744e616d65223a2241444d494e2d5043227d/c%3A/ZZ_Bapt_SSH/trading-sandbox/multi_step_lstm.ipynb#Y126sdnNjb2RlLXJlbW90ZQ%3D%3D?line=1'>2</a>\u001b[0m ,output_data[\u001b[39m0\u001b[39;49m]\u001b[39m.\u001b[39;49mreshape(\u001b[39m40\u001b[39;49m)\u001b[39m*\u001b[39;49mdf\u001b[39m.\u001b[39;49mB_MLR_coefs\u001b[39m.\u001b[39;49mstd()\u001b[39m+\u001b[39;49mdf\u001b[39m.\u001b[39;49mB_MLR_coefs\u001b[39m.\u001b[39;49mmean()])\n",
      "File \u001b[1;32m<__array_function__ internals>:180\u001b[0m, in \u001b[0;36mvstack\u001b[1;34m(*args, **kwargs)\u001b[0m\n",
      "File \u001b[1;32mc:\\Users\\admin\\AppData\\Local\\Programs\\Python\\Python310\\lib\\site-packages\\numpy\\core\\shape_base.py:282\u001b[0m, in \u001b[0;36mvstack\u001b[1;34m(tup)\u001b[0m\n\u001b[0;32m    280\u001b[0m \u001b[39mif\u001b[39;00m \u001b[39mnot\u001b[39;00m \u001b[39misinstance\u001b[39m(arrs, \u001b[39mlist\u001b[39m):\n\u001b[0;32m    281\u001b[0m     arrs \u001b[39m=\u001b[39m [arrs]\n\u001b[1;32m--> 282\u001b[0m \u001b[39mreturn\u001b[39;00m _nx\u001b[39m.\u001b[39;49mconcatenate(arrs, \u001b[39m0\u001b[39;49m)\n",
      "File \u001b[1;32m<__array_function__ internals>:180\u001b[0m, in \u001b[0;36mconcatenate\u001b[1;34m(*args, **kwargs)\u001b[0m\n",
      "\u001b[1;31mValueError\u001b[0m: all the input array dimensions for the concatenation axis must match exactly, but along dimension 1, the array at index 0 has size 23184 and the array at index 1 has size 40"
     ]
    }
   ],
   "source": [
    "np.vstack([df.B_MLR_coefs.values\n",
    ",output_data[0].reshape(40)*df.B_MLR_coefs.std()+df.B_MLR_coefs.mean()])"
   ]
  },
  {
   "cell_type": "code",
   "execution_count": null,
   "metadata": {},
   "outputs": [],
   "source": []
  }
 ],
 "metadata": {
  "kernelspec": {
   "display_name": "Python 3.8.10 ('venv': venv)",
   "language": "python",
   "name": "python3"
  },
  "language_info": {
   "codemirror_mode": {
    "name": "ipython",
    "version": 3
   },
   "file_extension": ".py",
   "mimetype": "text/x-python",
   "name": "python",
   "nbconvert_exporter": "python",
   "pygments_lexer": "ipython3",
   "version": "3.10.6"
  },
  "orig_nbformat": 4,
  "vscode": {
   "interpreter": {
    "hash": "d58cacdab5e87910af5fd11a0a6d597df11e0910bae80574c4c81b52a6810385"
   }
  }
 },
 "nbformat": 4,
 "nbformat_minor": 2
}
