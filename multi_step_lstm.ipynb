{
 "cells": [
  {
   "cell_type": "code",
   "execution_count": 1,
   "metadata": {},
   "outputs": [
    {
     "data": {
      "text/html": [
       "<div class=\"bk-root\">\n",
       "        <a href=\"https://bokeh.org\" target=\"_blank\" class=\"bk-logo bk-logo-small bk-logo-notebook\"></a>\n",
       "        <span id=\"1002\">Loading BokehJS ...</span>\n",
       "    </div>\n"
      ]
     },
     "metadata": {},
     "output_type": "display_data"
    },
    {
     "data": {
      "application/javascript": "(function(root) {\n  function now() {\n    return new Date();\n  }\n\n  const force = true;\n\n  if (typeof root._bokeh_onload_callbacks === \"undefined\" || force === true) {\n    root._bokeh_onload_callbacks = [];\n    root._bokeh_is_loading = undefined;\n  }\n\nconst JS_MIME_TYPE = 'application/javascript';\n  const HTML_MIME_TYPE = 'text/html';\n  const EXEC_MIME_TYPE = 'application/vnd.bokehjs_exec.v0+json';\n  const CLASS_NAME = 'output_bokeh rendered_html';\n\n  /**\n   * Render data to the DOM node\n   */\n  function render(props, node) {\n    const script = document.createElement(\"script\");\n    node.appendChild(script);\n  }\n\n  /**\n   * Handle when an output is cleared or removed\n   */\n  function handleClearOutput(event, handle) {\n    const cell = handle.cell;\n\n    const id = cell.output_area._bokeh_element_id;\n    const server_id = cell.output_area._bokeh_server_id;\n    // Clean up Bokeh references\n    if (id != null && id in Bokeh.index) {\n      Bokeh.index[id].model.document.clear();\n      delete Bokeh.index[id];\n    }\n\n    if (server_id !== undefined) {\n      // Clean up Bokeh references\n      const cmd_clean = \"from bokeh.io.state import curstate; print(curstate().uuid_to_server['\" + server_id + \"'].get_sessions()[0].document.roots[0]._id)\";\n      cell.notebook.kernel.execute(cmd_clean, {\n        iopub: {\n          output: function(msg) {\n            const id = msg.content.text.trim();\n            if (id in Bokeh.index) {\n              Bokeh.index[id].model.document.clear();\n              delete Bokeh.index[id];\n            }\n          }\n        }\n      });\n      // Destroy server and session\n      const cmd_destroy = \"import bokeh.io.notebook as ion; ion.destroy_server('\" + server_id + \"')\";\n      cell.notebook.kernel.execute(cmd_destroy);\n    }\n  }\n\n  /**\n   * Handle when a new output is added\n   */\n  function handleAddOutput(event, handle) {\n    const output_area = handle.output_area;\n    const output = handle.output;\n\n    // limit handleAddOutput to display_data with EXEC_MIME_TYPE content only\n    if ((output.output_type != \"display_data\") || (!Object.prototype.hasOwnProperty.call(output.data, EXEC_MIME_TYPE))) {\n      return\n    }\n\n    const toinsert = output_area.element.find(\".\" + CLASS_NAME.split(' ')[0]);\n\n    if (output.metadata[EXEC_MIME_TYPE][\"id\"] !== undefined) {\n      toinsert[toinsert.length - 1].firstChild.textContent = output.data[JS_MIME_TYPE];\n      // store reference to embed id on output_area\n      output_area._bokeh_element_id = output.metadata[EXEC_MIME_TYPE][\"id\"];\n    }\n    if (output.metadata[EXEC_MIME_TYPE][\"server_id\"] !== undefined) {\n      const bk_div = document.createElement(\"div\");\n      bk_div.innerHTML = output.data[HTML_MIME_TYPE];\n      const script_attrs = bk_div.children[0].attributes;\n      for (let i = 0; i < script_attrs.length; i++) {\n        toinsert[toinsert.length - 1].firstChild.setAttribute(script_attrs[i].name, script_attrs[i].value);\n        toinsert[toinsert.length - 1].firstChild.textContent = bk_div.children[0].textContent\n      }\n      // store reference to server id on output_area\n      output_area._bokeh_server_id = output.metadata[EXEC_MIME_TYPE][\"server_id\"];\n    }\n  }\n\n  function register_renderer(events, OutputArea) {\n\n    function append_mime(data, metadata, element) {\n      // create a DOM node to render to\n      const toinsert = this.create_output_subarea(\n        metadata,\n        CLASS_NAME,\n        EXEC_MIME_TYPE\n      );\n      this.keyboard_manager.register_events(toinsert);\n      // Render to node\n      const props = {data: data, metadata: metadata[EXEC_MIME_TYPE]};\n      render(props, toinsert[toinsert.length - 1]);\n      element.append(toinsert);\n      return toinsert\n    }\n\n    /* Handle when an output is cleared or removed */\n    events.on('clear_output.CodeCell', handleClearOutput);\n    events.on('delete.Cell', handleClearOutput);\n\n    /* Handle when a new output is added */\n    events.on('output_added.OutputArea', handleAddOutput);\n\n    /**\n     * Register the mime type and append_mime function with output_area\n     */\n    OutputArea.prototype.register_mime_type(EXEC_MIME_TYPE, append_mime, {\n      /* Is output safe? */\n      safe: true,\n      /* Index of renderer in `output_area.display_order` */\n      index: 0\n    });\n  }\n\n  // register the mime type if in Jupyter Notebook environment and previously unregistered\n  if (root.Jupyter !== undefined) {\n    const events = require('base/js/events');\n    const OutputArea = require('notebook/js/outputarea').OutputArea;\n\n    if (OutputArea.prototype.mime_types().indexOf(EXEC_MIME_TYPE) == -1) {\n      register_renderer(events, OutputArea);\n    }\n  }\n  if (typeof (root._bokeh_timeout) === \"undefined\" || force === true) {\n    root._bokeh_timeout = Date.now() + 5000;\n    root._bokeh_failed_load = false;\n  }\n\n  const NB_LOAD_WARNING = {'data': {'text/html':\n     \"<div style='background-color: #fdd'>\\n\"+\n     \"<p>\\n\"+\n     \"BokehJS does not appear to have successfully loaded. If loading BokehJS from CDN, this \\n\"+\n     \"may be due to a slow or bad network connection. Possible fixes:\\n\"+\n     \"</p>\\n\"+\n     \"<ul>\\n\"+\n     \"<li>re-rerun `output_notebook()` to attempt to load from CDN again, or</li>\\n\"+\n     \"<li>use INLINE resources instead, as so:</li>\\n\"+\n     \"</ul>\\n\"+\n     \"<code>\\n\"+\n     \"from bokeh.resources import INLINE\\n\"+\n     \"output_notebook(resources=INLINE)\\n\"+\n     \"</code>\\n\"+\n     \"</div>\"}};\n\n  function display_loaded() {\n    const el = document.getElementById(\"1002\");\n    if (el != null) {\n      el.textContent = \"BokehJS is loading...\";\n    }\n    if (root.Bokeh !== undefined) {\n      if (el != null) {\n        el.textContent = \"BokehJS \" + root.Bokeh.version + \" successfully loaded.\";\n      }\n    } else if (Date.now() < root._bokeh_timeout) {\n      setTimeout(display_loaded, 100)\n    }\n  }\n\n  function run_callbacks() {\n    try {\n      root._bokeh_onload_callbacks.forEach(function(callback) {\n        if (callback != null)\n          callback();\n      });\n    } finally {\n      delete root._bokeh_onload_callbacks\n    }\n    console.debug(\"Bokeh: all callbacks have finished\");\n  }\n\n  function load_libs(css_urls, js_urls, callback) {\n    if (css_urls == null) css_urls = [];\n    if (js_urls == null) js_urls = [];\n\n    root._bokeh_onload_callbacks.push(callback);\n    if (root._bokeh_is_loading > 0) {\n      console.debug(\"Bokeh: BokehJS is being loaded, scheduling callback at\", now());\n      return null;\n    }\n    if (js_urls == null || js_urls.length === 0) {\n      run_callbacks();\n      return null;\n    }\n    console.debug(\"Bokeh: BokehJS not loaded, scheduling load and callback at\", now());\n    root._bokeh_is_loading = css_urls.length + js_urls.length;\n\n    function on_load() {\n      root._bokeh_is_loading--;\n      if (root._bokeh_is_loading === 0) {\n        console.debug(\"Bokeh: all BokehJS libraries/stylesheets loaded\");\n        run_callbacks()\n      }\n    }\n\n    function on_error(url) {\n      console.error(\"failed to load \" + url);\n    }\n\n    for (let i = 0; i < css_urls.length; i++) {\n      const url = css_urls[i];\n      const element = document.createElement(\"link\");\n      element.onload = on_load;\n      element.onerror = on_error.bind(null, url);\n      element.rel = \"stylesheet\";\n      element.type = \"text/css\";\n      element.href = url;\n      console.debug(\"Bokeh: injecting link tag for BokehJS stylesheet: \", url);\n      document.body.appendChild(element);\n    }\n\n    for (let i = 0; i < js_urls.length; i++) {\n      const url = js_urls[i];\n      const element = document.createElement('script');\n      element.onload = on_load;\n      element.onerror = on_error.bind(null, url);\n      element.async = false;\n      element.src = url;\n      console.debug(\"Bokeh: injecting script tag for BokehJS library: \", url);\n      document.head.appendChild(element);\n    }\n  };\n\n  function inject_raw_css(css) {\n    const element = document.createElement(\"style\");\n    element.appendChild(document.createTextNode(css));\n    document.body.appendChild(element);\n  }\n\n  const js_urls = [\"https://cdn.bokeh.org/bokeh/release/bokeh-2.4.3.min.js\", \"https://cdn.bokeh.org/bokeh/release/bokeh-gl-2.4.3.min.js\", \"https://cdn.bokeh.org/bokeh/release/bokeh-widgets-2.4.3.min.js\", \"https://cdn.bokeh.org/bokeh/release/bokeh-tables-2.4.3.min.js\", \"https://cdn.bokeh.org/bokeh/release/bokeh-mathjax-2.4.3.min.js\"];\n  const css_urls = [];\n\n  const inline_js = [    function(Bokeh) {\n      Bokeh.set_log_level(\"info\");\n    },\nfunction(Bokeh) {\n    }\n  ];\n\n  function run_inline_js() {\n    if (root.Bokeh !== undefined || force === true) {\n          for (let i = 0; i < inline_js.length; i++) {\n      inline_js[i].call(root, root.Bokeh);\n    }\nif (force === true) {\n        display_loaded();\n      }} else if (Date.now() < root._bokeh_timeout) {\n      setTimeout(run_inline_js, 100);\n    } else if (!root._bokeh_failed_load) {\n      console.log(\"Bokeh: BokehJS failed to load within specified timeout.\");\n      root._bokeh_failed_load = true;\n    } else if (force !== true) {\n      const cell = $(document.getElementById(\"1002\")).parents('.cell').data().cell;\n      cell.output_area.append_execute_result(NB_LOAD_WARNING)\n    }\n  }\n\n  if (root._bokeh_is_loading === 0) {\n    console.debug(\"Bokeh: BokehJS loaded, going straight to plotting\");\n    run_inline_js();\n  } else {\n    load_libs(css_urls, js_urls, function() {\n      console.debug(\"Bokeh: BokehJS plotting callback run at\", now());\n      run_inline_js();\n    });\n  }\n}(window));",
      "application/vnd.bokehjs_load.v0+json": ""
     },
     "metadata": {},
     "output_type": "display_data"
    }
   ],
   "source": [
    "import datetime\n",
    "import warnings\n",
    "warnings.filterwarnings(\"ignore\")\n",
    "\n",
    "import matplotlib.pyplot as plt\n",
    "import numpy as np\n",
    "import pandas as pd\n",
    "import tensorflow as tf\n",
    "from modules.Utils.utils import loadFromDB, strategyTester, getFearAndGreedIndicator,computeStochasticLinearRegression\n",
    "from modules.Utils.indicators import computeSuperTrend, addIndicators, computeLaggingLinearRegression, computeTrixIndicator, generateDatesFeatures\n",
    "\n",
    "\n",
    "from random import randint\n",
    "from bokeh.plotting import figure\n",
    "from bokeh.io import push_notebook,show, output_notebook\n",
    "from bokeh.models import HoverTool, Band, ColumnDataSource,Span\n",
    "from bokeh.layouts import row, column\n",
    "output_notebook()\n",
    "\n",
    "import numpy as np\n",
    "from scipy.fft import fft\n",
    "import matplotlib.pyplot as plt\n",
    "from PyEMD import EMD,CEEMDAN, EEMD\n",
    "from sklearn.feature_selection import mutual_info_regression"
   ]
  },
  {
   "cell_type": "code",
   "execution_count": 2,
   "metadata": {},
   "outputs": [],
   "source": [
    "def computeEMD(df,col:str=\"Close\"):\n",
    "    def emd(signal):\n",
    "        return EMD(DTYPE=np.float16, spline_kind='cubic')(signal.values)\n",
    "    def phase_spectrum(imfs):\n",
    "        imfs_p = []\n",
    "        for i, imf in enumerate(imfs):\n",
    "            trans = fft(imf)\n",
    "            imfs_p.append(np.arctan(trans.imag / trans.real))           \n",
    "        return imfs_p\n",
    "    def phase_mi(phases):\n",
    "        return np.array([mutual_info_regression(phases[i].reshape(-1, 1), phases[i+1])[0] for i in range(len(phases)-1)])\n",
    "    def divide_signal(signal, imfs, mis, cutoff=0.75):\n",
    "        cut_point = np.where(mis > cutoff)[0][0]\n",
    "        return np.sum(imfs[:cut_point], axis=0), np.sum(imfs[cut_point:], axis=0)\n",
    "    imfs = emd(df[col])\n",
    "\n",
    "    stochastic_component, deterministic_component = divide_signal(df[col], imfs, phase_mi(phase_spectrum(imfs)),cutoff=0.96)\n",
    "    df['EMD_S']=stochastic_component\n",
    "    df['EMD_D']=deterministic_component\n",
    "    return df"
   ]
  },
  {
   "cell_type": "code",
   "execution_count": 3,
   "metadata": {},
   "outputs": [
    {
     "name": "stdout",
     "output_type": "stream",
     "text": [
      "(23184, 38)\n",
      "Index(['Open', 'High', 'Low', 'Close', 'Volume', 'Timestamp', 'High_Low_diff',\n",
      "       'EMA20', 'EMA50', 'EMA100', 'EMA200', 'MACD', 'Stoch_RSI', 'Vortex',\n",
      "       'Bollinger_low', 'Bollinger_high', 'ADX', 'ATR', 'CCI', 'OVB',\n",
      "       'OVB_EMA200', 'EVM', 'Bullish_engulfing', 'Bearish_engulfing', 'Slope',\n",
      "       'B_MLR_coefs', 'Stochastic_prediction', 'Trix', 'Trix_histo', 'Month',\n",
      "       'Year', 'Week', 'Hour', 'Year_sin', 'Year_cos', 'EMD_S', 'EMD_D',\n",
      "       'FnG'],\n",
      "      dtype='object')\n"
     ]
    },
    {
     "data": {
      "text/html": [
       "<div>\n",
       "<style scoped>\n",
       "    .dataframe tbody tr th:only-of-type {\n",
       "        vertical-align: middle;\n",
       "    }\n",
       "\n",
       "    .dataframe tbody tr th {\n",
       "        vertical-align: top;\n",
       "    }\n",
       "\n",
       "    .dataframe thead th {\n",
       "        text-align: right;\n",
       "    }\n",
       "</style>\n",
       "<table border=\"1\" class=\"dataframe\">\n",
       "  <thead>\n",
       "    <tr style=\"text-align: right;\">\n",
       "      <th></th>\n",
       "      <th>Open</th>\n",
       "      <th>High</th>\n",
       "      <th>Low</th>\n",
       "      <th>Close</th>\n",
       "      <th>Volume</th>\n",
       "      <th>Timestamp</th>\n",
       "      <th>High_Low_diff</th>\n",
       "      <th>EMA20</th>\n",
       "      <th>EMA50</th>\n",
       "      <th>EMA100</th>\n",
       "      <th>...</th>\n",
       "      <th>Trix_histo</th>\n",
       "      <th>Month</th>\n",
       "      <th>Year</th>\n",
       "      <th>Week</th>\n",
       "      <th>Hour</th>\n",
       "      <th>Year_sin</th>\n",
       "      <th>Year_cos</th>\n",
       "      <th>EMD_S</th>\n",
       "      <th>EMD_D</th>\n",
       "      <th>FnG</th>\n",
       "    </tr>\n",
       "    <tr>\n",
       "      <th>Date</th>\n",
       "      <th></th>\n",
       "      <th></th>\n",
       "      <th></th>\n",
       "      <th></th>\n",
       "      <th></th>\n",
       "      <th></th>\n",
       "      <th></th>\n",
       "      <th></th>\n",
       "      <th></th>\n",
       "      <th></th>\n",
       "      <th></th>\n",
       "      <th></th>\n",
       "      <th></th>\n",
       "      <th></th>\n",
       "      <th></th>\n",
       "      <th></th>\n",
       "      <th></th>\n",
       "      <th></th>\n",
       "      <th></th>\n",
       "      <th></th>\n",
       "      <th></th>\n",
       "    </tr>\n",
       "  </thead>\n",
       "  <tbody>\n",
       "    <tr>\n",
       "      <th>2020-01-12 04:00:00</th>\n",
       "      <td>8095.00</td>\n",
       "      <td>8110.92</td>\n",
       "      <td>8065.62</td>\n",
       "      <td>8091.33</td>\n",
       "      <td>963.637569</td>\n",
       "      <td>1578798000</td>\n",
       "      <td>45.30</td>\n",
       "      <td>8089.782443</td>\n",
       "      <td>8048.379011</td>\n",
       "      <td>7976.638385</td>\n",
       "      <td>...</td>\n",
       "      <td>-0.052148</td>\n",
       "      <td>1</td>\n",
       "      <td>2020</td>\n",
       "      <td>2</td>\n",
       "      <td>4</td>\n",
       "      <td>0.188807</td>\n",
       "      <td>0.982014</td>\n",
       "      <td>-43.614483</td>\n",
       "      <td>8134.944483</td>\n",
       "      <td>45</td>\n",
       "    </tr>\n",
       "    <tr>\n",
       "      <th>2020-01-12 05:00:00</th>\n",
       "      <td>8090.70</td>\n",
       "      <td>8105.00</td>\n",
       "      <td>8071.20</td>\n",
       "      <td>8073.79</td>\n",
       "      <td>711.211749</td>\n",
       "      <td>1578801600</td>\n",
       "      <td>33.80</td>\n",
       "      <td>8088.259353</td>\n",
       "      <td>8049.375521</td>\n",
       "      <td>7978.562179</td>\n",
       "      <td>...</td>\n",
       "      <td>-0.048403</td>\n",
       "      <td>1</td>\n",
       "      <td>2020</td>\n",
       "      <td>2</td>\n",
       "      <td>5</td>\n",
       "      <td>0.189511</td>\n",
       "      <td>0.981879</td>\n",
       "      <td>-57.932028</td>\n",
       "      <td>8131.722028</td>\n",
       "      <td>45</td>\n",
       "    </tr>\n",
       "    <tr>\n",
       "      <th>2020-01-12 06:00:00</th>\n",
       "      <td>8073.03</td>\n",
       "      <td>8110.92</td>\n",
       "      <td>8070.98</td>\n",
       "      <td>8106.05</td>\n",
       "      <td>997.127263</td>\n",
       "      <td>1578805200</td>\n",
       "      <td>39.94</td>\n",
       "      <td>8089.953701</td>\n",
       "      <td>8051.598049</td>\n",
       "      <td>7981.086690</td>\n",
       "      <td>...</td>\n",
       "      <td>-0.041874</td>\n",
       "      <td>1</td>\n",
       "      <td>2020</td>\n",
       "      <td>2</td>\n",
       "      <td>6</td>\n",
       "      <td>0.190215</td>\n",
       "      <td>0.981743</td>\n",
       "      <td>-22.176112</td>\n",
       "      <td>8128.226112</td>\n",
       "      <td>45</td>\n",
       "    </tr>\n",
       "    <tr>\n",
       "      <th>2020-01-12 07:00:00</th>\n",
       "      <td>8105.96</td>\n",
       "      <td>8153.84</td>\n",
       "      <td>8080.01</td>\n",
       "      <td>8083.84</td>\n",
       "      <td>2509.947391</td>\n",
       "      <td>1578808800</td>\n",
       "      <td>73.83</td>\n",
       "      <td>8089.371444</td>\n",
       "      <td>8052.862440</td>\n",
       "      <td>7983.121409</td>\n",
       "      <td>...</td>\n",
       "      <td>-0.036312</td>\n",
       "      <td>1</td>\n",
       "      <td>2020</td>\n",
       "      <td>2</td>\n",
       "      <td>7</td>\n",
       "      <td>0.190918</td>\n",
       "      <td>0.981606</td>\n",
       "      <td>-40.603638</td>\n",
       "      <td>8124.443638</td>\n",
       "      <td>45</td>\n",
       "    </tr>\n",
       "    <tr>\n",
       "      <th>2020-01-12 08:00:00</th>\n",
       "      <td>8083.43</td>\n",
       "      <td>8110.00</td>\n",
       "      <td>8080.45</td>\n",
       "      <td>8097.51</td>\n",
       "      <td>867.095068</td>\n",
       "      <td>1578812400</td>\n",
       "      <td>29.55</td>\n",
       "      <td>8090.146544</td>\n",
       "      <td>8054.613324</td>\n",
       "      <td>7985.386530</td>\n",
       "      <td>...</td>\n",
       "      <td>-0.030390</td>\n",
       "      <td>1</td>\n",
       "      <td>2020</td>\n",
       "      <td>2</td>\n",
       "      <td>8</td>\n",
       "      <td>0.191622</td>\n",
       "      <td>0.981469</td>\n",
       "      <td>-22.858759</td>\n",
       "      <td>8120.368759</td>\n",
       "      <td>45</td>\n",
       "    </tr>\n",
       "  </tbody>\n",
       "</table>\n",
       "<p>5 rows × 38 columns</p>\n",
       "</div>"
      ],
      "text/plain": [
       "                        Open     High      Low    Close       Volume  \\\n",
       "Date                                                                   \n",
       "2020-01-12 04:00:00  8095.00  8110.92  8065.62  8091.33   963.637569   \n",
       "2020-01-12 05:00:00  8090.70  8105.00  8071.20  8073.79   711.211749   \n",
       "2020-01-12 06:00:00  8073.03  8110.92  8070.98  8106.05   997.127263   \n",
       "2020-01-12 07:00:00  8105.96  8153.84  8080.01  8083.84  2509.947391   \n",
       "2020-01-12 08:00:00  8083.43  8110.00  8080.45  8097.51   867.095068   \n",
       "\n",
       "                      Timestamp  High_Low_diff        EMA20        EMA50  \\\n",
       "Date                                                                       \n",
       "2020-01-12 04:00:00  1578798000          45.30  8089.782443  8048.379011   \n",
       "2020-01-12 05:00:00  1578801600          33.80  8088.259353  8049.375521   \n",
       "2020-01-12 06:00:00  1578805200          39.94  8089.953701  8051.598049   \n",
       "2020-01-12 07:00:00  1578808800          73.83  8089.371444  8052.862440   \n",
       "2020-01-12 08:00:00  1578812400          29.55  8090.146544  8054.613324   \n",
       "\n",
       "                          EMA100  ...  Trix_histo  Month  Year  Week  Hour  \\\n",
       "Date                              ...                                        \n",
       "2020-01-12 04:00:00  7976.638385  ...   -0.052148      1  2020     2     4   \n",
       "2020-01-12 05:00:00  7978.562179  ...   -0.048403      1  2020     2     5   \n",
       "2020-01-12 06:00:00  7981.086690  ...   -0.041874      1  2020     2     6   \n",
       "2020-01-12 07:00:00  7983.121409  ...   -0.036312      1  2020     2     7   \n",
       "2020-01-12 08:00:00  7985.386530  ...   -0.030390      1  2020     2     8   \n",
       "\n",
       "                     Year_sin  Year_cos      EMD_S        EMD_D  FnG  \n",
       "Date                                                                  \n",
       "2020-01-12 04:00:00  0.188807  0.982014 -43.614483  8134.944483   45  \n",
       "2020-01-12 05:00:00  0.189511  0.981879 -57.932028  8131.722028   45  \n",
       "2020-01-12 06:00:00  0.190215  0.981743 -22.176112  8128.226112   45  \n",
       "2020-01-12 07:00:00  0.190918  0.981606 -40.603638  8124.443638   45  \n",
       "2020-01-12 08:00:00  0.191622  0.981469 -22.858759  8120.368759   45  \n",
       "\n",
       "[5 rows x 38 columns]"
      ]
     },
     "execution_count": 3,
     "metadata": {},
     "output_type": "execute_result"
    }
   ],
   "source": [
    "SYMBOL= 'BTC'\n",
    "df = loadFromDB(f'./data/1h/{SYMBOL}-USDT.csv')\n",
    "df = addIndicators(df,derivative=True, b_engulfings=True)\n",
    "df = computeLaggingLinearRegression(df, 'Close',20, False,derivative=False)\n",
    "df = computeStochasticLinearRegression(df,\"Close\")\n",
    "df = computeTrixIndicator(df, col='Close')\n",
    "df = generateDatesFeatures(df)\n",
    "df = computeEMD(df)\n",
    "df = getFearAndGreedIndicator(df)\n",
    "df.dropna(inplace=True)\n",
    "print(df.shape)\n",
    "print(df.columns)\n",
    "df.head()"
   ]
  },
  {
   "cell_type": "code",
   "execution_count": 4,
   "metadata": {},
   "outputs": [],
   "source": [
    "train_df = (df - df.mean()) / df.std()\n",
    "\n",
    "def split_sequence(sequence,\n",
    "                    look_back,\n",
    "                    forecast_horizon,\n",
    "                    coverage,\n",
    "                    column_labels=['EMA20']):\n",
    "    X, y = [], []\n",
    "    for i in range(len(sequence)): \n",
    "        lag_end = i + look_back\n",
    "        forecast_end = lag_end + forecast_horizon\n",
    "        if forecast_end > len(sequence):\n",
    "            break\n",
    "        X.append(sequence.iloc[i:lag_end])\n",
    "        y.append(sequence.iloc[lag_end-coverage:forecast_end][column_labels])\n",
    "    return np.array(X), np.array(y)"
   ]
  },
  {
   "cell_type": "code",
   "execution_count": 5,
   "metadata": {},
   "outputs": [],
   "source": [
    "INPUT_STEPS = 60\n",
    "OUTPUT_STEPS = 20\n",
    "COVERAGE_STEPS = 20\n",
    "OUTPUT_SIZE = COVERAGE_STEPS+OUTPUT_STEPS\n",
    "\n",
    "X,y = split_sequence(train_df,INPUT_STEPS,OUTPUT_STEPS,COVERAGE_STEPS,column_labels=['B_MLR_coefs'])"
   ]
  },
  {
   "cell_type": "markdown",
   "metadata": {},
   "source": [
    "# LSTM"
   ]
  },
  {
   "cell_type": "code",
   "execution_count": 48,
   "metadata": {},
   "outputs": [
    {
     "name": "stdout",
     "output_type": "stream",
     "text": [
      "Epoch 1/10\n",
      "145/145 [==============================] - 7s 34ms/step - loss: 0.8353 - mean_absolute_error: 0.5347 - val_loss: 0.3572 - val_mean_absolute_error: 0.3951\n",
      "Epoch 2/10\n",
      "145/145 [==============================] - 5s 32ms/step - loss: 0.4716 - mean_absolute_error: 0.4021 - val_loss: 0.2615 - val_mean_absolute_error: 0.3453\n",
      "Epoch 3/10\n",
      "145/145 [==============================] - 5s 31ms/step - loss: 0.3452 - mean_absolute_error: 0.3477 - val_loss: 0.2167 - val_mean_absolute_error: 0.3176\n",
      "Epoch 4/10\n",
      "145/145 [==============================] - 4s 31ms/step - loss: 0.2860 - mean_absolute_error: 0.3180 - val_loss: 0.1998 - val_mean_absolute_error: 0.3078\n",
      "Epoch 5/10\n",
      "145/145 [==============================] - 5s 32ms/step - loss: 0.2554 - mean_absolute_error: 0.3019 - val_loss: 0.1915 - val_mean_absolute_error: 0.3011\n",
      "Epoch 6/10\n",
      "145/145 [==============================] - 4s 31ms/step - loss: 0.2353 - mean_absolute_error: 0.2915 - val_loss: 0.1884 - val_mean_absolute_error: 0.2980\n",
      "Epoch 7/10\n",
      "145/145 [==============================] - 5s 33ms/step - loss: 0.2188 - mean_absolute_error: 0.2826 - val_loss: 0.1870 - val_mean_absolute_error: 0.2979\n",
      "Epoch 8/10\n",
      "145/145 [==============================] - 5s 31ms/step - loss: 0.2067 - mean_absolute_error: 0.2767 - val_loss: 0.1853 - val_mean_absolute_error: 0.2957\n",
      "Epoch 9/10\n",
      "145/145 [==============================] - 5s 31ms/step - loss: 0.1970 - mean_absolute_error: 0.2710 - val_loss: 0.1893 - val_mean_absolute_error: 0.2991\n",
      "Epoch 10/10\n",
      "145/145 [==============================] - 5s 31ms/step - loss: 0.1885 - mean_absolute_error: 0.2661 - val_loss: 0.1894 - val_mean_absolute_error: 0.2982\n"
     ]
    }
   ],
   "source": [
    "\n",
    "lstm_model = tf.keras.Sequential([\n",
    "    tf.keras.layers.LSTM(32, return_sequences=False,dropout=0.2),\n",
    "    tf.keras.layers.Dense(OUTPUT_SIZE*1,kernel_initializer=tf.initializers.zeros()),\n",
    "    tf.keras.layers.Reshape([OUTPUT_SIZE, 1])\n",
    "])\n",
    "\n",
    "lstm_model.compile(loss=tf.keras.losses.MeanSquaredError(),\n",
    "            optimizer=tf.keras.optimizers.Adam(0.0005),\n",
    "            metrics=[tf.keras.metrics.MeanAbsoluteError()])\n",
    "\n",
    "history = lstm_model.fit(X,y,\n",
    "                    epochs=10,\n",
    "                    validation_split=0.2,\n",
    "                    batch_size=128,\n",
    "                    shuffle=True,\n",
    "                    callbacks=[tf.keras.callbacks.EarlyStopping(monitor='val_loss',\n",
    "                                                        verbose=1,\n",
    "                                                       patience=3,\n",
    "                                                       mode='min',\n",
    "                                                       restore_best_weights=True)],\n",
    "                    use_multiprocessing=True)\n"
   ]
  },
  {
   "cell_type": "markdown",
   "metadata": {},
   "source": [
    "# CONV"
   ]
  },
  {
   "cell_type": "code",
   "execution_count": 43,
   "metadata": {},
   "outputs": [
    {
     "name": "stdout",
     "output_type": "stream",
     "text": [
      "Epoch 1/50\n",
      "145/145 [==============================] - 1s 7ms/step - loss: 0.9967 - mean_absolute_error: 0.5958 - val_loss: 0.5385 - val_mean_absolute_error: 0.4917\n",
      "Epoch 2/50\n",
      "145/145 [==============================] - 1s 4ms/step - loss: 0.7116 - mean_absolute_error: 0.5005 - val_loss: 0.3756 - val_mean_absolute_error: 0.4124\n",
      "Epoch 3/50\n",
      "145/145 [==============================] - 1s 5ms/step - loss: 0.5149 - mean_absolute_error: 0.4291 - val_loss: 0.3004 - val_mean_absolute_error: 0.3741\n",
      "Epoch 4/50\n",
      "145/145 [==============================] - 1s 5ms/step - loss: 0.4202 - mean_absolute_error: 0.3895 - val_loss: 0.2624 - val_mean_absolute_error: 0.3532\n",
      "Epoch 5/50\n",
      "145/145 [==============================] - 1s 4ms/step - loss: 0.3679 - mean_absolute_error: 0.3656 - val_loss: 0.2428 - val_mean_absolute_error: 0.3423\n",
      "Epoch 6/50\n",
      "145/145 [==============================] - 1s 4ms/step - loss: 0.3362 - mean_absolute_error: 0.3499 - val_loss: 0.2279 - val_mean_absolute_error: 0.3330\n",
      "Epoch 7/50\n",
      "145/145 [==============================] - 1s 5ms/step - loss: 0.3166 - mean_absolute_error: 0.3390 - val_loss: 0.2190 - val_mean_absolute_error: 0.3273\n",
      "Epoch 8/50\n",
      "145/145 [==============================] - 1s 4ms/step - loss: 0.3037 - mean_absolute_error: 0.3317 - val_loss: 0.2123 - val_mean_absolute_error: 0.3225\n",
      "Epoch 9/50\n",
      "145/145 [==============================] - 1s 4ms/step - loss: 0.2949 - mean_absolute_error: 0.3263 - val_loss: 0.2079 - val_mean_absolute_error: 0.3192\n",
      "Epoch 10/50\n",
      "145/145 [==============================] - 1s 5ms/step - loss: 0.2877 - mean_absolute_error: 0.3219 - val_loss: 0.2051 - val_mean_absolute_error: 0.3168\n",
      "Epoch 11/50\n",
      "145/145 [==============================] - 1s 5ms/step - loss: 0.2817 - mean_absolute_error: 0.3181 - val_loss: 0.2027 - val_mean_absolute_error: 0.3150\n",
      "Epoch 12/50\n",
      "145/145 [==============================] - 1s 5ms/step - loss: 0.2765 - mean_absolute_error: 0.3149 - val_loss: 0.1996 - val_mean_absolute_error: 0.3125\n",
      "Epoch 13/50\n",
      "145/145 [==============================] - 1s 4ms/step - loss: 0.2719 - mean_absolute_error: 0.3118 - val_loss: 0.1969 - val_mean_absolute_error: 0.3099\n",
      "Epoch 14/50\n",
      "145/145 [==============================] - 1s 4ms/step - loss: 0.2674 - mean_absolute_error: 0.3088 - val_loss: 0.1954 - val_mean_absolute_error: 0.3085\n",
      "Epoch 15/50\n",
      "145/145 [==============================] - 1s 5ms/step - loss: 0.2634 - mean_absolute_error: 0.3061 - val_loss: 0.1936 - val_mean_absolute_error: 0.3072\n",
      "Epoch 16/50\n",
      "145/145 [==============================] - 1s 5ms/step - loss: 0.2595 - mean_absolute_error: 0.3036 - val_loss: 0.1927 - val_mean_absolute_error: 0.3061\n",
      "Epoch 17/50\n",
      "145/145 [==============================] - 1s 5ms/step - loss: 0.2559 - mean_absolute_error: 0.3010 - val_loss: 0.1911 - val_mean_absolute_error: 0.3047\n",
      "Epoch 18/50\n",
      "145/145 [==============================] - 1s 5ms/step - loss: 0.2527 - mean_absolute_error: 0.2987 - val_loss: 0.1895 - val_mean_absolute_error: 0.3036\n",
      "Epoch 19/50\n",
      "145/145 [==============================] - 1s 4ms/step - loss: 0.2495 - mean_absolute_error: 0.2967 - val_loss: 0.1887 - val_mean_absolute_error: 0.3028\n",
      "Epoch 20/50\n",
      "145/145 [==============================] - 1s 4ms/step - loss: 0.2466 - mean_absolute_error: 0.2945 - val_loss: 0.1871 - val_mean_absolute_error: 0.3015\n",
      "Epoch 21/50\n",
      "145/145 [==============================] - 1s 5ms/step - loss: 0.2441 - mean_absolute_error: 0.2925 - val_loss: 0.1862 - val_mean_absolute_error: 0.3009\n",
      "Epoch 22/50\n",
      "145/145 [==============================] - 1s 5ms/step - loss: 0.2413 - mean_absolute_error: 0.2906 - val_loss: 0.1853 - val_mean_absolute_error: 0.3002\n",
      "Epoch 23/50\n",
      "145/145 [==============================] - 1s 5ms/step - loss: 0.2390 - mean_absolute_error: 0.2890 - val_loss: 0.1841 - val_mean_absolute_error: 0.2995\n",
      "Epoch 24/50\n",
      "145/145 [==============================] - 1s 5ms/step - loss: 0.2370 - mean_absolute_error: 0.2874 - val_loss: 0.1839 - val_mean_absolute_error: 0.2995\n",
      "Epoch 25/50\n",
      "145/145 [==============================] - 1s 5ms/step - loss: 0.2350 - mean_absolute_error: 0.2858 - val_loss: 0.1830 - val_mean_absolute_error: 0.2987\n",
      "Epoch 26/50\n",
      "145/145 [==============================] - 1s 5ms/step - loss: 0.2330 - mean_absolute_error: 0.2844 - val_loss: 0.1831 - val_mean_absolute_error: 0.2990\n",
      "Epoch 27/50\n",
      "145/145 [==============================] - 1s 4ms/step - loss: 0.2314 - mean_absolute_error: 0.2832 - val_loss: 0.1828 - val_mean_absolute_error: 0.2991\n",
      "Epoch 28/50\n",
      "145/145 [==============================] - 1s 5ms/step - loss: 0.2297 - mean_absolute_error: 0.2818 - val_loss: 0.1819 - val_mean_absolute_error: 0.2985\n",
      "Epoch 29/50\n",
      "145/145 [==============================] - 1s 5ms/step - loss: 0.2282 - mean_absolute_error: 0.2806 - val_loss: 0.1821 - val_mean_absolute_error: 0.2987\n",
      "Epoch 30/50\n",
      "145/145 [==============================] - 1s 5ms/step - loss: 0.2268 - mean_absolute_error: 0.2796 - val_loss: 0.1816 - val_mean_absolute_error: 0.2984\n",
      "Epoch 31/50\n",
      "145/145 [==============================] - 1s 5ms/step - loss: 0.2255 - mean_absolute_error: 0.2784 - val_loss: 0.1837 - val_mean_absolute_error: 0.3006\n",
      "Epoch 32/50\n",
      "145/145 [==============================] - 1s 5ms/step - loss: 0.2241 - mean_absolute_error: 0.2775 - val_loss: 0.1818 - val_mean_absolute_error: 0.2989\n",
      "Epoch 33/50\n",
      "145/145 [==============================] - 1s 5ms/step - loss: 0.2231 - mean_absolute_error: 0.2766 - val_loss: 0.1825 - val_mean_absolute_error: 0.2997\n",
      "Epoch 34/50\n",
      "145/145 [==============================] - 1s 5ms/step - loss: 0.2219 - mean_absolute_error: 0.2755 - val_loss: 0.1815 - val_mean_absolute_error: 0.2990\n",
      "Epoch 35/50\n",
      "145/145 [==============================] - 1s 5ms/step - loss: 0.2206 - mean_absolute_error: 0.2747 - val_loss: 0.1820 - val_mean_absolute_error: 0.2994\n",
      "Epoch 36/50\n",
      "145/145 [==============================] - 1s 5ms/step - loss: 0.2196 - mean_absolute_error: 0.2739 - val_loss: 0.1836 - val_mean_absolute_error: 0.3011\n",
      "Epoch 37/50\n",
      "145/145 [==============================] - 1s 6ms/step - loss: 0.2187 - mean_absolute_error: 0.2732 - val_loss: 0.1833 - val_mean_absolute_error: 0.3013\n",
      "Epoch 38/50\n",
      "145/145 [==============================] - 1s 4ms/step - loss: 0.2177 - mean_absolute_error: 0.2724 - val_loss: 0.1820 - val_mean_absolute_error: 0.2998\n",
      "Epoch 39/50\n",
      "145/145 [==============================] - 1s 5ms/step - loss: 0.2168 - mean_absolute_error: 0.2717 - val_loss: 0.1829 - val_mean_absolute_error: 0.3012\n",
      "Epoch 40/50\n",
      "145/145 [==============================] - 1s 4ms/step - loss: 0.2159 - mean_absolute_error: 0.2711 - val_loss: 0.1841 - val_mean_absolute_error: 0.3024\n",
      "Epoch 41/50\n",
      "145/145 [==============================] - 1s 4ms/step - loss: 0.2149 - mean_absolute_error: 0.2702 - val_loss: 0.1845 - val_mean_absolute_error: 0.3029\n",
      "Epoch 42/50\n",
      "137/145 [===========================>..] - ETA: 0s - loss: 0.2146 - mean_absolute_error: 0.2698Restoring model weights from the end of the best epoch: 34.\n",
      "145/145 [==============================] - 1s 5ms/step - loss: 0.2141 - mean_absolute_error: 0.2696 - val_loss: 0.1845 - val_mean_absolute_error: 0.3031\n",
      "Epoch 42: early stopping\n"
     ]
    }
   ],
   "source": [
    "conv_model = tf.keras.Sequential([\n",
    "    tf.keras.layers.MaxPooling1D(pool_size=2, strides=1, padding='valid', data_format='channels_last'),\n",
    "    tf.keras.layers.Lambda(lambda x: x[:, -3:, :]),\n",
    "    tf.keras.layers.Conv1D(256, activation='relu', kernel_size=(3)),\n",
    "    tf.keras.layers.Dense(OUTPUT_SIZE*1,kernel_initializer=tf.initializers.zeros(),),\n",
    "    tf.keras.layers.Reshape([OUTPUT_SIZE, 1])\n",
    "])\n",
    "\n",
    "\n",
    "conv_model.compile(loss=tf.keras.losses.MeanSquaredError(),\n",
    "            optimizer=tf.keras.optimizers.Adam(0.00005),\n",
    "            metrics=[tf.keras.metrics.MeanAbsoluteError()])\n",
    "\n",
    "            \n",
    "history = conv_model.fit(X,y,\n",
    "                    epochs=50,\n",
    "                    validation_split=0.2,\n",
    "                    batch_size=128,\n",
    "                    shuffle=True,\n",
    "                    callbacks=[tf.keras.callbacks.EarlyStopping(monitor='val_loss',\n",
    "                                                        verbose=1,\n",
    "                                                       patience=8,\n",
    "                                                       mode='min',\n",
    "                                                       restore_best_weights=True)],\n",
    "                    use_multiprocessing=True)\n"
   ]
  },
  {
   "cell_type": "markdown",
   "metadata": {},
   "source": [
    "# Test"
   ]
  },
  {
   "cell_type": "code",
   "execution_count": 49,
   "metadata": {},
   "outputs": [
    {
     "name": "stdout",
     "output_type": "stream",
     "text": [
      "723/723 [==============================] - 5s 6ms/step\n",
      "723/723 [==============================] - 1s 932us/step\n"
     ]
    }
   ],
   "source": [
    "pred_lstm = lstm_model.predict(X)\n",
    "pred_conv = conv_model.predict(X)"
   ]
  },
  {
   "cell_type": "code",
   "execution_count": 50,
   "metadata": {},
   "outputs": [],
   "source": [
    "lstm_model.save(f'./models/{SYMBOL}_lstm_model.h5')\n",
    "conv_model.save(f'./models/{SYMBOL}_conv_model.h5')"
   ]
  },
  {
   "cell_type": "code",
   "execution_count": 58,
   "metadata": {},
   "outputs": [
    {
     "name": "stdout",
     "output_type": "stream",
     "text": [
      "9650\n"
     ]
    },
    {
     "data": {
      "text/html": [
       "\n",
       "  <div class=\"bk-root\" id=\"6971e24d-fdb0-4e4d-8896-e327c1ef975f\" data-root-id=\"5388\"></div>\n"
      ]
     },
     "metadata": {},
     "output_type": "display_data"
    },
    {
     "data": {
      "application/javascript": "(function(root) {\n  function embed_document(root) {\n  const docs_json = {\"fbb325e7-36d0-470e-afe5-41173ba1fed0\":{\"defs\":[],\"roots\":{\"references\":[{\"attributes\":{\"below\":[{\"id\":\"5399\"}],\"center\":[{\"id\":\"5402\"},{\"id\":\"5406\"},{\"id\":\"5439\"}],\"left\":[{\"id\":\"5403\"}],\"renderers\":[{\"id\":\"5427\"},{\"id\":\"5445\"},{\"id\":\"5460\"}],\"title\":{\"id\":\"5389\"},\"toolbar\":{\"id\":\"5414\"},\"width\":1500,\"x_range\":{\"id\":\"5391\"},\"x_scale\":{\"id\":\"5395\"},\"y_range\":{\"id\":\"5393\"},\"y_scale\":{\"id\":\"5397\"}},\"id\":\"5388\",\"subtype\":\"Figure\",\"type\":\"Plot\"},{\"attributes\":{},\"id\":\"5408\",\"type\":\"WheelZoomTool\"},{\"attributes\":{\"data\":{\"x\":[0,1,2,3,4,5,6,7,8,9,10,11,12,13,14,15,16,17,18,19,20,21,22,23,24,25,26,27,28,29,30,31,32,33,34,35,36,37,38,39],\"y\":{\"__ndarray__\":\"GPf0P3jRDkCAqiJA1kw1QKrLRkDu7lVA3htiQAQJa0CKum9AXuhvQJawa0CdomJAMsFUQJWBQkAIjSxAwo0TQHyj8T+028A/zOaYPyUfgz9PUHQ/n51aP4YBOz8sFho/yg30PvsbvT4Mcoo+Uu86PhYRvj1APQ071E3DvTVgW77gU7W+4l8Fv4EpN7+mO3C/9qGVv7b6rr90Yr6/G0m+vw==\",\"dtype\":\"float32\",\"order\":\"little\",\"shape\":[40]}},\"selected\":{\"id\":\"5437\"},\"selection_policy\":{\"id\":\"5436\"}},\"id\":\"5423\",\"type\":\"ColumnDataSource\"},{\"attributes\":{\"tools\":[{\"id\":\"5407\"},{\"id\":\"5408\"},{\"id\":\"5409\"},{\"id\":\"5410\"},{\"id\":\"5411\"},{\"id\":\"5412\"},{\"id\":\"5421\"}]},\"id\":\"5414\",\"type\":\"Toolbar\"},{\"attributes\":{\"source\":{\"id\":\"5441\"}},\"id\":\"5446\",\"type\":\"CDSView\"},{\"attributes\":{\"overlay\":{\"id\":\"5413\"}},\"id\":\"5409\",\"type\":\"BoxZoomTool\"},{\"attributes\":{\"label\":{\"value\":\"B_MLR_coefs\"},\"renderers\":[{\"id\":\"5445\"}]},\"id\":\"5459\",\"type\":\"LegendItem\"},{\"attributes\":{},\"id\":\"5393\",\"type\":\"DataRange1d\"},{\"attributes\":{\"line_alpha\":0.2,\"line_color\":\"#1f77b4\",\"line_width\":2,\"x\":{\"field\":\"x\"},\"y\":{\"field\":\"y\"}},\"id\":\"5444\",\"type\":\"Line\"},{\"attributes\":{\"source\":{\"id\":\"5423\"}},\"id\":\"5428\",\"type\":\"CDSView\"},{\"attributes\":{},\"id\":\"5407\",\"type\":\"PanTool\"},{\"attributes\":{\"line_alpha\":0.1,\"line_color\":\"#1f77b4\",\"line_width\":2,\"x\":{\"field\":\"x\"},\"y\":{\"field\":\"y\"}},\"id\":\"5443\",\"type\":\"Line\"},{\"attributes\":{},\"id\":\"5412\",\"type\":\"HelpTool\"},{\"attributes\":{},\"id\":\"5400\",\"type\":\"BasicTicker\"},{\"attributes\":{},\"id\":\"5431\",\"type\":\"BasicTickFormatter\"},{\"attributes\":{\"label\":{\"value\":\"LSTM x Conv Prediction\"},\"renderers\":[{\"id\":\"5427\"}]},\"id\":\"5440\",\"type\":\"LegendItem\"},{\"attributes\":{},\"id\":\"5456\",\"type\":\"UnionRenderers\"},{\"attributes\":{},\"id\":\"5432\",\"type\":\"AllLabels\"},{\"attributes\":{\"line_alpha\":0.2,\"line_color\":\"orange\",\"line_width\":2,\"x\":{\"field\":\"x\"},\"y\":{\"field\":\"y\"}},\"id\":\"5426\",\"type\":\"Line\"},{\"attributes\":{},\"id\":\"5457\",\"type\":\"Selection\"},{\"attributes\":{},\"id\":\"5434\",\"type\":\"BasicTickFormatter\"},{\"attributes\":{},\"id\":\"5395\",\"type\":\"LinearScale\"},{\"attributes\":{},\"id\":\"5391\",\"type\":\"DataRange1d\"},{\"attributes\":{},\"id\":\"5411\",\"type\":\"ResetTool\"},{\"attributes\":{\"callback\":null,\"formatters\":{\"$x\":\"datetime\",\"$y\":\"printf\"},\"mode\":\"vline\",\"tooltips\":[[\"Price\",\"@y{0.00} $\"]]},\"id\":\"5421\",\"type\":\"HoverTool\"},{\"attributes\":{\"line_color\":\"#1f77b4\",\"line_width\":2,\"x\":{\"field\":\"x\"},\"y\":{\"field\":\"y\"}},\"id\":\"5442\",\"type\":\"Line\"},{\"attributes\":{\"axis_label\":\"value ($)\",\"coordinates\":null,\"formatter\":{\"id\":\"5431\"},\"group\":null,\"major_label_policy\":{\"id\":\"5432\"},\"ticker\":{\"id\":\"5404\"}},\"id\":\"5403\",\"type\":\"LinearAxis\"},{\"attributes\":{},\"id\":\"5435\",\"type\":\"AllLabels\"},{\"attributes\":{\"coordinates\":null,\"dimension\":\"height\",\"group\":null,\"line_dash\":[6],\"line_width\":2,\"location\":20},\"id\":\"5460\",\"type\":\"Span\"},{\"attributes\":{\"data\":{\"x\":[0,1,2,3,4,5,6,7,8,9,10,11,12,13,14,15,16,17,18,19,20,21,22,23,24,25,26,27,28,29,30,31,32,33,34,35,36,37,38,39],\"y\":{\"__ndarray__\":\"YX2BP+uP/D93nGN/bEkCQLb31AxPhwZA8wsNrmj0CEBKAyLqaUwLQBR/LurLIA1ACOyslaKsDUDkRPA950cOQLDFoxDddA5AswmhFnVSDkBJKdROXbINQPGq4397iwtAV9OFsUnRCUBoVzzq9xAIQKuU2iijOAZAcG7ZiO+eAkAjuH0F4Jr8P8R1ip4UDfQ/FqYnjzw+6j+itdDhmpHkPxQViYqRKec/UwvwLCyE6j8CR1wKxAXqPwjqkNbSEOU/XHyD6lzN5T90DrsGegTqP3SaLaAtB+w/IKw/Dlh27z9wEcCuCGfxP+85zey95PE/GmqWstVD7T9q91Xzgc7mPwCkYi8wBeE/1v7aTFQ/2z9hDUx4Ef3WP1scJWSHxsM/GKUvlB7jn787mT7wtczRv06ngsfxl9q/SxmXotpk4b8=\",\"dtype\":\"float64\",\"order\":\"little\",\"shape\":[40]}},\"selected\":{\"id\":\"5457\"},\"selection_policy\":{\"id\":\"5456\"}},\"id\":\"5441\",\"type\":\"ColumnDataSource\"},{\"attributes\":{\"bottom_units\":\"screen\",\"coordinates\":null,\"fill_alpha\":0.5,\"fill_color\":\"lightgrey\",\"group\":null,\"left_units\":\"screen\",\"level\":\"overlay\",\"line_alpha\":1.0,\"line_color\":\"black\",\"line_dash\":[4,4],\"line_width\":2,\"right_units\":\"screen\",\"syncable\":false,\"top_units\":\"screen\"},\"id\":\"5413\",\"type\":\"BoxAnnotation\"},{\"attributes\":{\"coordinates\":null,\"group\":null,\"items\":[{\"id\":\"5440\"},{\"id\":\"5459\"}],\"location\":\"top_left\"},\"id\":\"5439\",\"type\":\"Legend\"},{\"attributes\":{\"coordinates\":null,\"data_source\":{\"id\":\"5423\"},\"glyph\":{\"id\":\"5424\"},\"group\":null,\"hover_glyph\":null,\"muted_glyph\":{\"id\":\"5426\"},\"nonselection_glyph\":{\"id\":\"5425\"},\"view\":{\"id\":\"5428\"}},\"id\":\"5427\",\"type\":\"GlyphRenderer\"},{\"attributes\":{},\"id\":\"5436\",\"type\":\"UnionRenderers\"},{\"attributes\":{\"axis\":{\"id\":\"5399\"},\"coordinates\":null,\"group\":null,\"ticker\":null},\"id\":\"5402\",\"type\":\"Grid\"},{\"attributes\":{},\"id\":\"5397\",\"type\":\"LinearScale\"},{\"attributes\":{\"axis_label\":\"time\",\"coordinates\":null,\"formatter\":{\"id\":\"5434\"},\"group\":null,\"major_label_policy\":{\"id\":\"5435\"},\"ticker\":{\"id\":\"5400\"}},\"id\":\"5399\",\"type\":\"LinearAxis\"},{\"attributes\":{},\"id\":\"5437\",\"type\":\"Selection\"},{\"attributes\":{},\"id\":\"5404\",\"type\":\"BasicTicker\"},{\"attributes\":{\"axis\":{\"id\":\"5403\"},\"coordinates\":null,\"dimension\":1,\"group\":null,\"ticker\":null},\"id\":\"5406\",\"type\":\"Grid\"},{\"attributes\":{},\"id\":\"5410\",\"type\":\"SaveTool\"},{\"attributes\":{\"coordinates\":null,\"data_source\":{\"id\":\"5441\"},\"glyph\":{\"id\":\"5442\"},\"group\":null,\"hover_glyph\":null,\"muted_glyph\":{\"id\":\"5444\"},\"nonselection_glyph\":{\"id\":\"5443\"},\"view\":{\"id\":\"5446\"}},\"id\":\"5445\",\"type\":\"GlyphRenderer\"},{\"attributes\":{\"line_alpha\":0.1,\"line_color\":\"orange\",\"line_width\":2,\"x\":{\"field\":\"x\"},\"y\":{\"field\":\"y\"}},\"id\":\"5425\",\"type\":\"Line\"},{\"attributes\":{\"line_color\":\"orange\",\"line_width\":2,\"x\":{\"field\":\"x\"},\"y\":{\"field\":\"y\"}},\"id\":\"5424\",\"type\":\"Line\"},{\"attributes\":{\"coordinates\":null,\"group\":null,\"text\":\"Comparaison\"},\"id\":\"5389\",\"type\":\"Title\"}],\"root_ids\":[\"5388\"]},\"title\":\"Bokeh Application\",\"version\":\"2.4.3\"}};\n  const render_items = [{\"docid\":\"fbb325e7-36d0-470e-afe5-41173ba1fed0\",\"root_ids\":[\"5388\"],\"roots\":{\"5388\":\"6971e24d-fdb0-4e4d-8896-e327c1ef975f\"}}];\n  root.Bokeh.embed.embed_items_notebook(docs_json, render_items);\n  }\n  if (root.Bokeh !== undefined) {\n    embed_document(root);\n  } else {\n    let attempts = 0;\n    const timer = setInterval(function(root) {\n      if (root.Bokeh !== undefined) {\n        clearInterval(timer);\n        embed_document(root);\n      } else {\n        attempts++;\n        if (attempts > 100) {\n          clearInterval(timer);\n          console.log(\"Bokeh: ERROR: Unable to run BokehJS code because BokehJS library is missing\");\n        }\n      }\n    }, 10, root)\n  }\n})(window);",
      "application/vnd.bokehjs_exec.v0+json": ""
     },
     "metadata": {
      "application/vnd.bokehjs_exec.v0+json": {
       "id": "5388"
      }
     },
     "output_type": "display_data"
    }
   ],
   "source": [
    "ind = randint(0,len(X)-1)\n",
    "print(ind)\n",
    "\n",
    "\n",
    "p = figure(title=f\"Comparaison\", x_axis_label='time', y_axis_label='value ($)',width=1500, height=600,)\n",
    "# Add the HoverTool to the figure\n",
    "p.add_tools(HoverTool(\n",
    "    tooltips=[\n",
    "    (\"Price\", \"@y{0.00} $\"),\n",
    "], formatters={\n",
    "        '$x': 'datetime',\n",
    "        '$y' : 'printf',\n",
    "    },\n",
    "    mode='vline'\n",
    "))\n",
    "p.line(list(range(len(y[ind]))), (pred_conv[ind].reshape(OUTPUT_SIZE)+ pred_lstm[ind].reshape(OUTPUT_SIZE))/2, legend_label=\"LSTM x Conv Prediction\", line_width=2, color='orange')\n",
    "p.line(list(range(len(y[ind]))), y[ind].reshape(OUTPUT_SIZE), legend_label=\"B_MLR_coefs\", line_width=2, )\n",
    "vline = Span(location=COVERAGE_STEPS, dimension='height', line_color='black', line_width=2,line_dash='dashed')\n",
    "p.renderers.extend([vline])\n",
    "p.legend.location = \"top_left\"\n",
    "\n",
    "show(p)"
   ]
  },
  {
   "cell_type": "code",
   "execution_count": 29,
   "metadata": {},
   "outputs": [
    {
     "data": {
      "text/plain": [
       "<matplotlib.legend.Legend at 0x23a46d77b20>"
      ]
     },
     "execution_count": 29,
     "metadata": {},
     "output_type": "execute_result"
    },
    {
     "data": {
      "image/png": "[encoded data removed]",
      "text/plain": [
       "<Figure size 1800x576 with 2 Axes>"
      ]
     },
     "metadata": {
      "needs_background": "light"
     },
     "output_type": "display_data"
    }
   ],
   "source": [
    "from scipy.signal import savgol_filter\n",
    "\n",
    "df['B_MLR_coefs_denoised'] = savgol_filter(df.B_MLR_coefs.values, 15, 2, mode='nearest')\n",
    "fig, ax_left = plt.subplots(1, figsize=(25,8))\n",
    "ax_right =[]\n",
    "\n",
    "ax_right = ax_left.twinx()\n",
    "\n",
    "ax_left.plot(df.Close[-400:], color='red',label='Close')\n",
    "ax_right.plot(df.B_MLR_coefs[-400:], color='gray',label='B_MLR')\n",
    "ax_right.plot(df.B_MLR_coefs_denoised[-400:], color='blue',label='B_MLR_filtered')\n",
    "ax_left.legend(loc=\"upper left\")\n",
    "ax_right.legend(loc=\"upper right\")\n"
   ]
  },
  {
   "cell_type": "code",
   "execution_count": 31,
   "metadata": {},
   "outputs": [],
   "source": [
    "df['B_MLR_coefs_denoised_diff'] = df.B_MLR_coefs_denoised.diff(1)\n",
    "df.dropna(inplace=True)"
   ]
  },
  {
   "cell_type": "code",
   "execution_count": 32,
   "metadata": {},
   "outputs": [],
   "source": [
    "def buyCondition(row:pd.Series, previous_row:pd.Series=None)->bool:\n",
    "    return True if row.B_MLR_coefs_denoised_diff>0 else False\n",
    "\n",
    "def sellCondition(row:pd.Series, previous_row:pd.Series=None)->bool:\n",
    "    return True if row.B_MLR_coefs_denoised_diff<0 else False\n",
    "\n",
    "strategyTester(df,buyCondition,sellCondition,equity=1000)"
   ]
  },
  {
   "cell_type": "markdown",
   "metadata": {},
   "source": [
    "# Tuning"
   ]
  },
  {
   "cell_type": "code",
   "execution_count": null,
   "metadata": {},
   "outputs": [],
   "source": [
    "#import keras_tuner\n",
    "#\n",
    "#def build_model(hp):\n",
    "#    CONV_WIDTH = hp.Int(\"CONV_WIDTH\", min_value=2, max_value=6, step=2)\n",
    "#    model = tf.keras.Sequential([\n",
    "#        # Shape [batch, time, features] => [batch, CONV_WIDTH, features]\n",
    "#        tf.keras.layers.Lambda(lambda x: x[:, -CONV_WIDTH:, :]),\n",
    "#        # Shape => [batch, 1, conv_units]\n",
    "#        tf.keras.layers.Conv1D(256, activation=hp.Choice(\"activation\", [\"relu\", \"tanh\"]), kernel_size=(CONV_WIDTH)),\n",
    "#        # Shape => [batch, 1,  out_steps*features]\n",
    "#        tf.keras.layers.Dense(OUTPUT_SIZE*1,\n",
    "#                            kernel_initializer=tf.initializers.zeros()),\n",
    "#        # Shape => [batch, out_steps, features]\n",
    "#        tf.keras.layers.Reshape([OUTPUT_SIZE, 1])\n",
    "#    ])\n",
    "#\n",
    "#    early_stopping = tf.keras.callbacks.EarlyStopping(monitor='val_loss',\n",
    "#                                                        patience=8,\n",
    "#                                                        mode='min')\n",
    "#\n",
    "#    lr = hp.Float(\"lr\", min_value=1e-4, max_value=1e-2, sampling=\"log\")\n",
    "#    model.compile(loss=tf.keras.losses.MeanSquaredError(),\n",
    "#                optimizer=tf.keras.optimizers.Adam(learning_rate=lr),\n",
    "#                metrics=[tf.keras.metrics.MeanAbsoluteError()])\n",
    "#    return model\n",
    "#\n",
    "#\n",
    "##build_model(keras_tuner.HyperParameters())\n",
    "#\n",
    "#tuner = keras_tuner.RandomSearch(\n",
    "#    hypermodel=build_model,\n",
    "#    objective=\"val_mean_absolute_error\",\n",
    "#    max_trials=10,\n",
    "#    executions_per_trial=1,\n",
    "#    overwrite=True,\n",
    "#    #directory=\"my_dir\",\n",
    "#    #project_name=\"helloworld\",\n",
    "#)\n",
    "#tuner.search_space_summary()\n",
    "#\n",
    "#\n",
    "#tuner.search(X,\n",
    "#            y,\n",
    "#            epochs=30,\n",
    "#            validation_split=0.2,\n",
    "#            #callbacks=[early_stopping],\n",
    "#            use_multiprocessing=True)\n",
    "#            \n",
    "#models = tuner.get_best_models(num_models=2)\n",
    "#model = models[0]"
   ]
  },
  {
   "cell_type": "code",
   "execution_count": 59,
   "metadata": {},
   "outputs": [],
   "source": [
    "class TFLiteModel:\n",
    "    \"\"\"Wrapper class for loading and using a tflite model.\"\"\"\n",
    "    def __init__(self, model_path: str)-> None:\n",
    "        \"\"\"Constructor : load tflite model.\n",
    "\n",
    "        Args:\n",
    "            model_path (str): The path to the model.\n",
    "        \"\"\"\n",
    "        self._interpreter = tf.lite.Interpreter(model_path=model_path)\n",
    "        self._interpreter.allocate_tensors()\n",
    "        \n",
    "    def predict(self, input_data:np.ndarray,unscale_data:bool=False) -> np.ndarray:   \n",
    "             \n",
    "        input_details = self._interpreter.get_input_details()\n",
    "        output_details = self._interpreter.get_output_details()\n",
    "        assert input_data.shape == tuple(input_details[0]['shape'])\n",
    "        \n",
    "        self._interpreter.set_tensor(input_details[0]['index'], np.float32(input_data))\n",
    "        self._interpreter.invoke()\n",
    "        output_data = self._interpreter.get_tensor(output_details[0]['index'])\n",
    "        return output_data"
   ]
  },
  {
   "cell_type": "code",
   "execution_count": 60,
   "metadata": {},
   "outputs": [
    {
     "name": "stderr",
     "output_type": "stream",
     "text": [
      "WARNING:absl:Found untraced functions such as _jit_compiled_convolution_op while saving (showing 1 of 1). These functions will not be directly callable after loading.\n"
     ]
    },
    {
     "name": "stdout",
     "output_type": "stream",
     "text": [
      "INFO:tensorflow:Assets written to: C:\\Users\\admin\\AppData\\Local\\Temp\\tmpfrkj20xo\\assets\n"
     ]
    },
    {
     "name": "stderr",
     "output_type": "stream",
     "text": [
      "INFO:tensorflow:Assets written to: C:\\Users\\admin\\AppData\\Local\\Temp\\tmpfrkj20xo\\assets\n",
      "WARNING:absl:Found untraced functions such as lstm_cell_10_layer_call_fn, lstm_cell_10_layer_call_and_return_conditional_losses while saving (showing 2 of 2). These functions will not be directly callable after loading.\n"
     ]
    },
    {
     "name": "stdout",
     "output_type": "stream",
     "text": [
      "INFO:tensorflow:Assets written to: C:\\Users\\admin\\AppData\\Local\\Temp\\tmpm8wjg3ll\\assets\n"
     ]
    },
    {
     "name": "stderr",
     "output_type": "stream",
     "text": [
      "INFO:tensorflow:Assets written to: C:\\Users\\admin\\AppData\\Local\\Temp\\tmpm8wjg3ll\\assets\n"
     ]
    }
   ],
   "source": [
    "conv_model=tf.keras.models.load_model(f'./models/{SYMBOL}_conv_model.h5')\n",
    "lstm_model=tf.keras.models.load_model(f'./models/{SYMBOL}_lstm_model.h5')\n",
    "predictions = []\n",
    "# Convert the model\n",
    "for model,name in zip([conv_model,lstm_model],['conv','lstm']):\n",
    "    converter = tf.lite.TFLiteConverter.from_keras_model(model)\n",
    "    converter.allow_custom_ops = True\n",
    "    converter.target_spec.supported_ops = [\n",
    "      tf.lite.OpsSet.TFLITE_BUILTINS, # enable TensorFlow Lite ops.\n",
    "      tf.lite.OpsSet.SELECT_TF_OPS # enable TensorFlow ops.\n",
    "    ]\n",
    "    tflite_model = converter.convert()\n",
    "    # Save the model.\n",
    "    with open(f'./models/{SYMBOL}_{name}.tflite', 'wb') as f:\n",
    "      f.write(tflite_model)\n",
    "\n",
    "    current_model = TFLiteModel(f'./models/{SYMBOL}_{name}.tflite')\n",
    "    predictions.append(current_model.predict(np.float32(X[9683].reshape(1,60,38))).reshape(40))\n"
   ]
  },
  {
   "cell_type": "code",
   "execution_count": 62,
   "metadata": {},
   "outputs": [
    {
     "data": {
      "text/html": [
       "\n",
       "  <div class=\"bk-root\" id=\"9076990a-2195-42df-91d2-954598019764\" data-root-id=\"6118\"></div>\n"
      ]
     },
     "metadata": {},
     "output_type": "display_data"
    },
    {
     "data": {
      "application/javascript": "(function(root) {\n  function embed_document(root) {\n  const docs_json = {\"84a54612-2be3-45db-ae8a-ac166fe32859\":{\"defs\":[],\"roots\":{\"references\":[{\"attributes\":{\"below\":[{\"id\":\"6129\"}],\"center\":[{\"id\":\"6132\"},{\"id\":\"6136\"},{\"id\":\"6169\"}],\"left\":[{\"id\":\"6133\"}],\"renderers\":[{\"id\":\"6157\"},{\"id\":\"6175\"},{\"id\":\"6190\"}],\"title\":{\"id\":\"6119\"},\"toolbar\":{\"id\":\"6144\"},\"width\":1500,\"x_range\":{\"id\":\"6121\"},\"x_scale\":{\"id\":\"6125\"},\"y_range\":{\"id\":\"6123\"},\"y_scale\":{\"id\":\"6127\"}},\"id\":\"6118\",\"subtype\":\"Figure\",\"type\":\"Plot\"},{\"attributes\":{},\"id\":\"6138\",\"type\":\"WheelZoomTool\"},{\"attributes\":{\"line_alpha\":0.1,\"line_color\":\"#1f77b4\",\"line_width\":2,\"x\":{\"field\":\"x\"},\"y\":{\"field\":\"y\"}},\"id\":\"6173\",\"type\":\"Line\"},{\"attributes\":{\"line_alpha\":0.2,\"line_color\":\"orange\",\"line_width\":2,\"x\":{\"field\":\"x\"},\"y\":{\"field\":\"y\"}},\"id\":\"6156\",\"type\":\"Line\"},{\"attributes\":{},\"id\":\"6167\",\"type\":\"Selection\"},{\"attributes\":{\"coordinates\":null,\"group\":null,\"text\":\"Comparaison\"},\"id\":\"6119\",\"type\":\"Title\"},{\"attributes\":{\"coordinates\":null,\"group\":null,\"items\":[{\"id\":\"6170\"},{\"id\":\"6189\"}],\"location\":\"top_left\"},\"id\":\"6169\",\"type\":\"Legend\"},{\"attributes\":{},\"id\":\"6140\",\"type\":\"SaveTool\"},{\"attributes\":{},\"id\":\"6161\",\"type\":\"BasicTickFormatter\"},{\"attributes\":{},\"id\":\"6162\",\"type\":\"AllLabels\"},{\"attributes\":{},\"id\":\"6164\",\"type\":\"BasicTickFormatter\"},{\"attributes\":{\"line_alpha\":0.1,\"line_color\":\"orange\",\"line_width\":2,\"x\":{\"field\":\"x\"},\"y\":{\"field\":\"y\"}},\"id\":\"6155\",\"type\":\"Line\"},{\"attributes\":{\"label\":{\"value\":\"LSTM x Conv Prediction\"},\"renderers\":[{\"id\":\"6157\"}]},\"id\":\"6170\",\"type\":\"LegendItem\"},{\"attributes\":{\"source\":{\"id\":\"6153\"}},\"id\":\"6158\",\"type\":\"CDSView\"},{\"attributes\":{\"tools\":[{\"id\":\"6137\"},{\"id\":\"6138\"},{\"id\":\"6139\"},{\"id\":\"6140\"},{\"id\":\"6141\"},{\"id\":\"6142\"},{\"id\":\"6151\"}]},\"id\":\"6144\",\"type\":\"Toolbar\"},{\"attributes\":{\"line_alpha\":0.2,\"line_color\":\"#1f77b4\",\"line_width\":2,\"x\":{\"field\":\"x\"},\"y\":{\"field\":\"y\"}},\"id\":\"6174\",\"type\":\"Line\"},{\"attributes\":{\"line_color\":\"#1f77b4\",\"line_width\":2,\"x\":{\"field\":\"x\"},\"y\":{\"field\":\"y\"}},\"id\":\"6172\",\"type\":\"Line\"},{\"attributes\":{},\"id\":\"6137\",\"type\":\"PanTool\"},{\"attributes\":{\"callback\":null,\"formatters\":{\"$x\":\"datetime\",\"$y\":\"printf\"},\"mode\":\"vline\",\"tooltips\":[[\"Price\",\"@y{0.00} $\"]]},\"id\":\"6151\",\"type\":\"HoverTool\"},{\"attributes\":{\"axis_label\":\"value ($)\",\"coordinates\":null,\"formatter\":{\"id\":\"6161\"},\"group\":null,\"major_label_policy\":{\"id\":\"6162\"},\"ticker\":{\"id\":\"6134\"}},\"id\":\"6133\",\"type\":\"LinearAxis\"},{\"attributes\":{},\"id\":\"6187\",\"type\":\"Selection\"},{\"attributes\":{\"overlay\":{\"id\":\"6143\"}},\"id\":\"6139\",\"type\":\"BoxZoomTool\"},{\"attributes\":{},\"id\":\"6134\",\"type\":\"BasicTicker\"},{\"attributes\":{\"source\":{\"id\":\"6171\"}},\"id\":\"6176\",\"type\":\"CDSView\"},{\"attributes\":{\"coordinates\":null,\"data_source\":{\"id\":\"6171\"},\"glyph\":{\"id\":\"6172\"},\"group\":null,\"hover_glyph\":null,\"muted_glyph\":{\"id\":\"6174\"},\"nonselection_glyph\":{\"id\":\"6173\"},\"view\":{\"id\":\"6176\"}},\"id\":\"6175\",\"type\":\"GlyphRenderer\"},{\"attributes\":{\"bottom_units\":\"screen\",\"coordinates\":null,\"fill_alpha\":0.5,\"fill_color\":\"lightgrey\",\"group\":null,\"left_units\":\"screen\",\"level\":\"overlay\",\"line_alpha\":1.0,\"line_color\":\"black\",\"line_dash\":[4,4],\"line_width\":2,\"right_units\":\"screen\",\"syncable\":false,\"top_units\":\"screen\"},\"id\":\"6143\",\"type\":\"BoxAnnotation\"},{\"attributes\":{\"data\":{\"x\":[0,1,2,3,4,5,6,7,8,9,10,11,12,13,14,15,16,17,18,19,20,21,22,23,24,25,26,27,28,29,30,31,32,33,34,35,36,37,38,39],\"y\":{\"__ndarray__\":\"zXiePn19lz7oXJE+MW+KPhyqhz7D/4g+cqWPPkajnz7+rrc+gZLaPrzSAz9UVRw/Oug1PxYTTz8XQGc/nNF+P+oyiT8QkZQ/YPqdP3Rbnz9EUJg/2niGP6lBVj92ghE/FLSBPvOwyb0+TPm+ZQdkv/k+pr+Wldi/iIcDwA/BGMCk7irAgHY5wKfLQ8DsZEnAskNJwAhYQsAzyjXA9pUnwA==\",\"dtype\":\"float32\",\"order\":\"little\",\"shape\":[40]}},\"selected\":{\"id\":\"6167\"},\"selection_policy\":{\"id\":\"6166\"}},\"id\":\"6153\",\"type\":\"ColumnDataSource\"},{\"attributes\":{},\"id\":\"6186\",\"type\":\"UnionRenderers\"},{\"attributes\":{},\"id\":\"6127\",\"type\":\"LinearScale\"},{\"attributes\":{\"axis\":{\"id\":\"6129\"},\"coordinates\":null,\"group\":null,\"ticker\":null},\"id\":\"6132\",\"type\":\"Grid\"},{\"attributes\":{},\"id\":\"6166\",\"type\":\"UnionRenderers\"},{\"attributes\":{},\"id\":\"6123\",\"type\":\"DataRange1d\"},{\"attributes\":{},\"id\":\"6125\",\"type\":\"LinearScale\"},{\"attributes\":{\"coordinates\":null,\"dimension\":\"height\",\"group\":null,\"line_dash\":[6],\"line_width\":2,\"location\":20},\"id\":\"6190\",\"type\":\"Span\"},{\"attributes\":{\"axis_label\":\"time\",\"coordinates\":null,\"formatter\":{\"id\":\"6164\"},\"group\":null,\"major_label_policy\":{\"id\":\"6165\"},\"ticker\":{\"id\":\"6130\"}},\"id\":\"6129\",\"type\":\"LinearAxis\"},{\"attributes\":{\"data\":{\"x\":[0,1,2,3,4,5,6,7,8,9,10,11,12,13,14,15,16,17,18,19,20,21,22,23,24,25,26,27,28,29,30,31,32,33,34,35,36,37,38,39],\"y\":{\"__ndarray__\":\"1v7aTFQ/2z9hDUx4Ef3WP1scJWSHxsM/GKUvlB7jn787mT7wtczRv06ngsfxl9q/SxmXotpk4b8bLnYNQhLXv4vRDevY5Lq/WYvTWmNHtz/9M1WKzLnFP5azTFTwf9E/3uNqRuEp4D/74Eepb4XpP1Y4zLHLmfA/RoesikvI9D9r555bfOb2P3EJkCfzEPc/ImHRjo5u9z8bAQuRsJX1P2cXngy+yPM/Nabg3DCo8T+msd+VuSLwP3J1bP6GK+Y/tj6VMjje3j8CKHXnjR3QP25X06pZdNK/rTEqaNS3578UEh72sYXxv/RyXw8Xn/O/HuMgaWK79L+124J2vir6v0TGO5o5QgDAZB18l4R0AsCg/qSIxN4EwBOHZekHQwfAXAcvfLFCDMDZjLQsRqsMwAKTlSbi2wzAzxa2+4YQDcA=\",\"dtype\":\"float64\",\"order\":\"little\",\"shape\":[40]}},\"selected\":{\"id\":\"6187\"},\"selection_policy\":{\"id\":\"6186\"}},\"id\":\"6171\",\"type\":\"ColumnDataSource\"},{\"attributes\":{\"axis\":{\"id\":\"6133\"},\"coordinates\":null,\"dimension\":1,\"group\":null,\"ticker\":null},\"id\":\"6136\",\"type\":\"Grid\"},{\"attributes\":{},\"id\":\"6141\",\"type\":\"ResetTool\"},{\"attributes\":{\"label\":{\"value\":\"B_MLR_coefs\"},\"renderers\":[{\"id\":\"6175\"}]},\"id\":\"6189\",\"type\":\"LegendItem\"},{\"attributes\":{},\"id\":\"6142\",\"type\":\"HelpTool\"},{\"attributes\":{},\"id\":\"6165\",\"type\":\"AllLabels\"},{\"attributes\":{\"line_color\":\"orange\",\"line_width\":2,\"x\":{\"field\":\"x\"},\"y\":{\"field\":\"y\"}},\"id\":\"6154\",\"type\":\"Line\"},{\"attributes\":{},\"id\":\"6121\",\"type\":\"DataRange1d\"},{\"attributes\":{\"coordinates\":null,\"data_source\":{\"id\":\"6153\"},\"glyph\":{\"id\":\"6154\"},\"group\":null,\"hover_glyph\":null,\"muted_glyph\":{\"id\":\"6156\"},\"nonselection_glyph\":{\"id\":\"6155\"},\"view\":{\"id\":\"6158\"}},\"id\":\"6157\",\"type\":\"GlyphRenderer\"},{\"attributes\":{},\"id\":\"6130\",\"type\":\"BasicTicker\"}],\"root_ids\":[\"6118\"]},\"title\":\"Bokeh Application\",\"version\":\"2.4.3\"}};\n  const render_items = [{\"docid\":\"84a54612-2be3-45db-ae8a-ac166fe32859\",\"root_ids\":[\"6118\"],\"roots\":{\"6118\":\"9076990a-2195-42df-91d2-954598019764\"}}];\n  root.Bokeh.embed.embed_items_notebook(docs_json, render_items);\n  }\n  if (root.Bokeh !== undefined) {\n    embed_document(root);\n  } else {\n    let attempts = 0;\n    const timer = setInterval(function(root) {\n      if (root.Bokeh !== undefined) {\n        clearInterval(timer);\n        embed_document(root);\n      } else {\n        attempts++;\n        if (attempts > 100) {\n          clearInterval(timer);\n          console.log(\"Bokeh: ERROR: Unable to run BokehJS code because BokehJS library is missing\");\n        }\n      }\n    }, 10, root)\n  }\n})(window);",
      "application/vnd.bokehjs_exec.v0+json": ""
     },
     "metadata": {
      "application/vnd.bokehjs_exec.v0+json": {
       "id": "6118"
      }
     },
     "output_type": "display_data"
    }
   ],
   "source": [
    "p = figure(title=f\"Comparaison\", x_axis_label='time', y_axis_label='value ($)',width=1500, height=600,)\n",
    "# Add the HoverTool to the figure\n",
    "p.add_tools(HoverTool(\n",
    "    tooltips=[\n",
    "    (\"Price\", \"@y{0.00} $\"),\n",
    "], formatters={\n",
    "        '$x': 'datetime',\n",
    "        '$y' : 'printf',\n",
    "    },\n",
    "    mode='vline'\n",
    "))\n",
    "p.line(list(range(len(predictions[1]))), (predictions[1].reshape(OUTPUT_SIZE)+ predictions[0].reshape(OUTPUT_SIZE))/2, legend_label=\"LSTM x Conv Prediction\", line_width=2, color='orange')\n",
    "p.line(list(range(len(predictions[1]))), y[9683].reshape(OUTPUT_SIZE), legend_label=\"B_MLR_coefs\", line_width=2, )\n",
    "vline = Span(location=COVERAGE_STEPS, dimension='height', line_color='black', line_width=2,line_dash='dashed')\n",
    "p.renderers.extend([vline])\n",
    "p.legend.location = \"top_left\"\n",
    "show(p)"
   ]
  },
  {
   "cell_type": "code",
   "execution_count": null,
   "metadata": {},
   "outputs": [],
   "source": [
    "import numpy as np\n",
    "import tensorflow as tf\n",
    "\n",
    "# Load TFLite model and allocate tensors.\n",
    "interpreter = tf.lite.Interpreter(model_path=\"./model.tflite\")\n",
    "interpreter.allocate_tensors()\n",
    "\n",
    "# Get input and output tensors.\n",
    "input_details = interpreter.get_input_details()\n",
    "output_details = interpreter.get_output_details()\n",
    "\n",
    "# Test model on random input data.\n",
    "input_shape = input_details[0]['shape']\n",
    "input_data = np.float32(X)#np.array(np.float32(X[-1].reshape(1,60,38)), dtype=np.float32)\n",
    "interpreter.set_tensor(input_details[0]['index'],np.float32(X[-1].reshape(1,60,38)))\n",
    "interpreter.invoke()\n",
    "\n",
    "# The function `get_tensor()` returns a copy of the tensor data.\n",
    "# Use `tensor()` in order to get a pointer to the tensor.\n",
    "output_data = interpreter.get_tensor(output_details[0]['index'])\n",
    "print(output_data)"
   ]
  },
  {
   "cell_type": "code",
   "execution_count": 139,
   "metadata": {},
   "outputs": [
    {
     "data": {
      "text/plain": [
       "array([ 2.81817043e-04,  1.80724728e-04, -9.02046784e-05, ...,\n",
       "        6.11131997e-05, -2.60066834e-05, -8.37984545e-04])"
      ]
     },
     "execution_count": 139,
     "metadata": {},
     "output_type": "execute_result"
    }
   ],
   "source": [
    "df.B_MLR_coefs.values\n"
   ]
  },
  {
   "cell_type": "code",
   "execution_count": 140,
   "metadata": {},
   "outputs": [
    {
     "data": {
      "text/plain": [
       "array([-0.00382623, -0.00524257, -0.00597959, -0.00604487, -0.00516733,\n",
       "       -0.00501163, -0.00449779, -0.00386011, -0.00400485, -0.00375702,\n",
       "       -0.00344385, -0.00304197, -0.00313159, -0.00264799, -0.00356175,\n",
       "       -0.00303906, -0.00250716,  0.00064374,  0.00176276,  0.00520646,\n",
       "        0.00802915,  0.01000458,  0.00997781,  0.01054154,  0.01024669,\n",
       "        0.00866046,  0.00766866,  0.0082461 ,  0.00879483,  0.0097452 ,\n",
       "        0.01036937,  0.00972864,  0.00815944,  0.00612878,  0.00232412,\n",
       "       -0.00146018, -0.00498969, -0.00818477, -0.01031332, -0.01007655],\n",
       "      dtype=float32)"
      ]
     },
     "execution_count": 140,
     "metadata": {},
     "output_type": "execute_result"
    }
   ],
   "source": [
    "output_data[0].reshape(40)*df.B_MLR_coefs.std()+df.B_MLR_coefs.mean()"
   ]
  },
  {
   "cell_type": "code",
   "execution_count": 144,
   "metadata": {},
   "outputs": [
    {
     "ename": "ValueError",
     "evalue": "all the input array dimensions for the concatenation axis must match exactly, but along dimension 1, the array at index 0 has size 23184 and the array at index 1 has size 40",
     "output_type": "error",
     "traceback": [
      "\u001b[1;31m---------------------------------------------------------------------------\u001b[0m",
      "\u001b[1;31mValueError\u001b[0m                                Traceback (most recent call last)",
      "\u001b[1;32mc:\\ZZ_Bapt_SSH\\trading-sandbox\\multi_step_lstm.ipynb Cell 25\u001b[0m in \u001b[0;36m<cell line: 1>\u001b[1;34m()\u001b[0m\n\u001b[1;32m----> <a href='vscode-notebook-cell://ssh-remote%2B7b22686f73744e616d65223a2241444d494e2d5043227d/c%3A/ZZ_Bapt_SSH/trading-sandbox/multi_step_lstm.ipynb#Y126sdnNjb2RlLXJlbW90ZQ%3D%3D?line=0'>1</a>\u001b[0m np\u001b[39m.\u001b[39;49mvstack([df\u001b[39m.\u001b[39;49mB_MLR_coefs\u001b[39m.\u001b[39;49mvalues\n\u001b[0;32m      <a href='vscode-notebook-cell://ssh-remote%2B7b22686f73744e616d65223a2241444d494e2d5043227d/c%3A/ZZ_Bapt_SSH/trading-sandbox/multi_step_lstm.ipynb#Y126sdnNjb2RlLXJlbW90ZQ%3D%3D?line=1'>2</a>\u001b[0m ,output_data[\u001b[39m0\u001b[39;49m]\u001b[39m.\u001b[39;49mreshape(\u001b[39m40\u001b[39;49m)\u001b[39m*\u001b[39;49mdf\u001b[39m.\u001b[39;49mB_MLR_coefs\u001b[39m.\u001b[39;49mstd()\u001b[39m+\u001b[39;49mdf\u001b[39m.\u001b[39;49mB_MLR_coefs\u001b[39m.\u001b[39;49mmean()])\n",
      "File \u001b[1;32m<__array_function__ internals>:180\u001b[0m, in \u001b[0;36mvstack\u001b[1;34m(*args, **kwargs)\u001b[0m\n",
      "File \u001b[1;32mc:\\Users\\admin\\AppData\\Local\\Programs\\Python\\Python310\\lib\\site-packages\\numpy\\core\\shape_base.py:282\u001b[0m, in \u001b[0;36mvstack\u001b[1;34m(tup)\u001b[0m\n\u001b[0;32m    280\u001b[0m \u001b[39mif\u001b[39;00m \u001b[39mnot\u001b[39;00m \u001b[39misinstance\u001b[39m(arrs, \u001b[39mlist\u001b[39m):\n\u001b[0;32m    281\u001b[0m     arrs \u001b[39m=\u001b[39m [arrs]\n\u001b[1;32m--> 282\u001b[0m \u001b[39mreturn\u001b[39;00m _nx\u001b[39m.\u001b[39;49mconcatenate(arrs, \u001b[39m0\u001b[39;49m)\n",
      "File \u001b[1;32m<__array_function__ internals>:180\u001b[0m, in \u001b[0;36mconcatenate\u001b[1;34m(*args, **kwargs)\u001b[0m\n",
      "\u001b[1;31mValueError\u001b[0m: all the input array dimensions for the concatenation axis must match exactly, but along dimension 1, the array at index 0 has size 23184 and the array at index 1 has size 40"
     ]
    }
   ],
   "source": [
    "np.vstack([df.B_MLR_coefs.values\n",
    ",output_data[0].reshape(40)*df.B_MLR_coefs.std()+df.B_MLR_coefs.mean()])"
   ]
  },
  {
   "cell_type": "code",
   "execution_count": null,
   "metadata": {},
   "outputs": [],
   "source": []
  }
 ],
 "metadata": {
  "kernelspec": {
   "display_name": "Python 3.10.5 64-bit",
   "language": "python",
   "name": "python3"
  },
  "language_info": {
   "codemirror_mode": {
    "name": "ipython",
    "version": 3
   },
   "file_extension": ".py",
   "mimetype": "text/x-python",
   "name": "python",
   "nbconvert_exporter": "python",
   "pygments_lexer": "ipython3",
   "version": "3.10.5"
  },
  "orig_nbformat": 4,
  "vscode": {
   "interpreter": {
    "hash": "beedbe2faf2f7048d727558d0bc3221e7eba2a0b921cac4d4771b2feb8f74b30"
   }
  }
 },
 "nbformat": 4,
 "nbformat_minor": 2
}
