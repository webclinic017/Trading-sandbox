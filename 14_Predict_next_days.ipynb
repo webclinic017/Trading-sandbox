{
 "cells": [
  {
   "cell_type": "markdown",
   "metadata": {},
   "source": [
    "# Modules"
   ]
  },
  {
   "cell_type": "code",
   "execution_count": null,
   "metadata": {},
   "outputs": [],
   "source": [
    "from sklearn.metrics import mean_squared_error\n",
    "from sklearn.ensemble import RandomForestRegressor\n",
    "from sklearn.model_selection import train_test_split\n",
    "\n",
    "import numpy as np\n",
    "\n",
    "import matplotlib.pyplot as plt\n",
    "\n",
    "import warnings\n",
    "from datetime import datetime\n",
    "\n",
    "import pandas as pd\n",
    "\n",
    "\n",
    "\n",
    "from ta.momentum import stochrsi,rsi\n",
    "from ta.trend import ema_indicator, macd_diff, vortex_indicator_neg, vortex_indicator_pos, adx, cci, sma_indicator\n",
    "from ta.volatility import bollinger_hband, bollinger_lband\n",
    "from ta.volume import volume_weighted_average_price\n",
    "\n",
    "\n",
    "warnings.filterwarnings('ignore')"
   ]
  },
  {
   "cell_type": "markdown",
   "metadata": {},
   "source": [
    "# Utils"
   ]
  },
  {
   "cell_type": "code",
   "execution_count": null,
   "metadata": {},
   "outputs": [],
   "source": [
    "\n",
    "def addIndicators(df:pd.DataFrame,b_engulfings:bool=False, derivative:bool=False, double_derivative:bool=False) -> pd.DataFrame:\n",
    "    \"\"\"Apply indicators to the DataFrame.\n",
    "\n",
    "    Args:\n",
    "        df (pd.DataFrame): The dataframe you want to add indicators on.\n",
    "        b_engulfings (bool, optional): Add bearish and bullish engulfing indicators. Defaults to False.\n",
    "        derivative (bool, optional): Add the first derivative of the Close price. Defaults to False.\n",
    "        double_derivative (bool, optional): Add the second derivative of the Close price. Defaults to False.\n",
    "\n",
    "    Returns:\n",
    "        pd.DataFrame: The same dataframe with indicators\n",
    "    \"\"\"\n",
    "    def isBearishCandleStick(candle) -> bool:\n",
    "        \"\"\"Check whether a candle is a bearish candle or not\n",
    "\n",
    "        Args:\n",
    "            candle (pd.Series): The current candle that contains OHLC\n",
    "\n",
    "        Returns:\n",
    "            bool: A boolean representing if the candle is bearish candle (True) or not (False)\n",
    "        \"\"\"\n",
    "        return candle['Close']<candle['Open']\n",
    "\n",
    "    def isBullishCandleStick(candle) -> bool:\n",
    "        \"\"\"Check whether a candle is a bullish candle or not\n",
    "\n",
    "        Args:\n",
    "            candle (pd.Series): The current candle that contains OHLC\n",
    "\n",
    "        Returns:\n",
    "            bool: A boolean representing if the candle is bullish candle (True) or not (False)\n",
    "        \"\"\"\n",
    "        return candle['Close']>candle['Open']\n",
    "\n",
    "    def isBullishEngulfing(previous_candle,current_candle) -> int:\n",
    "        \"\"\"A function that check for bullish engulfing pattern through candle stick\n",
    "\n",
    "        Args:\n",
    "            previous_candle (pd.Series): The previous candle that contains OHLC\n",
    "            current_candle (pd.Series): The current candle that contains OHLC\n",
    "\n",
    "        Returns:\n",
    "            int: represent the pattern spotting : 1 bullish engulfing, 0 not.\n",
    "        \"\"\"\n",
    "        return 1 if isBearishCandleStick(previous_candle) and isBullishCandleStick(current_candle) and previous_candle['Open']<current_candle['Close'] and previous_candle['Close']>current_candle['Open'] else 0\n",
    "        \n",
    "    def isBearishEngulfing(previous_candle,current_candle) -> int:\n",
    "        \"\"\"A function that check for bearish engulfing pattern through candle stick\n",
    "\n",
    "        Args:\n",
    "            previous_candle (pd.Series): The previous candle that contains OHLC\n",
    "            current_candle (pd.Series): The current candle that contains OHLC\n",
    "\n",
    "        Returns:\n",
    "            int: represent the pattern spotting : 1 bearish engulfing, 0 not.\n",
    "        \"\"\"\n",
    "        return 1 if isBullishCandleStick(previous_candle) and isBearishCandleStick(current_candle) and previous_candle['Close']<current_candle['Open'] and previous_candle['Open']>current_candle['Close'] else 0    \n",
    "            \n",
    "    df['High_Low_diff'] = df.High-df.Low\n",
    "    df['EMA20'] = ema_indicator(df.Close,20)\n",
    "    df['EMA50'] = ema_indicator(df.Close,50)\n",
    "    df['EMA100'] = ema_indicator(df.Close,100)\n",
    "    df['EMA200'] = ema_indicator(df.Close,200)\n",
    "    df['MACD'] = macd_diff(df.Close)\n",
    "    df['Stoch_RSI'] = stochrsi(df.Close, 14, smooth1=3, smooth2=3)\n",
    "    df['Vortex'] = (vortex_indicator_pos(df.High,df.Low,df.Close,20,fillna=True)-1)-(vortex_indicator_neg(df.High,df.Low,df.Close,20,fillna=True)-1)\n",
    "    df['Bollinger_low'] = bollinger_hband(df.Close,20,fillna=True)\n",
    "    df['Bollinger_high'] = bollinger_lband(df.Close,20,fillna=True)\n",
    "    df['ADX'] = adx(df.High,df.Low,df.Close)\n",
    "    df['CCI'] = cci(df.High,df.Low,df.Close,14)\n",
    "    df['OVB'] = (np.sign(df.Close.diff())*df.Volume).fillna(0).cumsum()\n",
    "    df['OVB_EMA200'] = ema_indicator(df.OVB,200)\n",
    "    trixLength = 9\n",
    "    trixSignal = 21\n",
    "    df['TRIX'] = ema_indicator(ema_indicator(ema_indicator(df['Close'], window=trixLength), window=trixLength), window=trixLength)\n",
    "    df['TRIX_PCT'] = df[\"TRIX\"].pct_change()*100\n",
    "    df['TRIX_SIGNAL'] = sma_indicator(df['TRIX_PCT'],trixSignal)\n",
    "    df['TRIX_HISTO'] = df['TRIX_PCT'] - df['TRIX_SIGNAL']\n",
    "    #df['EVM'] = ease_of_movement(df.High,df.Low,df.Volume,14)\n",
    "    if b_engulfings==True:\n",
    "        df['Bullish_engulfing'] = np.nan\n",
    "        df['Bullish_engulfing'].iloc[1:] = [isBullishEngulfing(df.iloc[i-1],df.iloc[i]) for i in range(1,len(df))]\n",
    "        df['Bearish_engulfing'] = np.nan\n",
    "        df['Bearish_engulfing'].iloc[1:] = [isBearishEngulfing(df.iloc[i-1],df.iloc[i]) for i in range(1,len(df))]\n",
    "    if derivative==True:\n",
    "        df['Slope'] = df.Close.diff()\n",
    "    if double_derivative==True:\n",
    "        df['Acceleration'] = df.Close.diff().diff()\n",
    "    return df.dropna()"
   ]
  },
  {
   "cell_type": "code",
   "execution_count": null,
   "metadata": {},
   "outputs": [],
   "source": [
    "df = pd.read_csv('../backtest_tools/database/database/Binance/15m/BTC-USDT.csv',names=['Date','Open','High','Low','Close','Volume'])\n",
    "df = df.iloc[1:]\n",
    "df['Date'] = df['Date'].apply(lambda x: int(str(x)[:-3]))\n",
    "df = df.astype(float)\n",
    "df['Timestamp'] = df['Date'].astype(int)\n",
    "df['Date'] = df['Date'].astype(int).apply(datetime.fromtimestamp)\n",
    "df = df.set_index('Date')\n",
    "df = addIndicators(df)\n",
    "df.head()"
   ]
  },
  {
   "cell_type": "code",
   "execution_count": null,
   "metadata": {},
   "outputs": [],
   "source": [
    "features = df[['Open', 'High', 'Low', 'Close', 'Volume', 'High_Low_diff',\n",
    "       'EMA20', 'EMA50', 'EMA100', 'EMA200', 'MACD', 'Stoch_RSI', 'Vortex',\n",
    "       'Bollinger_low', 'Bollinger_high', 'ADX', 'CCI', 'OVB', 'OVB_EMA200',\n",
    "       'TRIX', 'TRIX_PCT', 'TRIX_SIGNAL', 'TRIX_HISTO']].iloc[:-1]\n",
    "\n",
    "labels = ((df['Close']-df['Close'].mean())/df['Close'].std()).iloc[1:]\n",
    "\n",
    "X_train, X_test, y_train, y_test = train_test_split(features,labels,test_size=0.5,shuffle=True)\n",
    "\n",
    "model = RandomForestRegressor(n_estimators=120,criterion='absolute_error',).fit(X_train,y_train)\n",
    "mean_squared_error(model.predict(X_test),y_test,squared=False)\n"
   ]
  },
  {
   "cell_type": "code",
   "execution_count": null,
   "metadata": {},
   "outputs": [],
   "source": [
    "df['Pred_close'] = np.nan\n",
    "df['Pred_close'].iloc[1:]=(model.predict(features)*df['Close'].std())+df['Close'].mean()\n",
    "fig, ax_left = plt.subplots(1, figsize=(25,8))\n",
    "\n",
    "ax_left.plot(df.Close[-200:], color='red',label='Close')\n",
    "ax_left.plot(df.Pred_close[-200:], color='blue',label='Close pred')\n",
    "ax_left.legend(loc=\"upper left\")#"
   ]
  },
  {
   "cell_type": "code",
   "execution_count": null,
   "metadata": {},
   "outputs": [],
   "source": []
  }
 ],
 "metadata": {
  "interpreter": {
   "hash": "d58cacdab5e87910af5fd11a0a6d597df11e0910bae80574c4c81b52a6810385"
  },
  "kernelspec": {
   "display_name": "Python 3.8.10 ('venv': venv)",
   "language": "python",
   "name": "python3"
  },
  "language_info": {
   "codemirror_mode": {
    "name": "ipython",
    "version": 3
   },
   "file_extension": ".py",
   "mimetype": "text/x-python",
   "name": "python",
   "nbconvert_exporter": "python",
   "pygments_lexer": "ipython3",
   "version": "3.8.10"
  },
  "orig_nbformat": 4
 },
 "nbformat": 4,
 "nbformat_minor": 2
}
