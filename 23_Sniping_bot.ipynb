{
 "cells": [
  {
   "cell_type": "code",
   "execution_count": 41,
   "metadata": {},
   "outputs": [
    {
     "data": {
      "text/html": [
       "<div>\n",
       "<style scoped>\n",
       "    .dataframe tbody tr th:only-of-type {\n",
       "        vertical-align: middle;\n",
       "    }\n",
       "\n",
       "    .dataframe tbody tr th {\n",
       "        vertical-align: top;\n",
       "    }\n",
       "\n",
       "    .dataframe thead th {\n",
       "        text-align: right;\n",
       "    }\n",
       "</style>\n",
       "<table border=\"1\" class=\"dataframe\">\n",
       "  <thead>\n",
       "    <tr style=\"text-align: right;\">\n",
       "      <th></th>\n",
       "      <th>symbol</th>\n",
       "      <th>date</th>\n",
       "    </tr>\n",
       "  </thead>\n",
       "  <tbody>\n",
       "    <tr>\n",
       "      <th>0</th>\n",
       "      <td>NEER</td>\n",
       "      <td>2022-08-30 12:00:00</td>\n",
       "    </tr>\n",
       "  </tbody>\n",
       "</table>\n",
       "</div>"
      ],
      "text/plain": [
       "  symbol                date\n",
       "0   NEER 2022-08-30 12:00:00"
      ]
     },
     "execution_count": 41,
     "metadata": {},
     "output_type": "execute_result"
    }
   ],
   "source": [
    "import requests\n",
    "from  bs4 import BeautifulSoup\n",
    "import re\n",
    "from datetime import datetime\n",
    "import pandas as pd\n",
    "\n",
    "def getListingListFromSoup()->list:\n",
    "    def getSoup()->BeautifulSoup:\n",
    "        html_text = requests.get('https://www.kucoin.com/fr/news/categories/listing',headers={'Accept':'*/*','User-Agent':'Thunder Client (https://www.thunderclient.com)'}).text\n",
    "        return BeautifulSoup(html_text, 'html.parser')\n",
    "    return [listing.text.strip() for listing in getSoup().find_all('div',{'class':'mainTitle___mbpq1'})]\n",
    "\n",
    "Listing = getListingListFromSoup()\n",
    "\n",
    "     \n",
    "def cleanUpAndFormatListing(listings):\n",
    "    def keepOnlyCurrencies(_listings:list)->list:\n",
    "        return [listing for listing in _listings if 'etf' not in listing.lower()] \n",
    "    \n",
    "    listings = keepOnlyCurrencies(listings)\n",
    "    \n",
    "    def extractSymbols(_listings):\n",
    "        return [ re.search('(?<=\\()[a-zA-Z]+?(?=\\))',\n",
    "                           re.sub(r'Trading:\\s(.*)$',\n",
    "                                  '', listing)).group(0)\n",
    "                for listing in _listings]\n",
    "    \n",
    "    def extractDates(_listings):\n",
    "        return [ datetime.strptime(re.search(r'Trading:\\s(.*)$',\n",
    "                                                 listing).group(1),\n",
    "                                       '%H:%M on %B %d, %Y (UTC)')\n",
    "                for listing in _listings]\n",
    "        \n",
    "    dates = extractDates(listings)    \n",
    "    symbols = extractSymbols(listings)\n",
    "    return pd.DataFrame({'symbol':symbols,'date':dates})\n",
    "    \n",
    "df_listing = cleanUpAndFormatListing(Listing)\n",
    "\n",
    "df_listing.loc[df_listing['date']>datetime.now()]   "
   ]
  }
 ],
 "metadata": {
  "kernelspec": {
   "display_name": "Python 3.8.10 ('venv': venv)",
   "language": "python",
   "name": "python3"
  },
  "language_info": {
   "codemirror_mode": {
    "name": "ipython",
    "version": 3
   },
   "file_extension": ".py",
   "mimetype": "text/x-python",
   "name": "python",
   "nbconvert_exporter": "python",
   "pygments_lexer": "ipython3",
   "version": "3.8.10"
  },
  "orig_nbformat": 4,
  "vscode": {
   "interpreter": {
    "hash": "d58cacdab5e87910af5fd11a0a6d597df11e0910bae80574c4c81b52a6810385"
   }
  }
 },
 "nbformat": 4,
 "nbformat_minor": 2
}
