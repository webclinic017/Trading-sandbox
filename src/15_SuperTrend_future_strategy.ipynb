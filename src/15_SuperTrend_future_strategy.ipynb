{
 "cells": [
  {
   "cell_type": "code",
   "execution_count": 5,
   "metadata": {},
   "outputs": [],
   "source": [
    "import math\n",
    "import numpy as np\n",
    "import pandas as pd\n",
    "import math\n",
    "import matplotlib.pyplot as plt\n",
    "\n",
    "\n",
    "# Technical indicators\n",
    "from ta.momentum import stochrsi,rsi\n",
    "from ta.trend import ema_indicator, macd_diff, vortex_indicator_neg, vortex_indicator_pos, adx, cci, sma_indicator\n",
    "from ta.volatility import bollinger_hband, bollinger_lband, average_true_range\n",
    "from ta.volume import volume_weighted_average_price, ease_of_movement\n",
    "# Technical indicators\n",
    "from modules.Utils.indicators import addIndicators, computeSuperTrend\n",
    "from modules.Utils.utils import loadFromDB\n",
    "import warnings \n",
    "warnings.filterwarnings('ignore')\n",
    "\n",
    "from datetime import datetime"
   ]
  },
  {
   "cell_type": "markdown",
   "metadata": {},
   "source": [
    "# WITH NEWS METHODS"
   ]
  },
  {
   "cell_type": "code",
   "execution_count": null,
   "metadata": {},
   "outputs": [],
   "source": [
    "# Technical indicators\n",
    "from ta.trend import ema_indicator, trix, dpo\n",
    "from ta.momentum import stochrsi\n",
    "from ta.volatility import average_true_range\n",
    "from modules.Utils.utils import loadFromDB, computeFutureLinearRegression, strategyTester\n",
    "from modules.Utils.indicators import computeLaggingLinearRegression, computeTrixIndicator, addIndicators, computeRSI_VWAP, computeMASlope, computeSuperTrend\n",
    "\n",
    "import pandas as pd\n",
    "\n",
    "import warnings \n",
    "warnings.filterwarnings(\"ignore\")"
   ]
  },
  {
   "cell_type": "code",
   "execution_count": null,
   "metadata": {},
   "outputs": [],
   "source": [
    "!ls ../backtest_tools/database/database/KuCoin/1d/"
   ]
  },
  {
   "cell_type": "code",
   "execution_count": null,
   "metadata": {},
   "outputs": [],
   "source": [
    "SYMBOL= 'LINK'\n",
    "df = loadFromDB(f'../backtest_tools/database/database/KuCoin/1h/{SYMBOL}-USDT.csv')\n",
    "df.head()"
   ]
  },
  {
   "cell_type": "code",
   "execution_count": null,
   "metadata": {},
   "outputs": [],
   "source": [
    "df['EMA']=ema_indicator(close=df['Close'], window=130)\n",
    "df['STOCH_RSI'] = stochrsi(close=df['Close'], window=14, smooth1=3, smooth2=3)\n",
    "df = computeSuperTrend(df)\n",
    "import numpy as np\n",
    "\n",
    "df_day = loadFromDB(f'../backtest_tools/database/database/KuCoin/1d/{SYMBOL}-USDT.csv')\n",
    "df_day = computeSuperTrend(df_day)\n",
    "df_day.dropna(inplace=True)\n",
    "df_day.tail()\n",
    "def addST(x):\n",
    "    try:\n",
    "        return df_day.loc[pd.to_datetime(x.name).date().strftime(\"%Y-%m-%d\")].ST_Direction.values[0]\n",
    "    except:\n",
    "        return np.nan\n",
    "    \n",
    "df['ST_day'] = df.apply(addST,axis=1)\n",
    "df.dropna(inplace=True)\n",
    "df.head()"
   ]
  },
  {
   "cell_type": "code",
   "execution_count": null,
   "metadata": {},
   "outputs": [],
   "source": [
    "def buyCondition(row:pd.Series, previous_row:pd.Series=None)->bool:\n",
    "    return True if (row['STOCH_RSI']<0.8 and\n",
    "                    row['ST_Direction']==True and\n",
    "                    row['ST_day']==True and\n",
    "                    row['Close']>row['EMA']) else False\n",
    "\n",
    "def sellCondition(row:pd.Series, previous_row:pd.Series=None)->bool:\n",
    "    return True if row['ST_Direction']==False and row['STOCH_RSI']>0.2 else False\n",
    "\n",
    "strategyTester(df,buyCondition,sellCondition,equity=1000,)"
   ]
  },
  {
   "cell_type": "code",
   "execution_count": null,
   "metadata": {},
   "outputs": [],
   "source": [
    "#results=[]\n",
    "#for j in range(8,20,2):\n",
    "#    for i in range(50,150,10):\n",
    "#        SYMBOL= 'AVAX'\n",
    "#        df = loadFromDB(f'../backtest_tools/database/database/KuCoin/1h/{SYMBOL}-USDT.csv')\n",
    "#        df['EMA']=ema_indicator(close=df['Close'], window=i)\n",
    "#        df['STOCH_RSI'] = stochrsi(close=df['Close'], window=j, smooth1=3, smooth2=3)\n",
    "#        df = computeSuperTrend(df)\n",
    "#        def buyCondition(row:pd.Series, previous_row:pd.Series=None)->bool:\n",
    "#            return True if (row['STOCH_RSI']<0.8 and row['ST_Direction']==True and row['Close']>row['EMA']) else False\n",
    "#\n",
    "#        def sellCondition(row:pd.Series, previous_row:pd.Series=None)->bool:\n",
    "#            return True if row['ST_Direction']==False and row['STOCH_RSI']>0.2 else False\n",
    "#\n",
    "#        coins = strategyTester(df,buyCondition,sellCondition,equity=1000,optimization_process=True)\n",
    "#        result = {'EMA':i,'STOCH_RSI':j,'coins':coins}\n",
    "#        print(result)\n",
    "#        results.append(result)"
   ]
  },
  {
   "cell_type": "code",
   "execution_count": null,
   "metadata": {},
   "outputs": [],
   "source": []
  }
 ],
 "metadata": {
  "kernelspec": {
   "display_name": ".venv",
   "language": "python",
   "name": "python3"
  },
  "language_info": {
   "codemirror_mode": {
    "name": "ipython",
    "version": 3
   },
   "file_extension": ".py",
   "mimetype": "text/x-python",
   "name": "python",
   "nbconvert_exporter": "python",
   "pygments_lexer": "ipython3",
   "version": "3.10.6"
  },
  "orig_nbformat": 4,
  "vscode": {
   "interpreter": {
    "hash": "9977583795094559e9aee1aa76bed667140372cde187979c72270d40295f0cfb"
   }
  }
 },
 "nbformat": 4,
 "nbformat_minor": 2
}
