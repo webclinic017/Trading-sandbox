{
 "cells": [
  {
   "cell_type": "code",
   "execution_count": 53,
   "metadata": {},
   "outputs": [],
   "source": [
    "import ccxt\n",
    "from datetime import datetime\n",
    "import pandas as pd"
   ]
  },
  {
   "attachments": {},
   "cell_type": "markdown",
   "metadata": {},
   "source": [
    "# Utils"
   ]
  },
  {
   "cell_type": "code",
   "execution_count": 54,
   "metadata": {},
   "outputs": [],
   "source": [
    "\n",
    "def date_to_timestamp(my_date):\n",
    "    my_date = my_date.split(\"-\")\n",
    "    return int(datetime(int(my_date[2]), int(my_date[1]), int(my_date[0])+1).timestamp() * 1000)"
   ]
  },
  {
   "attachments": {},
   "cell_type": "markdown",
   "metadata": {},
   "source": [
    "# Variables"
   ]
  },
  {
   "cell_type": "code",
   "execution_count": 55,
   "metadata": {},
   "outputs": [],
   "source": [
    "exchange_limit = 1500\n",
    "\n",
    "symb = \"BTC-USDT\"\n",
    "since = \"09-09-2022\"\n",
    "to = \"01-01-2023\"\n",
    "tf= \"1h\"\n",
    "\n",
    "tf_ms = {\n",
    "  \"1m\": 60000,\n",
    "  \"2m\": 120000,\n",
    "  \"5m\": 300000,\n",
    "  \"15m\": 900000,\n",
    "  \"30m\": 1800000,\n",
    "  \"1h\": 3600000,\n",
    "  \"2h\": 7200000,\n",
    "  \"4h\": 14400000,\n",
    "  \"12h\": 43200000,\n",
    "  \"1d\": 86400000,\n",
    "};"
   ]
  },
  {
   "cell_type": "code",
   "execution_count": 56,
   "metadata": {},
   "outputs": [],
   "source": [
    "start_timestamp = date_to_timestamp(since)\n",
    "end_timestamp = date_to_timestamp(to)"
   ]
  },
  {
   "cell_type": "code",
   "execution_count": 58,
   "metadata": {},
   "outputs": [],
   "source": [
    "exchange = ccxt.kucoin()\n",
    "\n",
    "df = pd.DataFrame(columns=[\"timestamp\", \"open\", \"high\", \"low\", \"close\", \"volume\"])\n",
    "\n",
    "iterating_ts = 0\n",
    "\n",
    "while iterating_ts<end_timestamp:\n",
    "    iterating_ts = start_timestamp\n",
    "    got = False\n",
    "    while got==False:\n",
    "        try:\n",
    "            res = exchange.fetch_ohlcv(symbol=symb,\n",
    "                                        timeframe=tf,\n",
    "                                        since=iterating_ts,\n",
    "                                        limit= 1500,)\n",
    "        except:\n",
    "            pass\n",
    "        got=True\n",
    "    \n",
    "    df = pd.concat([df,  pd.DataFrame(res, columns=[\"timestamp\", \"open\", \"high\", \"low\", \"close\", \"volume\"])])\n",
    "    iterating_ts = res[-1][0]"
   ]
  },
  {
   "cell_type": "code",
   "execution_count": null,
   "metadata": {},
   "outputs": [],
   "source": [
    "df"
   ]
  },
  {
   "cell_type": "code",
   "execution_count": null,
   "metadata": {},
   "outputs": [],
   "source": [
    "df = pd.DataFrame(columns=[\"timestamp\", \"open\", \"high\", \"low\", \"close\", \"volume\"])\n",
    "pd.concat([df,  pd.DataFrame(res, columns=[\"timestamp\", \"open\", \"high\", \"low\", \"close\", \"volume\"])])"
   ]
  },
  {
   "cell_type": "code",
   "execution_count": null,
   "metadata": {},
   "outputs": [],
   "source": [
    "df = pd.DataFrame(res, columns=[\"timestamp\", \"open\", \"high\", \"low\", \"close\", \"volume\"])\n",
    "df['timestamp'] = df['timestamp'].apply(lambda x: pd.to_datetime(x, unit='ms'))\n",
    "df = df.set_index('timestamp')\n",
    "df"
   ]
  },
  {
   "cell_type": "code",
   "execution_count": null,
   "metadata": {},
   "outputs": [],
   "source": []
  }
 ],
 "metadata": {
  "kernelspec": {
   "display_name": ".venv",
   "language": "python",
   "name": "python3"
  },
  "language_info": {
   "codemirror_mode": {
    "name": "ipython",
    "version": 3
   },
   "file_extension": ".py",
   "mimetype": "text/x-python",
   "name": "python",
   "nbconvert_exporter": "python",
   "pygments_lexer": "ipython3",
   "version": "3.10.6"
  },
  "orig_nbformat": 4,
  "vscode": {
   "interpreter": {
    "hash": "9977583795094559e9aee1aa76bed667140372cde187979c72270d40295f0cfb"
   }
  }
 },
 "nbformat": 4,
 "nbformat_minor": 2
}
