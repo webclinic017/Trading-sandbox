{
 "cells": [
  {
   "attachments": {},
   "cell_type": "markdown",
   "metadata": {},
   "source": [
    "# LSTM"
   ]
  },
  {
   "cell_type": "code",
   "execution_count": 2,
   "metadata": {},
   "outputs": [],
   "source": [
    "import yfinance as yf\n",
    "import numpy as np\n",
    "import pandas as pd\n",
    "\n",
    "from pywt import dwt\n",
    "from sklearn.preprocessing import MinMaxScaler\n",
    "from keras.layers import LSTM, Dense\n",
    "from keras.models import Sequential\n",
    "from sklearn.metrics import mean_absolute_error\n",
    "\n",
    "# Collect Apple stock price data\n",
    "apple = yf.Ticker(\"AAPL\")\n",
    "data = apple.history(period=\"max\")\n",
    "\n",
    "# Preprocess the data\n",
    "data.dropna(inplace=True)\n",
    "data = data[['Close']]\n",
    "scaler = MinMaxScaler(feature_range=(0, 1))\n",
    "data = scaler.fit_transform(data)\n",
    "\n",
    "# Decompose the data using wavelet transformation\n",
    "coeffs = dwt(data, 'db4')\n",
    "cA, cD = coeffs\n",
    "\n",
    "# Smooth the data using moving average\n",
    "window_size = 10\n",
    "cA_smooth = np.zeros_like(cA)\n",
    "for i in range(window_size, len(cA)):\n",
    "    cA_smooth[i] = np.mean(cA[i-window_size:i])\n",
    "\n",
    "# Build the LSTM model\n",
    "model = Sequential()\n",
    "model.add(LSTM(50, input_shape=(1, 1)))\n",
    "model.add(Dense(1))\n",
    "model.compile(loss='mae', optimizer='adam')\n",
    "\n",
    "# Split the data into train and test sets\n",
    "train_size = int(len(cA_smooth) * 0.8)\n",
    "train, test = cA_smooth[:train_size], cA_smooth[train_size:]\n",
    "\n"
   ]
  },
  {
   "cell_type": "code",
   "execution_count": 4,
   "metadata": {},
   "outputs": [
    {
     "data": {
      "text/plain": [
       "array([[0.        , 0.        , 0.        , 0.        ],\n",
       "       [0.        , 0.        , 0.        , 0.        ],\n",
       "       [0.        , 0.        , 0.        , 0.        ],\n",
       "       ...,\n",
       "       [0.17032065, 0.17032065, 0.17032065, 0.17032065],\n",
       "       [0.17138903, 0.17138903, 0.17138903, 0.17138903],\n",
       "       [0.17254149, 0.17254149, 0.17254149, 0.17254149]])"
      ]
     },
     "execution_count": 4,
     "metadata": {},
     "output_type": "execute_result"
    }
   ],
   "source": [
    "train"
   ]
  },
  {
   "cell_type": "code",
   "execution_count": null,
   "metadata": {},
   "outputs": [],
   "source": [
    "# Reshape the data for input into the LSTM model\n",
    "train = train.reshape(train.shape[0], 1, 1)\n",
    "test = test.reshape(test.shape[0], 1, 1)\n",
    "\n",
    "# Train the LSTM model\n",
    "model.fit(train, train, epochs=50, batch_size=1, verbose=2)\n",
    "\n",
    "# Make predictions on the test set\n",
    "predictions = model.predict(test)\n",
    "\n",
    "# Evaluate the model using mean absolute error\n",
    "mae = mean_absolute_error(test, predictions)\n",
    "print(\"Mean Absolute Error:\", mae)"
   ]
  },
  {
   "attachments": {},
   "cell_type": "markdown",
   "metadata": {},
   "source": [
    "# TCN (CNN)"
   ]
  },
  {
   "cell_type": "code",
   "execution_count": 25,
   "metadata": {},
   "outputs": [
    {
     "name": "stdout",
     "output_type": "stream",
     "text": [
      "Epoch 1/50\n"
     ]
    },
    {
     "ename": "ValueError",
     "evalue": "in user code:\n\n    File \"/home/baptiste/myworkdir/trading-sandbox/.venv/lib/python3.10/site-packages/keras/engine/training.py\", line 1249, in train_function  *\n        return step_function(self, iterator)\n    File \"/home/baptiste/myworkdir/trading-sandbox/.venv/lib/python3.10/site-packages/keras/engine/training.py\", line 1233, in step_function  **\n        outputs = model.distribute_strategy.run(run_step, args=(data,))\n    File \"/home/baptiste/myworkdir/trading-sandbox/.venv/lib/python3.10/site-packages/keras/engine/training.py\", line 1222, in run_step  **\n        outputs = model.train_step(data)\n    File \"/home/baptiste/myworkdir/trading-sandbox/.venv/lib/python3.10/site-packages/keras/engine/training.py\", line 1024, in train_step\n        loss = self.compute_loss(x, y, y_pred, sample_weight)\n    File \"/home/baptiste/myworkdir/trading-sandbox/.venv/lib/python3.10/site-packages/keras/engine/training.py\", line 1082, in compute_loss\n        return self.compiled_loss(\n    File \"/home/baptiste/myworkdir/trading-sandbox/.venv/lib/python3.10/site-packages/keras/engine/compile_utils.py\", line 265, in __call__\n        loss_value = loss_obj(y_t, y_p, sample_weight=sw)\n    File \"/home/baptiste/myworkdir/trading-sandbox/.venv/lib/python3.10/site-packages/keras/losses.py\", line 152, in __call__\n        losses = call_fn(y_true, y_pred)\n    File \"/home/baptiste/myworkdir/trading-sandbox/.venv/lib/python3.10/site-packages/keras/losses.py\", line 284, in call  **\n        return ag_fn(y_true, y_pred, **self._fn_kwargs)\n    File \"/home/baptiste/myworkdir/trading-sandbox/.venv/lib/python3.10/site-packages/keras/losses.py\", line 1641, in mean_absolute_error\n        return backend.mean(tf.abs(y_pred - y_true), axis=-1)\n\n    ValueError: Dimensions must be equal, but are 3 and 4 for '{{node mean_absolute_error/sub}} = Sub[T=DT_FLOAT](sequential_13/dense_5/BiasAdd, IteratorGetNext:1)' with input shapes: [1,3,1], [1,4,1].\n",
     "output_type": "error",
     "traceback": [
      "\u001b[0;31m---------------------------------------------------------------------------\u001b[0m",
      "\u001b[0;31mValueError\u001b[0m                                Traceback (most recent call last)",
      "Cell \u001b[0;32mIn[25], line 57\u001b[0m\n\u001b[1;32m     54\u001b[0m test \u001b[39m=\u001b[39m test\u001b[39m.\u001b[39mreshape(test\u001b[39m.\u001b[39mshape[\u001b[39m0\u001b[39m], test\u001b[39m.\u001b[39mshape[\u001b[39m1\u001b[39m], \u001b[39m1\u001b[39m)\n\u001b[1;32m     56\u001b[0m \u001b[39m# Train the TCN model\u001b[39;00m\n\u001b[0;32m---> 57\u001b[0m model\u001b[39m.\u001b[39;49mfit(train, train, epochs\u001b[39m=\u001b[39;49m\u001b[39m50\u001b[39;49m, batch_size\u001b[39m=\u001b[39;49m\u001b[39m1\u001b[39;49m, verbose\u001b[39m=\u001b[39;49m\u001b[39m2\u001b[39;49m)\n\u001b[1;32m     59\u001b[0m \u001b[39m# Make predictions on the test set\u001b[39;00m\n\u001b[1;32m     60\u001b[0m predictions \u001b[39m=\u001b[39m model\u001b[39m.\u001b[39mpredict(test)\n",
      "File \u001b[0;32m~/myworkdir/trading-sandbox/.venv/lib/python3.10/site-packages/keras/utils/traceback_utils.py:70\u001b[0m, in \u001b[0;36mfilter_traceback.<locals>.error_handler\u001b[0;34m(*args, **kwargs)\u001b[0m\n\u001b[1;32m     67\u001b[0m     filtered_tb \u001b[39m=\u001b[39m _process_traceback_frames(e\u001b[39m.\u001b[39m__traceback__)\n\u001b[1;32m     68\u001b[0m     \u001b[39m# To get the full stack trace, call:\u001b[39;00m\n\u001b[1;32m     69\u001b[0m     \u001b[39m# `tf.debugging.disable_traceback_filtering()`\u001b[39;00m\n\u001b[0;32m---> 70\u001b[0m     \u001b[39mraise\u001b[39;00m e\u001b[39m.\u001b[39mwith_traceback(filtered_tb) \u001b[39mfrom\u001b[39;00m \u001b[39mNone\u001b[39m\n\u001b[1;32m     71\u001b[0m \u001b[39mfinally\u001b[39;00m:\n\u001b[1;32m     72\u001b[0m     \u001b[39mdel\u001b[39;00m filtered_tb\n",
      "File \u001b[0;32m/tmp/__autograph_generated_filekathsymc.py:15\u001b[0m, in \u001b[0;36mouter_factory.<locals>.inner_factory.<locals>.tf__train_function\u001b[0;34m(iterator)\u001b[0m\n\u001b[1;32m     13\u001b[0m \u001b[39mtry\u001b[39;00m:\n\u001b[1;32m     14\u001b[0m     do_return \u001b[39m=\u001b[39m \u001b[39mTrue\u001b[39;00m\n\u001b[0;32m---> 15\u001b[0m     retval_ \u001b[39m=\u001b[39m ag__\u001b[39m.\u001b[39mconverted_call(ag__\u001b[39m.\u001b[39mld(step_function), (ag__\u001b[39m.\u001b[39mld(\u001b[39mself\u001b[39m), ag__\u001b[39m.\u001b[39mld(iterator)), \u001b[39mNone\u001b[39;00m, fscope)\n\u001b[1;32m     16\u001b[0m \u001b[39mexcept\u001b[39;00m:\n\u001b[1;32m     17\u001b[0m     do_return \u001b[39m=\u001b[39m \u001b[39mFalse\u001b[39;00m\n",
      "\u001b[0;31mValueError\u001b[0m: in user code:\n\n    File \"/home/baptiste/myworkdir/trading-sandbox/.venv/lib/python3.10/site-packages/keras/engine/training.py\", line 1249, in train_function  *\n        return step_function(self, iterator)\n    File \"/home/baptiste/myworkdir/trading-sandbox/.venv/lib/python3.10/site-packages/keras/engine/training.py\", line 1233, in step_function  **\n        outputs = model.distribute_strategy.run(run_step, args=(data,))\n    File \"/home/baptiste/myworkdir/trading-sandbox/.venv/lib/python3.10/site-packages/keras/engine/training.py\", line 1222, in run_step  **\n        outputs = model.train_step(data)\n    File \"/home/baptiste/myworkdir/trading-sandbox/.venv/lib/python3.10/site-packages/keras/engine/training.py\", line 1024, in train_step\n        loss = self.compute_loss(x, y, y_pred, sample_weight)\n    File \"/home/baptiste/myworkdir/trading-sandbox/.venv/lib/python3.10/site-packages/keras/engine/training.py\", line 1082, in compute_loss\n        return self.compiled_loss(\n    File \"/home/baptiste/myworkdir/trading-sandbox/.venv/lib/python3.10/site-packages/keras/engine/compile_utils.py\", line 265, in __call__\n        loss_value = loss_obj(y_t, y_p, sample_weight=sw)\n    File \"/home/baptiste/myworkdir/trading-sandbox/.venv/lib/python3.10/site-packages/keras/losses.py\", line 152, in __call__\n        losses = call_fn(y_true, y_pred)\n    File \"/home/baptiste/myworkdir/trading-sandbox/.venv/lib/python3.10/site-packages/keras/losses.py\", line 284, in call  **\n        return ag_fn(y_true, y_pred, **self._fn_kwargs)\n    File \"/home/baptiste/myworkdir/trading-sandbox/.venv/lib/python3.10/site-packages/keras/losses.py\", line 1641, in mean_absolute_error\n        return backend.mean(tf.abs(y_pred - y_true), axis=-1)\n\n    ValueError: Dimensions must be equal, but are 3 and 4 for '{{node mean_absolute_error/sub}} = Sub[T=DT_FLOAT](sequential_13/dense_5/BiasAdd, IteratorGetNext:1)' with input shapes: [1,3,1], [1,4,1].\n"
     ]
    }
   ],
   "source": [
    "import yfinance as yf\n",
    "import numpy as np\n",
    "import pandas as pd\n",
    "\n",
    "from pywt import dwt\n",
    "from sklearn.preprocessing import MinMaxScaler\n",
    "from keras.layers import Conv1D, Dense, Dropout\n",
    "from keras.models import Sequential\n",
    "from sklearn.metrics import mean_absolute_error\n",
    "\n",
    "# Collect Apple stock price data\n",
    "apple = yf.Ticker(\"AAPL\")\n",
    "data = apple.history(period=\"max\")\n",
    "\n",
    "# Preprocess the data\n",
    "data.dropna(inplace=True)\n",
    "data = data[['Close']]\n",
    "scaler = MinMaxScaler(feature_range=(0, 1))\n",
    "data = scaler.fit_transform(data)\n",
    "\n",
    "# Decompose the data using wavelet transformation\n",
    "coeffs = dwt(data, 'db4')\n",
    "cA, cD = coeffs\n",
    "\n",
    "# Build the TCN model\n",
    "model = Sequential()\n",
    "# model.add(Conv1D(filters=64, kernel_size=2, activation='relu', input_shape=(4, 1)))\n",
    "# model.add(Dropout(0.5))\n",
    "# model.add(Conv1D(filters=32, kernel_size=4, activation='relu', dilation_rate=8))\n",
    "# model.add(Dropout(0.5))\n",
    "# model.add(Conv1D(filters=16, kernel_size=8, activation='relu', dilation_rate=4))\n",
    "# model.add(Dropout(0.5))\n",
    "# model.add(Conv1D(filters=8, kernel_size=8, activation='relu', dilation_rate=2))\n",
    "# model.add(Dropout(0.5))\n",
    "# model.add(Dense(1))\n",
    "\n",
    "# model.add(InputLayer((4, 1)))\n",
    "# model.add(LSTM(units = 64, return_sequences = True))\n",
    "# model.add(LSTM(units = 32, return_sequences = True))\n",
    "model.add(Conv1D(filters=32, kernel_size=2, activation='relu'))\n",
    "for dilation_rate in (1,2,4,8,16,23):\n",
    "    model.add(Conv1D(filters=32,kernel_size=2,dilation_rate=dilation_rate,strides=1,padding='causal',activation='relu'))\n",
    "model.add(Conv1D(filters=1,kernel_size=1)) \n",
    "model.add(Dropout(0.2))\n",
    "model.add(Dense(units = 1))\n",
    "model.compile(loss='mae', optimizer='adam')\n",
    "\n",
    "# Split the data into train and test sets\n",
    "train_size = int(len(cA) * 0.8)\n",
    "train, test = cA[:train_size], cA[train_size:]\n",
    "\n",
    "# Reshape the data for input into the TCN model\n",
    "train = train.reshape(train.shape[0], train.shape[1], 1)\n",
    "test = test.reshape(test.shape[0], test.shape[1], 1)\n",
    "\n",
    "# Train the TCN model\n",
    "model.fit(train, train, epochs=50, batch_size=1, verbose=2)\n",
    "\n",
    "# Make predictions on the test set\n",
    "predictions = model.predict(test)\n",
    "\n",
    "# Evaluate the model using mean absolute error\n",
    "mae = mean_absolute_error(test, predictions)\n",
    "print(\"Mean Absolute Error:\", mae)"
   ]
  },
  {
   "cell_type": "code",
   "execution_count": 26,
   "metadata": {},
   "outputs": [
    {
     "data": {
      "text/plain": [
       "array([[[0.00048199],\n",
       "        [0.00048199],\n",
       "        [0.00048199],\n",
       "        [0.00048199]],\n",
       "\n",
       "       [[0.00044126],\n",
       "        [0.00044126],\n",
       "        [0.00044126],\n",
       "        [0.00044126]],\n",
       "\n",
       "       [[0.00038695],\n",
       "        [0.00038695],\n",
       "        [0.00038695],\n",
       "        [0.00038695]],\n",
       "\n",
       "       ...,\n",
       "\n",
       "       [[0.17586222],\n",
       "        [0.17586222],\n",
       "        [0.17586222],\n",
       "        [0.17586222]],\n",
       "\n",
       "       [[0.1771583 ],\n",
       "        [0.1771583 ],\n",
       "        [0.1771583 ],\n",
       "        [0.1771583 ]],\n",
       "\n",
       "       [[0.17754362],\n",
       "        [0.17754362],\n",
       "        [0.17754362],\n",
       "        [0.17754362]]])"
      ]
     },
     "execution_count": 26,
     "metadata": {},
     "output_type": "execute_result"
    }
   ],
   "source": [
    "train"
   ]
  },
  {
   "cell_type": "code",
   "execution_count": 21,
   "metadata": {},
   "outputs": [
    {
     "data": {
      "text/plain": [
       "array([[0.00048199],\n",
       "       [0.00048199],\n",
       "       [0.00048199],\n",
       "       [0.00048199]])"
      ]
     },
     "execution_count": 21,
     "metadata": {},
     "output_type": "execute_result"
    }
   ],
   "source": [
    "train[0]"
   ]
  },
  {
   "cell_type": "code",
   "execution_count": null,
   "metadata": {},
   "outputs": [],
   "source": []
  }
 ],
 "metadata": {
  "kernelspec": {
   "display_name": ".venv",
   "language": "python",
   "name": "python3"
  },
  "language_info": {
   "codemirror_mode": {
    "name": "ipython",
    "version": 3
   },
   "file_extension": ".py",
   "mimetype": "text/x-python",
   "name": "python",
   "nbconvert_exporter": "python",
   "pygments_lexer": "ipython3",
   "version": "3.10.6"
  },
  "orig_nbformat": 4,
  "vscode": {
   "interpreter": {
    "hash": "9977583795094559e9aee1aa76bed667140372cde187979c72270d40295f0cfb"
   }
  }
 },
 "nbformat": 4,
 "nbformat_minor": 2
}
