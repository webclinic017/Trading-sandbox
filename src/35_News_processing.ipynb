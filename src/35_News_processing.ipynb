{
 "cells": [
  {
   "cell_type": "code",
   "execution_count": null,
   "metadata": {},
   "outputs": [],
   "source": [
    "from datetime import datetime\n",
    "import pandas as pd\n",
    "import requests\n",
    "\n",
    "def get_history(key, index, timeperiod):\n",
    "    # Send a request to St.Louis Fed\n",
    "    url = 'https://api.stlouisfed.org/fred/series/observations?series_id=' + index + '&api_key=' + key + '&file_type=json'\n",
    "    response = requests.get(url)\n",
    "    \n",
    "    # Clean the response\n",
    "    df = pd.DataFrame(response.json()['observations'])\n",
    "    df.index = pd.to_datetime(df.date)\n",
    "    \n",
    "    # Transform integers into floats\n",
    "    df = df.loc[:,'value']\n",
    "    df = df[df != \".\"]\n",
    "    df = df.astype(float)\n",
    "    \n",
    "    # Resample value in the needed timeperiod\n",
    "    df = df.resample(timeperiod).ffill()\n",
    "    df = df.to_period(timeperiod)\n",
    "    return(pd.DataFrame(df))"
   ]
  }
 ],
 "metadata": {
  "kernelspec": {
   "display_name": ".venv",
   "language": "python",
   "name": "python3"
  },
  "language_info": {
   "name": "python",
   "version": "3.10.6"
  },
  "orig_nbformat": 4,
  "vscode": {
   "interpreter": {
    "hash": "9977583795094559e9aee1aa76bed667140372cde187979c72270d40295f0cfb"
   }
  }
 },
 "nbformat": 4,
 "nbformat_minor": 2
}
