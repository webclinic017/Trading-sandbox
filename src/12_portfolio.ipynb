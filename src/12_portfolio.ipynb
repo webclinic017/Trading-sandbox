{
 "cells": [
  {
   "cell_type": "code",
   "execution_count": null,
   "metadata": {},
   "outputs": [],
   "source": [
    "# import libraries\n",
    "import yfinance as yf\n",
    "import pandas as pd\n",
    "\n",
    "# initiate the function\n",
    "\n",
    "\n",
    "def betas(markets, stocks, start_date, end_date):\n",
    "    # download the historical data for the index/market\n",
    "    market = yf.download(markets, start_date, end_date)\n",
    "    market[\"stock_name\"] = markets\n",
    "    # calculate daily returns\n",
    "    market[\"daily_return\"] = market[\"Close\"].pct_change(1)\n",
    "    # calculate standard deviation of the returns\n",
    "    market_std = market[\"daily_return\"].std()\n",
    "    market.dropna(inplace=True)\n",
    "    market = market[[\"Close\", \"stock_name\", \"daily_return\"]]\n",
    "    # download the historical data for each stock and calculate its standard deviation\n",
    "    # using for loops/iteration\n",
    "    frames = []\n",
    "    stds = []\n",
    "    for i in stocks:\n",
    "        data = yf.download(i, start_date, end_date)\n",
    "        data[\"stock_name\"] = i\n",
    "        data[\"daily_return\"] = data[\"Close\"].pct_change(1)\n",
    "        data.dropna(inplace=True)\n",
    "        data = data[[\"Close\", \"stock_name\", \"daily_return\"]]\n",
    "        data_std = data[\"daily_return\"].std()\n",
    "        frames.append(data)\n",
    "        stds.append(data_std)\n",
    "    # for each stock calculate its correlation with index/market\n",
    "    stock_correlation = []\n",
    "    for i in frames:\n",
    "        correlation = i[\"daily_return\"].corr(market[\"daily_return\"])\n",
    "        stock_correlation.append(correlation)\n",
    "    # calculate beta\n",
    "    betas = []\n",
    "    for b, i in zip(stock_correlation, stds):\n",
    "        beta_calc = b * (i / market_std)\n",
    "        betas.append(beta_calc)\n",
    "    # form dataframe with the results\n",
    "    dictionary = {stocks[e]: betas[e] for e in range(len(stocks))}\n",
    "    dataframe = pd.DataFrame([dictionary]).T\n",
    "    dataframe.reset_index(inplace=True)\n",
    "    dataframe.rename(\n",
    "        columns={\"index\": \"Stock_Name\", 0: \"Beta\"},\n",
    "        inplace=True,\n",
    "    )\n",
    "    return dataframe"
   ]
  }
 ],
 "metadata": {
  "kernelspec": {
   "display_name": ".venv",
   "language": "python",
   "name": "python3"
  },
  "language_info": {
   "name": "python",
   "version": "3.10.6"
  },
  "orig_nbformat": 4,
  "vscode": {
   "interpreter": {
    "hash": "9977583795094559e9aee1aa76bed667140372cde187979c72270d40295f0cfb"
   }
  }
 },
 "nbformat": 4,
 "nbformat_minor": 2
}
