{
 "cells": [
  {
   "cell_type": "code",
   "execution_count": null,
   "metadata": {},
   "outputs": [],
   "source": [
    "import yfinance as yf\n",
    "import numpy as np\n",
    "import pandas as pd\n",
    "\n",
    "apple = yf.Ticker(\"AAPL\")\n",
    "df = apple.history(period=\"10y\")\n",
    "# Extract the price column as a NumPy array\n",
    "prices = df['Close'].values\n",
    "df.head()"
   ]
  },
  {
   "cell_type": "code",
   "execution_count": null,
   "metadata": {},
   "outputs": [],
   "source": [
    "news = apple.get_news()\n",
    "print(len(news))\n",
    "news"
   ]
  },
  {
   "cell_type": "code",
   "execution_count": null,
   "metadata": {},
   "outputs": [],
   "source": [
    "import ruptures as rpt\n",
    "\n",
    "\n",
    "\n",
    "# Use the Pelt method to detect change points\n",
    "model = rpt.Pelt(model=\"rbf\").fit(prices)\n",
    "change_points = model.predict(pen=1)\n",
    "\n",
    "# Print the detected change points\n",
    "print(change_points)\n",
    "\n",
    "import matplotlib.pyplot as plt\n",
    "\n",
    "fig, ax = plt.subplots(1,1,figsize=(25,8))\n",
    "for pt in change_points:\n",
    "    ax.axhline(pt)\n",
    "ax.plot(df.Close)"
   ]
  },
  {
   "cell_type": "code",
   "execution_count": null,
   "metadata": {},
   "outputs": [],
   "source": [
    "%pip install darts -U"
   ]
  },
  {
   "cell_type": "code",
   "execution_count": null,
   "metadata": {},
   "outputs": [],
   "source": [
    "from darts.models import FFT,KalmanForecaster\n",
    "from darts import TimeSeries\n",
    "\n",
    "ts = TimeSeries(prices)\n",
    "model = FFT()\n",
    "model = model.fit(ts)\n"
   ]
  },
  {
   "cell_type": "code",
   "execution_count": null,
   "metadata": {},
   "outputs": [],
   "source": [
    "from tsfresh import extract_features, extract_relevant_features, select_features\n",
    "from tsfresh.utilities.dataframe_functions import impute, make_forecasting_frame\n",
    "from tsfresh.feature_extraction import ComprehensiveFCParameters, settings\n",
    "\n",
    "# Reading the data\n",
    "df = pd.read_csv('time_series_data.csv', index_col='timestamp',\n",
    " parse_dates=True)\n",
    "\n",
    "data.columns = ['month','#value']\n",
    "data['month'] = pd.to_datetime(data['month'],infer_datetime_format=True,format='%y%m')\n",
    "df_pass, y_air = make_forecasting_frame(data[\"#value\"], kind=\"#value\", max_timeshift=12, rolling_direction=1)\n",
    "print(df_pass)"
   ]
  }
 ],
 "metadata": {
  "kernelspec": {
   "display_name": ".venv",
   "language": "python",
   "name": "python3"
  },
  "language_info": {
   "codemirror_mode": {
    "name": "ipython",
    "version": 3
   },
   "file_extension": ".py",
   "mimetype": "text/x-python",
   "name": "python",
   "nbconvert_exporter": "python",
   "pygments_lexer": "ipython3",
   "version": "3.10.6"
  },
  "orig_nbformat": 4,
  "vscode": {
   "interpreter": {
    "hash": "9977583795094559e9aee1aa76bed667140372cde187979c72270d40295f0cfb"
   }
  }
 },
 "nbformat": 4,
 "nbformat_minor": 2
}
