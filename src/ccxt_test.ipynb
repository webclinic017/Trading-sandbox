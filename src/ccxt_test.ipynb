{
 "cells": [
  {
   "cell_type": "code",
   "execution_count": 1,
   "metadata": {},
   "outputs": [
    {
     "name": "stdout",
     "output_type": "stream",
     "text": [
      "0.00015724\n"
     ]
    }
   ],
   "source": [
    "from kucoin.client import Trade, Market, User\n",
    "import pandas as pd\n",
    "\n",
    "from uuid import uuid4\n",
    "\n",
    "class KucoinAPI2:\n",
    "    def __init__(self, sandbox:bool=False) -> None:\n",
    "        self._credentials ={\n",
    "            \"apiKey\":\"630e0d3eaa5daa0001fc715c\",\n",
    "            \"secret\":\"17af4d09-29d2-4215-b902-84c59cebfd65\",\n",
    "            \"password\":\"ndaQkccdmkHYANQ6j6@8yKMDP37cSF\"\n",
    "        }\n",
    "        self._trade_client = Trade(key=self._credentials['apiKey'],\n",
    "                       secret=self._credentials['secret'],\n",
    "                       passphrase=self._credentials['password'],\n",
    "                       is_sandbox=sandbox)\n",
    "        self._user_client = User(key=self._credentials['apiKey'],\n",
    "                       secret=self._credentials['secret'],\n",
    "                       passphrase=self._credentials['password'],\n",
    "                       is_sandbox=sandbox)\n",
    "        self._market_client = Market(key=self._credentials['apiKey'],\n",
    "                       secret=self._credentials['secret'],\n",
    "                       passphrase=self._credentials['password'],\n",
    "                       is_sandbox=sandbox)\n",
    "  \n",
    "    def authentication_required(fn):\n",
    "        \"\"\"Annotation for methods that require auth.\"\"\"\n",
    "        def wrapped(self, *args, **kwargs):\n",
    "            if not self._credentials or \"apiKey\" not in self._credentials or \"secret\" not in self._credentials or \"password\" not in self._credentials: \n",
    "                raise Exception(f\"You must be authenticated to use this method {fn}\") \n",
    "            else:\n",
    "                return fn(self, *args, **kwargs)\n",
    "        return wrapped\n",
    "    \n",
    "    @authentication_required\n",
    "    def getUSDTBalance(self)->float:\n",
    "        try:\n",
    "            return self.__getBalance('USDT','trade')\n",
    "        except Exception as err:\n",
    "            raise err\n",
    "        \n",
    "    @authentication_required\n",
    "    def __getBalance(self,currency:str,account_type:str='trade')->float:\n",
    "        try:\n",
    "            return float(pd.DataFrame(self._user_client.get_account_list()).query('currency==\"{}\" and type==\"{}\"'.format(currency,account_type)).available)\n",
    "        except TypeError:\n",
    "            raise Exception(f\"You don't have {currency} in your {account_type} account.\")\n",
    "        except Exception as err:\n",
    "            raise err\n",
    "        \n",
    "    def getCurrentPrice(self, symbol:str)->float:\n",
    "        try:\n",
    "            return float(self._market_client.get_ticker(symbol=symbol)['price'])\n",
    "        except Exception as err:\n",
    "            raise err\n",
    "\n",
    "    def getAmountForTrade(self, symbol:str,pct_wallet:int=1)->str:\n",
    "        quote_min_size = float(pd.DataFrame(self._market_client.get_symbol_list()).query('symbol==\"{}\"'.format(symbol)).quoteMinSize)\n",
    "        precision = self._market_client.get_currency_detail(symbol.split('-')[0])['precision']\n",
    "        if symbol.split('-')[1] == 'USDT':\n",
    "            usdt_amount = self.getUSDTBalance()*pct_wallet\n",
    "            if usdt_amount < quote_min_size:\n",
    "                raise Exception(f\"USDT amount is less than the minimum amount for this trade {symbol}\")\n",
    "            else:\n",
    "                raw_string_price =  str(usdt_amount/self.getCurrentPrice(symbol))\n",
    "                return  f\"{raw_string_price.split('.')[0]}.{raw_string_price.split('.')[1][:precision]}\"\n",
    "        else:\n",
    "            quote_amount = self.__getBalance(symbol.split('-')[1])*pct_wallet\n",
    "            if quote_amount < quote_min_size:\n",
    "                raise Exception(f\"{symbol.split('-')[1]} amount is less than the minimum amount for this trade {symbol}\")\n",
    "            else:\n",
    "                raw_string_price =  str(quote_amount/self.getCurrentPrice(symbol))\n",
    "                return  f\"{raw_string_price.split('.')[0]}.{raw_string_price.split('.')[1][:precision]}\"\n",
    "        \n",
    "    @authentication_required\n",
    "    def placeMarketOrder(self,symbol:str,side:str,amount:str)-> dict:\n",
    "        assert side.lower() in [\"buy\",\"sell\"]\n",
    "        \n",
    "        result = self._trade_client.create_market_order(f'{symbol}',side=side.lower(),clientOid=str(uuid4()),size=amount)\n",
    "        self.last_orderId = result['orderId']\n",
    "\n",
    "        trade_details = self._trade_client.get_order_details(self._last_orderId)\n",
    "        self.last_side = side.lower()\n",
    "        self.qty_in_position=trade_details['dealSize']\n",
    "        self.quote_qty_in_position=trade_details['dealFunds']\n",
    "        \n",
    "        return result\n",
    "         \n",
    "api_ = KucoinAPI2()    \n",
    "amount = api_.getAmountForTrade('BTC-USDT',0.1)\n",
    "print(amount)\n",
    "    \n",
    "    #@authentication_required    \n",
    "    #def placeMarketOrder(self,symbol:str,side:str,amount:str)->dict:\n",
    "    #    assert side.lower() in [\"buy\",\"sell\"]\n",
    "    #    self._session.create_market_order(f'{symbol}/USDT', side.lower(), amount)\n",
    "    #\n",
    "    #@authentication_required   \n",
    "    #def cancelOrder(self, orderId:str)->dict:\n",
    "    #    return self._session.cancel_order(orderId)\n",
    "    #\n",
    "    #    \n",
    "    #def getAmountForSellingAll(self,symbol:str)->str:\n",
    "    #    return self._session.amount_to_precision(f'{symbol}/USDT', self.qty_in_position)\n",
    "    #\n",
    "\n"
   ]
  },
  {
   "cell_type": "code",
   "execution_count": 110,
   "metadata": {},
   "outputs": [
    {
     "name": "stdout",
     "output_type": "stream",
     "text": [
      "{'orderId': '632cba2d3b7e10000163e59f'}\n",
      "{'orderId': '632cba3211dc1a0001c5531c'}\n"
     ]
    }
   ],
   "source": [
    "import time\n",
    "\n",
    "\n",
    "print(api_.placeMarketOrder('BTC-USDT','buy',amount))\n",
    "time.sleep(5)\n",
    "print(api_.placeMarketOrder('BTC-USDT','sell',amount))"
   ]
  },
  {
   "cell_type": "code",
   "execution_count": 2,
   "metadata": {},
   "outputs": [
    {
     "data": {
      "text/plain": [
       "{'id': '632cba2d3b7e10000163e59f',\n",
       " 'symbol': 'BTC-USDT',\n",
       " 'opType': 'DEAL',\n",
       " 'type': 'market',\n",
       " 'side': 'buy',\n",
       " 'price': '0',\n",
       " 'size': '0.00015634',\n",
       " 'funds': '0',\n",
       " 'dealFunds': '3.023897012',\n",
       " 'dealSize': '0.00015634',\n",
       " 'fee': '0.003023897012',\n",
       " 'feeCurrency': 'USDT',\n",
       " 'stp': '',\n",
       " 'stop': '',\n",
       " 'stopTriggered': False,\n",
       " 'stopPrice': '0',\n",
       " 'timeInForce': 'GTC',\n",
       " 'postOnly': False,\n",
       " 'hidden': False,\n",
       " 'iceberg': False,\n",
       " 'visibleSize': '0',\n",
       " 'cancelAfter': 0,\n",
       " 'channel': 'API',\n",
       " 'clientOid': 'e6365a9b-66eb-4ca3-a177-4ea32aaab417',\n",
       " 'remark': None,\n",
       " 'tags': None,\n",
       " 'isActive': False,\n",
       " 'cancelExist': False,\n",
       " 'createdAt': 1663875629014,\n",
       " 'tradeType': 'TRADE'}"
      ]
     },
     "execution_count": 2,
     "metadata": {},
     "output_type": "execute_result"
    }
   ],
   "source": [
    "api_._trade_client.get_order_details('632cba2d3b7e10000163e59f')"
   ]
  },
  {
   "cell_type": "code",
   "execution_count": 4,
   "metadata": {},
   "outputs": [
    {
     "data": {
      "text/plain": [
       "'0.00015721'"
      ]
     },
     "execution_count": 4,
     "metadata": {},
     "output_type": "execute_result"
    }
   ],
   "source": [
    "api_.getAmountForTrade('BTC-USDT',0.1)"
   ]
  },
  {
   "cell_type": "code",
   "execution_count": 3,
   "metadata": {},
   "outputs": [
    {
     "data": {
      "text/plain": [
       "3.022157624"
      ]
     },
     "execution_count": 3,
     "metadata": {},
     "output_type": "execute_result"
    }
   ],
   "source": [
    "api_.getUSDTBalance()*0.1"
   ]
  },
  {
   "cell_type": "code",
   "execution_count": 1,
   "metadata": {},
   "outputs": [],
   "source": [
    "from datetime import datetime\n",
    "import ccxt\n",
    "import json\n",
    "\n",
    "class KucoinAPI:\n",
    "    def __init__(self) -> None:\n",
    "        #self._credentials = {\n",
    "        #    \"apiKey\":\"62fa6d4f37a609000198c9ca\",\n",
    "        #    \"secret\":\"7ab549c3-5fb9-46f6-8f5a-4ba63556102d\",\n",
    "        #    \"password\":\"oHCsD5dDK&HrskYC8a9cYp9N@hgRRg9\"\n",
    "        #}#sandbox\n",
    "    #    self._credentials = {\n",
    "    #\"apiKey\":\"630e0d3eaa5daa0001fc715c\",\n",
    "    #\"secret\":\"17af4d09-29d2-4215-b902-84c59cebfd65\",\n",
    "    #\"password\":\"ndaQkccdmkHYANQ6j6@8yKMDP37cSF\"\n",
    "    #    }#sub account snipping\n",
    "        self._credentials ={\n",
    "            \"apiKey\":\"62a05a9ccf9fd60001e2ff9e\",\n",
    "            \"secret\":\"578687f6-5420-46d7-9b7a-26a737713cfb\",\n",
    "            \"password\":\"3FiF$4sR6p5Y9fPnSNijL?HaGcd@A7\"\n",
    "        }\n",
    "        self._session = ccxt.kucoin(self._credentials)\n",
    "        #self._session.set_sandbox_mode(True)\n",
    "\n",
    "    \n",
    "    def authentication_required(fn):\n",
    "        \"\"\"Annotation for methods that require auth.\"\"\"\n",
    "        def wrapped(self, *args, **kwargs):\n",
    "            if not self._credentials or \"apiKey\" not in self._credentials or \"secret\" not in self._credentials or \"password\" not in self._credentials: \n",
    "                raise Exception(f\"You must be authenticated to use this method {fn}\") \n",
    "                #sys.exit()\n",
    "            else:\n",
    "                return fn(self, *args, **kwargs)\n",
    "        return wrapped\n",
    "        \n",
    "    @authentication_required    \n",
    "    def placeMarketOrder(self,symbol:str,side:str,amount:str)->dict:\n",
    "        assert side.lower() in [\"buy\",\"sell\"]\n",
    "        self._session.create_market_order(f'{symbol}/USDT', side.lower(), amount)\n",
    "\n",
    "    \n",
    "    @authentication_required     \n",
    "    def placeLimitOrder(self):\n",
    "        pass  \n",
    "    \n",
    "    @authentication_required   \n",
    "    def cancelOrder(self, orderId:str)->dict:\n",
    "        return self._session.cancel_order(orderId)\n",
    "    \n",
    "    @authentication_required\n",
    "    def getUSDTBalance(self)->float:\n",
    "        try:\n",
    "            for coin in self._session.fetchBalance()['info']['data']:\n",
    "                if coin['currency']=='USDT' :\n",
    "                    return float(coin['balance'])\n",
    "        except Exception as err:\n",
    "            raise err\n",
    "        \n",
    "    def getCurrentPrice(self,symbol:str)->float:\n",
    "        try:\n",
    "            return self._session.fetch_ticker(f'{symbol}/USDT')[\"ask\"]\n",
    "        except Exception as err:\n",
    "            raise err\n",
    "        \n",
    "    def getAmountForSellingAll(self,symbol:str)->str:\n",
    "        return self._session.amount_to_precision(f'{symbol}/USDT', self.qty_in_position)\n",
    "    \n",
    "    def getAmountForTrade(self, symbol:str,pct_wallet:int=1)->str:\n",
    "        if self._session.load_markets()[f'{symbol}/USDT']['limits']['amount']['min']<self.getUSDTBalance()*pct_wallet/self.getCurrentPrice(f'{symbol}'):\n",
    "            print(self.getUSDTBalance()*pct_wallet/self.getCurrentPrice(f'{symbol}'))\n",
    "            return self._session.amount_to_precision(f'{symbol}/USDT', self.getUSDTBalance()*pct_wallet/self.getCurrentPrice(f'{symbol}'))\n",
    "        else:\n",
    "            raise Exception(f\"Not enough USDT to trade {symbol}\") \n",
    "        \n",
    "    def convert_amount_to_precision(self, symbol, amount):\n",
    "        return self._session.amount_to_precision(symbol, amount)\n",
    "        \n"
   ]
  },
  {
   "cell_type": "code",
   "execution_count": 77,
   "metadata": {},
   "outputs": [],
   "source": [
    "kucoin_client = KucoinAPI()"
   ]
  },
  {
   "cell_type": "code",
   "execution_count": 78,
   "metadata": {},
   "outputs": [
    {
     "data": {
      "text/plain": [
       "19522.7"
      ]
     },
     "execution_count": 78,
     "metadata": {},
     "output_type": "execute_result"
    }
   ],
   "source": [
    "kucoin_client.getCurrentPrice('BTC')"
   ]
  },
  {
   "cell_type": "code",
   "execution_count": 102,
   "metadata": {},
   "outputs": [
    {
     "data": {
      "text/plain": [
       "30.22679626"
      ]
     },
     "execution_count": 102,
     "metadata": {},
     "output_type": "execute_result"
    }
   ],
   "source": [
    "kucoin_client.getUSDTBalance()"
   ]
  },
  {
   "cell_type": "code",
   "execution_count": 103,
   "metadata": {},
   "outputs": [
    {
     "name": "stdout",
     "output_type": "stream",
     "text": [
      "0.0015723550507441258\n"
     ]
    },
    {
     "data": {
      "text/plain": [
       "'0.00157235'"
      ]
     },
     "execution_count": 103,
     "metadata": {},
     "output_type": "execute_result"
    }
   ],
   "source": [
    "kucoin_client.getAmountForTrade('BTC',1)"
   ]
  },
  {
   "cell_type": "code",
   "execution_count": null,
   "metadata": {},
   "outputs": [],
   "source": []
  }
 ],
 "metadata": {
  "kernelspec": {
   "display_name": "Python 3.8.10 ('venv': venv)",
   "language": "python",
   "name": "python3"
  },
  "language_info": {
   "codemirror_mode": {
    "name": "ipython",
    "version": 3
   },
   "file_extension": ".py",
   "mimetype": "text/x-python",
   "name": "python",
   "nbconvert_exporter": "python",
   "pygments_lexer": "ipython3",
   "version": "3.10.6"
  },
  "orig_nbformat": 4,
  "vscode": {
   "interpreter": {
    "hash": "d58cacdab5e87910af5fd11a0a6d597df11e0910bae80574c4c81b52a6810385"
   }
  }
 },
 "nbformat": 4,
 "nbformat_minor": 2
}
